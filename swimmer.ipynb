{
 "cells": [
  {
   "cell_type": "code",
   "execution_count": 20,
   "id": "8ea10256-623c-4981-af63-45130acf0e7e",
   "metadata": {},
   "outputs": [],
   "source": [
    "from gym_swimmer import SwimmerEnv\n",
    "import numpy as np\n",
    "env = SwimmerEnv()"
   ]
  },
  {
   "cell_type": "code",
   "execution_count": 29,
   "id": "e65741dd-5240-4807-88c7-1ddc2e4ef49b",
   "metadata": {},
   "outputs": [
    {
     "data": {
      "text/plain": [
       "array([ 0.01715814,  0.04641313, -0.01870446, -0.03867301,  0.0591969 ,\n",
       "        0.0840994 , -0.00092361, -0.03469689,  0.03626867,  0.03155975])"
      ]
     },
     "execution_count": 29,
     "metadata": {},
     "output_type": "execute_result"
    }
   ],
   "source": [
    "env.reset()"
   ]
  },
  {
   "cell_type": "code",
   "execution_count": 62,
   "id": "57a46b0c-d295-4916-9521-6d48e6af3de8",
   "metadata": {},
   "outputs": [
    {
     "data": {
      "text/plain": [
       "(array([-1.05617284,  0.65670722,  1.69379052, -1.67425913, -1.72849654,\n",
       "        -1.53417391, -0.31228699,  1.55259978, -1.49147752, -1.58556527]),\n",
       " -0.21460284784269254,\n",
       " False,\n",
       " {'x': array([-1.05617284,  0.65670722,  1.69379052, -1.67425913, -1.72849654,\n",
       "         -1.53417391, -0.31228699,  1.55259978, -1.49147752, -1.58556527]),\n",
       "  'action': [-1, -1],\n",
       "  'goal': array([4, 0]),\n",
       "  'next_goal': False,\n",
       "  'next_free': True,\n",
       "  'next_danger': False})"
      ]
     },
     "execution_count": 62,
     "metadata": {},
     "output_type": "execute_result"
    }
   ],
   "source": [
    "env.step([-1, -1])"
   ]
  },
  {
   "cell_type": "code",
   "execution_count": 65,
   "id": "9b81e877-3de9-4507-8772-57098f440163",
   "metadata": {},
   "outputs": [
    {
     "data": {
      "text/plain": [
       "array([[ 0.        ,  0.        ,  0.        ],\n",
       "       [ 3.        ,  1.        ,  0.        ],\n",
       "       [ 1.5       , -1.        ,  0.        ],\n",
       "       [ 0.62785426, -0.83196082,  0.        ],\n",
       "       [ 0.56651181, -0.33573798,  0.        ],\n",
       "       [-0.43329746, -0.35526808,  0.        ]])"
      ]
     },
     "execution_count": 65,
     "metadata": {},
     "output_type": "execute_result"
    }
   ],
   "source": [
    "env.sim.data.body_xpos"
   ]
  },
  {
   "cell_type": "code",
   "execution_count": 64,
   "id": "4202a6a5-3d9e-4bd2-8c67-71e15a51bc10",
   "metadata": {},
   "outputs": [
    {
     "data": {
      "text/plain": [
       "array([[ 1.5       ,  0.        ,  0.        ],\n",
       "       [ 0.44382692,  0.        ,  0.        ],\n",
       "       [ 0.44382692,  0.65670769,  0.        ],\n",
       "       [ 0.56651181, -0.33573798,  0.        ],\n",
       "       [-0.43329746, -0.35526808,  0.        ]])"
      ]
     },
     "execution_count": 64,
     "metadata": {},
     "output_type": "execute_result"
    }
   ],
   "source": [
    "env.sim.data.xanchor"
   ]
  },
  {
   "cell_type": "code",
   "execution_count": 5,
   "id": "180ca454-1716-4a0d-adb7-b403df64c604",
   "metadata": {},
   "outputs": [
    {
     "ename": "NameError",
     "evalue": "name 'imgs' is not defined",
     "output_type": "error",
     "traceback": [
      "\u001b[0;31m---------------------------------------------------------------------------\u001b[0m",
      "\u001b[0;31mNameError\u001b[0m                                 Traceback (most recent call last)",
      "\u001b[0;32m<ipython-input-5-eaae946ee8f3>\u001b[0m in \u001b[0;36m<module>\u001b[0;34m\u001b[0m\n\u001b[1;32m      1\u001b[0m \u001b[0;32mfrom\u001b[0m \u001b[0mPIL\u001b[0m \u001b[0;32mimport\u001b[0m \u001b[0mImage\u001b[0m\u001b[0;34m\u001b[0m\u001b[0;34m\u001b[0m\u001b[0m\n\u001b[0;32m----> 2\u001b[0;31m \u001b[0mims\u001b[0m \u001b[0;34m=\u001b[0m \u001b[0;34m[\u001b[0m\u001b[0mImage\u001b[0m\u001b[0;34m.\u001b[0m\u001b[0mfromarray\u001b[0m\u001b[0;34m(\u001b[0m\u001b[0mnp\u001b[0m\u001b[0;34m.\u001b[0m\u001b[0mflip\u001b[0m\u001b[0;34m(\u001b[0m\u001b[0ma_frame\u001b[0m\u001b[0;34m,\u001b[0m \u001b[0maxis\u001b[0m\u001b[0;34m=\u001b[0m\u001b[0;36m0\u001b[0m\u001b[0;34m)\u001b[0m\u001b[0;34m)\u001b[0m \u001b[0;32mfor\u001b[0m \u001b[0ma_frame\u001b[0m \u001b[0;32min\u001b[0m \u001b[0mimgs\u001b[0m\u001b[0;34m]\u001b[0m\u001b[0;34m\u001b[0m\u001b[0;34m\u001b[0m\u001b[0m\n\u001b[0m\u001b[1;32m      3\u001b[0m \u001b[0mims\u001b[0m\u001b[0;34m[\u001b[0m\u001b[0;36m0\u001b[0m\u001b[0;34m]\u001b[0m\u001b[0;34m.\u001b[0m\u001b[0msave\u001b[0m\u001b[0;34m(\u001b[0m\u001b[0;34m\"try.gif\"\u001b[0m\u001b[0;34m,\u001b[0m \u001b[0msave_all\u001b[0m\u001b[0;34m=\u001b[0m\u001b[0;32mTrue\u001b[0m\u001b[0;34m,\u001b[0m \u001b[0mappend_images\u001b[0m\u001b[0;34m=\u001b[0m\u001b[0mims\u001b[0m\u001b[0;34m[\u001b[0m\u001b[0;36m1\u001b[0m\u001b[0;34m:\u001b[0m\u001b[0;34m]\u001b[0m\u001b[0;34m,\u001b[0m \u001b[0mloop\u001b[0m\u001b[0;34m=\u001b[0m\u001b[0;36m0\u001b[0m\u001b[0;34m,\u001b[0m \u001b[0mduration\u001b[0m\u001b[0;34m=\u001b[0m\u001b[0;36m20\u001b[0m\u001b[0;34m)\u001b[0m\u001b[0;34m\u001b[0m\u001b[0;34m\u001b[0m\u001b[0m\n",
      "\u001b[0;31mNameError\u001b[0m: name 'imgs' is not defined"
     ]
    }
   ],
   "source": [
    "from PIL import Image\n",
    "ims = [Image.fromarray(np.flip(a_frame, axis=0)) for a_frame in imgs]\n",
    "ims[0].save(\"try.gif\", save_all=True, append_images=ims[1:], loop=0, duration=20)"
   ]
  },
  {
   "cell_type": "code",
   "execution_count": 63,
   "id": "d0961383-832e-4589-9078-6d0623af3ef0",
   "metadata": {},
   "outputs": [
    {
     "data": {
      "image/png": "[encoded data removed]",
      "text/plain": [
       "<Figure size 432x288 with 1 Axes>"
      ]
     },
     "metadata": {
      "needs_background": "light"
     },
     "output_type": "display_data"
    }
   ],
   "source": [
    "%matplotlib inline\n",
    "import matplotlib.pyplot as plt\n",
    "plt.clf()\n",
    "plt.close('all')\n",
    "plt.imshow(env.render('rgb_array', 4000, 4000))\n",
    "plt.show()"
   ]
  },
  {
   "cell_type": "code",
   "execution_count": 2,
   "id": "7764ba1d-3c28-4e2f-8860-60cd3afc2470",
   "metadata": {},
   "outputs": [],
   "source": [
    "env = SwimmerEnv()"
   ]
  },
  {
   "cell_type": "code",
   "execution_count": 60,
   "id": "f3119f6f-b021-44ae-a652-7e8ffde01f32",
   "metadata": {},
   "outputs": [
    {
     "data": {
      "text/plain": [
       "'track'"
      ]
     },
     "execution_count": 60,
     "metadata": {},
     "output_type": "execute_result"
    }
   ],
   "source": [
    "env.sim.model.geom_id2name(2)"
   ]
  },
  {
   "cell_type": "code",
   "execution_count": 61,
   "id": "52269e7e-1b81-41ae-9d24-969c67d7d92e",
   "metadata": {},
   "outputs": [
    {
     "data": {
      "text/plain": [
       "array([-0.00011752, -0.00885351,  0.00649255, -0.02406456,  0.04311483])"
      ]
     },
     "execution_count": 61,
     "metadata": {},
     "output_type": "execute_result"
    }
   ],
   "source": [
    "env.sim.data.qpos"
   ]
  },
  {
   "cell_type": "code",
   "execution_count": 5,
   "id": "05d9f23d-ef4b-4d76-8f28-7449602ca4e8",
   "metadata": {},
   "outputs": [
    {
     "data": {
      "text/plain": [
       "10"
      ]
     },
     "execution_count": 5,
     "metadata": {},
     "output_type": "execute_result"
    }
   ],
   "source": [
    "env._get_obs()"
   ]
  },
  {
   "cell_type": "code",
   "execution_count": 64,
   "id": "d3f4abb5-194c-4f2b-9fe6-8a807af09995",
   "metadata": {},
   "outputs": [
    {
     "data": {
      "text/plain": [
       "(2,)"
      ]
     },
     "execution_count": 64,
     "metadata": {},
     "output_type": "execute_result"
    }
   ],
   "source": [
    "env.action_space.shape"
   ]
  },
  {
   "cell_type": "code",
   "execution_count": 33,
   "id": "0f7b50bd-40a8-4293-a0dc-22b0f6d280e3",
   "metadata": {},
   "outputs": [],
   "source": [
    "imgs = [env.sim.render(600, 600)]\n"
   ]
  },
  {
   "cell_type": "code",
   "execution_count": 33,
   "id": "50be2b01-82e1-478b-8c1d-3f454c4ed310",
   "metadata": {},
   "outputs": [
    {
     "name": "stdout",
     "output_type": "stream",
     "text": [
      "yes\n",
      "yes\n",
      "yes\n",
      "yes\n",
      "yes\n",
      "yes\n"
     ]
    }
   ],
   "source": [
    "env = SwimmerEnv()\n",
    "imgs = [env.sim.render(100, 100)]\n",
    "for _ in range(1000):\n",
    "    env.step(np.random.uniform(-1, 1, size=(2,)))\n",
    "    imgs.append(env.sim.render(100, 100))\n",
    "    if env.sim.data.ncon != 0:\n",
    "        print('yes')       \n",
    "    \n",
    "# for _ in range(1000):\n",
    "#     env.step(np.array([0.1, -0.1]))\n",
    "#     imgs.append(env.sim.render(100, 100))\n",
    "#     if env.sim.data.ncon != 0:\n",
    "#         print('yes')    "
   ]
  },
  {
   "cell_type": "code",
   "execution_count": 57,
   "id": "eeb30fbb-1e28-47c0-a217-855fec075c05",
   "metadata": {},
   "outputs": [
    {
     "name": "stdout",
     "output_type": "stream",
     "text": [
      "number of contacts 7\n",
      "contact 0\n",
      "dist -9.71445146547012e-17\n",
      "geom1 0 floor\n",
      "geom2 2 track\n",
      " Contact force on geom2 body [0. 0. 0. 0. 0. 0.]\n",
      "norm 0.0\n",
      "c_array [0. 0. 0. 0. 0. 0.]\n",
      "c_array [25411.06831463   899.15295372 24511.9153609      0.\n",
      "     0.             0.        ]\n",
      "contact 1\n",
      "dist -8.326672684688674e-17\n",
      "geom1 0 floor\n",
      "geom2 3 mid\n",
      " Contact force on geom2 body [0. 0. 0. 0. 0. 0.]\n",
      "norm 0.0\n",
      "c_array [0. 0. 0. 0. 0. 0.]\n",
      "c_array [24442.90383963    92.87517774 24350.02866189     0.\n",
      "     0.             0.        ]\n",
      "contact 2\n",
      "dist -8.326672684688674e-17\n",
      "geom1 0 floor\n",
      "geom2 4 back\n",
      " Contact force on geom2 body [0. 0. 0. 0. 0. 0.]\n",
      "norm 0.0\n",
      "c_array [0. 0. 0. 0. 0. 0.]\n",
      "c_array [ 257.98410277 -210.61229105   47.37181172    0.            0.\n",
      "    0.        ]\n",
      "contact 3\n",
      "dist -0.05044105749593966\n",
      "geom1 2 track\n",
      "geom2 1 box\n",
      " Contact force on geom2 body [0. 0. 0. 0. 0. 0.]\n",
      "norm 0.0\n",
      "c_array [0. 0. 0. 0. 0. 0.]\n",
      "c_array [0. 0. 0. 0. 0. 0.]\n",
      "contact 4\n",
      "dist -0.039840715649703734\n",
      "geom1 2 track\n",
      "geom2 1 box\n",
      " Contact force on geom2 body [0. 0. 0. 0. 0. 0.]\n",
      "norm 0.0\n",
      "c_array [0. 0. 0. 0. 0. 0.]\n",
      "c_array [0. 0. 0. 0. 0. 0.]\n",
      "contact 5\n",
      "dist -0.051339439718120466\n",
      "geom1 3 mid\n",
      "geom2 1 box\n",
      " Contact force on geom2 body [0. 0. 0. 0. 0. 0.]\n",
      "norm 0.0\n",
      "c_array [0. 0. 0. 0. 0. 0.]\n",
      "c_array [48395.46681224     0.             0.             0.\n",
      "     0.             0.        ]\n",
      "contact 6\n",
      "dist -0.039840715649703734\n",
      "geom1 3 mid\n",
      "geom2 1 box\n",
      " Contact force on geom2 body [0. 0. 0. 0. 0. 0.]\n",
      "norm 0.0\n",
      "c_array [0. 0. 0. 0. 0. 0.]\n",
      "c_array [0. 0. 0. 0. 0. 0.]\n",
      "done\n"
     ]
    }
   ],
   "source": [
    "import mujoco_py\n",
    "sim = env.sim\n",
    "print('number of contacts', sim.data.ncon)\n",
    "for i in range(sim.data.ncon):\n",
    "    # Note that the contact array has more than `ncon` entries,\n",
    "    # so be careful to only read the valid entries.\n",
    "    contact = sim.data.contact[i]\n",
    "    print('contact', i)\n",
    "    print('dist', contact.dist)\n",
    "    print('geom1', contact.geom1, sim.model.geom_id2name(contact.geom1))\n",
    "    print('geom2', contact.geom2, sim.model.geom_id2name(contact.geom2))\n",
    "    # There's more stuff in the data structure\n",
    "    # See the mujoco documentation for more info!\n",
    "    geom2_body = sim.model.geom_bodyid[sim.data.contact[i].geom2]\n",
    "    print(' Contact force on geom2 body', sim.data.cfrc_ext[geom2_body])\n",
    "    print('norm', np.sqrt(np.sum(np.square(sim.data.cfrc_ext[geom2_body]))))\n",
    "    # Use internal functions to read out mj_contactForce\n",
    "    c_array = np.zeros(6, dtype=np.float64)\n",
    "    print('c_array', c_array)\n",
    "    mujoco_py.functions.mj_contactForce(sim.model, sim.data, i, c_array)\n",
    "    print('c_array', c_array)\n",
    "\n",
    "print('done')"
   ]
  },
  {
   "cell_type": "code",
   "execution_count": 53,
   "id": "13a8cf07-1037-4be5-95a7-4ff3cff43177",
   "metadata": {},
   "outputs": [
    {
     "data": {
      "text/plain": [
       "True"
      ]
     },
     "execution_count": 53,
     "metadata": {},
     "output_type": "execute_result"
    }
   ],
   "source": [
    "sim.data.sensordata"
   ]
  },
  {
   "cell_type": "code",
   "execution_count": 12,
   "id": "d6e7ea59-e717-4cd9-be85-441204917fc7",
   "metadata": {},
   "outputs": [
    {
     "name": "stdout",
     "output_type": "stream",
     "text": [
      "number of contacts 14\n",
      "contact 0\n",
      "dist -0.0001238218347592579\n",
      "geom1 0 floor\n",
      "geom2 2 head\n",
      " Contact force on geom2 body [0. 0. 0. 0. 0. 0.]\n",
      "norm 0.0\n",
      "c_array [0. 0. 0. 0. 0. 0.]\n",
      "c_array [ 4.46181433e+01 -5.54631896e-11  1.81965367e-01  0.00000000e+00\n",
      "  0.00000000e+00  0.00000000e+00]\n",
      "contact 1\n",
      "dist -9.631626892431244e-05\n",
      "geom1 0 floor\n",
      "geom2 3 uwaist\n",
      " Contact force on geom2 body [0. 0. 0. 0. 0. 0.]\n",
      "norm 0.0\n",
      "c_array [0. 0. 0. 0. 0. 0.]\n",
      "c_array [ 3.44512013e+01 -4.53397320e-11 -1.80731853e-01  0.00000000e+00\n",
      "  0.00000000e+00  0.00000000e+00]\n",
      "contact 2\n",
      "dist -9.631626892203649e-05\n",
      "geom1 0 floor\n",
      "geom2 3 uwaist\n",
      " Contact force on geom2 body [0. 0. 0. 0. 0. 0.]\n",
      "norm 0.0\n",
      "c_array [0. 0. 0. 0. 0. 0.]\n",
      "c_array [ 3.44512013e+01 -4.53397320e-11 -1.80731853e-01  0.00000000e+00\n",
      "  0.00000000e+00  0.00000000e+00]\n",
      "contact 3\n",
      "dist -0.00039155532839034446\n",
      "geom1 0 floor\n",
      "geom2 8 right_foot_cap1\n",
      " Contact force on geom2 body [0. 0. 0. 0. 0. 0.]\n",
      "norm 0.0\n",
      "c_array [0. 0. 0. 0. 0. 0.]\n",
      "c_array [2.30846809e+01 7.79996660e-03 8.46455287e-04 0.00000000e+00\n",
      " 0.00000000e+00 0.00000000e+00]\n",
      "contact 4\n",
      "dist -0.00037231209871654153\n",
      "geom1 0 floor\n",
      "geom2 8 right_foot_cap1\n",
      " Contact force on geom2 body [0. 0. 0. 0. 0. 0.]\n",
      "norm 0.0\n",
      "c_array [0. 0. 0. 0. 0. 0.]\n",
      "c_array [2.15072420e+01 7.65456909e-03 8.73846300e-02 0.00000000e+00\n",
      " 0.00000000e+00 0.00000000e+00]\n",
      "contact 5\n",
      "dist -0.0004324784578136828\n",
      "geom1 0 floor\n",
      "geom2 9 right_foot_cap2\n",
      " Contact force on geom2 body [0. 0. 0. 0. 0. 0.]\n",
      "norm 0.0\n",
      "c_array [0. 0. 0. 0. 0. 0.]\n",
      "c_array [ 2.67505482e+01 -5.27681828e-04  1.58732875e-04  0.00000000e+00\n",
      "  0.00000000e+00  0.00000000e+00]\n",
      "contact 6\n",
      "dist -0.0004950814869864595\n",
      "geom1 0 floor\n",
      "geom2 9 right_foot_cap2\n",
      " Contact force on geom2 body [0. 0. 0. 0. 0. 0.]\n",
      "norm 0.0\n",
      "c_array [0. 0. 0. 0. 0. 0.]\n",
      "c_array [ 3.33966392e+01 -5.71878484e-04  1.00086988e-01  0.00000000e+00\n",
      "  0.00000000e+00  0.00000000e+00]\n",
      "contact 7\n",
      "dist -0.0003915553283907053\n",
      "geom1 0 floor\n",
      "geom2 12 left_foot_cap1\n",
      " Contact force on geom2 body [0. 0. 0. 0. 0. 0.]\n",
      "norm 0.0\n",
      "c_array [0. 0. 0. 0. 0. 0.]\n",
      "c_array [ 2.30846809e+01  7.79996657e-03 -8.46455322e-04  0.00000000e+00\n",
      "  0.00000000e+00  0.00000000e+00]\n",
      "contact 8\n",
      "dist -0.0003723120987165762\n",
      "geom1 0 floor\n",
      "geom2 12 left_foot_cap1\n",
      " Contact force on geom2 body [0. 0. 0. 0. 0. 0.]\n",
      "norm 0.0\n",
      "c_array [0. 0. 0. 0. 0. 0.]\n",
      "c_array [ 2.15072420e+01  7.65456905e-03 -8.73846299e-02  0.00000000e+00\n",
      "  0.00000000e+00  0.00000000e+00]\n",
      "contact 9\n",
      "dist -0.0004324784578133359\n",
      "geom1 0 floor\n",
      "geom2 13 left_foot_cap2\n",
      " Contact force on geom2 body [0. 0. 0. 0. 0. 0.]\n",
      "norm 0.0\n",
      "c_array [0. 0. 0. 0. 0. 0.]\n",
      "c_array [ 2.67505482e+01 -5.27681849e-04 -1.58732917e-04  0.00000000e+00\n",
      "  0.00000000e+00  0.00000000e+00]\n",
      "contact 10\n",
      "dist -0.0004950814869843917\n",
      "geom1 0 floor\n",
      "geom2 13 left_foot_cap2\n",
      " Contact force on geom2 body [0. 0. 0. 0. 0. 0.]\n",
      "norm 0.0\n",
      "c_array [0. 0. 0. 0. 0. 0.]\n",
      "c_array [ 3.33966392e+01 -5.71878506e-04 -1.00086988e-01  0.00000000e+00\n",
      "  0.00000000e+00  0.00000000e+00]\n",
      "contact 11\n",
      "dist -0.00019017325418061587\n",
      "geom1 0 floor\n",
      "geom2 14 right_uarm1\n",
      " Contact force on geom2 body [0. 0. 0. 0. 0. 0.]\n",
      "norm 0.0\n",
      "c_array [0. 0. 0. 0. 0. 0.]\n",
      "c_array [26.31974964  0.0631263  -0.93991519  0.          0.          0.        ]\n",
      "contact 12\n",
      "dist -0.0001901732541783538\n",
      "geom1 0 floor\n",
      "geom2 17 left_uarm1\n",
      " Contact force on geom2 body [0. 0. 0. 0. 0. 0.]\n",
      "norm 0.0\n",
      "c_array [0. 0. 0. 0. 0. 0.]\n",
      "c_array [26.31974964  0.0631263   0.93991519  0.          0.          0.        ]\n",
      "contact 13\n",
      "dist -0.0003714841995004839\n",
      "geom1 9 right_foot_cap2\n",
      "geom2 13 left_foot_cap2\n",
      " Contact force on geom2 body [0. 0. 0. 0. 0. 0.]\n",
      "norm 0.0\n",
      "c_array [0. 0. 0. 0. 0. 0.]\n",
      "c_array [10.71970585  0.          0.          0.          0.          0.        ]\n",
      "done\n"
     ]
    }
   ],
   "source": [
    "import os\n",
    "import mujoco_py\n",
    "import numpy as np\n",
    "\n",
    "PATH_TO_HUMANOID_XML = os.path.expanduser('~/.mujoco/mujoco210/model/humanoid.xml')\n",
    "\n",
    "# Load the model and make a simulator\n",
    "model = mujoco_py.load_model_from_path(PATH_TO_HUMANOID_XML)\n",
    "sim = mujoco_py.MjSim(model)\n",
    "imgs = [sim.render(600, 600)]\n",
    "\n",
    "# Simulate 1000 steps so humanoid has fallen on the ground\n",
    "for _ in range(10000):\n",
    "    sim.step()\n",
    "    if _ % 100 == 0:\n",
    "        imgs.append(sim.render(600, 600))\n",
    "\n",
    "print('number of contacts', sim.data.ncon)\n",
    "for i in range(sim.data.ncon):\n",
    "    # Note that the contact array has more than `ncon` entries,\n",
    "    # so be careful to only read the valid entries.\n",
    "    contact = sim.data.contact[i]\n",
    "    print('contact', i)\n",
    "    print('dist', contact.dist)\n",
    "    print('geom1', contact.geom1, sim.model.geom_id2name(contact.geom1))\n",
    "    print('geom2', contact.geom2, sim.model.geom_id2name(contact.geom2))\n",
    "    # There's more stuff in the data structure\n",
    "    # See the mujoco documentation for more info!\n",
    "    geom2_body = sim.model.geom_bodyid[sim.data.contact[i].geom2]\n",
    "    print(' Contact force on geom2 body', sim.data.cfrc_ext[geom2_body])\n",
    "    print('norm', np.sqrt(np.sum(np.square(sim.data.cfrc_ext[geom2_body]))))\n",
    "    # Use internal functions to read out mj_contactForce\n",
    "    c_array = np.zeros(6, dtype=np.float64)\n",
    "    print('c_array', c_array)\n",
    "    mujoco_py.functions.mj_contactForce(sim.model, sim.data, i, c_array)\n",
    "    print('c_array', c_array)\n",
    "\n",
    "print('done')"
   ]
  },
  {
   "cell_type": "code",
   "execution_count": 7,
   "id": "c141e2f7-2f70-453e-b8f1-f17a3acfabd7",
   "metadata": {},
   "outputs": [
    {
     "ename": "NameError",
     "evalue": "name 'sim' is not defined",
     "output_type": "error",
     "traceback": [
      "\u001b[0;31m---------------------------------------------------------------------------\u001b[0m",
      "\u001b[0;31mNameError\u001b[0m                                 Traceback (most recent call last)",
      "\u001b[0;32m<ipython-input-7-79166ff07979>\u001b[0m in \u001b[0;36m<module>\u001b[0;34m\u001b[0m\n\u001b[0;32m----> 1\u001b[0;31m \u001b[0msim\u001b[0m\u001b[0;34m.\u001b[0m\u001b[0mdata\u001b[0m\u001b[0;34m.\u001b[0m\u001b[0mqpos\u001b[0m\u001b[0;34m\u001b[0m\u001b[0;34m\u001b[0m\u001b[0m\n\u001b[0m",
      "\u001b[0;31mNameError\u001b[0m: name 'sim' is not defined"
     ]
    }
   ],
   "source": []
  },
  {
   "cell_type": "code",
   "execution_count": null,
   "id": "090f2fd9-6739-42d4-978f-1da4029d4331",
   "metadata": {},
   "outputs": [],
   "source": []
  }
 ],
 "metadata": {
  "kernelspec": {
   "display_name": "Python 3",
   "language": "python",
   "name": "python3"
  },
  "language_info": {
   "codemirror_mode": {
    "name": "ipython",
    "version": 3
   },
   "file_extension": ".py",
   "mimetype": "text/x-python",
   "name": "python",
   "nbconvert_exporter": "python",
   "pygments_lexer": "ipython3",
   "version": "3.8.12"
  }
 },
 "nbformat": 4,
 "nbformat_minor": 5
}
