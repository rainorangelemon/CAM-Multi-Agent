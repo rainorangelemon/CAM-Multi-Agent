{
 "cells": [
  {
   "cell_type": "code",
   "execution_count": 1,
   "id": "ae806caa-df39-46e4-b8b7-2ce16413800d",
   "metadata": {},
   "outputs": [],
   "source": [
    "%load_ext autoreload\n",
    "%reload_ext autoreload\n",
    "%autoreload 2"
   ]
  },
  {
   "cell_type": "code",
   "execution_count": 1,
   "id": "712be4ab-10a5-4f04-9bb6-27aca9e00010",
   "metadata": {},
   "outputs": [],
   "source": [
    "from tqdm import tqdm\n",
    "import gc\n",
    "from copy import deepcopy\n",
    "from environment.gym_quadrotor import DroneEnv\n",
    "\n",
    "import torch\n",
    "import numpy as np\n",
    "from torch import nn\n",
    "import math\n",
    "from models import *   \n",
    "from train_lya_drone import *\n",
    "from core import generate_default_model_name\n",
    "\n",
    "import scipy\n",
    "from random import shuffle\n",
    "from torch.utils.data import DataLoader\n",
    "from torch.utils.data.dataloader import default_collate\n",
    "from collections import defaultdict"
   ]
  },
  {
   "cell_type": "markdown",
   "id": "f2161242-1a0a-48c7-bca9-7608709fc23e",
   "metadata": {
    "tags": []
   },
   "source": [
    "# train offline"
   ]
  },
  {
   "cell_type": "code",
   "execution_count": 2,
   "id": "974da2e1-b887-4533-8ee7-9708f56f65fe",
   "metadata": {},
   "outputs": [
    {
     "name": "stderr",
     "output_type": "stream",
     "text": [
      "/home/rainorangelemon/anaconda3/envs/gnn/lib/python3.8/site-packages/torch/nn/modules/lazy.py:175: UserWarning: Lazy modules are a new feature under heavy development so changes to the API or functionality can happen at any moment.\n",
      "  warnings.warn('Lazy modules are a new feature under heavy development '\n"
     ]
    },
    {
     "data": {
      "text/plain": [
       "DMLP(\n",
       "  (vec): Sequential(\n",
       "    (0): LazyLinear(in_features=0, out_features=256, bias=True)\n",
       "    (1): ReLU()\n",
       "    (2): Linear(in_features=256, out_features=256, bias=True)\n",
       "    (3): ReLU()\n",
       "    (4): Linear(in_features=256, out_features=256, bias=True)\n",
       "  )\n",
       "  (field): Sequential(\n",
       "    (0): LazyLinear(in_features=0, out_features=256, bias=True)\n",
       "    (1): ReLU()\n",
       "    (2): Linear(in_features=256, out_features=256, bias=True)\n",
       "    (3): ReLU()\n",
       "    (4): Linear(in_features=256, out_features=256, bias=True)\n",
       "  )\n",
       ")"
      ]
     },
     "execution_count": 2,
     "metadata": {},
     "output_type": "execute_result"
    }
   ],
   "source": [
    "Env = DroneEnv\n",
    "env = DroneEnv(num_agents=1, SIZE=(4,4), PROB=(0,0.))\n",
    "name_dict = generate_default_model_name(Env)\n",
    "lnn = DMLP(state_dim=env.state_dim, action_dim=env.action_dim, piembed=256, mode='sum')\n",
    "lnn.to(device)\n",
    "# lnn.load_state_dict(torch.load(name_dict['dl'].replace('dlgnn', 'dlnn'), map_location=device))\n",
    "lnn.train()"
   ]
  },
  {
   "cell_type": "code",
   "execution_count": 3,
   "id": "50debac3-50a6-4fe6-b23a-179dd65bb9e1",
   "metadata": {
    "scrolled": true,
    "tags": []
   },
   "outputs": [
    {
     "name": "stdout",
     "output_type": "stream",
     "text": [
      "tensor(4.0250)\n",
      "tensor(4.0574)\n",
      "tensor(4.0951)\n",
      "tensor(4.1226)\n",
      "tensor(4.1476)\n",
      "tensor(4.1532)\n",
      "tensor(4.1446)\n",
      "tensor(4.1304)\n",
      "tensor(4.1051)\n",
      "tensor(4.0473)\n",
      "tensor(3.9953)\n",
      "tensor(3.9417)\n",
      "tensor(3.8460)\n",
      "tensor(3.7645)\n",
      "tensor(3.6835)\n",
      "tensor(3.5893)\n",
      "tensor(3.4725)\n",
      "tensor(3.3583)\n",
      "tensor(3.2209)\n",
      "tensor(3.0782)\n",
      "tensor(2.9209)\n",
      "tensor(2.7741)\n",
      "tensor(2.6233)\n",
      "tensor(2.5012)\n",
      "tensor(2.3805)\n",
      "tensor(2.2585)\n",
      "tensor(2.1294)\n",
      "tensor(1.9987)\n",
      "tensor(1.8878)\n",
      "tensor(1.7525)\n",
      "tensor(1.6608)\n",
      "tensor(1.5970)\n",
      "tensor(1.5140)\n",
      "tensor(1.4293)\n",
      "tensor(1.3160)\n",
      "tensor(1.2130)\n",
      "tensor(1.1166)\n",
      "tensor(1.0682)\n",
      "tensor(0.9757)\n",
      "tensor(0.9189)\n",
      "tensor(0.8088)\n",
      "tensor(0.7670)\n"
     ]
    },
    {
     "data": {
      "image/png": "[encoded data removed]",
      "text/plain": [
       "<Figure size 500x500 with 1 Axes>"
      ]
     },
     "metadata": {
      "needs_background": "light"
     },
     "output_type": "display_data"
    }
   ],
   "source": [
    "env = DroneEnv(num_agents=1, SIZE=(4,4), PROB=(0,0.))\n",
    "env.world.agents[0][:2] = [0.5, 0.5]\n",
    "env.world.agent_goals[0][:2] = [3, 3]\n",
    "gifs = [env._render()]\n",
    "while not env.finished:\n",
    "    a_all = np.random.uniform(-1, 1, size=(1, 2000, env.action_dim))\n",
    "    dists = env.potential_field(a_all, K1=100, K2=-3e-2)\n",
    "    env.step(a_all[:, np.argmin(dists[0])])\n",
    "    print(env._get_obs()['toward'].edge_attr.norm())\n",
    "    gifs.append(env._render())\n",
    "    \n",
    "from core import save_gif\n",
    "save_gif(gifs, 'gifs/0405/lol.gif')"
   ]
  },
  {
   "cell_type": "code",
   "execution_count": 7,
   "id": "601e2df4-8e14-47f6-9b2f-278cdd44a356",
   "metadata": {},
   "outputs": [
    {
     "data": {
      "text/plain": [
       "tensor([[ 2.5906,  2.8542,  5.9379,  0.6181,  0.3219, -0.0737, -0.3650,  0.2113,\n",
       "          0.0823]])"
      ]
     },
     "execution_count": 7,
     "metadata": {},
     "output_type": "execute_result"
    }
   ],
   "source": [
    "env._get_obs()['agent'].pos"
   ]
  },
  {
   "cell_type": "code",
   "execution_count": null,
   "id": "91dddd41-b7e7-4184-93f9-b6d302e830c2",
   "metadata": {
    "scrolled": true,
    "tags": []
   },
   "outputs": [
    {
     "name": "stderr",
     "output_type": "stream",
     "text": [
      "iter #12, gloss 0.000000, dloss 0.000000:  74%|███████▍  | 739/1000 [2:15:01<21:31,  4.95s/it]  IOPub message rate exceeded.\n",
      "The Jupyter server will temporarily stop sending output\n",
      "to the client in order to avoid crashing it.\n",
      "To change this limit, set the config variable\n",
      "`--ServerApp.iopub_msg_rate_limit`.\n",
      "\n",
      "Current values:\n",
      "ServerApp.iopub_msg_rate_limit=1000.0 (msgs/sec)\n",
      "ServerApp.rate_limit_window=3.0 (secs)\n",
      "\n",
      "iter #24, gloss 0.000000, dloss 0.000022:  84%|████████▍ | 839/1000 [2:32:38<12:34,  4.68s/it]  IOPub message rate exceeded.\n",
      "The Jupyter server will temporarily stop sending output\n",
      "to the client in order to avoid crashing it.\n",
      "To change this limit, set the config variable\n",
      "`--ServerApp.iopub_msg_rate_limit`.\n",
      "\n",
      "Current values:\n",
      "ServerApp.iopub_msg_rate_limit=1000.0 (msgs/sec)\n",
      "ServerApp.rate_limit_window=3.0 (secs)\n",
      "\n",
      "iter #13, gloss 0.000002, dloss 0.000009:  86%|████████▌ | 859/1000 [2:35:39<10:25,  4.43s/it]"
     ]
    }
   ],
   "source": [
    "from tqdm import tqdm\n",
    "from collections import defaultdict\n",
    "\n",
    "Env = DroneEnv\n",
    "env = DroneEnv(num_agents=1, SIZE=(4,4), PROB=(0,0.))\n",
    "\n",
    "lnn = DMLP(state_dim=env.state_dim, action_dim=env.action_dim, piembed=128, mode='sum')\n",
    "lnn.to(device)\n",
    "lnn.train()\n",
    "\n",
    "name_dict = generate_default_model_name(Env)\n",
    "\n",
    "loptimizer = torch.optim.Adam(lnn.parameters(), lr=1e-3, weight_decay=1e-8)\n",
    "lscheduler = torch.optim.lr_scheduler.ReduceLROnPlateau(loptimizer, factor=0.5, patience=2)\n",
    "\n",
    "max_episode_length = 256\n",
    "\n",
    "BATCH = 32\n",
    "N_ITER = 40\n",
    "N_EPOCH = 12000\n",
    "N_TRAJ = 1000\n",
    "N_TRAJ_PER_EPOCH = 20\n",
    "N_BUFFER = 20\n",
    "N_EVALUATE = 20\n",
    "\n",
    "threshold=1e-2\n",
    "running_displace_rate = 0\n",
    "best_displace_rate = float('inf')\n",
    "dispace_rates = [1.]*N_EVALUATE\n",
    "nominal_eps = 1.0\n",
    "explore_eps = 0.1\n",
    "\n",
    "LMODEL_PATH = name_dict['dl'].replace('dlgnn', 'dlnn')\n",
    "open('1model_'+Env.__name__+'.txt', 'w+').close()\n",
    "lbuf_gather = GatherReplayBuffer(BATCH)\n",
    "\n",
    "pbar = tqdm(range(N_TRAJ))\n",
    "for epoch_i in pbar:\n",
    "    \n",
    "    lbuf = GlobalReplayBuffer()\n",
    "\n",
    "    env = DroneEnv(num_agents=1, SIZE=(4,4), PROB=(0,0.))\n",
    "    env.world.agents[0][:2] = [0.5, 0.5]\n",
    "    env.world.agent_goals[0][:2] = np.array([3, 3])+0.01*np.random.rand()\n",
    "    total_trans=0; n_danger=0; threshold=-1e-2; no_feasible=0; collided=False\n",
    "\n",
    "    while True:\n",
    "        o = env._get_obs()\n",
    "        a_all = np.random.uniform(-1, 1, size=(n_candidates, env.action_dim))\n",
    "\n",
    "        o = {'x': o['toward']['edge_attr'][0, :]}\n",
    "        a_refine, lvalue = iter_action(lnn, o, a_all, max_iter=0, threshold=threshold)  # min(epoch_i//10, 30)\n",
    "        \n",
    "        dists = env.potential_field(a_refine.reshape(1, -1, env.action_dim), K1=100, K2=-3e-2)\n",
    "        # print(lvalue.max(), lvalue.min(), lvalue[np.argmin(dists)])\n",
    "        if epoch_i < 10:  # warmup\n",
    "            a = a_refine[np.argmin(dists)]\n",
    "        elif np.random.rand() >= explore_eps:\n",
    "            a = a_refine[np.argmin(lvalue)]\n",
    "        else:\n",
    "            a = a_refine[np.random.randint(len(lvalue))]\n",
    "\n",
    "        next_o, rw, done, info = env.step(np.array([a]))\n",
    "        info['dist2goal'] = info['toward'].edge_attr[:,-env.space_dim:].norm()\n",
    "        lbuf.store(info)\n",
    "        prev_danger = info['prev_danger']\n",
    "        next_danger = info['next_danger']\n",
    "        if next_danger:\n",
    "            collided = True\n",
    "\n",
    "        total_trans += 1\n",
    "        n_danger += np.array(next_danger).sum()\n",
    "\n",
    "        if done or (total_trans >= max_episode_length) or (np.abs(env.world.agents[0,:]).max()>7):\n",
    "            lbuf_old = GlobalReplayBuffer()\n",
    "            for obs in lbuf.obs_buf:\n",
    "                lbuf_old.obs_buf.append(obs.clone())\n",
    "            lbuf_gather.append(lbuf_old)\n",
    "            lbuf.relabel(env.space_dim, env.goal_threshold)\n",
    "            lbuf_gather.append(lbuf)\n",
    "            break\n",
    "\n",
    "    dispace_rates.append(min([float(info['dist2goal']) for info in lbuf.obs_buf]))\n",
    "    running_displace_rate = np.mean(dispace_rates)\n",
    "    if running_displace_rate < best_displace_rate:\n",
    "        best_displace_rate = running_displace_rate\n",
    "        torch.save(lnn.state_dict(), LMODEL_PATH)\n",
    "\n",
    "    if len(dispace_rates) > N_EVALUATE:\n",
    "        dispace_rates.pop(0)\n",
    "\n",
    "    if (epoch_i % N_TRAJ_PER_EPOCH) == (N_TRAJ_PER_EPOCH-1):\n",
    "        lnn.train()\n",
    "        train_lya(lnn, loptimizer, lbuf_gather, pbar=pbar, n_iter=N_ITER)\n",
    "        torch.save(lnn.state_dict(), LMODEL_PATH.replace('.pt', '_current.pt'))\n",
    "        if epoch_i // N_TRAJ_PER_EPOCH != 0:\n",
    "            lscheduler.step(running_displace_rate)\n",
    "        # explore_eps = max(0.1, explore_eps * 0.8)\n",
    "        lbuf_gather = GatherReplayBuffer(BATCH)\n",
    "\n",
    "    with open('1model_'+Env.__name__+'.txt', 'a+') as f:\n",
    "        f.write(pbar.desc+'\\t'+str(epoch_i)+'\\t'+'displace: {0:.6f}'.format(dispace_rates[-1])+' running rate: {0:.6f}'.format(running_displace_rate)+', buf size {0:d}, '.format(len(lbuf.obs_buf))+str(lbuf.obs_buf[-1]['goal'].pos[:,:env.space_dim])+'\\n')"
   ]
  },
  {
   "cell_type": "code",
   "execution_count": 11,
   "id": "43978a11-b970-43bb-9218-fcb1c396a5f2",
   "metadata": {},
   "outputs": [
    {
     "data": {
      "text/plain": [
       "6.103515625e-07"
      ]
     },
     "execution_count": 11,
     "metadata": {},
     "output_type": "execute_result"
    }
   ],
   "source": [
    "loptimizer.param_groups[0]['lr']"
   ]
  },
  {
   "cell_type": "code",
   "execution_count": 4,
   "id": "483b2c8f-8a90-4198-88a6-8f7011dc7868",
   "metadata": {
    "tags": []
   },
   "outputs": [
    {
     "data": {
      "text/plain": [
       "<train_lya_drone.GlobalReplayBuffer at 0x7f48606a2df0>"
      ]
     },
     "execution_count": 4,
     "metadata": {},
     "output_type": "execute_result"
    }
   ],
   "source": [
    "lbuf"
   ]
  },
  {
   "cell_type": "code",
   "execution_count": 6,
   "id": "14a4e9fe-8112-46e1-93d2-2a105d1cbeca",
   "metadata": {},
   "outputs": [
    {
     "name": "stdout",
     "output_type": "stream",
     "text": [
      "> \u001b[0;32m/home/rainorangelemon/Documents/CAM/train_lya_drone.py\u001b[0m(139)\u001b[0;36mrelabel\u001b[0;34m()\u001b[0m\n",
      "\u001b[0;32m    137 \u001b[0;31m            \u001b[0;32mif\u001b[0m \u001b[0mobs\u001b[0m\u001b[0;34m[\u001b[0m\u001b[0;34m'next_goal'\u001b[0m\u001b[0;34m]\u001b[0m\u001b[0;34m.\u001b[0m\u001b[0many\u001b[0m\u001b[0;34m(\u001b[0m\u001b[0;34m)\u001b[0m\u001b[0;34m:\u001b[0m\u001b[0;34m\u001b[0m\u001b[0;34m\u001b[0m\u001b[0m\n",
      "\u001b[0m\u001b[0;32m    138 \u001b[0;31m                \u001b[0;32mbreak\u001b[0m\u001b[0;34m\u001b[0m\u001b[0;34m\u001b[0m\u001b[0m\n",
      "\u001b[0m\u001b[0;32m--> 139 \u001b[0;31m        \u001b[0mself\u001b[0m\u001b[0;34m.\u001b[0m\u001b[0mobs_buf\u001b[0m \u001b[0;34m=\u001b[0m \u001b[0mself\u001b[0m\u001b[0;34m.\u001b[0m\u001b[0mobs_buf\u001b[0m\u001b[0;34m[\u001b[0m\u001b[0;34m:\u001b[0m\u001b[0;34m(\u001b[0m\u001b[0midx\u001b[0m\u001b[0;34m+\u001b[0m\u001b[0;36m1\u001b[0m\u001b[0;34m)\u001b[0m\u001b[0;34m]\u001b[0m\u001b[0;34m\u001b[0m\u001b[0;34m\u001b[0m\u001b[0m\n",
      "\u001b[0m\u001b[0;32m    140 \u001b[0;31m\u001b[0;34m\u001b[0m\u001b[0m\n",
      "\u001b[0m\u001b[0;32m    141 \u001b[0;31m\u001b[0;34m\u001b[0m\u001b[0m\n",
      "\u001b[0m\n"
     ]
    },
    {
     "name": "stdin",
     "output_type": "stream",
     "text": [
      "ipdb>  idx\n"
     ]
    },
    {
     "name": "stdout",
     "output_type": "stream",
     "text": [
      "252\n"
     ]
    },
    {
     "name": "stdin",
     "output_type": "stream",
     "text": [
      "ipdb>  exit()\n"
     ]
    }
   ],
   "source": [
    "%debug"
   ]
  },
  {
   "cell_type": "code",
   "execution_count": 5,
   "id": "f4b28619-3308-4072-8bf4-8e9391c8f79f",
   "metadata": {},
   "outputs": [
    {
     "data": {
      "text/plain": [
       "HeteroData(\n",
       "  action=[1, 4],\n",
       "  prev_free=[1],\n",
       "  prev_danger=[1],\n",
       "  next_goal=[1],\n",
       "  next_free=[1],\n",
       "  next_danger=[1],\n",
       "  meet_obstacle=[1],\n",
       "  meet_agent=[1],\n",
       "  dist2goal=4.794336318969727,\n",
       "  \u001b[1magent\u001b[0m={\n",
       "    x=[1, 1],\n",
       "    pos=[1, 9]\n",
       "  },\n",
       "  \u001b[1mobstacle\u001b[0m={ x=[1, 1] },\n",
       "  \u001b[1mgoal\u001b[0m={\n",
       "    x=[1, 1],\n",
       "    pos=[1, 9]\n",
       "  },\n",
       "  \u001b[1m(agent, a_near_a, agent)\u001b[0m={\n",
       "    edge_index=[2, 0],\n",
       "    edge_attr=[0, 15]\n",
       "  },\n",
       "  \u001b[1m(goal, toward, agent)\u001b[0m={\n",
       "    edge_index=[2, 1],\n",
       "    edge_attr=[1, 9]\n",
       "  }\n",
       ")"
      ]
     },
     "execution_count": 5,
     "metadata": {},
     "output_type": "execute_result"
    }
   ],
   "source": [
    "lbuf.obs_buf[-1]"
   ]
  },
  {
   "cell_type": "code",
   "execution_count": 5,
   "id": "25f14d35-a8ed-42fc-965d-d0486bc746af",
   "metadata": {
    "scrolled": true,
    "tags": []
   },
   "outputs": [
    {
     "name": "stdout",
     "output_type": "stream",
     "text": [
      "> \u001b[0;32m/home/rainorangelemon/Documents/CAM/train_lya_drone.py\u001b[0m(39)\u001b[0;36mcompute_loss\u001b[0;34m()\u001b[0m\n",
      "\u001b[0;32m     37 \u001b[0;31m    \u001b[0;31m# Set up function for computing value loss\u001b[0m\u001b[0;34m\u001b[0m\u001b[0;34m\u001b[0m\u001b[0;34m\u001b[0m\u001b[0m\n",
      "\u001b[0m\u001b[0;32m     38 \u001b[0;31m    \u001b[0;32mdef\u001b[0m \u001b[0mcompute_loss\u001b[0m\u001b[0;34m(\u001b[0m\u001b[0mlnn\u001b[0m\u001b[0;34m,\u001b[0m \u001b[0mdata\u001b[0m\u001b[0;34m,\u001b[0m \u001b[0mnext_data\u001b[0m\u001b[0;34m)\u001b[0m\u001b[0;34m:\u001b[0m\u001b[0;34m\u001b[0m\u001b[0;34m\u001b[0m\u001b[0m\n",
      "\u001b[0m\u001b[0;32m---> 39 \u001b[0;31m        \u001b[0mvalue\u001b[0m \u001b[0;34m=\u001b[0m \u001b[0mlnn\u001b[0m\u001b[0;34m(\u001b[0m\u001b[0;34m**\u001b[0m\u001b[0mdata\u001b[0m\u001b[0;34m)\u001b[0m\u001b[0;34m\u001b[0m\u001b[0;34m\u001b[0m\u001b[0m\n",
      "\u001b[0m\u001b[0;32m     40 \u001b[0;31m        \u001b[0mnext_value\u001b[0m \u001b[0;34m=\u001b[0m \u001b[0mlnn\u001b[0m\u001b[0;34m(\u001b[0m\u001b[0;34m**\u001b[0m\u001b[0mnext_data\u001b[0m\u001b[0;34m)\u001b[0m\u001b[0;34m\u001b[0m\u001b[0;34m\u001b[0m\u001b[0m\n",
      "\u001b[0m\u001b[0;32m     41 \u001b[0;31m\u001b[0;34m\u001b[0m\u001b[0m\n",
      "\u001b[0m\n"
     ]
    },
    {
     "name": "stdin",
     "output_type": "stream",
     "text": [
      "ipdb>  data\n"
     ]
    },
    {
     "name": "stdout",
     "output_type": "stream",
     "text": [
      "HeteroDataBatch(\n",
      "  action=[512, 4],\n",
      "  prev_free=[512],\n",
      "  prev_danger=[512],\n",
      "  next_goal=[512],\n",
      "  next_free=[512],\n",
      "  next_danger=[512],\n",
      "  meet_obstacle=[512],\n",
      "  meet_agent=[512],\n",
      "  dist2goal=[512],\n",
      "  \u001b[1magent\u001b[0m={\n",
      "    x=[512, 1],\n",
      "    batch=[512],\n",
      "    ptr=[513]\n",
      "  },\n",
      "  \u001b[1mobstacle\u001b[0m={\n",
      "    x=[512, 1],\n",
      "    batch=[512],\n",
      "    ptr=[513]\n",
      "  },\n",
      "  \u001b[1mgoal\u001b[0m={\n",
      "    x=[512, 1],\n",
      "    batch=[512],\n",
      "    ptr=[513]\n",
      "  },\n",
      "  \u001b[1m(agent, a_near_a, agent)\u001b[0m={\n",
      "    edge_index=[2, 0],\n",
      "    edge_attr=[0, 15]\n",
      "  },\n",
      "  \u001b[1m(goal, toward, agent)\u001b[0m={\n",
      "    edge_index=[2, 512],\n",
      "    edge_attr=[512, 9]\n",
      "  }\n",
      ")\n"
     ]
    },
    {
     "name": "stdin",
     "output_type": "stream",
     "text": [
      "ipdb>  exit()\n"
     ]
    }
   ],
   "source": [
    "%debug"
   ]
  },
  {
   "cell_type": "code",
   "execution_count": 232,
   "id": "8dd6a46a-56ee-4fe8-a61a-bdd8c896463c",
   "metadata": {
    "scrolled": true,
    "tags": []
   },
   "outputs": [
    {
     "name": "stdout",
     "output_type": "stream",
     "text": [
      "--------------------------------\n",
      "tensor([-1.1000,  0.0000]) tensor([1., 0.]) tensor(-0.1272, device='cuda:0', grad_fn=<SqueezeBackward1>)\n",
      "tensor(0.0336, device='cuda:0', grad_fn=<SqueezeBackward1>)\n",
      "tensor(-0.1101, device='cuda:0', grad_fn=<SqueezeBackward1>)\n",
      "tensor(0.0165, device='cuda:0', grad_fn=<SqueezeBackward1>)\n",
      "tensor(-0.0260, device='cuda:0', grad_fn=<SqueezeBackward1>)\n",
      "tensor(0.0482, device='cuda:0', grad_fn=<SqueezeBackward1>)\n",
      "tensor(-0.1037, device='cuda:0', grad_fn=<SqueezeBackward1>)\n",
      "tensor(0.0543, device='cuda:0', grad_fn=<SqueezeBackward1>)\n",
      "tensor(0.0391, device='cuda:0', grad_fn=<SqueezeBackward1>)\n",
      "tensor(0.0316, device='cuda:0', grad_fn=<SqueezeBackward1>)\n",
      "tensor(-0.0949, device='cuda:0', grad_fn=<SqueezeBackward1>)\n",
      "--------------------------------\n",
      "tensor([-1.1000, -0.4599]) tensor([1.0000, 0.4599]) tensor(-0.0657, device='cuda:0', grad_fn=<SqueezeBackward1>)\n",
      "tensor(0.0649, device='cuda:0', grad_fn=<SqueezeBackward1>)\n",
      "tensor(0.0488, device='cuda:0', grad_fn=<SqueezeBackward1>)\n",
      "tensor(0.0632, device='cuda:0', grad_fn=<SqueezeBackward1>)\n",
      "tensor(0.0653, device='cuda:0', grad_fn=<SqueezeBackward1>)\n",
      "tensor(0.0635, device='cuda:0', grad_fn=<SqueezeBackward1>)\n",
      "tensor(-0.0307, device='cuda:0', grad_fn=<SqueezeBackward1>)\n",
      "tensor(0.0633, device='cuda:0', grad_fn=<SqueezeBackward1>)\n",
      "tensor(0.0629, device='cuda:0', grad_fn=<SqueezeBackward1>)\n",
      "tensor(-0.0402, device='cuda:0', grad_fn=<SqueezeBackward1>)\n",
      "tensor(0.0632, device='cuda:0', grad_fn=<SqueezeBackward1>)\n",
      "--------------------------------\n",
      "tensor([-1.1000, -0.6219]) tensor([1.0000, 0.6219]) tensor(-0.0477, device='cuda:0', grad_fn=<SqueezeBackward1>)\n",
      "tensor(0.0616, device='cuda:0', grad_fn=<SqueezeBackward1>)\n",
      "tensor(0.0318, device='cuda:0', grad_fn=<SqueezeBackward1>)\n",
      "tensor(0.0620, device='cuda:0', grad_fn=<SqueezeBackward1>)\n",
      "tensor(0.0345, device='cuda:0', grad_fn=<SqueezeBackward1>)\n",
      "tensor(0.0611, device='cuda:0', grad_fn=<SqueezeBackward1>)\n",
      "tensor(0.0615, device='cuda:0', grad_fn=<SqueezeBackward1>)\n",
      "tensor(0.0630, device='cuda:0', grad_fn=<SqueezeBackward1>)\n",
      "tensor(0.0730, device='cuda:0', grad_fn=<SqueezeBackward1>)\n",
      "tensor(-0.0386, device='cuda:0', grad_fn=<SqueezeBackward1>)\n",
      "tensor(0.0425, device='cuda:0', grad_fn=<SqueezeBackward1>)\n",
      "--------------------------------\n",
      "tensor([-1.1000, -0.7354]) tensor([1.0000, 0.7354]) tensor(-0.0458, device='cuda:0', grad_fn=<SqueezeBackward1>)\n",
      "tensor(0.0516, device='cuda:0', grad_fn=<SqueezeBackward1>)\n",
      "tensor(0.0610, device='cuda:0', grad_fn=<SqueezeBackward1>)\n",
      "tensor(0.0609, device='cuda:0', grad_fn=<SqueezeBackward1>)\n",
      "tensor(0.0477, device='cuda:0', grad_fn=<SqueezeBackward1>)\n",
      "tensor(0.0585, device='cuda:0', grad_fn=<SqueezeBackward1>)\n",
      "tensor(0.0620, device='cuda:0', grad_fn=<SqueezeBackward1>)\n",
      "tensor(-0.0025, device='cuda:0', grad_fn=<SqueezeBackward1>)\n",
      "tensor(0.0617, device='cuda:0', grad_fn=<SqueezeBackward1>)\n",
      "tensor(0.0639, device='cuda:0', grad_fn=<SqueezeBackward1>)\n",
      "tensor(0.0522, device='cuda:0', grad_fn=<SqueezeBackward1>)\n",
      "--------------------------------\n",
      "tensor([-1.1000, -0.8147]) tensor([1.0000, 0.8147]) tensor(-0.0386, device='cuda:0', grad_fn=<SqueezeBackward1>)\n",
      "tensor(0.0378, device='cuda:0', grad_fn=<SqueezeBackward1>)\n",
      "tensor(0.0594, device='cuda:0', grad_fn=<SqueezeBackward1>)\n",
      "tensor(0.0608, device='cuda:0', grad_fn=<SqueezeBackward1>)\n",
      "tensor(0.0637, device='cuda:0', grad_fn=<SqueezeBackward1>)\n",
      "tensor(0.0503, device='cuda:0', grad_fn=<SqueezeBackward1>)\n",
      "tensor(0.0576, device='cuda:0', grad_fn=<SqueezeBackward1>)\n",
      "tensor(0.0658, device='cuda:0', grad_fn=<SqueezeBackward1>)\n",
      "tensor(0.0631, device='cuda:0', grad_fn=<SqueezeBackward1>)\n",
      "tensor(0.0493, device='cuda:0', grad_fn=<SqueezeBackward1>)\n",
      "tensor(-0.0113, device='cuda:0', grad_fn=<SqueezeBackward1>)\n",
      "--------------------------------\n",
      "tensor([-1.1000, -0.7000]) tensor([1.0000, 0.7000]) tensor(-0.0448, device='cuda:0', grad_fn=<SqueezeBackward1>)\n",
      "tensor(0.0615, device='cuda:0', grad_fn=<SqueezeBackward1>)\n",
      "tensor(0.0618, device='cuda:0', grad_fn=<SqueezeBackward1>)\n",
      "tensor(0.0629, device='cuda:0', grad_fn=<SqueezeBackward1>)\n",
      "tensor(0.0620, device='cuda:0', grad_fn=<SqueezeBackward1>)\n",
      "tensor(0.0608, device='cuda:0', grad_fn=<SqueezeBackward1>)\n",
      "tensor(0.0618, device='cuda:0', grad_fn=<SqueezeBackward1>)\n",
      "tensor(0.0680, device='cuda:0', grad_fn=<SqueezeBackward1>)\n",
      "tensor(0.0570, device='cuda:0', grad_fn=<SqueezeBackward1>)\n",
      "tensor(0.0612, device='cuda:0', grad_fn=<SqueezeBackward1>)\n",
      "tensor(0.0100, device='cuda:0', grad_fn=<SqueezeBackward1>)\n",
      "--------------------------------\n",
      "tensor([-1.1000,  0.0000]) tensor([1., 0.]) tensor(-0.1272, device='cuda:0', grad_fn=<SqueezeBackward1>)\n",
      "tensor(0.0639, device='cuda:0', grad_fn=<SqueezeBackward1>)\n",
      "tensor(0.0692, device='cuda:0', grad_fn=<SqueezeBackward1>)\n",
      "tensor(0.0430, device='cuda:0', grad_fn=<SqueezeBackward1>)\n",
      "tensor(0.0256, device='cuda:0', grad_fn=<SqueezeBackward1>)\n",
      "tensor(-0.0603, device='cuda:0', grad_fn=<SqueezeBackward1>)\n",
      "tensor(-0.1011, device='cuda:0', grad_fn=<SqueezeBackward1>)\n",
      "tensor(0.0267, device='cuda:0', grad_fn=<SqueezeBackward1>)\n",
      "tensor(0.0627, device='cuda:0', grad_fn=<SqueezeBackward1>)\n",
      "tensor(0.0426, device='cuda:0', grad_fn=<SqueezeBackward1>)\n",
      "tensor(0.0141, device='cuda:0', grad_fn=<SqueezeBackward1>)\n",
      "--------------------------------\n",
      "tensor([-1.1775, -0.1185]) tensor([1.0000, 0.1185]) tensor(-0.0672, device='cuda:0', grad_fn=<SqueezeBackward1>)\n",
      "tensor(-0.0646, device='cuda:0', grad_fn=<SqueezeBackward1>)\n",
      "tensor(-0.0324, device='cuda:0', grad_fn=<SqueezeBackward1>)\n",
      "tensor(-0.0631, device='cuda:0', grad_fn=<SqueezeBackward1>)\n",
      "tensor(0.0228, device='cuda:0', grad_fn=<SqueezeBackward1>)\n",
      "tensor(0.0355, device='cuda:0', grad_fn=<SqueezeBackward1>)\n",
      "tensor(0.0669, device='cuda:0', grad_fn=<SqueezeBackward1>)\n",
      "tensor(-0.0496, device='cuda:0', grad_fn=<SqueezeBackward1>)\n",
      "tensor(-0.0550, device='cuda:0', grad_fn=<SqueezeBackward1>)\n",
      "tensor(0.0670, device='cuda:0', grad_fn=<SqueezeBackward1>)\n",
      "tensor(0.0722, device='cuda:0', grad_fn=<SqueezeBackward1>)\n",
      "--------------------------------\n",
      "tensor([-1.1775, -0.1878]) tensor([1.0000, 0.1878]) tensor(-0.0571, device='cuda:0', grad_fn=<SqueezeBackward1>)\n",
      "tensor(0.0677, device='cuda:0', grad_fn=<SqueezeBackward1>)\n",
      "tensor(-0.0140, device='cuda:0', grad_fn=<SqueezeBackward1>)\n",
      "tensor(0.0668, device='cuda:0', grad_fn=<SqueezeBackward1>)\n",
      "tensor(0.0662, device='cuda:0', grad_fn=<SqueezeBackward1>)\n",
      "tensor(0.0156, device='cuda:0', grad_fn=<SqueezeBackward1>)\n",
      "tensor(0.0659, device='cuda:0', grad_fn=<SqueezeBackward1>)\n",
      "tensor(0.0629, device='cuda:0', grad_fn=<SqueezeBackward1>)\n",
      "tensor(0.0441, device='cuda:0', grad_fn=<SqueezeBackward1>)\n",
      "tensor(0.0536, device='cuda:0', grad_fn=<SqueezeBackward1>)\n",
      "tensor(0.0675, device='cuda:0', grad_fn=<SqueezeBackward1>)\n",
      "--------------------------------\n",
      "tensor([-1.1000, -0.6903]) tensor([1.0000, 0.6903]) tensor(-0.0448, device='cuda:0', grad_fn=<SqueezeBackward1>)\n",
      "tensor(0.0621, device='cuda:0', grad_fn=<SqueezeBackward1>)\n",
      "tensor(0.0634, device='cuda:0', grad_fn=<SqueezeBackward1>)\n",
      "tensor(0.0201, device='cuda:0', grad_fn=<SqueezeBackward1>)\n",
      "tensor(0.0608, device='cuda:0', grad_fn=<SqueezeBackward1>)\n",
      "tensor(0.0178, device='cuda:0', grad_fn=<SqueezeBackward1>)\n",
      "tensor(0.0614, device='cuda:0', grad_fn=<SqueezeBackward1>)\n",
      "tensor(0.0501, device='cuda:0', grad_fn=<SqueezeBackward1>)\n",
      "tensor(0.0633, device='cuda:0', grad_fn=<SqueezeBackward1>)\n",
      "tensor(0.0652, device='cuda:0', grad_fn=<SqueezeBackward1>)\n",
      "tensor(0.0584, device='cuda:0', grad_fn=<SqueezeBackward1>)\n",
      "--------------------------------\n",
      "tensor([-1.1000, -0.7832]) tensor([1.0000, 0.7832]) tensor(-0.0474, device='cuda:0', grad_fn=<SqueezeBackward1>)\n",
      "tensor(0.0140, device='cuda:0', grad_fn=<SqueezeBackward1>)\n",
      "tensor(0.0607, device='cuda:0', grad_fn=<SqueezeBackward1>)\n",
      "tensor(0.0530, device='cuda:0', grad_fn=<SqueezeBackward1>)\n",
      "tensor(0.0642, device='cuda:0', grad_fn=<SqueezeBackward1>)\n",
      "tensor(0.0586, device='cuda:0', grad_fn=<SqueezeBackward1>)\n",
      "tensor(0.0559, device='cuda:0', grad_fn=<SqueezeBackward1>)\n",
      "tensor(0.0016, device='cuda:0', grad_fn=<SqueezeBackward1>)\n",
      "tensor(0.0614, device='cuda:0', grad_fn=<SqueezeBackward1>)\n",
      "tensor(0.0657, device='cuda:0', grad_fn=<SqueezeBackward1>)\n",
      "tensor(0.0622, device='cuda:0', grad_fn=<SqueezeBackward1>)\n",
      "--------------------------------\n",
      "tensor([ 0.2611, -1.0290]) tensor([1., 1.]) tensor(-0.0844, device='cuda:0', grad_fn=<SqueezeBackward1>)\n",
      "tensor(0.0328, device='cuda:0', grad_fn=<SqueezeBackward1>)\n",
      "tensor(0.0695, device='cuda:0', grad_fn=<SqueezeBackward1>)\n",
      "tensor(0.0661, device='cuda:0', grad_fn=<SqueezeBackward1>)\n",
      "tensor(0.0343, device='cuda:0', grad_fn=<SqueezeBackward1>)\n",
      "tensor(0.0588, device='cuda:0', grad_fn=<SqueezeBackward1>)\n",
      "tensor(0.0608, device='cuda:0', grad_fn=<SqueezeBackward1>)\n",
      "tensor(0.0395, device='cuda:0', grad_fn=<SqueezeBackward1>)\n",
      "tensor(0.0389, device='cuda:0', grad_fn=<SqueezeBackward1>)\n",
      "tensor(0.0612, device='cuda:0', grad_fn=<SqueezeBackward1>)\n",
      "tensor(-0.0334, device='cuda:0', grad_fn=<SqueezeBackward1>)\n",
      "--------------------------------\n",
      "tensor([-1.1000, -0.4538]) tensor([1.0000, 0.4538]) tensor(-0.0668, device='cuda:0', grad_fn=<SqueezeBackward1>)\n",
      "tensor(0.0330, device='cuda:0', grad_fn=<SqueezeBackward1>)\n",
      "tensor(-0.0106, device='cuda:0', grad_fn=<SqueezeBackward1>)\n",
      "tensor(0.0637, device='cuda:0', grad_fn=<SqueezeBackward1>)\n",
      "tensor(0.0671, device='cuda:0', grad_fn=<SqueezeBackward1>)\n",
      "tensor(-0.0153, device='cuda:0', grad_fn=<SqueezeBackward1>)\n",
      "tensor(-0.0495, device='cuda:0', grad_fn=<SqueezeBackward1>)\n",
      "tensor(0.0627, device='cuda:0', grad_fn=<SqueezeBackward1>)\n",
      "tensor(0.0627, device='cuda:0', grad_fn=<SqueezeBackward1>)\n",
      "tensor(0.0638, device='cuda:0', grad_fn=<SqueezeBackward1>)\n",
      "tensor(0.0522, device='cuda:0', grad_fn=<SqueezeBackward1>)\n",
      "--------------------------------\n",
      "tensor([-1.1000, -0.7000]) tensor([1.0000, 0.7000]) tensor(-0.0448, device='cuda:0', grad_fn=<SqueezeBackward1>)\n",
      "tensor(0.0635, device='cuda:0', grad_fn=<SqueezeBackward1>)\n",
      "tensor(0.0691, device='cuda:0', grad_fn=<SqueezeBackward1>)\n",
      "tensor(0.0611, device='cuda:0', grad_fn=<SqueezeBackward1>)\n",
      "tensor(0.0641, device='cuda:0', grad_fn=<SqueezeBackward1>)\n",
      "tensor(0.0492, device='cuda:0', grad_fn=<SqueezeBackward1>)\n",
      "tensor(0.0617, device='cuda:0', grad_fn=<SqueezeBackward1>)\n",
      "tensor(-0.0246, device='cuda:0', grad_fn=<SqueezeBackward1>)\n",
      "tensor(0.0055, device='cuda:0', grad_fn=<SqueezeBackward1>)\n",
      "tensor(0.0604, device='cuda:0', grad_fn=<SqueezeBackward1>)\n",
      "tensor(0.0250, device='cuda:0', grad_fn=<SqueezeBackward1>)\n",
      "--------------------------------\n",
      "tensor([-1.1000, -0.6718]) tensor([1.0000, 0.6718]) tensor(-0.0452, device='cuda:0', grad_fn=<SqueezeBackward1>)\n",
      "tensor(0.0617, device='cuda:0', grad_fn=<SqueezeBackward1>)\n",
      "tensor(0.0614, device='cuda:0', grad_fn=<SqueezeBackward1>)\n",
      "tensor(0.0609, device='cuda:0', grad_fn=<SqueezeBackward1>)\n",
      "tensor(-0.0218, device='cuda:0', grad_fn=<SqueezeBackward1>)\n",
      "tensor(0.0684, device='cuda:0', grad_fn=<SqueezeBackward1>)\n",
      "tensor(0.0695, device='cuda:0', grad_fn=<SqueezeBackward1>)\n",
      "tensor(0.0568, device='cuda:0', grad_fn=<SqueezeBackward1>)\n",
      "tensor(0.0139, device='cuda:0', grad_fn=<SqueezeBackward1>)\n",
      "tensor(0.0279, device='cuda:0', grad_fn=<SqueezeBackward1>)\n",
      "tensor(0.0065, device='cuda:0', grad_fn=<SqueezeBackward1>)\n",
      "--------------------------------\n",
      "tensor([-1.1000, -0.7702]) tensor([1.0000, 0.7702]) tensor(-0.0476, device='cuda:0', grad_fn=<SqueezeBackward1>)\n",
      "tensor(0.0623, device='cuda:0', grad_fn=<SqueezeBackward1>)\n",
      "tensor(0.0626, device='cuda:0', grad_fn=<SqueezeBackward1>)\n",
      "tensor(0.0694, device='cuda:0', grad_fn=<SqueezeBackward1>)\n",
      "tensor(0.0610, device='cuda:0', grad_fn=<SqueezeBackward1>)\n",
      "tensor(0.0687, device='cuda:0', grad_fn=<SqueezeBackward1>)\n",
      "tensor(0.0254, device='cuda:0', grad_fn=<SqueezeBackward1>)\n",
      "tensor(0.0611, device='cuda:0', grad_fn=<SqueezeBackward1>)\n",
      "tensor(0.0605, device='cuda:0', grad_fn=<SqueezeBackward1>)\n",
      "tensor(0.0563, device='cuda:0', grad_fn=<SqueezeBackward1>)\n",
      "tensor(-0.0396, device='cuda:0', grad_fn=<SqueezeBackward1>)\n",
      "--------------------------------\n",
      "tensor([-1.1000, -0.8392]) tensor([1.0000, 0.8392]) tensor(-0.0131, device='cuda:0', grad_fn=<SqueezeBackward1>)\n",
      "tensor(0.0628, device='cuda:0', grad_fn=<SqueezeBackward1>)\n",
      "tensor(0.0612, device='cuda:0', grad_fn=<SqueezeBackward1>)\n",
      "tensor(0.0639, device='cuda:0', grad_fn=<SqueezeBackward1>)\n",
      "tensor(0.0652, device='cuda:0', grad_fn=<SqueezeBackward1>)\n",
      "tensor(0.0519, device='cuda:0', grad_fn=<SqueezeBackward1>)\n",
      "tensor(0.0647, device='cuda:0', grad_fn=<SqueezeBackward1>)\n",
      "tensor(0.0694, device='cuda:0', grad_fn=<SqueezeBackward1>)\n",
      "tensor(0.0362, device='cuda:0', grad_fn=<SqueezeBackward1>)\n",
      "tensor(0.0546, device='cuda:0', grad_fn=<SqueezeBackward1>)\n",
      "tensor(0.0618, device='cuda:0', grad_fn=<SqueezeBackward1>)\n",
      "--------------------------------\n",
      "tensor([-1.1000, -0.2525]) tensor([1.0000, 0.2525]) tensor(-0.1104, device='cuda:0', grad_fn=<SqueezeBackward1>)\n",
      "tensor(0.0709, device='cuda:0', grad_fn=<SqueezeBackward1>)\n",
      "tensor(0.0631, device='cuda:0', grad_fn=<SqueezeBackward1>)\n",
      "tensor(0.0753, device='cuda:0', grad_fn=<SqueezeBackward1>)\n",
      "tensor(-0.0896, device='cuda:0', grad_fn=<SqueezeBackward1>)\n",
      "tensor(0.0725, device='cuda:0', grad_fn=<SqueezeBackward1>)\n",
      "tensor(0.0657, device='cuda:0', grad_fn=<SqueezeBackward1>)\n",
      "tensor(0.0743, device='cuda:0', grad_fn=<SqueezeBackward1>)\n",
      "tensor(0.0199, device='cuda:0', grad_fn=<SqueezeBackward1>)\n",
      "tensor(0.0116, device='cuda:0', grad_fn=<SqueezeBackward1>)\n",
      "tensor(0.0743, device='cuda:0', grad_fn=<SqueezeBackward1>)\n",
      "--------------------------------\n",
      "tensor([-1.1000, -0.7000]) tensor([1.0000, 0.7000]) tensor(-0.0448, device='cuda:0', grad_fn=<SqueezeBackward1>)\n",
      "tensor(0.0597, device='cuda:0', grad_fn=<SqueezeBackward1>)\n",
      "tensor(0.0489, device='cuda:0', grad_fn=<SqueezeBackward1>)\n",
      "tensor(0.0085, device='cuda:0', grad_fn=<SqueezeBackward1>)\n",
      "tensor(0.0617, device='cuda:0', grad_fn=<SqueezeBackward1>)\n",
      "tensor(0.0256, device='cuda:0', grad_fn=<SqueezeBackward1>)\n",
      "tensor(-0.0044, device='cuda:0', grad_fn=<SqueezeBackward1>)\n",
      "tensor(0.0198, device='cuda:0', grad_fn=<SqueezeBackward1>)\n",
      "tensor(0.0576, device='cuda:0', grad_fn=<SqueezeBackward1>)\n",
      "tensor(0.0384, device='cuda:0', grad_fn=<SqueezeBackward1>)\n",
      "tensor(0.0688, device='cuda:0', grad_fn=<SqueezeBackward1>)\n",
      "--------------------------------\n",
      "tensor([-0.8000, -0.9958]) tensor([1.0000, 0.9958]) tensor(-0.0719, device='cuda:0', grad_fn=<SqueezeBackward1>)\n",
      "tensor(0.0645, device='cuda:0', grad_fn=<SqueezeBackward1>)\n",
      "tensor(0.0622, device='cuda:0', grad_fn=<SqueezeBackward1>)\n",
      "tensor(0.0610, device='cuda:0', grad_fn=<SqueezeBackward1>)\n",
      "tensor(0.0415, device='cuda:0', grad_fn=<SqueezeBackward1>)\n",
      "tensor(0.0525, device='cuda:0', grad_fn=<SqueezeBackward1>)\n",
      "tensor(0.0178, device='cuda:0', grad_fn=<SqueezeBackward1>)\n",
      "tensor(0.0044, device='cuda:0', grad_fn=<SqueezeBackward1>)\n",
      "tensor(0.0026, device='cuda:0', grad_fn=<SqueezeBackward1>)\n",
      "tensor(0.0489, device='cuda:0', grad_fn=<SqueezeBackward1>)\n",
      "tensor(0.0597, device='cuda:0', grad_fn=<SqueezeBackward1>)\n",
      "--------------------------------\n",
      "tensor([-0.8000, -0.9971]) tensor([1.0000, 0.9971]) tensor(-0.0715, device='cuda:0', grad_fn=<SqueezeBackward1>)\n",
      "tensor(0.0667, device='cuda:0', grad_fn=<SqueezeBackward1>)\n",
      "tensor(0.0590, device='cuda:0', grad_fn=<SqueezeBackward1>)\n",
      "tensor(0.0551, device='cuda:0', grad_fn=<SqueezeBackward1>)\n",
      "tensor(0.0617, device='cuda:0', grad_fn=<SqueezeBackward1>)\n",
      "tensor(0.0523, device='cuda:0', grad_fn=<SqueezeBackward1>)\n",
      "tensor(0.0251, device='cuda:0', grad_fn=<SqueezeBackward1>)\n",
      "tensor(0.0433, device='cuda:0', grad_fn=<SqueezeBackward1>)\n",
      "tensor(0.0552, device='cuda:0', grad_fn=<SqueezeBackward1>)\n",
      "tensor(0.0395, device='cuda:0', grad_fn=<SqueezeBackward1>)\n",
      "tensor(0.0633, device='cuda:0', grad_fn=<SqueezeBackward1>)\n",
      "--------------------------------\n",
      "tensor([-0.8000, -0.9980]) tensor([1.0000, 0.9980]) tensor(-0.0712, device='cuda:0', grad_fn=<SqueezeBackward1>)\n",
      "tensor(-0.0165, device='cuda:0', grad_fn=<SqueezeBackward1>)\n",
      "tensor(-0.0145, device='cuda:0', grad_fn=<SqueezeBackward1>)\n",
      "tensor(0.0586, device='cuda:0', grad_fn=<SqueezeBackward1>)\n",
      "tensor(0.0201, device='cuda:0', grad_fn=<SqueezeBackward1>)\n",
      "tensor(0.0402, device='cuda:0', grad_fn=<SqueezeBackward1>)\n",
      "tensor(0.0359, device='cuda:0', grad_fn=<SqueezeBackward1>)\n",
      "tensor(0.0552, device='cuda:0', grad_fn=<SqueezeBackward1>)\n",
      "tensor(0.0276, device='cuda:0', grad_fn=<SqueezeBackward1>)\n",
      "tensor(0.0417, device='cuda:0', grad_fn=<SqueezeBackward1>)\n",
      "tensor(0.0369, device='cuda:0', grad_fn=<SqueezeBackward1>)\n",
      "--------------------------------\n",
      "tensor([-0.8000, -0.9986]) tensor([1.0000, 0.9986]) tensor(-0.0710, device='cuda:0', grad_fn=<SqueezeBackward1>)\n",
      "tensor(0.0566, device='cuda:0', grad_fn=<SqueezeBackward1>)\n",
      "tensor(0.0620, device='cuda:0', grad_fn=<SqueezeBackward1>)\n",
      "tensor(0.0568, device='cuda:0', grad_fn=<SqueezeBackward1>)\n",
      "tensor(0.0530, device='cuda:0', grad_fn=<SqueezeBackward1>)\n",
      "tensor(0.0347, device='cuda:0', grad_fn=<SqueezeBackward1>)\n",
      "tensor(0.0136, device='cuda:0', grad_fn=<SqueezeBackward1>)\n",
      "tensor(0.0239, device='cuda:0', grad_fn=<SqueezeBackward1>)\n",
      "tensor(0.0180, device='cuda:0', grad_fn=<SqueezeBackward1>)\n",
      "tensor(0.0610, device='cuda:0', grad_fn=<SqueezeBackward1>)\n",
      "tensor(0.0208, device='cuda:0', grad_fn=<SqueezeBackward1>)\n",
      "--------------------------------\n",
      "tensor([-0.8000, -0.9990]) tensor([1.0000, 0.9990]) tensor(-0.0709, device='cuda:0', grad_fn=<SqueezeBackward1>)\n",
      "tensor(0.0583, device='cuda:0', grad_fn=<SqueezeBackward1>)\n",
      "tensor(0.0370, device='cuda:0', grad_fn=<SqueezeBackward1>)\n",
      "tensor(0.0050, device='cuda:0', grad_fn=<SqueezeBackward1>)\n",
      "tensor(0.0363, device='cuda:0', grad_fn=<SqueezeBackward1>)\n",
      "tensor(0.0166, device='cuda:0', grad_fn=<SqueezeBackward1>)\n",
      "tensor(0.0366, device='cuda:0', grad_fn=<SqueezeBackward1>)\n",
      "tensor(0.0313, device='cuda:0', grad_fn=<SqueezeBackward1>)\n",
      "tensor(0.0174, device='cuda:0', grad_fn=<SqueezeBackward1>)\n",
      "tensor(-0.0062, device='cuda:0', grad_fn=<SqueezeBackward1>)\n",
      "tensor(0.0657, device='cuda:0', grad_fn=<SqueezeBackward1>)\n",
      "--------------------------------\n",
      "tensor([-0.8000, -0.9993]) tensor([1.0000, 0.9993]) tensor(-0.0707, device='cuda:0', grad_fn=<SqueezeBackward1>)\n",
      "tensor(0.0579, device='cuda:0', grad_fn=<SqueezeBackward1>)\n",
      "tensor(0.0635, device='cuda:0', grad_fn=<SqueezeBackward1>)\n",
      "tensor(0.0505, device='cuda:0', grad_fn=<SqueezeBackward1>)\n",
      "tensor(0.0239, device='cuda:0', grad_fn=<SqueezeBackward1>)\n",
      "tensor(0.0554, device='cuda:0', grad_fn=<SqueezeBackward1>)\n",
      "tensor(0.0486, device='cuda:0', grad_fn=<SqueezeBackward1>)\n",
      "tensor(0.0629, device='cuda:0', grad_fn=<SqueezeBackward1>)\n",
      "tensor(0.0204, device='cuda:0', grad_fn=<SqueezeBackward1>)\n",
      "tensor(0.0083, device='cuda:0', grad_fn=<SqueezeBackward1>)\n",
      "tensor(0.0288, device='cuda:0', grad_fn=<SqueezeBackward1>)\n",
      "--------------------------------\n",
      "tensor([-0.8000, -0.9995]) tensor([1.0000, 0.9995]) tensor(-0.0707, device='cuda:0', grad_fn=<SqueezeBackward1>)\n",
      "tensor(0.0571, device='cuda:0', grad_fn=<SqueezeBackward1>)\n",
      "tensor(0.0149, device='cuda:0', grad_fn=<SqueezeBackward1>)\n",
      "tensor(0.0460, device='cuda:0', grad_fn=<SqueezeBackward1>)\n",
      "tensor(-0.0073, device='cuda:0', grad_fn=<SqueezeBackward1>)\n",
      "tensor(0.0499, device='cuda:0', grad_fn=<SqueezeBackward1>)\n",
      "tensor(0.0621, device='cuda:0', grad_fn=<SqueezeBackward1>)\n",
      "tensor(0.0354, device='cuda:0', grad_fn=<SqueezeBackward1>)\n",
      "tensor(0.0089, device='cuda:0', grad_fn=<SqueezeBackward1>)\n",
      "tensor(0.0252, device='cuda:0', grad_fn=<SqueezeBackward1>)\n",
      "tensor(0.0543, device='cuda:0', grad_fn=<SqueezeBackward1>)\n",
      "--------------------------------\n",
      "tensor([-0.8000, -0.9997]) tensor([1.0000, 0.9997]) tensor(-0.0707, device='cuda:0', grad_fn=<SqueezeBackward1>)\n",
      "tensor(0.0366, device='cuda:0', grad_fn=<SqueezeBackward1>)\n",
      "tensor(-0.0192, device='cuda:0', grad_fn=<SqueezeBackward1>)\n",
      "tensor(0.0506, device='cuda:0', grad_fn=<SqueezeBackward1>)\n",
      "tensor(-0.0076, device='cuda:0', grad_fn=<SqueezeBackward1>)\n",
      "tensor(0.0580, device='cuda:0', grad_fn=<SqueezeBackward1>)\n",
      "tensor(0.0506, device='cuda:0', grad_fn=<SqueezeBackward1>)\n",
      "tensor(0.0087, device='cuda:0', grad_fn=<SqueezeBackward1>)\n",
      "tensor(0.0568, device='cuda:0', grad_fn=<SqueezeBackward1>)\n",
      "tensor(-0.0402, device='cuda:0', grad_fn=<SqueezeBackward1>)\n",
      "tensor(0.0574, device='cuda:0', grad_fn=<SqueezeBackward1>)\n",
      "--------------------------------\n",
      "tensor([-0.8000, -0.9998]) tensor([1.0000, 0.9998]) tensor(-0.0706, device='cuda:0', grad_fn=<SqueezeBackward1>)\n",
      "tensor(0.0139, device='cuda:0', grad_fn=<SqueezeBackward1>)\n",
      "tensor(0.0541, device='cuda:0', grad_fn=<SqueezeBackward1>)\n",
      "tensor(0.0634, device='cuda:0', grad_fn=<SqueezeBackward1>)\n",
      "tensor(0.0376, device='cuda:0', grad_fn=<SqueezeBackward1>)\n",
      "tensor(0.0259, device='cuda:0', grad_fn=<SqueezeBackward1>)\n",
      "tensor(0.0489, device='cuda:0', grad_fn=<SqueezeBackward1>)\n",
      "tensor(-0.0334, device='cuda:0', grad_fn=<SqueezeBackward1>)\n",
      "tensor(0.0282, device='cuda:0', grad_fn=<SqueezeBackward1>)\n",
      "tensor(0.0402, device='cuda:0', grad_fn=<SqueezeBackward1>)\n",
      "tensor(0.0186, device='cuda:0', grad_fn=<SqueezeBackward1>)\n",
      "--------------------------------\n",
      "tensor([-1.1000, -0.7000]) tensor([1.0000, 0.7000]) tensor(-0.0448, device='cuda:0', grad_fn=<SqueezeBackward1>)\n",
      "tensor(0.0034, device='cuda:0', grad_fn=<SqueezeBackward1>)\n",
      "tensor(0.0366, device='cuda:0', grad_fn=<SqueezeBackward1>)\n",
      "tensor(0.0558, device='cuda:0', grad_fn=<SqueezeBackward1>)\n",
      "tensor(0.0595, device='cuda:0', grad_fn=<SqueezeBackward1>)\n",
      "tensor(0.0602, device='cuda:0', grad_fn=<SqueezeBackward1>)\n",
      "tensor(0.0598, device='cuda:0', grad_fn=<SqueezeBackward1>)\n",
      "tensor(0.0625, device='cuda:0', grad_fn=<SqueezeBackward1>)\n",
      "tensor(0.0308, device='cuda:0', grad_fn=<SqueezeBackward1>)\n",
      "tensor(0.0546, device='cuda:0', grad_fn=<SqueezeBackward1>)\n",
      "tensor(0.0606, device='cuda:0', grad_fn=<SqueezeBackward1>)\n",
      "--------------------------------\n",
      "tensor([-1.1000, -0.1734]) tensor([1.0000, 0.1734]) tensor(-0.1182, device='cuda:0', grad_fn=<SqueezeBackward1>)\n",
      "tensor(-0.0575, device='cuda:0', grad_fn=<SqueezeBackward1>)\n",
      "tensor(0.0723, device='cuda:0', grad_fn=<SqueezeBackward1>)\n",
      "tensor(0.0690, device='cuda:0', grad_fn=<SqueezeBackward1>)\n",
      "tensor(-0.0835, device='cuda:0', grad_fn=<SqueezeBackward1>)\n",
      "tensor(0.0705, device='cuda:0', grad_fn=<SqueezeBackward1>)\n",
      "tensor(0.0695, device='cuda:0', grad_fn=<SqueezeBackward1>)\n",
      "tensor(-0.0899, device='cuda:0', grad_fn=<SqueezeBackward1>)\n",
      "tensor(-0.0212, device='cuda:0', grad_fn=<SqueezeBackward1>)\n",
      "tensor(-0.0836, device='cuda:0', grad_fn=<SqueezeBackward1>)\n",
      "tensor(-0.0690, device='cuda:0', grad_fn=<SqueezeBackward1>)\n",
      "--------------------------------\n",
      "tensor([-1.1000, -0.6932]) tensor([1.0000, 0.6932]) tensor(-0.0447, device='cuda:0', grad_fn=<SqueezeBackward1>)\n",
      "tensor(0.0655, device='cuda:0', grad_fn=<SqueezeBackward1>)\n",
      "tensor(0.0612, device='cuda:0', grad_fn=<SqueezeBackward1>)\n",
      "tensor(0.0548, device='cuda:0', grad_fn=<SqueezeBackward1>)\n",
      "tensor(0.0614, device='cuda:0', grad_fn=<SqueezeBackward1>)\n",
      "tensor(0.0358, device='cuda:0', grad_fn=<SqueezeBackward1>)\n",
      "tensor(0.0065, device='cuda:0', grad_fn=<SqueezeBackward1>)\n",
      "tensor(0.0247, device='cuda:0', grad_fn=<SqueezeBackward1>)\n",
      "tensor(0.0635, device='cuda:0', grad_fn=<SqueezeBackward1>)\n",
      "tensor(0.0386, device='cuda:0', grad_fn=<SqueezeBackward1>)\n",
      "tensor(0.0611, device='cuda:0', grad_fn=<SqueezeBackward1>)\n",
      "--------------------------------\n",
      "tensor([-1.1000,  0.1200]) tensor([ 1.0000, -0.1200]) tensor(-0.1247, device='cuda:0', grad_fn=<SqueezeBackward1>)\n",
      "tensor(-0.0131, device='cuda:0', grad_fn=<SqueezeBackward1>)\n",
      "tensor(0.0699, device='cuda:0', grad_fn=<SqueezeBackward1>)\n",
      "tensor(0.0297, device='cuda:0', grad_fn=<SqueezeBackward1>)\n",
      "tensor(0.0477, device='cuda:0', grad_fn=<SqueezeBackward1>)\n",
      "tensor(-0.0155, device='cuda:0', grad_fn=<SqueezeBackward1>)\n",
      "tensor(-0.0812, device='cuda:0', grad_fn=<SqueezeBackward1>)\n",
      "tensor(-0.0345, device='cuda:0', grad_fn=<SqueezeBackward1>)\n",
      "tensor(-0.0715, device='cuda:0', grad_fn=<SqueezeBackward1>)\n",
      "tensor(0.0734, device='cuda:0', grad_fn=<SqueezeBackward1>)\n",
      "tensor(0.0455, device='cuda:0', grad_fn=<SqueezeBackward1>)\n",
      "--------------------------------\n",
      "tensor([-1.1000, -0.4599]) tensor([1.0000, 0.4599]) tensor(-0.0657, device='cuda:0', grad_fn=<SqueezeBackward1>)\n",
      "tensor(0.0314, device='cuda:0', grad_fn=<SqueezeBackward1>)\n",
      "tensor(0.0116, device='cuda:0', grad_fn=<SqueezeBackward1>)\n",
      "tensor(0.0607, device='cuda:0', grad_fn=<SqueezeBackward1>)\n",
      "tensor(-0.0083, device='cuda:0', grad_fn=<SqueezeBackward1>)\n",
      "tensor(0.0631, device='cuda:0', grad_fn=<SqueezeBackward1>)\n",
      "tensor(-0.0534, device='cuda:0', grad_fn=<SqueezeBackward1>)\n",
      "tensor(0.0662, device='cuda:0', grad_fn=<SqueezeBackward1>)\n",
      "tensor(0.0583, device='cuda:0', grad_fn=<SqueezeBackward1>)\n",
      "tensor(0.0300, device='cuda:0', grad_fn=<SqueezeBackward1>)\n",
      "tensor(0.0243, device='cuda:0', grad_fn=<SqueezeBackward1>)\n",
      "--------------------------------\n",
      "tensor([-1.1000, -0.7000]) tensor([1.0000, 0.7000]) tensor(-0.0448, device='cuda:0', grad_fn=<SqueezeBackward1>)\n",
      "tensor(0.0604, device='cuda:0', grad_fn=<SqueezeBackward1>)\n",
      "tensor(0.0612, device='cuda:0', grad_fn=<SqueezeBackward1>)\n",
      "tensor(0.0620, device='cuda:0', grad_fn=<SqueezeBackward1>)\n",
      "tensor(0.0661, device='cuda:0', grad_fn=<SqueezeBackward1>)\n",
      "tensor(0.0631, device='cuda:0', grad_fn=<SqueezeBackward1>)\n",
      "tensor(0.0607, device='cuda:0', grad_fn=<SqueezeBackward1>)\n",
      "tensor(0.0441, device='cuda:0', grad_fn=<SqueezeBackward1>)\n",
      "tensor(0.0611, device='cuda:0', grad_fn=<SqueezeBackward1>)\n",
      "tensor(0.0718, device='cuda:0', grad_fn=<SqueezeBackward1>)\n",
      "tensor(0.0621, device='cuda:0', grad_fn=<SqueezeBackward1>)\n",
      "--------------------------------\n",
      "tensor([-1.1000, -0.6951]) tensor([1.0000, 0.6951]) tensor(-0.0448, device='cuda:0', grad_fn=<SqueezeBackward1>)\n",
      "tensor(0.0693, device='cuda:0', grad_fn=<SqueezeBackward1>)\n",
      "tensor(0.0526, device='cuda:0', grad_fn=<SqueezeBackward1>)\n",
      "tensor(0.0675, device='cuda:0', grad_fn=<SqueezeBackward1>)\n",
      "tensor(0.0576, device='cuda:0', grad_fn=<SqueezeBackward1>)\n",
      "tensor(0.0603, device='cuda:0', grad_fn=<SqueezeBackward1>)\n",
      "tensor(0.0077, device='cuda:0', grad_fn=<SqueezeBackward1>)\n",
      "tensor(0.0611, device='cuda:0', grad_fn=<SqueezeBackward1>)\n",
      "tensor(0.0631, device='cuda:0', grad_fn=<SqueezeBackward1>)\n",
      "tensor(0.0602, device='cuda:0', grad_fn=<SqueezeBackward1>)\n",
      "tensor(0.0618, device='cuda:0', grad_fn=<SqueezeBackward1>)\n",
      "--------------------------------\n",
      "tensor([-1.1000,  0.1200]) tensor([ 1.0000, -0.1200]) tensor(-0.1247, device='cuda:0', grad_fn=<SqueezeBackward1>)\n",
      "tensor(0.0029, device='cuda:0', grad_fn=<SqueezeBackward1>)\n",
      "tensor(0.0683, device='cuda:0', grad_fn=<SqueezeBackward1>)\n",
      "tensor(0.0451, device='cuda:0', grad_fn=<SqueezeBackward1>)\n",
      "tensor(-0.1044, device='cuda:0', grad_fn=<SqueezeBackward1>)\n",
      "tensor(-0.0675, device='cuda:0', grad_fn=<SqueezeBackward1>)\n",
      "tensor(0.0527, device='cuda:0', grad_fn=<SqueezeBackward1>)\n",
      "tensor(-0.1104, device='cuda:0', grad_fn=<SqueezeBackward1>)\n",
      "tensor(-0.0815, device='cuda:0', grad_fn=<SqueezeBackward1>)\n",
      "tensor(0.0563, device='cuda:0', grad_fn=<SqueezeBackward1>)\n",
      "tensor(0.0204, device='cuda:0', grad_fn=<SqueezeBackward1>)\n",
      "--------------------------------\n",
      "tensor([-1.1000, -0.1235]) tensor([1.0000, 0.1235]) tensor(-0.1222, device='cuda:0', grad_fn=<SqueezeBackward1>)\n",
      "tensor(-0.0110, device='cuda:0', grad_fn=<SqueezeBackward1>)\n",
      "tensor(0.0479, device='cuda:0', grad_fn=<SqueezeBackward1>)\n",
      "tensor(0.0638, device='cuda:0', grad_fn=<SqueezeBackward1>)\n",
      "tensor(-0.0150, device='cuda:0', grad_fn=<SqueezeBackward1>)\n",
      "tensor(0.0720, device='cuda:0', grad_fn=<SqueezeBackward1>)\n",
      "tensor(-0.0237, device='cuda:0', grad_fn=<SqueezeBackward1>)\n",
      "tensor(-0.0606, device='cuda:0', grad_fn=<SqueezeBackward1>)\n",
      "tensor(0.0751, device='cuda:0', grad_fn=<SqueezeBackward1>)\n",
      "tensor(0.0742, device='cuda:0', grad_fn=<SqueezeBackward1>)\n",
      "tensor(-0.0460, device='cuda:0', grad_fn=<SqueezeBackward1>)\n",
      "--------------------------------\n",
      "tensor([-1.1000,  0.1235]) tensor([ 1.0000, -0.1235]) tensor(-0.1246, device='cuda:0', grad_fn=<SqueezeBackward1>)\n",
      "tensor(0.0476, device='cuda:0', grad_fn=<SqueezeBackward1>)\n",
      "tensor(0.0684, device='cuda:0', grad_fn=<SqueezeBackward1>)\n",
      "tensor(0.0723, device='cuda:0', grad_fn=<SqueezeBackward1>)\n",
      "tensor(-0.0929, device='cuda:0', grad_fn=<SqueezeBackward1>)\n",
      "tensor(0.0709, device='cuda:0', grad_fn=<SqueezeBackward1>)\n",
      "tensor(-0.0754, device='cuda:0', grad_fn=<SqueezeBackward1>)\n",
      "tensor(0.0168, device='cuda:0', grad_fn=<SqueezeBackward1>)\n",
      "tensor(-0.0565, device='cuda:0', grad_fn=<SqueezeBackward1>)\n",
      "tensor(-0.0509, device='cuda:0', grad_fn=<SqueezeBackward1>)\n",
      "tensor(0.0603, device='cuda:0', grad_fn=<SqueezeBackward1>)\n",
      "--------------------------------\n",
      "tensor([-1.1000, -0.1443]) tensor([1.0000, 0.1443]) tensor(-0.1206, device='cuda:0', grad_fn=<SqueezeBackward1>)\n",
      "tensor(-0.0312, device='cuda:0', grad_fn=<SqueezeBackward1>)\n",
      "tensor(-0.1163, device='cuda:0', grad_fn=<SqueezeBackward1>)\n",
      "tensor(0.0378, device='cuda:0', grad_fn=<SqueezeBackward1>)\n",
      "tensor(0.0650, device='cuda:0', grad_fn=<SqueezeBackward1>)\n",
      "tensor(0.0660, device='cuda:0', grad_fn=<SqueezeBackward1>)\n",
      "tensor(0.0346, device='cuda:0', grad_fn=<SqueezeBackward1>)\n",
      "tensor(0.0666, device='cuda:0', grad_fn=<SqueezeBackward1>)\n",
      "tensor(-0.0848, device='cuda:0', grad_fn=<SqueezeBackward1>)\n",
      "tensor(0.0678, device='cuda:0', grad_fn=<SqueezeBackward1>)\n",
      "tensor(0.0619, device='cuda:0', grad_fn=<SqueezeBackward1>)\n",
      "--------------------------------\n",
      "tensor([-1.1000, -0.1235]) tensor([1.0000, 0.1235]) tensor(-0.1222, device='cuda:0', grad_fn=<SqueezeBackward1>)\n",
      "tensor(-0.0098, device='cuda:0', grad_fn=<SqueezeBackward1>)\n",
      "tensor(-0.0670, device='cuda:0', grad_fn=<SqueezeBackward1>)\n",
      "tensor(0.0626, device='cuda:0', grad_fn=<SqueezeBackward1>)\n",
      "tensor(-0.0524, device='cuda:0', grad_fn=<SqueezeBackward1>)\n",
      "tensor(0.0710, device='cuda:0', grad_fn=<SqueezeBackward1>)\n",
      "tensor(0.0058, device='cuda:0', grad_fn=<SqueezeBackward1>)\n",
      "tensor(0.0621, device='cuda:0', grad_fn=<SqueezeBackward1>)\n",
      "tensor(-0.0398, device='cuda:0', grad_fn=<SqueezeBackward1>)\n",
      "tensor(-0.0857, device='cuda:0', grad_fn=<SqueezeBackward1>)\n",
      "tensor(0.0652, device='cuda:0', grad_fn=<SqueezeBackward1>)\n",
      "--------------------------------\n",
      "tensor([-1.1000,  0.2135]) tensor([ 1.0000, -0.2135]) tensor(-0.1208, device='cuda:0', grad_fn=<SqueezeBackward1>)\n",
      "tensor(0.0716, device='cuda:0', grad_fn=<SqueezeBackward1>)\n",
      "tensor(0.0663, device='cuda:0', grad_fn=<SqueezeBackward1>)\n",
      "tensor(0.0644, device='cuda:0', grad_fn=<SqueezeBackward1>)\n",
      "tensor(0.0760, device='cuda:0', grad_fn=<SqueezeBackward1>)\n",
      "tensor(0.0492, device='cuda:0', grad_fn=<SqueezeBackward1>)\n",
      "tensor(0.0714, device='cuda:0', grad_fn=<SqueezeBackward1>)\n",
      "tensor(0.0402, device='cuda:0', grad_fn=<SqueezeBackward1>)\n",
      "tensor(-0.0966, device='cuda:0', grad_fn=<SqueezeBackward1>)\n",
      "tensor(0.0266, device='cuda:0', grad_fn=<SqueezeBackward1>)\n",
      "tensor(-0.0396, device='cuda:0', grad_fn=<SqueezeBackward1>)\n",
      "--------------------------------\n",
      "tensor([-1.1000,  0.4495]) tensor([ 1.0000, -0.4495]) tensor(-0.1103, device='cuda:0', grad_fn=<SqueezeBackward1>)\n",
      "tensor(-0.0074, device='cuda:0', grad_fn=<SqueezeBackward1>)\n",
      "tensor(-0.0486, device='cuda:0', grad_fn=<SqueezeBackward1>)\n",
      "tensor(0.0272, device='cuda:0', grad_fn=<SqueezeBackward1>)\n",
      "tensor(0.0750, device='cuda:0', grad_fn=<SqueezeBackward1>)\n",
      "tensor(-0.0065, device='cuda:0', grad_fn=<SqueezeBackward1>)\n",
      "tensor(0.0702, device='cuda:0', grad_fn=<SqueezeBackward1>)\n",
      "tensor(-0.0906, device='cuda:0', grad_fn=<SqueezeBackward1>)\n",
      "tensor(0.0662, device='cuda:0', grad_fn=<SqueezeBackward1>)\n",
      "tensor(0.0551, device='cuda:0', grad_fn=<SqueezeBackward1>)\n",
      "tensor(0.0743, device='cuda:0', grad_fn=<SqueezeBackward1>)\n",
      "--------------------------------\n",
      "tensor([-1.1000,  0.6146]) tensor([ 1.0000, -0.6146]) tensor(-0.1059, device='cuda:0', grad_fn=<SqueezeBackward1>)\n",
      "tensor(0.0725, device='cuda:0', grad_fn=<SqueezeBackward1>)\n",
      "tensor(0.0660, device='cuda:0', grad_fn=<SqueezeBackward1>)\n",
      "tensor(-5.5760e-05, device='cuda:0', grad_fn=<SqueezeBackward1>)\n",
      "tensor(-0.0660, device='cuda:0', grad_fn=<SqueezeBackward1>)\n",
      "tensor(-0.0009, device='cuda:0', grad_fn=<SqueezeBackward1>)\n",
      "tensor(0.0743, device='cuda:0', grad_fn=<SqueezeBackward1>)\n",
      "tensor(0.0720, device='cuda:0', grad_fn=<SqueezeBackward1>)\n",
      "tensor(0.0417, device='cuda:0', grad_fn=<SqueezeBackward1>)\n",
      "tensor(0.0752, device='cuda:0', grad_fn=<SqueezeBackward1>)\n",
      "tensor(0.0419, device='cuda:0', grad_fn=<SqueezeBackward1>)\n",
      "--------------------------------\n",
      "tensor([-1.1000,  0.7302]) tensor([ 1.0000, -0.7302]) tensor(-0.1048, device='cuda:0', grad_fn=<SqueezeBackward1>)\n",
      "tensor(-0.0392, device='cuda:0', grad_fn=<SqueezeBackward1>)\n",
      "tensor(-0.0860, device='cuda:0', grad_fn=<SqueezeBackward1>)\n",
      "tensor(-0.0141, device='cuda:0', grad_fn=<SqueezeBackward1>)\n",
      "tensor(-0.0424, device='cuda:0', grad_fn=<SqueezeBackward1>)\n",
      "tensor(0.0571, device='cuda:0', grad_fn=<SqueezeBackward1>)\n",
      "tensor(-0.0006, device='cuda:0', grad_fn=<SqueezeBackward1>)\n",
      "tensor(-0.0625, device='cuda:0', grad_fn=<SqueezeBackward1>)\n",
      "tensor(-0.0680, device='cuda:0', grad_fn=<SqueezeBackward1>)\n",
      "tensor(0.0738, device='cuda:0', grad_fn=<SqueezeBackward1>)\n",
      "tensor(0.0172, device='cuda:0', grad_fn=<SqueezeBackward1>)\n",
      "--------------------------------\n",
      "tensor([-1.1000,  0.8112]) tensor([ 1.0000, -0.8112]) tensor(-0.1027, device='cuda:0', grad_fn=<SqueezeBackward1>)\n",
      "tensor(-0.0485, device='cuda:0', grad_fn=<SqueezeBackward1>)\n",
      "tensor(0.0321, device='cuda:0', grad_fn=<SqueezeBackward1>)\n",
      "tensor(0.0565, device='cuda:0', grad_fn=<SqueezeBackward1>)\n",
      "tensor(0.0606, device='cuda:0', grad_fn=<SqueezeBackward1>)\n",
      "tensor(-0.0663, device='cuda:0', grad_fn=<SqueezeBackward1>)\n",
      "tensor(0.0673, device='cuda:0', grad_fn=<SqueezeBackward1>)\n",
      "tensor(0.0264, device='cuda:0', grad_fn=<SqueezeBackward1>)\n",
      "tensor(0.0669, device='cuda:0', grad_fn=<SqueezeBackward1>)\n",
      "tensor(0.0442, device='cuda:0', grad_fn=<SqueezeBackward1>)\n",
      "tensor(-0.0640, device='cuda:0', grad_fn=<SqueezeBackward1>)\n",
      "--------------------------------\n",
      "tensor([-1.1000, -0.0525]) tensor([1.0000, 0.0525]) tensor(-0.1263, device='cuda:0', grad_fn=<SqueezeBackward1>)\n",
      "tensor(-0.0846, device='cuda:0', grad_fn=<SqueezeBackward1>)\n",
      "tensor(-0.0870, device='cuda:0', grad_fn=<SqueezeBackward1>)\n",
      "tensor(0.0121, device='cuda:0', grad_fn=<SqueezeBackward1>)\n",
      "tensor(-0.0216, device='cuda:0', grad_fn=<SqueezeBackward1>)\n",
      "tensor(-0.0002, device='cuda:0', grad_fn=<SqueezeBackward1>)\n",
      "tensor(0.0224, device='cuda:0', grad_fn=<SqueezeBackward1>)\n",
      "tensor(0.0631, device='cuda:0', grad_fn=<SqueezeBackward1>)\n",
      "tensor(0.0413, device='cuda:0', grad_fn=<SqueezeBackward1>)\n",
      "tensor(0.0578, device='cuda:0', grad_fn=<SqueezeBackward1>)\n",
      "tensor(-0.1007, device='cuda:0', grad_fn=<SqueezeBackward1>)\n",
      "--------------------------------\n",
      "tensor([-1.1000,  0.3866]) tensor([ 1.0000, -0.3866]) tensor(-0.1130, device='cuda:0', grad_fn=<SqueezeBackward1>)\n",
      "tensor(0.0612, device='cuda:0', grad_fn=<SqueezeBackward1>)\n",
      "tensor(0.0635, device='cuda:0', grad_fn=<SqueezeBackward1>)\n",
      "tensor(0.0493, device='cuda:0', grad_fn=<SqueezeBackward1>)\n",
      "tensor(0.0743, device='cuda:0', grad_fn=<SqueezeBackward1>)\n",
      "tensor(-0.0165, device='cuda:0', grad_fn=<SqueezeBackward1>)\n",
      "tensor(0.0032, device='cuda:0', grad_fn=<SqueezeBackward1>)\n",
      "tensor(-0.0774, device='cuda:0', grad_fn=<SqueezeBackward1>)\n",
      "tensor(-0.0130, device='cuda:0', grad_fn=<SqueezeBackward1>)\n",
      "tensor(-0.0466, device='cuda:0', grad_fn=<SqueezeBackward1>)\n",
      "tensor(0.0728, device='cuda:0', grad_fn=<SqueezeBackward1>)\n",
      "--------------------------------\n",
      "tensor([-1.1000,  0.1894]) tensor([ 1.0000, -0.1894]) tensor(-0.1219, device='cuda:0', grad_fn=<SqueezeBackward1>)\n",
      "tensor(0.0731, device='cuda:0', grad_fn=<SqueezeBackward1>)\n",
      "tensor(-0.0021, device='cuda:0', grad_fn=<SqueezeBackward1>)\n",
      "tensor(0.0560, device='cuda:0', grad_fn=<SqueezeBackward1>)\n",
      "tensor(-0.0035, device='cuda:0', grad_fn=<SqueezeBackward1>)\n",
      "tensor(0.0708, device='cuda:0', grad_fn=<SqueezeBackward1>)\n",
      "tensor(0.0689, device='cuda:0', grad_fn=<SqueezeBackward1>)\n",
      "tensor(0.0574, device='cuda:0', grad_fn=<SqueezeBackward1>)\n",
      "tensor(0.0014, device='cuda:0', grad_fn=<SqueezeBackward1>)\n",
      "tensor(0.0506, device='cuda:0', grad_fn=<SqueezeBackward1>)\n",
      "tensor(-0.0915, device='cuda:0', grad_fn=<SqueezeBackward1>)\n",
      "--------------------------------\n",
      "tensor([-1.1000,  0.0339]) tensor([ 1.0000, -0.0339]) tensor(-0.1269, device='cuda:0', grad_fn=<SqueezeBackward1>)\n",
      "tensor(-0.0121, device='cuda:0', grad_fn=<SqueezeBackward1>)\n",
      "tensor(0.0484, device='cuda:0', grad_fn=<SqueezeBackward1>)\n",
      "tensor(-0.0160, device='cuda:0', grad_fn=<SqueezeBackward1>)\n",
      "tensor(0.0662, device='cuda:0', grad_fn=<SqueezeBackward1>)\n",
      "tensor(0.0618, device='cuda:0', grad_fn=<SqueezeBackward1>)\n",
      "tensor(0.0354, device='cuda:0', grad_fn=<SqueezeBackward1>)\n",
      "tensor(0.0649, device='cuda:0', grad_fn=<SqueezeBackward1>)\n",
      "tensor(0.0699, device='cuda:0', grad_fn=<SqueezeBackward1>)\n",
      "tensor(-0.0219, device='cuda:0', grad_fn=<SqueezeBackward1>)\n",
      "tensor(-0.0757, device='cuda:0', grad_fn=<SqueezeBackward1>)\n",
      "--------------------------------\n",
      "tensor([-1.1000,  0.2419]) tensor([ 1.0000, -0.2419]) tensor(-0.1195, device='cuda:0', grad_fn=<SqueezeBackward1>)\n",
      "tensor(0.0695, device='cuda:0', grad_fn=<SqueezeBackward1>)\n",
      "tensor(-0.0571, device='cuda:0', grad_fn=<SqueezeBackward1>)\n",
      "tensor(0.0731, device='cuda:0', grad_fn=<SqueezeBackward1>)\n",
      "tensor(-0.0272, device='cuda:0', grad_fn=<SqueezeBackward1>)\n",
      "tensor(0.0444, device='cuda:0', grad_fn=<SqueezeBackward1>)\n",
      "tensor(-0.0759, device='cuda:0', grad_fn=<SqueezeBackward1>)\n",
      "tensor(0.0359, device='cuda:0', grad_fn=<SqueezeBackward1>)\n",
      "tensor(-0.1025, device='cuda:0', grad_fn=<SqueezeBackward1>)\n",
      "tensor(0.0247, device='cuda:0', grad_fn=<SqueezeBackward1>)\n",
      "tensor(0.0490, device='cuda:0', grad_fn=<SqueezeBackward1>)\n",
      "--------------------------------\n",
      "tensor([-1.1000,  0.2066]) tensor([ 1.0000, -0.2066]) tensor(-0.1211, device='cuda:0', grad_fn=<SqueezeBackward1>)\n",
      "tensor(-0.0666, device='cuda:0', grad_fn=<SqueezeBackward1>)\n",
      "tensor(0.0104, device='cuda:0', grad_fn=<SqueezeBackward1>)\n",
      "tensor(-0.0703, device='cuda:0', grad_fn=<SqueezeBackward1>)\n",
      "tensor(0.0735, device='cuda:0', grad_fn=<SqueezeBackward1>)\n",
      "tensor(-0.0006, device='cuda:0', grad_fn=<SqueezeBackward1>)\n",
      "tensor(0.0190, device='cuda:0', grad_fn=<SqueezeBackward1>)\n",
      "tensor(-0.0127, device='cuda:0', grad_fn=<SqueezeBackward1>)\n",
      "tensor(-0.1095, device='cuda:0', grad_fn=<SqueezeBackward1>)\n",
      "tensor(0.0679, device='cuda:0', grad_fn=<SqueezeBackward1>)\n",
      "tensor(0.0736, device='cuda:0', grad_fn=<SqueezeBackward1>)\n",
      "--------------------------------\n",
      "tensor([-1.1000,  0.1659]) tensor([ 1.0000, -0.1659]) tensor(-0.1228, device='cuda:0', grad_fn=<SqueezeBackward1>)\n",
      "tensor(0.0725, device='cuda:0', grad_fn=<SqueezeBackward1>)\n",
      "tensor(0.0600, device='cuda:0', grad_fn=<SqueezeBackward1>)\n",
      "tensor(0.0423, device='cuda:0', grad_fn=<SqueezeBackward1>)\n",
      "tensor(-0.0008, device='cuda:0', grad_fn=<SqueezeBackward1>)\n",
      "tensor(0.0121, device='cuda:0', grad_fn=<SqueezeBackward1>)\n",
      "tensor(-0.0708, device='cuda:0', grad_fn=<SqueezeBackward1>)\n",
      "tensor(0.0360, device='cuda:0', grad_fn=<SqueezeBackward1>)\n",
      "tensor(0.0660, device='cuda:0', grad_fn=<SqueezeBackward1>)\n",
      "tensor(0.0123, device='cuda:0', grad_fn=<SqueezeBackward1>)\n",
      "tensor(-0.0639, device='cuda:0', grad_fn=<SqueezeBackward1>)\n",
      "--------------------------------\n",
      "tensor([-1.1000,  0.1235]) tensor([ 1.0000, -0.1235]) tensor(-0.1246, device='cuda:0', grad_fn=<SqueezeBackward1>)\n",
      "tensor(0.0727, device='cuda:0', grad_fn=<SqueezeBackward1>)\n",
      "tensor(0.0742, device='cuda:0', grad_fn=<SqueezeBackward1>)\n",
      "tensor(-0.1143, device='cuda:0', grad_fn=<SqueezeBackward1>)\n",
      "tensor(-0.0463, device='cuda:0', grad_fn=<SqueezeBackward1>)\n",
      "tensor(0.0664, device='cuda:0', grad_fn=<SqueezeBackward1>)\n",
      "tensor(0.0709, device='cuda:0', grad_fn=<SqueezeBackward1>)\n",
      "tensor(-0.0717, device='cuda:0', grad_fn=<SqueezeBackward1>)\n",
      "tensor(0.0703, device='cuda:0', grad_fn=<SqueezeBackward1>)\n",
      "tensor(-0.0966, device='cuda:0', grad_fn=<SqueezeBackward1>)\n",
      "tensor(0.0683, device='cuda:0', grad_fn=<SqueezeBackward1>)\n",
      "--------------------------------\n",
      "tensor([-1.1000, -0.1248]) tensor([1.0000, 0.1248]) tensor(-0.1221, device='cuda:0', grad_fn=<SqueezeBackward1>)\n",
      "tensor(0.0553, device='cuda:0', grad_fn=<SqueezeBackward1>)\n",
      "tensor(-0.0783, device='cuda:0', grad_fn=<SqueezeBackward1>)\n",
      "tensor(0.0651, device='cuda:0', grad_fn=<SqueezeBackward1>)\n",
      "tensor(0.0408, device='cuda:0', grad_fn=<SqueezeBackward1>)\n",
      "tensor(0.0756, device='cuda:0', grad_fn=<SqueezeBackward1>)\n",
      "tensor(0.0724, device='cuda:0', grad_fn=<SqueezeBackward1>)\n",
      "tensor(0.0719, device='cuda:0', grad_fn=<SqueezeBackward1>)\n",
      "tensor(0.0017, device='cuda:0', grad_fn=<SqueezeBackward1>)\n",
      "tensor(-0.0738, device='cuda:0', grad_fn=<SqueezeBackward1>)\n",
      "tensor(0.0315, device='cuda:0', grad_fn=<SqueezeBackward1>)\n",
      "--------------------------------\n",
      "tensor([-1.1000, -0.1235]) tensor([1.0000, 0.1235]) tensor(-0.1222, device='cuda:0', grad_fn=<SqueezeBackward1>)\n",
      "tensor(0.0622, device='cuda:0', grad_fn=<SqueezeBackward1>)\n",
      "tensor(0.0203, device='cuda:0', grad_fn=<SqueezeBackward1>)\n",
      "tensor(0.0759, device='cuda:0', grad_fn=<SqueezeBackward1>)\n",
      "tensor(-0.1171, device='cuda:0', grad_fn=<SqueezeBackward1>)\n",
      "tensor(-0.0626, device='cuda:0', grad_fn=<SqueezeBackward1>)\n",
      "tensor(0.0411, device='cuda:0', grad_fn=<SqueezeBackward1>)\n",
      "tensor(-0.0890, device='cuda:0', grad_fn=<SqueezeBackward1>)\n",
      "tensor(-0.0445, device='cuda:0', grad_fn=<SqueezeBackward1>)\n",
      "tensor(0.0720, device='cuda:0', grad_fn=<SqueezeBackward1>)\n",
      "tensor(-0.0860, device='cuda:0', grad_fn=<SqueezeBackward1>)\n",
      "--------------------------------\n",
      "tensor([-1.1000, -0.1217]) tensor([1.0000, 0.1217]) tensor(-0.1224, device='cuda:0', grad_fn=<SqueezeBackward1>)\n",
      "tensor(0.0343, device='cuda:0', grad_fn=<SqueezeBackward1>)\n",
      "tensor(-0.1116, device='cuda:0', grad_fn=<SqueezeBackward1>)\n",
      "tensor(0.0681, device='cuda:0', grad_fn=<SqueezeBackward1>)\n",
      "tensor(-0.1106, device='cuda:0', grad_fn=<SqueezeBackward1>)\n",
      "tensor(0.0217, device='cuda:0', grad_fn=<SqueezeBackward1>)\n",
      "tensor(-0.1101, device='cuda:0', grad_fn=<SqueezeBackward1>)\n",
      "tensor(0.0683, device='cuda:0', grad_fn=<SqueezeBackward1>)\n",
      "tensor(0.0599, device='cuda:0', grad_fn=<SqueezeBackward1>)\n",
      "tensor(0.0388, device='cuda:0', grad_fn=<SqueezeBackward1>)\n",
      "tensor(0.0032, device='cuda:0', grad_fn=<SqueezeBackward1>)\n",
      "56\n"
     ]
    }
   ],
   "source": [
    "n_d = 0\n",
    "for d in cbuf.obs_buf:\n",
    "    if not d['prev_danger']:\n",
    "        n_d += 1\n",
    "        print('--------------------------------')\n",
    "        print(d['x'], d['action'], lnn(x=d['x'].to(device), action=d['action'].to(device)))\n",
    "        for _ in range(10):\n",
    "            a = torch.FloatTensor(2).uniform_(-1, 1)\n",
    "            print(lnn(x=d['x'].to(device), action=a.to(device)))\n",
    "print(n_d)"
   ]
  },
  {
   "cell_type": "code",
   "execution_count": 451,
   "id": "f6d407a2-54f4-4121-af7b-a4fb30e963be",
   "metadata": {},
   "outputs": [
    {
     "data": {
      "text/plain": [
       "tensor(-0.1215, device='cuda:0', grad_fn=<SqueezeBackward1>)"
      ]
     },
     "execution_count": 451,
     "metadata": {},
     "output_type": "execute_result"
    }
   ],
   "source": [
    "lnn(x=cbuf.obs_buf[0]['x'].to(device), action=cbuf.obs_buf[0]['action'].to(device))"
   ]
  },
  {
   "cell_type": "code",
   "execution_count": 415,
   "id": "d7ddecd2-926a-4f82-8117-b73f6024a10b",
   "metadata": {},
   "outputs": [
    {
     "data": {
      "text/plain": [
       "tensor([-0.8627, -1.0000], device='cuda:0')"
      ]
     },
     "execution_count": 415,
     "metadata": {},
     "output_type": "execute_result"
    }
   ],
   "source": [
    "cbuf.obs_buf[0]['action'].to(device)"
   ]
  },
  {
   "cell_type": "code",
   "execution_count": 434,
   "id": "e308fa72-320c-4072-b460-2551b5fdce1d",
   "metadata": {},
   "outputs": [
    {
     "data": {
      "text/plain": [
       "tensor([-0.5567,  0.0523])"
      ]
     },
     "execution_count": 434,
     "metadata": {},
     "output_type": "execute_result"
    }
   ],
   "source": [
    "torch.rand(2).uniform_(-1, 1)"
   ]
  },
  {
   "cell_type": "markdown",
   "id": "4f31613c-51f3-4a0c-b05d-41e4a3f1cfbe",
   "metadata": {},
   "source": [
    "## check on existing data"
   ]
  },
  {
   "cell_type": "code",
   "execution_count": 55,
   "id": "bcaa6713-377f-48ed-80f3-27960fb58a62",
   "metadata": {},
   "outputs": [],
   "source": [
    "total_buffer = []\n",
    "total_buffer_a = []\n",
    "total_buffer_d = []\n",
    "total_buffer.extend([o['x'].data.cpu().numpy() for b in bbuf_gather.buffers for o in b.obs_buf])\n",
    "total_buffer_a.extend([o['action'].data.cpu().numpy() for b in bbuf_gather.buffers for o in b.obs_buf])\n",
    "total_buffer_d.extend([o['next_danger'].data.cpu().numpy() for b in bbuf_gather.buffers for o in b.obs_buf])"
   ]
  },
  {
   "cell_type": "code",
   "execution_count": null,
   "id": "1dce3332-b1d3-43d9-9da1-a4e47ff68731",
   "metadata": {
    "scrolled": true,
    "tags": []
   },
   "outputs": [],
   "source": [
    "total_buffer"
   ]
  },
  {
   "cell_type": "code",
   "execution_count": 453,
   "id": "fbe37e86-6c0c-4052-bc11-a4364e918f90",
   "metadata": {},
   "outputs": [
    {
     "data": {
      "text/plain": [
       "32830"
      ]
     },
     "execution_count": 453,
     "metadata": {},
     "output_type": "execute_result"
    }
   ],
   "source": [
    "len(total_buffer)"
   ]
  },
  {
   "cell_type": "code",
   "execution_count": 454,
   "id": "0af65f1b-9f3c-48f6-9504-381d67fc7b68",
   "metadata": {},
   "outputs": [
    {
     "data": {
      "text/plain": [
       "103"
      ]
     },
     "execution_count": 454,
     "metadata": {},
     "output_type": "execute_result"
    }
   ],
   "source": [
    "len(cbuf.obs_buf)"
   ]
  },
  {
   "cell_type": "code",
   "execution_count": 392,
   "id": "fa209c15-daba-4dd0-bbbb-56925a81b013",
   "metadata": {},
   "outputs": [],
   "source": [
    "total_buffer = np.array(total_buffer)\n",
    "total_buffer_a = np.array(total_buffer_a)"
   ]
  },
  {
   "cell_type": "code",
   "execution_count": null,
   "id": "c7311ee3-8603-482b-93d1-8e985eb8c8b6",
   "metadata": {},
   "outputs": [],
   "source": [
    "from sklearn.neighbors import NearestNeighbors\n",
    "import numpy as np\n",
    "nbrs = NearestNeighbors(n_neighbors=10, algorithm='ball_tree').fit(total_buffer)\n",
    "dists, idxs = nbrs.kneighbors(total_buffer, 10, return_distance=True)\n",
    "best_idx = dists.mean(axis=-1).argmin()\n",
    "random_data = total_buffer[best_idx]\n",
    "dists, idxs = nbrs.kneighbors([random_data], 10, return_distance=True)\n",
    "total_buffer_a[idxs], dists"
   ]
  },
  {
   "cell_type": "markdown",
   "id": "0b59ba5a-53fa-480d-836c-11c8d82213c1",
   "metadata": {
    "tags": []
   },
   "source": [
    "# inference"
   ]
  },
  {
   "cell_type": "code",
   "execution_count": null,
   "id": "50039f99-bef5-4e5b-beb3-8752dd3f3c6f",
   "metadata": {},
   "outputs": [],
   "source": [
    "from gym_point import PointEnv\n",
    "from stable_baselines3 import PPO\n",
    "from tqdm import tqdm\n",
    "\n",
    "device = torch.device(\"cuda:0\" if torch.cuda.is_available() else \"cpu\")\n",
    "Env = PointEnv\n",
    "env = PointEnv()\n",
    "nominal_control = lambda x: np.clip(np.array([2, 0])-x, -1, 1)\n",
    "name_dict = generate_default_model_name(Env)\n",
    "\n",
    "lnn = DMLP(state_dim=Env.state_dim, action_dim=Env.action_dim, mode='straight')\n",
    "BMODEL_PATH = name_dict['dl'].replace('dlgnn', 'dlnn').replace('.pt', '_current.pt')\n",
    "lnn.load_state_dict(torch.load(BMODEL_PATH, map_location=device))\n",
    "lnn.to(device)\n",
    "lnn.eval()\n",
    "\n",
    "writer = SummaryWriter()\n",
    "writer.step = 0\n",
    "max_episode_length = 256\n",
    "BATCH = 64\n",
    "N_ITER = 1\n",
    "N_EPOCH = 12000"
   ]
  },
  {
   "cell_type": "markdown",
   "id": "60a94a04-5097-45ed-bb01-c3b2ac2f6c6b",
   "metadata": {},
   "source": [
    "### visualization on traj"
   ]
  },
  {
   "cell_type": "code",
   "execution_count": 13,
   "id": "4361cdac-85a1-46ad-8299-23534d7266ad",
   "metadata": {
    "scrolled": true,
    "tags": []
   },
   "outputs": [
    {
     "name": "stderr",
     "output_type": "stream",
     "text": [
      "  0%|          | 0/1000 [00:00<?, ?it/s]"
     ]
    },
    {
     "name": "stdout",
     "output_type": "stream",
     "text": [
      "0.51668584 0.45568436 0.4753323\n",
      "0.5121472 0.45598882 0.48237738\n",
      "0.5182724 0.45832708 0.4894686\n",
      "0.51170623 0.46194443 0.49453893\n",
      "0.5186333 0.46636555 0.49865294\n",
      "0.53281546 0.47081798 0.50070345\n",
      "0.53669435 0.47649354 0.510224\n",
      "0.54387605 0.47988358 0.5127435\n",
      "0.53675485 0.48114324 0.5124332\n",
      "0.538844 0.48357147 0.5161058\n",
      "0.544093 0.4862392 0.5169448\n",
      "0.53978086 0.487385 0.5169612\n",
      "0.54751164 0.48845792 0.5216947\n",
      "0.54790354 0.48838857 0.5255539\n",
      "0.5538924 0.48943818 0.5258354\n",
      "0.55187154 0.49180415 0.52474403\n",
      "0.5492523 0.4922703 0.5311743\n",
      "0.5580813 0.49339828 0.5247438\n",
      "0.5630181 0.49441755 0.5331471\n",
      "0.5570991 0.49654102 0.5336556\n",
      "0.5668818 0.49907464 0.53000337\n",
      "0.56094915 0.5024538 0.53160155\n",
      "0.5712031 0.5049979 0.53997904\n",
      "0.57068443 0.50872934 0.5421025\n",
      "0.5796457 0.51234066 0.54786193\n",
      "0.58442247 0.51678896 0.55358243\n",
      "0.58391243 0.5211724 0.55535364\n",
      "0.58625036 0.52454823 0.55253136\n",
      "0.59740824 0.528214 0.5563973\n",
      "0.6024603 0.5342494 0.5656232\n",
      "0.60735303 0.5376517 0.5783881\n",
      "0.6151024 0.539155 0.57610655\n",
      "0.6170377 0.5411356 0.57772213\n",
      "0.61465114 0.5439174 0.58305395\n",
      "0.62850654 0.5470648 0.5858834\n",
      "0.6278174 0.5505093 0.58162284\n",
      "0.62659144 0.5547518 0.5871692\n",
      "0.6376478 0.55837595 0.59205705\n",
      "0.63514614 0.5607529 0.5967926\n",
      "0.63762546 0.56311834 0.5971439\n",
      "0.64118975 0.5654642 0.6016958\n",
      "0.6465094 0.567296 0.60072863\n",
      "0.64413184 0.5674412 0.6014376\n",
      "0.6412701 0.5666528 0.6006276\n",
      "0.6412238 0.5661823 0.60145944\n",
      "0.6423282 0.56553227 0.5982838\n",
      "0.6442071 0.5657244 0.59557784\n",
      "0.6376817 0.5642742 0.59650606\n",
      "0.63620335 0.56305325 0.59650266\n",
      "0.64364654 0.5636848 0.5953468\n",
      "0.63968325 0.56277514 0.59919596\n",
      "0.6378701 0.5629596 0.5924829\n",
      "0.64435697 0.56164277 0.59424937\n",
      "0.64637303 0.5613142 0.5947286\n",
      "0.6444664 0.56006277 0.5906894\n",
      "0.6436721 0.5585531 0.59018993\n",
      "0.6427205 0.55800736 0.59314275\n",
      "0.6421153 0.55797434 0.58665884\n",
      "0.63830805 0.55637467 0.586135\n",
      "0.64031327 0.5569736 0.58676815\n",
      "0.63815117 0.5555977 0.5866265\n",
      "0.63091165 0.5543846 0.5837303\n",
      "0.6372727 0.5552504 0.5854341\n",
      "0.6299046 0.5545392 0.58448535\n",
      "0.63273865 0.5536994 0.579633\n",
      "0.6401521 0.55462086 0.5847343\n",
      "0.6361616 0.5574275 0.5854949\n",
      "0.64449555 0.5570155 0.58453643\n",
      "0.64225376 0.5603673 0.5899238\n",
      "0.6341569 0.5634384 0.5959796\n",
      "0.645597 0.5650357 0.5925424\n",
      "0.6407001 0.56521773 0.5896325\n",
      "0.64051396 0.56413954 0.5890953\n",
      "0.64109886 0.5626923 0.5914124\n",
      "0.6465641 0.5613228 0.5938299\n",
      "0.63579464 0.5611053 0.58857214\n"
     ]
    },
    {
     "name": "stderr",
     "output_type": "stream",
     "text": [
      "  0%|          | 0/1000 [00:13<?, ?it/s]\n"
     ]
    },
    {
     "ename": "AssertionError",
     "evalue": "",
     "output_type": "error",
     "traceback": [
      "\u001b[0;31m---------------------------------------------------------------------------\u001b[0m",
      "\u001b[0;31mAssertionError\u001b[0m                            Traceback (most recent call last)",
      "Input \u001b[0;32mIn [13]\u001b[0m, in \u001b[0;36m<cell line: 39>\u001b[0;34m()\u001b[0m\n\u001b[1;32m     77\u001b[0m \u001b[38;5;28;01mfrom\u001b[39;00m \u001b[38;5;21;01mcore\u001b[39;00m \u001b[38;5;28;01mimport\u001b[39;00m save_gif\n\u001b[1;32m     78\u001b[0m save_gif(gifs, \u001b[38;5;124m'\u001b[39m\u001b[38;5;124mgifs/0406/lol.gif\u001b[39m\u001b[38;5;124m'\u001b[39m)\n\u001b[0;32m---> 79\u001b[0m \u001b[38;5;28;01massert\u001b[39;00m \u001b[38;5;28;01mFalse\u001b[39;00m\n\u001b[1;32m     80\u001b[0m \u001b[38;5;28;01mbreak\u001b[39;00m\n",
      "\u001b[0;31mAssertionError\u001b[0m: "
     ]
    },
    {
     "data": {
      "image/png": "[encoded data removed]",
      "text/plain": [
       "<Figure size 500x500 with 1 Axes>"
      ]
     },
     "metadata": {
      "needs_background": "light"
     },
     "output_type": "display_data"
    }
   ],
   "source": [
    "from tqdm import tqdm\n",
    "from collections import defaultdict\n",
    "\n",
    "Env = DroneEnv\n",
    "env = DroneEnv(num_agents=1, SIZE=(4,4), PROB=(0,0.))\n",
    "\n",
    "lnn = DMLP(state_dim=env.state_dim, action_dim=env.action_dim, piembed=256, mode='sum')\n",
    "lnn.to(device)\n",
    "lnn.train()\n",
    "\n",
    "name_dict = generate_default_model_name(Env)\n",
    "\n",
    "loptimizer = torch.optim.Adam(lnn.parameters(), lr=3e-4, weight_decay=1e-8)\n",
    "lscheduler = torch.optim.lr_scheduler.ReduceLROnPlateau(loptimizer, factor=0.5, patience=2)\n",
    "\n",
    "max_episode_length = 256\n",
    "\n",
    "BATCH = 32\n",
    "N_ITER = 100\n",
    "N_EPOCH = 12000\n",
    "N_TRAJ = 1000\n",
    "N_TRAJ_PER_EPOCH = 10\n",
    "N_BUFFER = 100\n",
    "N_EVALUATE = 100\n",
    "\n",
    "threshold=1e-2\n",
    "running_displace_rate = 0\n",
    "best_displace_rate = float('inf')\n",
    "dispace_rates = [1.]*N_EVALUATE\n",
    "nominal_eps = 1.0\n",
    "explore_eps = 0.1\n",
    "\n",
    "LMODEL_PATH = name_dict['dl'].replace('dlgnn', 'dlnn')\n",
    "open('1model_'+Env.__name__+'.txt', 'w+').close()\n",
    "lbuf_gather = GatherReplayBuffer(BATCH)\n",
    "fbuf = GlobalReplayBuffer()\n",
    "\n",
    "pbar = tqdm(range(N_TRAJ))\n",
    "for epoch_i in pbar:\n",
    "    \n",
    "    lbuf = GlobalReplayBuffer()\n",
    "\n",
    "    env = DroneEnv(num_agents=1, SIZE=(4,4), PROB=(0,0.))\n",
    "    env.world.agents[0][:2] = [0.5, 0.5]\n",
    "    env.world.agent_goals[0][:2] = np.array([3, 3])+0.01*np.random.rand()\n",
    "    total_trans=0; n_danger=0; threshold=-1e-2; no_feasible=0; collided=False\n",
    "    \n",
    "    gifs = [env._render()]\n",
    "\n",
    "    while True:\n",
    "        o = env._get_obs()\n",
    "        a_all = np.random.uniform(-1, 1, size=(n_candidates, env.action_dim))\n",
    "\n",
    "        o = {'x': o['toward']['edge_attr'][0, :]}\n",
    "        a_refine, lvalue = iter_action(lnn, o, a_all, max_iter=0, threshold=threshold)  # min(epoch_i//10, 30)\n",
    "        \n",
    "        dists = env.potential_field(a_refine.reshape(1, -1, env.action_dim), K1=100, K2=-3e-2)\n",
    "        print(lvalue.max(), lvalue.min(), lvalue[np.argmin(dists)])\n",
    "        a = a_refine[np.argmin(lvalue)]\n",
    "\n",
    "        next_o, rw, done, info = env.step(np.array([a]))\n",
    "        gifs.append(env._render())\n",
    "        \n",
    "        info['dist2goal'] = info['toward'].edge_attr.norm()\n",
    "        lbuf.store(info)\n",
    "        prev_danger = info['prev_danger']\n",
    "        next_danger = info['next_danger']\n",
    "        if next_danger:\n",
    "            collided = True\n",
    "\n",
    "        total_trans += 1\n",
    "        n_danger += np.array(next_danger).sum()\n",
    "\n",
    "        if done or (total_trans >= max_episode_length) or (np.abs(env.world.agents[0,:]).max()>7):\n",
    "            lbuf.relabel(env.space_dim, env.goal_threshold)\n",
    "            lbuf_gather.append(lbuf)\n",
    "            from core import save_gif\n",
    "            save_gif(gifs, 'gifs/0406/lol.gif')\n",
    "            assert False\n",
    "            break\n",
    "\n",
    "#     dispace_rates.append(min([float(info['dist2goal']) for info in lbuf.obs_buf]))\n",
    "#     running_displace_rate = np.mean(dispace_rates)\n",
    "#     if running_displace_rate < best_displace_rate:\n",
    "#         best_displace_rate = running_displace_rate\n",
    "#         torch.save(lnn.state_dict(), LMODEL_PATH)\n",
    "\n",
    "#     if len(lbuf_gather.buffers) > N_BUFFER:\n",
    "#         lbuf_gather.buffers.pop(0)\n",
    "#     if len(dispace_rates) > N_EVALUATE:\n",
    "#         dispace_rates.pop(0)\n",
    "\n",
    "#     if (epoch_i % N_TRAJ_PER_EPOCH) == (N_TRAJ_PER_EPOCH-1):\n",
    "#         lnn.train()\n",
    "#         train_lya(lnn, loptimizer, lbuf_gather, pbar=pbar, n_iter=100)\n",
    "#         torch.save(lnn.state_dict(), LMODEL_PATH.replace('.pt', '_current.pt'))\n",
    "#         explore_eps = max(0.01, explore_eps * 0.8)\n",
    "\n",
    "#     with open('1model_'+Env.__name__+'.txt', 'a+') as f:\n",
    "#         f.write(pbar.desc+'\\t'+str(epoch_i)+'\\t'+'displace: {0:.6f}'.format(dispace_rates[-1])+' running rate: {0:.6f}'.format(running_displace_rate)+', buf size {0:d}, '.format(len(lbuf.obs_buf))+str(lbuf.obs_buf[-1]['goal'].pos)+'\\n')"
   ]
  },
  {
   "cell_type": "code",
   "execution_count": 118,
   "id": "0c637ff5-f4b6-4074-9b5a-d1a5741089c2",
   "metadata": {},
   "outputs": [
    {
     "data": {
      "application/vnd.jupyter.widget-view+json": {
       "model_id": "1fc127bfbaf440fb9efac967c6113508",
       "version_major": 2,
       "version_minor": 0
      },
      "image/png": "[encoded data removed]",
      "text/html": [
       "\n",
       "            <div style=\"display: inline-block;\">\n",
       "                <div class=\"jupyter-widgets widget-label\" style=\"text-align: center;\">\n",
       "                    Figure\n",
       "                </div>\n",
       "                <img src='data:image/png;base64,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' width=640.0/>\n",
       "            </div>\n",
       "        "
      ],
      "text/plain": [
       "Canvas(toolbar=Toolbar(toolitems=[('Home', 'Reset original view', 'home', 'home'), ('Back', 'Back to previous …"
      ]
     },
     "metadata": {},
     "output_type": "display_data"
    }
   ],
   "source": [
    "import ipympl\n",
    "import matplotlib.pyplot as plt\n",
    "plt.clf()\n",
    "plt.close('all')\n",
    "fig, ax = plt.subplots()\n",
    "plt.plot(*np.array(infer_traj).T)\n",
    "c = plt.Circle((0, 0), 1, edgecolor='g', facecolor='white', clip_on=False, linewidth=1.5)\n",
    "ax.add_patch(c)\n",
    "plt.show()"
   ]
  },
  {
   "cell_type": "markdown",
   "id": "96dc4662-cd1c-430b-9bee-5c0e4d90ac70",
   "metadata": {},
   "source": [
    "### visualization on CBF"
   ]
  },
  {
   "cell_type": "code",
   "execution_count": 129,
   "id": "60a4c3ea-b5dd-4e82-8eff-8001a5943409",
   "metadata": {
    "tags": []
   },
   "outputs": [
    {
     "data": {
      "application/vnd.jupyter.widget-view+json": {
       "model_id": "b0d0271c5d094172b3359c7aefc11b40",
       "version_major": 2,
       "version_minor": 0
      },
      "image/png": "[encoded data removed]",
      "text/html": [
       "\n",
       "            <div style=\"display: inline-block;\">\n",
       "                <div class=\"jupyter-widgets widget-label\" style=\"text-align: center;\">\n",
       "                    Figure\n",
       "                </div>\n",
       "                <img src='data:image/png;base64,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' width=640.0/>\n",
       "            </div>\n",
       "        "
      ],
      "text/plain": [
       "Canvas(toolbar=Toolbar(toolitems=[('Home', 'Reset original view', 'home', 'home'), ('Back', 'Back to previous …"
      ]
     },
     "metadata": {},
     "output_type": "display_data"
    }
   ],
   "source": [
    "%matplotlib widget\n",
    "import ipympl\n",
    "import matplotlib.pyplot as plt\n",
    "plt.clf()\n",
    "plt.close('all')\n",
    "fig, ax = plt.subplots()\n",
    "plt.plot(*np.array(trajs[30]).T)\n",
    "c = plt.Circle((0, 0), 1, edgecolor='g', facecolor='white', clip_on=False, linewidth=1.5)\n",
    "ax.add_patch(c)\n",
    "plt.show()"
   ]
  },
  {
   "cell_type": "code",
   "execution_count": 59,
   "id": "7342b52e-9db1-4dc0-b2db-20f4621fb9fb",
   "metadata": {},
   "outputs": [
    {
     "data": {
      "text/plain": [
       "array([ 0.00615322,  0.0168369 ,  0.02461939,  0.03725697, -0.04950445,\n",
       "        0.04675311, -0.01833821,  0.03422268,  0.08368017,  0.09180238,\n",
       "        0.20361288,  0.3725643 ,  0.5286677 ,  0.6686999 ,  0.7717982 ,\n",
       "        0.8585829 ,  0.907426  ,  0.94885206,  0.979881  ], dtype=float32)"
      ]
     },
     "execution_count": 59,
     "metadata": {},
     "output_type": "execute_result"
    }
   ],
   "source": [
    "lnn(x=torch.FloatTensor(np.array(trajs[99])[:-1]).to(device), action=torch.FloatTensor(np.array(trajs[99])[1:,]-np.array(trajs[99])[:-1]).to(device)/0.3).data.cpu().numpy()"
   ]
  },
  {
   "cell_type": "code",
   "execution_count": 42,
   "id": "e2744a7c-ab80-47c8-be80-4aa96e850734",
   "metadata": {},
   "outputs": [
    {
     "data": {
      "text/plain": [
       "array([-1.73082578, -0.24192397])"
      ]
     },
     "execution_count": 42,
     "metadata": {},
     "output_type": "execute_result"
    }
   ],
   "source": [
    "trajs[59][1]"
   ]
  },
  {
   "cell_type": "code",
   "execution_count": 133,
   "id": "db9dbfde-3a0e-47bd-96d8-a3a36c232099",
   "metadata": {},
   "outputs": [
    {
     "data": {
      "text/plain": [
       "tensor(0.0157, device='cuda:0', grad_fn=<SqueezeBackward1>)"
      ]
     },
     "execution_count": 133,
     "metadata": {},
     "output_type": "execute_result"
    }
   ],
   "source": [
    "lnn(x=torch.FloatTensor([-1.1, 0]).to(device), action=torch.FloatTensor([0.4, 0]).to(device))"
   ]
  },
  {
   "cell_type": "markdown",
   "id": "2d69f00d-963b-4cc3-96db-4304fe571ed9",
   "metadata": {},
   "source": [
    "### G"
   ]
  },
  {
   "cell_type": "code",
   "execution_count": 37,
   "id": "d163a56b-fb5e-4f73-ad83-bdd78749caea",
   "metadata": {},
   "outputs": [
    {
     "name": "stdout",
     "output_type": "stream",
     "text": [
      "tensor([-2.,  0.]) -0.13107894\n",
      "tensor([-1.7000,  0.0000]) -0.122936025\n",
      "tensor([-1.4000,  0.0000]) -0.11164804\n",
      "tensor([-1.1000,  0.0000]) -0.10055794\n",
      "tensor([-0.8000,  0.0000]) -0.09046771\n",
      "tensor([-0.5000,  0.0000]) -0.082239956\n",
      "tensor([-0.2000,  0.0000]) -0.0731955\n",
      "tensor([0.1000, 0.0000]) -0.06821193\n",
      "tensor([0.4000, 0.0000]) -0.07327388\n",
      "tensor([0.7000, 0.0000]) -0.06384854\n",
      "tensor([1., 0.]) -0.07175657\n",
      "tensor([1.3000, 0.0000]) -0.08446115\n",
      "tensor([1.5100, 0.0000]) -0.08590387\n",
      "tensor([1.6570, 0.0000]) -0.079477355\n",
      "tensor([1.7599, 0.0000]) -0.095163316\n",
      "tensor([1.8319, 0.0000]) -0.08545959\n",
      "tensor([1.8824, 0.0000]) -0.08211541\n"
     ]
    }
   ],
   "source": [
    "n_collide = 0\n",
    "n_reach = 0\n",
    "threshold = 1000\n",
    "N_TEST = 1000\n",
    "env.reset()\n",
    "#     env.world.agents = env.world.sample_agents(env.num_agents, prob=0.0)\n",
    "total_trans=0; n_danger=0; threshold=1e-2\n",
    "\n",
    "while True:\n",
    "    o = env._get_obs()\n",
    "    a_best = nominal_control(o)\n",
    "    a_other = np.random.uniform(-1., 1., size=(n_candidates-1, env.action_dim))\n",
    "    a_all = np.zeros((n_candidates, env.action_dim))\n",
    "    a_all[0, :] = a_best\n",
    "    a_all[1:, :] = a_other\n",
    "\n",
    "    o = {'x': torch.FloatTensor(o), 'goal': torch.FloatTensor(env.goal)}\n",
    "    a_refine, bvalue = iter_action(lnn, o, a_other, max_iter=0, threshold=threshold)\n",
    "\n",
    "    a, a_value = choose_action(a_refine, bvalue, threshold=threshold, explore_eps=0., nominal_eps=0.)\n",
    "\n",
    "    next_o, rw, done, info = env.step(a_best)\n",
    "    # if info['next_danger']:\n",
    "    print(o['x'], a_value)\n",
    "    n_collide += info['next_danger']\n",
    "\n",
    "    threshold = 1e-2\n",
    "    total_trans += 1\n",
    "    n_danger += np.array(next_danger).sum()\n",
    "\n",
    "    if done or (total_trans >= max_episode_length):\n",
    "        n_reach += info['next_goal']\n",
    "        break"
   ]
  },
  {
   "cell_type": "markdown",
   "id": "7a2d182e-e029-425e-8ab8-e4095b4aef96",
   "metadata": {},
   "source": [
    "# benchmark"
   ]
  },
  {
   "cell_type": "code",
   "execution_count": 102,
   "id": "1968e401-f7f0-4dcd-823a-63e1b0e2824e",
   "metadata": {},
   "outputs": [
    {
     "name": "stderr",
     "output_type": "stream",
     "text": [
      "100%|██████████| 100/100 [00:06<00:00, 14.72it/s]\n"
     ]
    }
   ],
   "source": [
    "n_collide = 0\n",
    "n_reach = 0\n",
    "threshold = 1000\n",
    "N_TEST = 100\n",
    "\n",
    "for _ in tqdm(range(N_TEST)):\n",
    "    \n",
    "    infer_traj = [env.reset()]\n",
    "    total_trans=0; n_danger=0; threshold=5e-2; collided=False\n",
    "    env.state = env.state + np.random.uniform(-5e-2, 5e-2, size=(2,))\n",
    "\n",
    "    while True:\n",
    "        o = env._get_obs()\n",
    "        a_all = np.hstack([i.reshape(-1, 1) for i in np.meshgrid(*([np.linspace(-1, 1, 20)]*2))])  #np.random.uniform(-1, 1, size=(n_candidates, env.action_dim))\n",
    "\n",
    "        o = {'x': torch.FloatTensor(o), 'goal': torch.FloatTensor(env.goal)}\n",
    "        a_refine, bvalue = iter_action(lnn, o, a_all, max_iter=0, threshold=threshold)\n",
    "\n",
    "        dists = []\n",
    "        for a in a_refine:\n",
    "            next_state = a + env.state\n",
    "            dists.append(np.linalg.norm(next_state-np.array([2, 0])))\n",
    "        if np.any(bvalue>threshold):\n",
    "            for a_idx in np.argsort(dists):\n",
    "                if bvalue[a_idx] > threshold:\n",
    "                    a = a_refine[a_idx]\n",
    "                    break\n",
    "        else:\n",
    "            a = a_refine[np.argmax(bvalue)]\n",
    "\n",
    "        next_o, rw, done, info = env.step(a)\n",
    "        infer_traj.append(env.state.copy())\n",
    "        # if info['next_danger']:\n",
    "        # print(bvalue[0], bvalue.min(), bvalue.max(), threshold, a_value, 'TRUE' if info['next_danger'] else '')\n",
    "        if info['next_danger']:\n",
    "            collided = True\n",
    "        \n",
    "        total_trans += 1\n",
    "        n_danger += np.array(next_danger).sum()\n",
    "\n",
    "        if done or (total_trans >= max_episode_length):\n",
    "            n_collide += collided\n",
    "            n_reach += info['next_goal']\n",
    "            break"
   ]
  },
  {
   "cell_type": "code",
   "execution_count": 103,
   "id": "41fe2300-c138-4e67-87fe-2715ca36efe7",
   "metadata": {},
   "outputs": [
    {
     "data": {
      "text/plain": [
       "0"
      ]
     },
     "execution_count": 103,
     "metadata": {},
     "output_type": "execute_result"
    }
   ],
   "source": [
    "n_collide"
   ]
  },
  {
   "cell_type": "code",
   "execution_count": 104,
   "id": "388f6d46-6b10-43f3-9ee2-e7271dd27fd5",
   "metadata": {},
   "outputs": [
    {
     "data": {
      "text/plain": [
       "100"
      ]
     },
     "execution_count": 104,
     "metadata": {},
     "output_type": "execute_result"
    }
   ],
   "source": [
    "n_reach"
   ]
  },
  {
   "cell_type": "code",
   "execution_count": null,
   "id": "a1788d0e-a222-4c85-8394-a3c136ef9e1f",
   "metadata": {},
   "outputs": [],
   "source": []
  }
 ],
 "metadata": {
  "kernelspec": {
   "display_name": "Python 3 (ipykernel)",
   "language": "python",
   "name": "python3"
  },
  "language_info": {
   "codemirror_mode": {
    "name": "ipython",
    "version": 3
   },
   "file_extension": ".py",
   "mimetype": "text/x-python",
   "name": "python",
   "nbconvert_exporter": "python",
   "pygments_lexer": "ipython3",
   "version": "3.8.12"
  }
 },
 "nbformat": 4,
 "nbformat_minor": 5
}
