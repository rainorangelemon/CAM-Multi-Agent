{
 "cells": [
  {
   "cell_type": "code",
   "execution_count": 1,
   "id": "8ea10256-623c-4981-af63-45130acf0e7e",
   "metadata": {},
   "outputs": [],
   "source": [
    "from gym_swimmer import SwimmerEnv\n",
    "import numpy as np\n",
    "from stable_baselines3 import PPO"
   ]
  },
  {
   "cell_type": "code",
   "execution_count": 2,
   "id": "54c68d13-5c52-46a7-9996-b4c31f357ec0",
   "metadata": {},
   "outputs": [],
   "source": [
    "env = SwimmerEnv()\n",
    "model = PPO.load(\"swimmer/best_model.zip\")"
   ]
  },
  {
   "cell_type": "code",
   "execution_count": 3,
   "id": "478124c4-e605-441c-a836-a954de1918dd",
   "metadata": {},
   "outputs": [
    {
     "name": "stdout",
     "output_type": "stream",
     "text": [
      "0\n"
     ]
    }
   ],
   "source": [
    "imgs = [env.sim.render(600, 300)]\n",
    "\n",
    "num_tot = 0\n",
    "num_goaled = 0\n",
    "num_collision = 0\n",
    "\n",
    "\n",
    "for _ in range(1):\n",
    "    obs = env.reset()\n",
    "    ts = 0\n",
    "    is_collided = False\n",
    "    while True:\n",
    "        ts += 1 \n",
    "        ac = model.predict(obs)[0]\n",
    "        obs, rw, done, _ = env.step(ac)\n",
    "        if env.sim.data.ncon!=0:\n",
    "            is_collided = True\n",
    "        imgs.append(env.sim.render(600, 300))\n",
    "        if done:\n",
    "            break\n",
    "    num_collision += is_collided\n",
    "    \n",
    "print(num_collision)"
   ]
  },
  {
   "cell_type": "code",
   "execution_count": 5,
   "id": "180ca454-1716-4a0d-adb7-b403df64c604",
   "metadata": {},
   "outputs": [],
   "source": [
    "from PIL import Image\n",
    "ims = [Image.fromarray(np.flip(a_frame, axis=0)) for a_frame in imgs]\n",
    "ims[0].save(\"rl.gif\", save_all=True, append_images=ims[1:], duration=100)"
   ]
  },
  {
   "cell_type": "code",
   "execution_count": 67,
   "id": "7923c1c0-9307-4585-8ec3-c641d4f8c0e6",
   "metadata": {},
   "outputs": [
    {
     "data": {
      "text/plain": [
       "array([ 1.44826189,  0.87091029, -2.26745338,  1.74679419,  1.21861532,\n",
       "        0.00753202,  0.02704019,  0.0550124 ,  0.00706287, -0.25626325])"
      ]
     },
     "execution_count": 67,
     "metadata": {},
     "output_type": "execute_result"
    }
   ],
   "source": [
    "env._get_obs()"
   ]
  },
  {
   "cell_type": "code",
   "execution_count": 70,
   "id": "b711997a-b17c-4cf4-b004-22eadcd06bcf",
   "metadata": {},
   "outputs": [
    {
     "data": {
      "text/plain": [
       "array([[ 0.        ,  0.        ,  0.        ],\n",
       "       [ 3.        ,  1.        ,  0.        ],\n",
       "       [ 1.5       , -1.        ,  0.        ],\n",
       "       [ 1.44826146,  0.87091047,  0.        ],\n",
       "       [ 1.12743302,  0.48741456,  0.        ],\n",
       "       [ 0.25994167,  0.98486682,  0.        ]])"
      ]
     },
     "execution_count": 70,
     "metadata": {},
     "output_type": "execute_result"
    }
   ],
   "source": [
    "env.sim.data.body_xpos"
   ]
  },
  {
   "cell_type": "code",
   "execution_count": 79,
   "id": "a84ca4ef-79dc-461e-a178-815f7d584ed2",
   "metadata": {},
   "outputs": [
    {
     "data": {
      "text/plain": [
       "array([[ 0. ,  0. , -0.1],\n",
       "       [ 0. ,  0. ,  0. ],\n",
       "       [ 0. ,  0. ,  0. ],\n",
       "       [ 1. ,  0. ,  0. ],\n",
       "       [-0.5,  0. ,  0. ],\n",
       "       [-0.5,  0. ,  0. ]])"
      ]
     },
     "execution_count": 79,
     "metadata": {},
     "output_type": "execute_result"
    }
   ],
   "source": [
    "env.sim.model.geom_pos"
   ]
  },
  {
   "cell_type": "code",
   "execution_count": 75,
   "id": "d0961383-832e-4589-9078-6d0623af3ef0",
   "metadata": {},
   "outputs": [
    {
     "data": {
      "image/png": "[encoded data removed]",
      "text/plain": [
       "<Figure size 432x288 with 1 Axes>"
      ]
     },
     "metadata": {
      "needs_background": "light"
     },
     "output_type": "display_data"
    }
   ],
   "source": [
    "%matplotlib inline\n",
    "import matplotlib.pyplot as plt\n",
    "plt.clf()\n",
    "plt.close('all')\n",
    "plt.imshow(env.render('rgb_array', 4000, 4000))\n",
    "plt.show()"
   ]
  },
  {
   "cell_type": "code",
   "execution_count": 2,
   "id": "7764ba1d-3c28-4e2f-8860-60cd3afc2470",
   "metadata": {},
   "outputs": [],
   "source": [
    "env = SwimmerEnv()"
   ]
  },
  {
   "cell_type": "code",
   "execution_count": 60,
   "id": "f3119f6f-b021-44ae-a652-7e8ffde01f32",
   "metadata": {},
   "outputs": [
    {
     "data": {
      "text/plain": [
       "'track'"
      ]
     },
     "execution_count": 60,
     "metadata": {},
     "output_type": "execute_result"
    }
   ],
   "source": [
    "env.sim.model.geom_id2name(2)"
   ]
  },
  {
   "cell_type": "code",
   "execution_count": 61,
   "id": "52269e7e-1b81-41ae-9d24-969c67d7d92e",
   "metadata": {},
   "outputs": [
    {
     "data": {
      "text/plain": [
       "array([-0.00011752, -0.00885351,  0.00649255, -0.02406456,  0.04311483])"
      ]
     },
     "execution_count": 61,
     "metadata": {},
     "output_type": "execute_result"
    }
   ],
   "source": [
    "env.sim.data.qpos"
   ]
  },
  {
   "cell_type": "code",
   "execution_count": 5,
   "id": "05d9f23d-ef4b-4d76-8f28-7449602ca4e8",
   "metadata": {},
   "outputs": [
    {
     "data": {
      "text/plain": [
       "10"
      ]
     },
     "execution_count": 5,
     "metadata": {},
     "output_type": "execute_result"
    }
   ],
   "source": [
    "env._get_obs()"
   ]
  },
  {
   "cell_type": "code",
   "execution_count": 64,
   "id": "d3f4abb5-194c-4f2b-9fe6-8a807af09995",
   "metadata": {},
   "outputs": [
    {
     "data": {
      "text/plain": [
       "(2,)"
      ]
     },
     "execution_count": 64,
     "metadata": {},
     "output_type": "execute_result"
    }
   ],
   "source": [
    "env.action_space.shape"
   ]
  },
  {
   "cell_type": "code",
   "execution_count": 33,
   "id": "0f7b50bd-40a8-4293-a0dc-22b0f6d280e3",
   "metadata": {},
   "outputs": [],
   "source": [
    "imgs = [env.sim.render(600, 600)]\n"
   ]
  },
  {
   "cell_type": "code",
   "execution_count": 33,
   "id": "50be2b01-82e1-478b-8c1d-3f454c4ed310",
   "metadata": {},
   "outputs": [
    {
     "name": "stdout",
     "output_type": "stream",
     "text": [
      "yes\n",
      "yes\n",
      "yes\n",
      "yes\n",
      "yes\n",
      "yes\n"
     ]
    }
   ],
   "source": [
    "env = SwimmerEnv()\n",
    "imgs = [env.sim.render(100, 100)]\n",
    "for _ in range(1000):\n",
    "    env.step(np.random.uniform(-1, 1, size=(2,)))\n",
    "    imgs.append(env.sim.render(100, 100))\n",
    "    if env.sim.data.ncon != 0:\n",
    "        print('yes')       \n",
    "    \n",
    "# for _ in range(1000):\n",
    "#     env.step(np.array([0.1, -0.1]))\n",
    "#     imgs.append(env.sim.render(100, 100))\n",
    "#     if env.sim.data.ncon != 0:\n",
    "#         print('yes')    "
   ]
  },
  {
   "cell_type": "code",
   "execution_count": 57,
   "id": "eeb30fbb-1e28-47c0-a217-855fec075c05",
   "metadata": {},
   "outputs": [
    {
     "name": "stdout",
     "output_type": "stream",
     "text": [
      "number of contacts 7\n",
      "contact 0\n",
      "dist -9.71445146547012e-17\n",
      "geom1 0 floor\n",
      "geom2 2 track\n",
      " Contact force on geom2 body [0. 0. 0. 0. 0. 0.]\n",
      "norm 0.0\n",
      "c_array [0. 0. 0. 0. 0. 0.]\n",
      "c_array [25411.06831463   899.15295372 24511.9153609      0.\n",
      "     0.             0.        ]\n",
      "contact 1\n",
      "dist -8.326672684688674e-17\n",
      "geom1 0 floor\n",
      "geom2 3 mid\n",
      " Contact force on geom2 body [0. 0. 0. 0. 0. 0.]\n",
      "norm 0.0\n",
      "c_array [0. 0. 0. 0. 0. 0.]\n",
      "c_array [24442.90383963    92.87517774 24350.02866189     0.\n",
      "     0.             0.        ]\n",
      "contact 2\n",
      "dist -8.326672684688674e-17\n",
      "geom1 0 floor\n",
      "geom2 4 back\n",
      " Contact force on geom2 body [0. 0. 0. 0. 0. 0.]\n",
      "norm 0.0\n",
      "c_array [0. 0. 0. 0. 0. 0.]\n",
      "c_array [ 257.98410277 -210.61229105   47.37181172    0.            0.\n",
      "    0.        ]\n",
      "contact 3\n",
      "dist -0.05044105749593966\n",
      "geom1 2 track\n",
      "geom2 1 box\n",
      " Contact force on geom2 body [0. 0. 0. 0. 0. 0.]\n",
      "norm 0.0\n",
      "c_array [0. 0. 0. 0. 0. 0.]\n",
      "c_array [0. 0. 0. 0. 0. 0.]\n",
      "contact 4\n",
      "dist -0.039840715649703734\n",
      "geom1 2 track\n",
      "geom2 1 box\n",
      " Contact force on geom2 body [0. 0. 0. 0. 0. 0.]\n",
      "norm 0.0\n",
      "c_array [0. 0. 0. 0. 0. 0.]\n",
      "c_array [0. 0. 0. 0. 0. 0.]\n",
      "contact 5\n",
      "dist -0.051339439718120466\n",
      "geom1 3 mid\n",
      "geom2 1 box\n",
      " Contact force on geom2 body [0. 0. 0. 0. 0. 0.]\n",
      "norm 0.0\n",
      "c_array [0. 0. 0. 0. 0. 0.]\n",
      "c_array [48395.46681224     0.             0.             0.\n",
      "     0.             0.        ]\n",
      "contact 6\n",
      "dist -0.039840715649703734\n",
      "geom1 3 mid\n",
      "geom2 1 box\n",
      " Contact force on geom2 body [0. 0. 0. 0. 0. 0.]\n",
      "norm 0.0\n",
      "c_array [0. 0. 0. 0. 0. 0.]\n",
      "c_array [0. 0. 0. 0. 0. 0.]\n",
      "done\n"
     ]
    }
   ],
   "source": [
    "import mujoco_py\n",
    "sim = env.sim\n",
    "print('number of contacts', sim.data.ncon)\n",
    "for i in range(sim.data.ncon):\n",
    "    # Note that the contact array has more than `ncon` entries,\n",
    "    # so be careful to only read the valid entries.\n",
    "    contact = sim.data.contact[i]\n",
    "    print('contact', i)\n",
    "    print('dist', contact.dist)\n",
    "    print('geom1', contact.geom1, sim.model.geom_id2name(contact.geom1))\n",
    "    print('geom2', contact.geom2, sim.model.geom_id2name(contact.geom2))\n",
    "    # There's more stuff in the data structure\n",
    "    # See the mujoco documentation for more info!\n",
    "    geom2_body = sim.model.geom_bodyid[sim.data.contact[i].geom2]\n",
    "    print(' Contact force on geom2 body', sim.data.cfrc_ext[geom2_body])\n",
    "    print('norm', np.sqrt(np.sum(np.square(sim.data.cfrc_ext[geom2_body]))))\n",
    "    # Use internal functions to read out mj_contactForce\n",
    "    c_array = np.zeros(6, dtype=np.float64)\n",
    "    print('c_array', c_array)\n",
    "    mujoco_py.functions.mj_contactForce(sim.model, sim.data, i, c_array)\n",
    "    print('c_array', c_array)\n",
    "\n",
    "print('done')"
   ]
  },
  {
   "cell_type": "code",
   "execution_count": 53,
   "id": "13a8cf07-1037-4be5-95a7-4ff3cff43177",
   "metadata": {},
   "outputs": [
    {
     "data": {
      "text/plain": [
       "True"
      ]
     },
     "execution_count": 53,
     "metadata": {},
     "output_type": "execute_result"
    }
   ],
   "source": [
    "sim.data.sensordata"
   ]
  },
  {
   "cell_type": "code",
   "execution_count": 12,
   "id": "d6e7ea59-e717-4cd9-be85-441204917fc7",
   "metadata": {},
   "outputs": [
    {
     "name": "stdout",
     "output_type": "stream",
     "text": [
      "number of contacts 14\n",
      "contact 0\n",
      "dist -0.0001238218347592579\n",
      "geom1 0 floor\n",
      "geom2 2 head\n",
      " Contact force on geom2 body [0. 0. 0. 0. 0. 0.]\n",
      "norm 0.0\n",
      "c_array [0. 0. 0. 0. 0. 0.]\n",
      "c_array [ 4.46181433e+01 -5.54631896e-11  1.81965367e-01  0.00000000e+00\n",
      "  0.00000000e+00  0.00000000e+00]\n",
      "contact 1\n",
      "dist -9.631626892431244e-05\n",
      "geom1 0 floor\n",
      "geom2 3 uwaist\n",
      " Contact force on geom2 body [0. 0. 0. 0. 0. 0.]\n",
      "norm 0.0\n",
      "c_array [0. 0. 0. 0. 0. 0.]\n",
      "c_array [ 3.44512013e+01 -4.53397320e-11 -1.80731853e-01  0.00000000e+00\n",
      "  0.00000000e+00  0.00000000e+00]\n",
      "contact 2\n",
      "dist -9.631626892203649e-05\n",
      "geom1 0 floor\n",
      "geom2 3 uwaist\n",
      " Contact force on geom2 body [0. 0. 0. 0. 0. 0.]\n",
      "norm 0.0\n",
      "c_array [0. 0. 0. 0. 0. 0.]\n",
      "c_array [ 3.44512013e+01 -4.53397320e-11 -1.80731853e-01  0.00000000e+00\n",
      "  0.00000000e+00  0.00000000e+00]\n",
      "contact 3\n",
      "dist -0.00039155532839034446\n",
      "geom1 0 floor\n",
      "geom2 8 right_foot_cap1\n",
      " Contact force on geom2 body [0. 0. 0. 0. 0. 0.]\n",
      "norm 0.0\n",
      "c_array [0. 0. 0. 0. 0. 0.]\n",
      "c_array [2.30846809e+01 7.79996660e-03 8.46455287e-04 0.00000000e+00\n",
      " 0.00000000e+00 0.00000000e+00]\n",
      "contact 4\n",
      "dist -0.00037231209871654153\n",
      "geom1 0 floor\n",
      "geom2 8 right_foot_cap1\n",
      " Contact force on geom2 body [0. 0. 0. 0. 0. 0.]\n",
      "norm 0.0\n",
      "c_array [0. 0. 0. 0. 0. 0.]\n",
      "c_array [2.15072420e+01 7.65456909e-03 8.73846300e-02 0.00000000e+00\n",
      " 0.00000000e+00 0.00000000e+00]\n",
      "contact 5\n",
      "dist -0.0004324784578136828\n",
      "geom1 0 floor\n",
      "geom2 9 right_foot_cap2\n",
      " Contact force on geom2 body [0. 0. 0. 0. 0. 0.]\n",
      "norm 0.0\n",
      "c_array [0. 0. 0. 0. 0. 0.]\n",
      "c_array [ 2.67505482e+01 -5.27681828e-04  1.58732875e-04  0.00000000e+00\n",
      "  0.00000000e+00  0.00000000e+00]\n",
      "contact 6\n",
      "dist -0.0004950814869864595\n",
      "geom1 0 floor\n",
      "geom2 9 right_foot_cap2\n",
      " Contact force on geom2 body [0. 0. 0. 0. 0. 0.]\n",
      "norm 0.0\n",
      "c_array [0. 0. 0. 0. 0. 0.]\n",
      "c_array [ 3.33966392e+01 -5.71878484e-04  1.00086988e-01  0.00000000e+00\n",
      "  0.00000000e+00  0.00000000e+00]\n",
      "contact 7\n",
      "dist -0.0003915553283907053\n",
      "geom1 0 floor\n",
      "geom2 12 left_foot_cap1\n",
      " Contact force on geom2 body [0. 0. 0. 0. 0. 0.]\n",
      "norm 0.0\n",
      "c_array [0. 0. 0. 0. 0. 0.]\n",
      "c_array [ 2.30846809e+01  7.79996657e-03 -8.46455322e-04  0.00000000e+00\n",
      "  0.00000000e+00  0.00000000e+00]\n",
      "contact 8\n",
      "dist -0.0003723120987165762\n",
      "geom1 0 floor\n",
      "geom2 12 left_foot_cap1\n",
      " Contact force on geom2 body [0. 0. 0. 0. 0. 0.]\n",
      "norm 0.0\n",
      "c_array [0. 0. 0. 0. 0. 0.]\n",
      "c_array [ 2.15072420e+01  7.65456905e-03 -8.73846299e-02  0.00000000e+00\n",
      "  0.00000000e+00  0.00000000e+00]\n",
      "contact 9\n",
      "dist -0.0004324784578133359\n",
      "geom1 0 floor\n",
      "geom2 13 left_foot_cap2\n",
      " Contact force on geom2 body [0. 0. 0. 0. 0. 0.]\n",
      "norm 0.0\n",
      "c_array [0. 0. 0. 0. 0. 0.]\n",
      "c_array [ 2.67505482e+01 -5.27681849e-04 -1.58732917e-04  0.00000000e+00\n",
      "  0.00000000e+00  0.00000000e+00]\n",
      "contact 10\n",
      "dist -0.0004950814869843917\n",
      "geom1 0 floor\n",
      "geom2 13 left_foot_cap2\n",
      " Contact force on geom2 body [0. 0. 0. 0. 0. 0.]\n",
      "norm 0.0\n",
      "c_array [0. 0. 0. 0. 0. 0.]\n",
      "c_array [ 3.33966392e+01 -5.71878506e-04 -1.00086988e-01  0.00000000e+00\n",
      "  0.00000000e+00  0.00000000e+00]\n",
      "contact 11\n",
      "dist -0.00019017325418061587\n",
      "geom1 0 floor\n",
      "geom2 14 right_uarm1\n",
      " Contact force on geom2 body [0. 0. 0. 0. 0. 0.]\n",
      "norm 0.0\n",
      "c_array [0. 0. 0. 0. 0. 0.]\n",
      "c_array [26.31974964  0.0631263  -0.93991519  0.          0.          0.        ]\n",
      "contact 12\n",
      "dist -0.0001901732541783538\n",
      "geom1 0 floor\n",
      "geom2 17 left_uarm1\n",
      " Contact force on geom2 body [0. 0. 0. 0. 0. 0.]\n",
      "norm 0.0\n",
      "c_array [0. 0. 0. 0. 0. 0.]\n",
      "c_array [26.31974964  0.0631263   0.93991519  0.          0.          0.        ]\n",
      "contact 13\n",
      "dist -0.0003714841995004839\n",
      "geom1 9 right_foot_cap2\n",
      "geom2 13 left_foot_cap2\n",
      " Contact force on geom2 body [0. 0. 0. 0. 0. 0.]\n",
      "norm 0.0\n",
      "c_array [0. 0. 0. 0. 0. 0.]\n",
      "c_array [10.71970585  0.          0.          0.          0.          0.        ]\n",
      "done\n"
     ]
    }
   ],
   "source": [
    "import os\n",
    "import mujoco_py\n",
    "import numpy as np\n",
    "\n",
    "PATH_TO_HUMANOID_XML = os.path.expanduser('~/.mujoco/mujoco210/model/humanoid.xml')\n",
    "\n",
    "# Load the model and make a simulator\n",
    "model = mujoco_py.load_model_from_path(PATH_TO_HUMANOID_XML)\n",
    "sim = mujoco_py.MjSim(model)\n",
    "imgs = [sim.render(600, 600)]\n",
    "\n",
    "# Simulate 1000 steps so humanoid has fallen on the ground\n",
    "for _ in range(10000):\n",
    "    sim.step()\n",
    "    if _ % 100 == 0:\n",
    "        imgs.append(sim.render(600, 600))\n",
    "\n",
    "print('number of contacts', sim.data.ncon)\n",
    "for i in range(sim.data.ncon):\n",
    "    # Note that the contact array has more than `ncon` entries,\n",
    "    # so be careful to only read the valid entries.\n",
    "    contact = sim.data.contact[i]\n",
    "    print('contact', i)\n",
    "    print('dist', contact.dist)\n",
    "    print('geom1', contact.geom1, sim.model.geom_id2name(contact.geom1))\n",
    "    print('geom2', contact.geom2, sim.model.geom_id2name(contact.geom2))\n",
    "    # There's more stuff in the data structure\n",
    "    # See the mujoco documentation for more info!\n",
    "    geom2_body = sim.model.geom_bodyid[sim.data.contact[i].geom2]\n",
    "    print(' Contact force on geom2 body', sim.data.cfrc_ext[geom2_body])\n",
    "    print('norm', np.sqrt(np.sum(np.square(sim.data.cfrc_ext[geom2_body]))))\n",
    "    # Use internal functions to read out mj_contactForce\n",
    "    c_array = np.zeros(6, dtype=np.float64)\n",
    "    print('c_array', c_array)\n",
    "    mujoco_py.functions.mj_contactForce(sim.model, sim.data, i, c_array)\n",
    "    print('c_array', c_array)\n",
    "\n",
    "print('done')"
   ]
  },
  {
   "cell_type": "code",
   "execution_count": 15,
   "id": "c141e2f7-2f70-453e-b8f1-f17a3acfabd7",
   "metadata": {},
   "outputs": [
    {
     "name": "stderr",
     "output_type": "stream",
     "text": [
      "100%|██████████| 1000/1000 [00:39<00:00, 25.24it/s]\n"
     ]
    }
   ],
   "source": [
    "# check state range\n",
    "from tqdm import tqdm\n",
    "env = SwimmerEnv()\n",
    "xs = []\n",
    "for _ in tqdm(range(1000)):\n",
    "    obs = env.reset()\n",
    "    is_collided = False\n",
    "    while True:\n",
    "        ac = model.predict(obs)[0]\n",
    "        obs, rw, done, _ = env.step(ac)\n",
    "        xs.append(obs)\n",
    "        if done:\n",
    "            break"
   ]
  },
  {
   "cell_type": "code",
   "execution_count": 17,
   "id": "090f2fd9-6739-42d4-978f-1da4029d4331",
   "metadata": {},
   "outputs": [
    {
     "data": {
      "text/plain": [
       "[(-1.21420919236857, 6.313952814630778),\n",
       " (-1.1151254320403134, 1.3074593427254526),\n",
       " (-1.8877658727259718, 2.0178943682264756),\n",
       " (-1.7871013070225508, 1.7856388923372022),\n",
       " (-1.7847279876763549, 1.7863750118035666),\n",
       " (-2.106704885117644, 1.6371424370376684),\n",
       " (-1.9179099292456627, 1.9003822340352414),\n",
       " (-2.9729694720198183, 3.0849692777463398),\n",
       " (-4.616606828248065, 4.887805216773936),\n",
       " (-5.238626275812419, 5.114600455217176)]"
      ]
     },
     "execution_count": 17,
     "metadata": {},
     "output_type": "execute_result"
    }
   ],
   "source": [
    "list(zip(np.array(xs).min(axis=0), np.array(xs).max(axis=0)))"
   ]
  },
  {
   "cell_type": "code",
   "execution_count": null,
   "id": "83031a3b-0e3d-427e-b348-2f5f1876651d",
   "metadata": {},
   "outputs": [],
   "source": []
  }
 ],
 "metadata": {
  "kernelspec": {
   "display_name": "Python 3",
   "language": "python",
   "name": "python3"
  },
  "language_info": {
   "codemirror_mode": {
    "name": "ipython",
    "version": 3
   },
   "file_extension": ".py",
   "mimetype": "text/x-python",
   "name": "python",
   "nbconvert_exporter": "python",
   "pygments_lexer": "ipython3",
   "version": "3.8.12"
  }
 },
 "nbformat": 4,
 "nbformat_minor": 5
}
