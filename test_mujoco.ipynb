{
 "cells": [
  {
   "cell_type": "code",
   "execution_count": 1,
   "id": "7308d5a2-6a26-4494-be54-845d57853e20",
   "metadata": {},
   "outputs": [],
   "source": [
    "import mujoco_py"
   ]
  },
  {
   "cell_type": "code",
   "execution_count": 2,
   "id": "b14a1b3b-13aa-45b7-8103-4e4b538df69d",
   "metadata": {},
   "outputs": [],
   "source": [
    "import os\n",
    "mj_path = mujoco_py.utils.discover_mujoco()\n",
    "xml_path = os.path.join(mj_path, 'model', 'humanoid.xml')\n",
    "model = mujoco_py.load_model_from_path(xml_path)\n",
    "sim = mujoco_py.MjSim(model)"
   ]
  },
  {
   "cell_type": "code",
   "execution_count": 3,
   "id": "49c546d6-e0c7-4939-b89a-fec69bdd4fd4",
   "metadata": {},
   "outputs": [
    {
     "name": "stdout",
     "output_type": "stream",
     "text": [
      "[0.  0.  1.4 1.  0.  0.  0.  0.  0.  0.  0.  0.  0.  0.  0.  0.  0.  0.\n",
      " 0.  0.  0.  0.  0.  0.  0.  0.  0.  0. ]\n"
     ]
    }
   ],
   "source": [
    "print(sim.data.qpos)"
   ]
  },
  {
   "cell_type": "code",
   "execution_count": 4,
   "id": "8f93cfe3-695b-481c-bf3f-ba15eb37d935",
   "metadata": {},
   "outputs": [
    {
     "name": "stdout",
     "output_type": "stream",
     "text": [
      "[-1.12164337e-05  7.29847036e-22  1.39975300e+00  9.99999999e-01\n",
      "  1.80085466e-21  4.45933954e-05 -2.70143345e-20  1.30126513e-19\n",
      " -4.63561234e-05 -1.88020744e-20 -2.24492958e-06  4.79357124e-05\n",
      " -6.38208396e-04 -1.61130312e-03 -1.37554006e-03  5.54173825e-05\n",
      " -2.24492958e-06  4.79357124e-05 -6.38208396e-04 -1.61130312e-03\n",
      " -1.37554006e-03 -5.54173825e-05 -5.73572648e-05  7.63833991e-05\n",
      " -2.12765194e-05  5.73572648e-05 -7.63833991e-05 -2.12765194e-05]\n"
     ]
    }
   ],
   "source": [
    "sim.step()\n",
    "print(sim.data.qpos)"
   ]
  },
  {
   "cell_type": "code",
   "execution_count": 66,
   "id": "e4434838-477b-49b9-95e3-9a09b949dfd8",
   "metadata": {},
   "outputs": [],
   "source": [
    "#!/usr/bin/env python3\n",
    "\"\"\"\n",
    "Example of how bodies interact with each other. For a body to be able to\n",
    "move it needs to have joints. In this example, the \"robot\" is a red ball\n",
    "with X and Y slide joints (and a Z slide joint that isn't controlled).\n",
    "On the floor, there's a cylinder with X and Y slide joints, so it can\n",
    "be pushed around with the robot. There's also a box without joints. Since\n",
    "the box doesn't have joints, it's fixed and can't be pushed around.\n",
    "\"\"\"\n",
    "from mujoco_py import load_model_from_xml, MjSim, MjViewer\n",
    "import math\n",
    "import os\n",
    "\n",
    "MODEL_XML = \"\"\"\n",
    "<?xml version=\"1.0\" ?>\n",
    "<mujoco>\n",
    "    <option timestep=\"0.005\" />\n",
    "    <worldbody>\n",
    "        <body name=\"robot\" pos=\"0 0 1.2\">\n",
    "            <joint axis=\"1 0 0\" damping=\"0.1\" name=\"slide0\" pos=\"0 0 0\" type=\"slide\"/>\n",
    "            <joint axis=\"0 1 0\" damping=\"0.1\" name=\"slide1\" pos=\"0 0 0\" type=\"slide\"/>\n",
    "            <joint axis=\"0 0 1\" damping=\"1\" name=\"slide2\" pos=\"0 0 0\" type=\"slide\"/>\n",
    "            <geom mass=\"1.0\" pos=\"0 0 0\" rgba=\"1 0 0 1\" size=\"0.15\" type=\"sphere\"/>\n",
    "\t\t\t<camera euler=\"0 0 0\" fovy=\"40\" name=\"rgb\" pos=\"0 0 2.5\"></camera>\n",
    "        </body>\n",
    "        <body mocap=\"true\" name=\"mocap\" pos=\"0.5 0.5 0.5\">\n",
    "\t\t\t<geom conaffinity=\"0\" contype=\"0\" pos=\"0 0 0\" rgba=\"1.0 1.0 1.0 0.5\" size=\"0.1 0.1 0.1\" type=\"box\"></geom>\n",
    "\t\t\t<geom conaffinity=\"0\" contype=\"0\" pos=\"0 0 0\" rgba=\"1.0 1.0 1.0 0.5\" size=\"0.2 0.2 0.05\" type=\"box\"></geom>\n",
    "\t\t</body>\n",
    "        <body name=\"cylinder\" pos=\"0.1 0.1 0.2\">\n",
    "            <geom mass=\"1\" size=\"0.15 0.15\" type=\"cylinder\"/>\n",
    "            <joint axis=\"1 0 0\" name=\"cylinder:slidex\" type=\"slide\"/>\n",
    "            <joint axis=\"0 1 0\" name=\"cylinder:slidey\" type=\"slide\"/>\n",
    "        </body>\n",
    "        <body name=\"box\" pos=\"-0.8 0 0.2\">\n",
    "            <geom mass=\"0.1\" size=\"0.15 0.15 0.15\" type=\"box\"/>\n",
    "        </body>\n",
    "        <body name=\"floor\" pos=\"0 0 0.025\">\n",
    "            <geom condim=\"3\" size=\"1.0 1.0 0.02\" rgba=\"0 1 0 1\" type=\"box\"/>\n",
    "        </body>\n",
    "    </worldbody>\n",
    "    <actuator>\n",
    "        <motor gear=\"2000.0\" joint=\"slide0\"/>\n",
    "        <motor gear=\"2000.0\" joint=\"slide1\"/>\n",
    "    </actuator>\n",
    "</mujoco>\n",
    "\"\"\"\n",
    "\n",
    "model = load_model_from_xml(MODEL_XML)\n",
    "sim = MjSim(model)\n",
    "img = sim.render(600, 600)\n",
    "t = 0\n",
    "imgs = [img]\n",
    "while True:\n",
    "    sim.data.ctrl[0] = math.cos(t / 10.) * 0.01\n",
    "    sim.data.ctrl[1] = math.sin(t / 10.) * 0.01\n",
    "    t += 1\n",
    "    sim.step()\n",
    "    imgs.append(sim.render(600, 600))\n",
    "    if t > 100:\n",
    "        break"
   ]
  },
  {
   "cell_type": "code",
   "execution_count": 68,
   "id": "f55c4e02-e21f-4fed-9d21-fca0f192e588",
   "metadata": {},
   "outputs": [],
   "source": [
    "import numpy as np"
   ]
  },
  {
   "cell_type": "code",
   "execution_count": 69,
   "id": "180ca454-1716-4a0d-adb7-b403df64c604",
   "metadata": {},
   "outputs": [],
   "source": [
    "from PIL import Image\n",
    "ims = [Image.fromarray(np.flip(a_frame, axis=0)) for a_frame in imgs]\n",
    "ims[0].save(\"try.gif\", save_all=True, append_images=ims[1:], loop=0, duration=200)"
   ]
  },
  {
   "cell_type": "code",
   "execution_count": 2,
   "id": "2a9c757c-5464-4105-b87c-ff3802748739",
   "metadata": {},
   "outputs": [
    {
     "ename": "Exception",
     "evalue": "Failed to load XML file: model/tosser.xml. mj_loadXML error: b'XML parse error at line 0, column 0:\\nFailed to open file\\n'",
     "output_type": "error",
     "traceback": [
      "\u001b[0;31m---------------------------------------------------------------------------\u001b[0m",
      "\u001b[0;31mException\u001b[0m                                 Traceback (most recent call last)",
      "\u001b[0;32m<ipython-input-2-0d2cda591bfa>\u001b[0m in \u001b[0;36m<module>\u001b[0;34m\u001b[0m\n\u001b[1;32m      2\u001b[0m \u001b[0;32mimport\u001b[0m \u001b[0mos\u001b[0m\u001b[0;34m\u001b[0m\u001b[0;34m\u001b[0m\u001b[0m\n\u001b[1;32m      3\u001b[0m \u001b[0;34m\u001b[0m\u001b[0m\n\u001b[0;32m----> 4\u001b[0;31m \u001b[0mmodel\u001b[0m \u001b[0;34m=\u001b[0m \u001b[0mload_model_from_path\u001b[0m\u001b[0;34m(\u001b[0m\u001b[0;34m\"model/tosser.xml\"\u001b[0m\u001b[0;34m)\u001b[0m\u001b[0;34m\u001b[0m\u001b[0;34m\u001b[0m\u001b[0m\n\u001b[0m\u001b[1;32m      5\u001b[0m \u001b[0msim\u001b[0m \u001b[0;34m=\u001b[0m \u001b[0mMjSim\u001b[0m\u001b[0;34m(\u001b[0m\u001b[0mmodel\u001b[0m\u001b[0;34m)\u001b[0m\u001b[0;34m\u001b[0m\u001b[0;34m\u001b[0m\u001b[0m\n\u001b[1;32m      6\u001b[0m \u001b[0mimgs\u001b[0m \u001b[0;34m=\u001b[0m \u001b[0;34m[\u001b[0m\u001b[0msim\u001b[0m\u001b[0;34m.\u001b[0m\u001b[0mrender\u001b[0m\u001b[0;34m(\u001b[0m\u001b[0;36m600\u001b[0m\u001b[0;34m,\u001b[0m \u001b[0;36m600\u001b[0m\u001b[0;34m)\u001b[0m\u001b[0;34m]\u001b[0m\u001b[0;34m\u001b[0m\u001b[0;34m\u001b[0m\u001b[0m\n",
      "\u001b[0;32mcymj.pyx\u001b[0m in \u001b[0;36mmujoco_py.cymj.load_model_from_path\u001b[0;34m()\u001b[0m\n",
      "\u001b[0;31mException\u001b[0m: Failed to load XML file: model/tosser.xml. mj_loadXML error: b'XML parse error at line 0, column 0:\\nFailed to open file\\n'"
     ]
    }
   ],
   "source": [
    "from mujoco_py import load_model_from_path, MjSim, MjViewer\n",
    "import os\n",
    "\n",
    "model = load_model_from_path(\"~/.mujoco/mujoco210/model/tosser.xml\")\n",
    "sim = MjSim(model)\n",
    "imgs = [sim.render(600, 600)]\n",
    "sim_state = sim.get_state()\n",
    "\n",
    "\n",
    "sim.set_state(sim_state)\n",
    "\n",
    "for i in range(1000):\n",
    "    if i < 150:\n",
    "        sim.data.ctrl[:] = 0.0\n",
    "    else:\n",
    "        sim.data.ctrl[:] = -1.0\n",
    "    sim.step()\n",
    "    imgs.append(sim.render(600, 600))"
   ]
  },
  {
   "cell_type": "code",
   "execution_count": 57,
   "id": "8ea10256-623c-4981-af63-45130acf0e7e",
   "metadata": {},
   "outputs": [],
   "source": [
    "from swimmer import SwimmerEnv"
   ]
  },
  {
   "cell_type": "code",
   "execution_count": 58,
   "id": "7764ba1d-3c28-4e2f-8860-60cd3afc2470",
   "metadata": {},
   "outputs": [],
   "source": [
    "env = SwimmerEnv()"
   ]
  },
  {
   "cell_type": "code",
   "execution_count": 65,
   "id": "d0961383-832e-4589-9078-6d0623af3ef0",
   "metadata": {},
   "outputs": [
    {
     "data": {
      "text/plain": [
       "<matplotlib.image.AxesImage at 0x7fab9f430b80>"
      ]
     },
     "execution_count": 65,
     "metadata": {},
     "output_type": "execute_result"
    },
    {
     "data": {
      "image/png": "[encoded data removed]",
      "text/plain": [
       "<Figure size 432x288 with 1 Axes>"
      ]
     },
     "metadata": {
      "needs_background": "light"
     },
     "output_type": "display_data"
    }
   ],
   "source": [
    "%matplotlib inline\n",
    "import matplotlib.pyplot as plt\n",
    "plt.imshow(env.render('rgb_array', 4000, 4000))"
   ]
  },
  {
   "cell_type": "code",
   "execution_count": 60,
   "id": "f3119f6f-b021-44ae-a652-7e8ffde01f32",
   "metadata": {},
   "outputs": [
    {
     "data": {
      "text/plain": [
       "'track'"
      ]
     },
     "execution_count": 60,
     "metadata": {},
     "output_type": "execute_result"
    }
   ],
   "source": [
    "env.sim.model.geom_id2name(2)"
   ]
  },
  {
   "cell_type": "code",
   "execution_count": 61,
   "id": "52269e7e-1b81-41ae-9d24-969c67d7d92e",
   "metadata": {},
   "outputs": [
    {
     "data": {
      "text/plain": [
       "array([-0.00011752, -0.00885351,  0.00649255, -0.02406456,  0.04311483])"
      ]
     },
     "execution_count": 61,
     "metadata": {},
     "output_type": "execute_result"
    }
   ],
   "source": [
    "env.sim.data.qpos"
   ]
  },
  {
   "cell_type": "code",
   "execution_count": 62,
   "id": "05d9f23d-ef4b-4d76-8f28-7449602ca4e8",
   "metadata": {},
   "outputs": [
    {
     "data": {
      "text/plain": [
       "array([-1.17518224e-04, -8.85351051e-03,  6.49255261e-03, -2.40645586e-02,\n",
       "        4.31148277e-02, -1.14328158e-02, -4.31917394e-01,  3.16219069e-01,\n",
       "       -1.17175380e+00,  2.09578481e+00])"
      ]
     },
     "execution_count": 62,
     "metadata": {},
     "output_type": "execute_result"
    }
   ],
   "source": [
    "env._get_obs()"
   ]
  },
  {
   "cell_type": "code",
   "execution_count": 64,
   "id": "d3f4abb5-194c-4f2b-9fe6-8a807af09995",
   "metadata": {},
   "outputs": [
    {
     "data": {
      "text/plain": [
       "(2,)"
      ]
     },
     "execution_count": 64,
     "metadata": {},
     "output_type": "execute_result"
    }
   ],
   "source": [
    "env.action_space.shape"
   ]
  },
  {
   "cell_type": "code",
   "execution_count": 70,
   "id": "d6e7ea59-e717-4cd9-be85-441204917fc7",
   "metadata": {},
   "outputs": [
    {
     "name": "stdout",
     "output_type": "stream",
     "text": [
      "number of contacts 0\n",
      "done\n"
     ]
    }
   ],
   "source": [
    "import os\n",
    "import mujoco_py\n",
    "import numpy as np\n",
    "\n",
    "PATH_TO_HUMANOID_XML = os.path.expanduser('~/.mujoco/mujoco210/model/humanoid.xml')\n",
    "\n",
    "# Load the model and make a simulator\n",
    "model = mujoco_py.load_model_from_path(PATH_TO_HUMANOID_XML)\n",
    "sim = mujoco_py.MjSim(model)\n",
    "imgs = [sim.render(600, 600)]\n",
    "\n",
    "# Simulate 1000 steps so humanoid has fallen on the ground\n",
    "for _ in range(10000):\n",
    "    sim.step()\n",
    "    if _ % 100 == 0:\n",
    "        imgs.append(sim.render(600, 600))\n",
    "\n",
    "print('number of contacts', sim.data.ncon)\n",
    "for i in range(sim.data.ncon):\n",
    "    # Note that the contact array has more than `ncon` entries,\n",
    "    # so be careful to only read the valid entries.\n",
    "    contact = sim.data.contact[i]\n",
    "    print('contact', i)\n",
    "    print('dist', contact.dist)\n",
    "    print('geom1', contact.geom1, sim.model.geom_id2name(contact.geom1))\n",
    "    print('geom2', contact.geom2, sim.model.geom_id2name(contact.geom2))\n",
    "    # There's more stuff in the data structure\n",
    "    # See the mujoco documentation for more info!\n",
    "    geom2_body = sim.model.geom_bodyid[sim.data.contact[i].geom2]\n",
    "    print(' Contact force on geom2 body', sim.data.cfrc_ext[geom2_body])\n",
    "    print('norm', np.sqrt(np.sum(np.square(sim.data.cfrc_ext[geom2_body]))))\n",
    "    # Use internal functions to read out mj_contactForce\n",
    "    c_array = np.zeros(6, dtype=np.float64)\n",
    "    print('c_array', c_array)\n",
    "    mujoco_py.functions.mj_contactForce(sim.model, sim.data, i, c_array)\n",
    "    print('c_array', c_array)\n",
    "\n",
    "print('done')"
   ]
  },
  {
   "cell_type": "code",
   "execution_count": 7,
   "id": "c141e2f7-2f70-453e-b8f1-f17a3acfabd7",
   "metadata": {},
   "outputs": [
    {
     "ename": "NameError",
     "evalue": "name 'sim' is not defined",
     "output_type": "error",
     "traceback": [
      "\u001b[0;31m---------------------------------------------------------------------------\u001b[0m",
      "\u001b[0;31mNameError\u001b[0m                                 Traceback (most recent call last)",
      "\u001b[0;32m<ipython-input-7-79166ff07979>\u001b[0m in \u001b[0;36m<module>\u001b[0;34m\u001b[0m\n\u001b[0;32m----> 1\u001b[0;31m \u001b[0msim\u001b[0m\u001b[0;34m.\u001b[0m\u001b[0mdata\u001b[0m\u001b[0;34m.\u001b[0m\u001b[0mqpos\u001b[0m\u001b[0;34m\u001b[0m\u001b[0;34m\u001b[0m\u001b[0m\n\u001b[0m",
      "\u001b[0;31mNameError\u001b[0m: name 'sim' is not defined"
     ]
    }
   ],
   "source": []
  },
  {
   "cell_type": "code",
   "execution_count": null,
   "id": "090f2fd9-6739-42d4-978f-1da4029d4331",
   "metadata": {},
   "outputs": [],
   "source": []
  }
 ],
 "metadata": {
  "kernelspec": {
   "display_name": "Python 3",
   "language": "python",
   "name": "python3"
  },
  "language_info": {
   "codemirror_mode": {
    "name": "ipython",
    "version": 3
   },
   "file_extension": ".py",
   "mimetype": "text/x-python",
   "name": "python",
   "nbconvert_exporter": "python",
   "pygments_lexer": "ipython3",
   "version": "3.8.12"
  }
 },
 "nbformat": 4,
 "nbformat_minor": 5
}
