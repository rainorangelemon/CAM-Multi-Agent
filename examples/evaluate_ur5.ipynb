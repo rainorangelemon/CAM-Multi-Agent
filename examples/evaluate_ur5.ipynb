{
 "cells": [
  {
   "cell_type": "code",
   "execution_count": 1,
   "id": "b7b4f12b-eba5-45db-9813-b8ac920b1175",
   "metadata": {},
   "outputs": [
    {
     "name": "stderr",
     "output_type": "stream",
     "text": [
      "pybullet build time: Dec  1 2021 18:33:43\n"
     ]
    }
   ],
   "source": [
    "# from baselines.macbf import *\n",
    "from arm_env2 import *"
   ]
  },
  {
   "cell_type": "markdown",
   "id": "02c6b4d8-20a5-4398-8576-01bec78620e4",
   "metadata": {
    "tags": []
   },
   "source": [
    "# Evaluate Static"
   ]
  },
  {
   "cell_type": "code",
   "execution_count": 2,
   "id": "7b80e6b8-2bf9-4fe7-8100-de188c8f9250",
   "metadata": {},
   "outputs": [],
   "source": [
    "# save the environment,dataset,method,density,collision_per_env,collision_per_agent,success_rate,path_length\n",
    "\n",
    "def get_reward(num_collides, num_success, path_length, agent_num):\n",
    "    return (num_collides*(-1) + num_success*10)/agent_num + -1e-2*path_length\n",
    "\n",
    "def get_safe_rate(num_collides, path_length, agent_num):\n",
    "    return 1-(num_collides/(path_length*agent_num))"
   ]
  },
  {
   "cell_type": "code",
   "execution_count": 3,
   "id": "cf0fd485-7b39-412d-9330-7197c002b586",
   "metadata": {
    "tags": []
   },
   "outputs": [
    {
     "name": "stderr",
     "output_type": "stream",
     "text": [
      "/home/rainorangelemon/anaconda3/envs/gnn/lib/python3.8/site-packages/torch/nn/modules/lazy.py:175: UserWarning: Lazy modules are a new feature under heavy development so changes to the API or functionality can happen at any moment.\n",
      "  warnings.warn('Lazy modules are a new feature under heavy development '\n",
      "100%|██████████| 100/100 [00:32<00:00,  3.07it/s]\n"
     ]
    },
    {
     "name": "stdout",
     "output_type": "stream",
     "text": [
      "2 0.19 0.1 1.0 29.5\n",
      "ur5,static,v10,2,0.9922902054438265,9.47,0.019691871150750977,0.6505474617581717\n"
     ]
    },
    {
     "name": "stderr",
     "output_type": "stream",
     "text": [
      "100%|██████████| 100/100 [00:54<00:00,  1.83it/s]\n"
     ]
    },
    {
     "name": "stdout",
     "output_type": "stream",
     "text": [
      "3 0.92 0.6733333333333333 1.0 33.94\n",
      "ur5,static,v10,3,0.8965727327656036,6.577266666666668,0.09583596307617764,2.5510556150564634\n"
     ]
    },
    {
     "name": "stderr",
     "output_type": "stream",
     "text": [
      "100%|██████████| 100/100 [00:59<00:00,  1.69it/s]"
     ]
    },
    {
     "name": "stdout",
     "output_type": "stream",
     "text": [
      "4 1.0 0.795 0.99 34.9\n",
      "ur5,static,v10,4,0.7720950343421877,2.6234999999999995,0.04098741769201187,1.3774660612878997\n"
     ]
    },
    {
     "name": "stderr",
     "output_type": "stream",
     "text": [
      "\n"
     ]
    }
   ],
   "source": [
    "from tqdm import tqdm\n",
    "import gc\n",
    "from copy import deepcopy\n",
    "import torch\n",
    "import numpy as np\n",
    "from torch import nn\n",
    "import math\n",
    "from models import *   \n",
    "from core import generate_default_model_name\n",
    "import pickle as pkl\n",
    "import os\n",
    "os.environ['CUDA_LAUNCH_BLOCKING'] = '1'\n",
    "\n",
    "SAVE_GIF = False\n",
    "ONLY_SHOW_COLLIDE = True\n",
    "VERBOSE = False\n",
    "\n",
    "dataset_mode = 'static'\n",
    "decompose = None\n",
    "\n",
    "bnn = create_network()\n",
    "bnn.load_state_dict(torch.load(BMODEL_PATH, map_location=device))\n",
    "bnn.eval();\n",
    "\n",
    "import copy\n",
    "\n",
    "for density in [2,3,4]:\n",
    "    \n",
    "    collideds = []\n",
    "    dones = []\n",
    "    lengths = []\n",
    "\n",
    "    paths = []\n",
    "    rewards = []\n",
    "    safe_rates = []\n",
    "\n",
    "    path = f'gifs/0513/{project_name}_{version_name}/{density}'\n",
    "    os.makedirs(path, exist_ok=True)\n",
    "\n",
    "    for v_idx in tqdm(range(100)):\n",
    "\n",
    "        torch.manual_seed(v_idx)\n",
    "        random.seed(v_idx)\n",
    "        np.random.seed(v_idx)    \n",
    "\n",
    "        ENV_CONFIG['randomize'] = False\n",
    "        if density == 4:\n",
    "            arm_ids = [0,1,2,3]\n",
    "        else:\n",
    "            arm_ids = np.random.choice(4, size=density, replace=False)\n",
    "        env = create_env(num_agents=density, arm_ids=arm_ids)\n",
    "        if project_name=='drone':\n",
    "            env.world.agents[:, 3:6] = 0\n",
    "        if SAVE_GIF:\n",
    "            gif_file = f'gifs/0513/{project_name}_{version_name}/{density}/'+str(v_idx)+f'_decompose_lie.gif'\n",
    "        else:\n",
    "            gif_file = None\n",
    "        collided, done, path = infer(env,bnn,verbose=VERBOSE,n_action=10000,seed=v_idx,\n",
    "                                     spatial_prop=False,lie_derive_safe=False,decompose=decompose,\n",
    "                                     stop_at_collision=False,need_gif=gif_file)\n",
    "        num_collides = 0\n",
    "        num_success = np.array([False]*env.num_agents)\n",
    "        for timestep in path:\n",
    "            env.world.agents = timestep\n",
    "            env.set_config(timestep)\n",
    "            status = env.world.get_status()\n",
    "            num_collides += sum(['danger' in s for s in status])\n",
    "            num_success = num_success | np.array(['done' in s for s in status])\n",
    "        rewards.append(get_reward(num_collides, num_success.sum(), len(path), env.num_agents))\n",
    "        safe_rates.append(get_safe_rate(num_collides, len(path), env.num_agents))\n",
    "\n",
    "        collideds.append(collided)\n",
    "        dones.append(done)\n",
    "        lengths.append(len(path))\n",
    "        paths.append(path)\n",
    "\n",
    "    print(density, np.any(collideds, axis=-1).mean(), np.mean(collideds), np.mean(dones), np.mean(lengths))\n",
    "\n",
    "    suffix = '' if decompose=='random' else 'no_decompose_'\n",
    "    with open(f'results/{project_name}_{version_name}_{suffix}{dataset_mode}_{density}.pkl', 'wb') as f:\n",
    "        pkl.dump({'collideds': collideds,\n",
    "                  'dones': dones,\n",
    "                  'lengths': lengths,\n",
    "                  'paths': paths}, f)\n",
    "\n",
    "    print(f'{project_name},{dataset_mode},{version_name},{density},{np.mean(safe_rates)},{np.mean(rewards)},{np.std(safe_rates)},{np.std(rewards)}')    "
   ]
  }
 ],
 "metadata": {
  "kernelspec": {
   "display_name": "Python 3 (ipykernel)",
   "language": "python",
   "name": "python3"
  },
  "language_info": {
   "codemirror_mode": {
    "name": "ipython",
    "version": 3
   },
   "file_extension": ".py",
   "mimetype": "text/x-python",
   "name": "python",
   "nbconvert_exporter": "python",
   "pygments_lexer": "ipython3",
   "version": "3.8.12"
  }
 },
 "nbformat": 4,
 "nbformat_minor": 5
}
