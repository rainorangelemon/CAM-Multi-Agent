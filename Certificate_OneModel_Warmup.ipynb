{
 "cells": [
  {
   "cell_type": "code",
   "execution_count": 1,
   "id": "5702e955-54f3-4f28-b6ee-40043dc23fda",
   "metadata": {},
   "outputs": [],
   "source": [
    "%load_ext autoreload\n",
    "%reload_ext autoreload\n",
    "%autoreload 2"
   ]
  },
  {
   "cell_type": "code",
   "execution_count": 2,
   "id": "ebd4a272-4078-46a1-8fb8-0a2f1cf0b2c1",
   "metadata": {},
   "outputs": [],
   "source": [
    "from gym_swimmer import SwimmerEnv\n",
    "import torch\n",
    "import numpy as np\n",
    "from torch import nn\n",
    "import math\n",
    "from models import *\n",
    "from core import generate_default_model_name\n",
    "Env = SwimmerEnv"
   ]
  },
  {
   "cell_type": "code",
   "execution_count": 3,
   "id": "65725489-346f-49df-a672-c41e6d3da0fc",
   "metadata": {},
   "outputs": [],
   "source": [
    "BATCH = 64\n",
    "N_EPOCH = 12000\n",
    "n_candidates = 100\n",
    "bthreshold=1e-2\n",
    "name_dict = generate_default_model_name(Env)\n",
    "BMODEL_PATH = name_dict['db'].replace('dbgnn', 'dbnn')\n",
    "LMODEL_PATH = name_dict['dl'].replace('dlgnn', 'dlnn')\n",
    "\n",
    "device = torch.device(\"cuda:0\" if torch.cuda.is_available() else \"cpu\")\n",
    "\n",
    "bnn = DMLP(state_dim=Env.state_dim, action_dim=Env.action_dim, mode='straight')\n",
    "bnn.to(device)\n",
    "bnn.train()\n",
    "\n",
    "lnn = DMLP(state_dim=Env.state_dim+Env.goal_dim, action_dim=Env.action_dim, mode='sum')\n",
    "lnn.to(device)\n",
    "lnn.train()\n",
    "\n",
    "boptimizer = torch.optim.Adam(bnn.parameters(), lr=1e-4, weight_decay=1e-8)\n",
    "bscheduler = torch.optim.lr_scheduler.ExponentialLR(boptimizer, gamma=0.996)\n",
    "\n",
    "loptimizer = torch.optim.Adam(lnn.parameters(), lr=1e-4, weight_decay=1e-8)\n",
    "lscheduler = torch.optim.lr_scheduler.ExponentialLR(loptimizer, gamma=0.996)"
   ]
  },
  {
   "cell_type": "code",
   "execution_count": 4,
   "id": "62fc43ea-21ae-4ebc-9b77-dd161367af1e",
   "metadata": {},
   "outputs": [],
   "source": [
    "def sample_action(nn, o, tensor_a, max_iter=30, mode='max', threshold=-1e-2):\n",
    "    '''\n",
    "        Laypunov: min\n",
    "        Barrier: max\n",
    "    '''\n",
    "    # size of a: (num_agents, n_candidates, action_dim)\n",
    "    \n",
    "    if len(o.shape)==2:\n",
    "        o = o.unsqueeze(1)\n",
    "    assert len(tensor_a.shape)==3\n",
    "    n_candidate = tensor_a.shape[1]\n",
    "    \n",
    "    nn.eval()\n",
    "    \n",
    "    vec = nn.get_vec(o).detach()\n",
    "    vec = vec.repeat((1, n_candidate, 1))    \n",
    "    \n",
    "    tensor_a.requires_grad = True\n",
    "    aoptimizer = torch.optim.Adam([tensor_a], lr=1)\n",
    "\n",
    "    iter_ = 0\n",
    "    while iter_ < max_iter:\n",
    "        value = nn.get_field(vec, tensor_a)\n",
    "        if mode=='max':\n",
    "            cvalue = (-value+threshold).relu()\n",
    "        else:\n",
    "            cvalue = (value-threshold).relu()\n",
    "        if torch.min(cvalue, dim=-1)[0].sum()==0:\n",
    "            break\n",
    "        aoptimizer.zero_grad()\n",
    "        cvalue.sum().backward()\n",
    "        torch.nn.utils.clip_grad_value_([tensor_a], 1e-2)\n",
    "        aoptimizer.step()\n",
    "        with torch.no_grad():\n",
    "            tensor_a[:] = tensor_a.clamp(-1, 1)\n",
    "        iter_ += 1\n",
    "        \n",
    "    value = nn.get_field(vec, tensor_a)\n",
    "    if mode=='max':\n",
    "        cvalue = (-value+threshold).relu()\n",
    "    else:\n",
    "        cvalue = (value-threshold).relu()    \n",
    "    \n",
    "    finalv = torch.zeros_like(value[:, 0])\n",
    "    finala = torch.zeros_like(tensor_a[:, 0, :])\n",
    "    valid = torch.min(cvalue, dim=-1)[0]==0\n",
    "    if mode=='max':\n",
    "        if (~valid).sum()!=0:\n",
    "            finalv[~valid] = torch.max(value[~valid], dim=-1)[0]\n",
    "            finala[~valid] = tensor_a[~valid, torch.max(value[~valid], dim=-1)[1]]\n",
    "        if (valid).sum()!=0:\n",
    "            tvalue = value.clone()\n",
    "            tvalue[cvalue!=0] = float('inf')\n",
    "            finalv[valid] = torch.min(tvalue[valid], dim=-1)[0]\n",
    "            finala[valid] = tensor_a[valid, torch.min(tvalue[valid], dim=-1)[1]]\n",
    "    else:\n",
    "        if (~valid).sum()!=0:\n",
    "            finalv[~valid] = torch.min(value[~valid], dim=-1)[0]\n",
    "            finala[~valid] = tensor_a[~valid, torch.min(value[~valid], dim=-1)[1]]\n",
    "        if (valid).sum()!=0:\n",
    "            tvalue = value.clone()\n",
    "            tvalue[cvalue!=0] = float('-inf')\n",
    "            finalv[valid] = torch.max(tvalue[valid], dim=-1)[0] \n",
    "            finala[valid] = tensor_a[valid, torch.max(tvalue[valid], dim=-1)[1]]\n",
    "    \n",
    "    nn.train()\n",
    "    \n",
    "    return tensor_a, value, finalv, finala"
   ]
  },
  {
   "cell_type": "code",
   "execution_count": 52,
   "id": "d5a8711c-df55-4818-944f-a9489487fea1",
   "metadata": {},
   "outputs": [],
   "source": [
    "def train_barrier(bnn, optimizer, buf, pbar, lamda=0.1, n_iter=10, n_candidates=1000, sample='cam'):\n",
    "    bnn.train()\n",
    "    buf.concat_goal = False\n",
    "    \n",
    "    # Set up function for computing value loss\n",
    "    def compute_loss(bnn, data, next_data):\n",
    "        value = bnn(**data)\n",
    "        next_o = data['next_x']\n",
    "        next_value = bnn(**next_data)\n",
    "        \n",
    "        bloss1 = ((1e-2-value).relu())*data['prev_free']*data['next_free'] / (1e-9 + (data['next_free']).sum())\n",
    "        bloss2 = ((1e-2+value).relu())*(data['prev_danger']+data['next_danger']) / (1e-9 + (data['prev_danger']+data['next_danger']).sum())\n",
    "        bloss = bloss1.sum() + bloss2.sum()\n",
    "        \n",
    "        deriv = next_value-value+0.1*value\n",
    "        dloss = ((-deriv+1e-2).relu())*data['prev_free']*data['next_free']*next_data['next_free']\n",
    "        dloss = dloss.sum() / (1e-9 + (data['prev_free']*data['next_free']*next_data['next_free']).sum())\n",
    "        \n",
    "        # if sample=='cam':\n",
    "        #     a = torch.rand(len(next_o), n_candidates, data['action'].shape[-1]).to(device).uniform_(-1, 1)\n",
    "        #     a[:, 0, :] = next_data['action']\n",
    "        # else:\n",
    "        a = torch.rand(len(next_o), n_candidates, data['action'].shape[-1]).to(device).uniform_(-1, 1)\n",
    "        \n",
    "        next_value_neg = bnn(x=next_o.unsqueeze(1).repeat(1, n_candidates, 1), action=a)\n",
    "        deriv = next_value-value\n",
    "        good = (deriv+1e-2).relu()\n",
    "        deriv = next_value_neg-value.unsqueeze(-1)+0.1*value.unsqueeze(-1)\n",
    "        good_noise = ((deriv+1e-2).relu())\n",
    "        \n",
    "        contrastloss = good_noise.mean()\n",
    "\n",
    "        return bloss, dloss, contrastloss\n",
    "    \n",
    "    # imitation learning\n",
    "    for i in range(n_iter):\n",
    "        loader, next_loader = buf.get()\n",
    "        for j, data_pair in enumerate(zip(loader, next_loader)):\n",
    "            data, next_data = data_pair \n",
    "            optimizer.zero_grad()\n",
    "            bloss, dloss, closs = compute_loss(bnn, data, next_data)\n",
    "            loss = bloss + dloss + closs\n",
    "            loss.backward()            \n",
    "            optimizer.step() \n",
    "            with torch.no_grad():\n",
    "                bvalue = bnn(**data)\n",
    "                b_mean = bvalue.mean()\n",
    "            desc = \"bloss %.6f, dloss %.6f, closs %.6f, bmean %.6f\" % (bloss, dloss, closs, b_mean)\n",
    "            pbar.set_description(desc)\n",
    "            optimizer.zero_grad()    \n",
    "    \n",
    "    return desc"
   ]
  },
  {
   "cell_type": "code",
   "execution_count": 57,
   "id": "19458755-6afa-43d0-a023-d2cce014034e",
   "metadata": {},
   "outputs": [],
   "source": [
    "def train_lyapunov(lnn, optimizer, buf, pbar, lamda=0.1, n_iter=10, n_candidates=1000, sample='cam'):\n",
    "    assert sample=='uniform' or sample=='cam'\n",
    "    \n",
    "    lnn.train()\n",
    "    buf.concat_goal = True\n",
    "    \n",
    "    # Set up function for computing value loss\n",
    "    def compute_loss(lnn, data, next_data):\n",
    "        value = lnn(**data).detach().reshape(len(data['next_x']))\n",
    "        next_o = data['next_x']\n",
    "\n",
    "#         if sample=='cam':\n",
    "#             a = torch.rand(len(next_o), n_candidates, data['action'].shape[-1]).to(device).uniform_(-1, 1)\n",
    "#             a[:, 0, :] = next_data['action']\n",
    "#         else:\n",
    "        a = torch.rand(len(next_o), n_candidates, data['action'].shape[-1]).to(device).uniform_(-1, 1)\n",
    "        \n",
    "        value = lnn(**data)\n",
    "        next_value = lnn(**next_data)\n",
    "        next_value_neg = lnn(x=next_o.unsqueeze(1).repeat(1, n_candidates, 1), action=a)        \n",
    "        goal_loss = ((value**2)*data['next_goal']).sum() / (1e-9 + data['next_goal'].sum()) + \\\n",
    "                    ((next_value**2)*next_data['next_goal']).sum() / (1e-9 + next_data['next_goal'].sum())\n",
    "        \n",
    "        deriv = next_value-value\n",
    "        good = (-deriv+1e-2).relu()\n",
    "        bad = (deriv+1e-2).relu()\n",
    "        badloss = bad.mean()\n",
    "        \n",
    "        deriv = next_value_neg-value.unsqueeze(-1)\n",
    "        good_noise = ((-deriv+1e-2).relu())\n",
    "        \n",
    "        contrastloss = good_noise.mean()\n",
    "\n",
    "        return goal_loss, badloss, contrastloss\n",
    "\n",
    "    # imitation learning\n",
    "    for i in range(n_iter):\n",
    "        loader, next_loader = buf.get()\n",
    "        for j, data_pair in enumerate(zip(loader, next_loader)):\n",
    "            data, next_data = data_pair\n",
    "            optimizer.zero_grad()\n",
    "            goal_loss, dloss, contrastloss = compute_loss(lnn, data, next_data)\n",
    "            loss = goal_loss + dloss + contrastloss\n",
    "            loss.backward()            \n",
    "            optimizer.step() \n",
    "            desc = \"goal_loss %.6f, dloss %.6f, closs %.6f\" % (goal_loss, dloss, contrastloss)\n",
    "            pbar.set_description(desc)\n",
    "            optimizer.zero_grad()    \n",
    "    \n",
    "    return desc"
   ]
  },
  {
   "cell_type": "code",
   "execution_count": 70,
   "id": "4a9df3d3-8a33-4983-bcfb-9ce6b536a961",
   "metadata": {},
   "outputs": [],
   "source": [
    "# create replay buffer\n",
    "import scipy\n",
    "from random import shuffle\n",
    "from torch.utils.data import DataLoader\n",
    "from torch.utils.data.dataloader import default_collate\n",
    "from collections import defaultdict\n",
    "\n",
    "\n",
    "class DotDict(dict):\n",
    "    \"\"\"\n",
    "    a dictionary that supports dot notation \n",
    "    as well as dictionary access notation \n",
    "    usage: d = DotDict() or d = DotDict({'val1':'first'})\n",
    "    set attributes: d.val2 = 'second' or d['val2'] = 'second'\n",
    "    get attributes: d.val2 or d['val2']\n",
    "    \"\"\"\n",
    "    __getattr__ = dict.__getitem__\n",
    "    __setattr__ = dict.__setitem__\n",
    "    __delattr__ = dict.__delitem__\n",
    "\n",
    "    def __init__(self, dct):\n",
    "        for key, value in dct.items():\n",
    "            if hasattr(value, 'keys'):\n",
    "                value = DotDict(value)\n",
    "            self[key] = value\n",
    "            \n",
    "    def to(self, device):\n",
    "        for key, value in self.items():\n",
    "            self[key] = value.to(device)\n",
    "\n",
    "\n",
    "class GlobalReplayBuffer:\n",
    "    \"\"\"\n",
    "    A buffer for storing trajectories experienced by a PPO agent interacting\n",
    "    with the environment, and using Generalized Advantage Estimation (GAE-Lambda)\n",
    "    for calculating the advantages of state-action pairs.\n",
    "    \"\"\"\n",
    "\n",
    "    def __init__(self, size):\n",
    "        self.obs_buf = []  \n",
    "        self.ptr = 0\n",
    "        self.max_size = size        \n",
    "        \n",
    "    def store(self, **kwargs):\n",
    "        \"\"\"\n",
    "        Append one timestep of agent-environment interaction to the buffer.\n",
    "        \"\"\"\n",
    "#         assert self.ptr < self.max_size     # buffer has to have room so you can store\n",
    "        \n",
    "        obs = DotDict({})\n",
    "        for key, value in kwargs.items():\n",
    "            obs[key] = torch.as_tensor(value, dtype=torch.float)\n",
    "        self.obs_buf.append(obs)\n",
    "        self.ptr += 1\n",
    "\n",
    "    def get(self, batch_size, concat_goal=False):\n",
    "        \"\"\"\n",
    "        Call this at the end of an epoch to get all of the data from\n",
    "        the buffer, with advantages appropriately normalized (shifted to have\n",
    "        mean zero and std one). Also, resets some pointers in the buffer.\n",
    "        \"\"\"\n",
    "        # collate_fn = lambda x: {x_.to(device) if print(x, x_) else 0 for x_ in default_collate(x)}\n",
    "        \n",
    "        def collate_fn(data):\n",
    "            \"\"\"\n",
    "               data: is a list of tuples with (example, label, length)\n",
    "                     where 'example' is a tensor of arbitrary shape\n",
    "                     and label/length are scalars\n",
    "            \"\"\"\n",
    "            data = default_collate(data)\n",
    "            for k, v in data.items():\n",
    "                data[k] = v.to(device)\n",
    "            if concat_goal:\n",
    "                data['x'] = torch.cat((data['x'], data['goal']), dim=-1)\n",
    "            return data\n",
    "            \n",
    "\n",
    "        l = list(zip(self.obs_buf[:-1], self.obs_buf[1:]))\n",
    "        shuffle(l)\n",
    "        \n",
    "        loader = DataLoader([_[0] for _ in l], shuffle=False, batch_size=batch_size, collate_fn=collate_fn)\n",
    "        next_loader = DataLoader([_[1] for _ in l], shuffle=False, batch_size=batch_size, collate_fn=collate_fn)\n",
    "        \n",
    "        return loader, next_loader\n",
    "    \n",
    "    def relabel_l(self):\n",
    "        if lbuf.obs_buf[-1]['next_goal']==1:\n",
    "            return\n",
    "        \n",
    "        # choose a future state\n",
    "        chosen_idx = np.random.randint(1, len(self.obs_buf))\n",
    "        obs = self.obs_buf[chosen_idx]\n",
    "        new_goal = obs['x'].data.cpu().numpy()[:len(obs['goal'])]\n",
    "        for idx, obs, next_obs in zip(range(len(self.obs_buf)-1), self.obs_buf[:-1], self.obs_buf[1:]):\n",
    "            obs['goal'] = torch.as_tensor(new_goal, dtype=torch.float)\n",
    "            obs['next_goal'] = ((next_obs['x'][:len(new_goal)]-obs['goal']).norm() < 0.1)\n",
    "            if obs['next_goal']:\n",
    "                chosen_idx = idx + 1\n",
    "\n",
    "        self.obs_buf = self.obs_buf[:chosen_idx]\n",
    "    \n",
    "    def relabel_b(self):\n",
    "        # TODO\n",
    "        pass\n",
    "    \n",
    "    \n",
    "class GatherReplayBuffer:\n",
    "    \n",
    "    def __init__(self, batch=64, concat_goal=False):\n",
    "        self.buffers = []\n",
    "        self.batch = batch\n",
    "        self.concat_goal = concat_goal\n",
    "        \n",
    "    def append(self, buffer, reward=1):\n",
    "        buffer.reward = reward\n",
    "        self.buffers.append(buffer)\n",
    "        \n",
    "    def get(self):\n",
    "        # max_reward = np.max([b.reward for b in self.buffers])\n",
    "        # mean_reward = np.mean([b.reward for b in self.buffers])\n",
    "        # min_reward = np.min([b.reward for b in self.buffers])\n",
    "        # for b in self.buffers:\n",
    "        #     # reward_norm = (b.reward - mean_reward) / (max(max_reward-mean_reward,mean_reward-min_reward) + 1e-9) + 1\n",
    "        #     for data in b.obs_buf:\n",
    "        #         data['reward'] = torch.as_tensor(b.reward, dtype=torch.float)\n",
    "\n",
    "        prev_o = []\n",
    "        prev_o.extend([o for b in self.buffers for o in b.obs_buf[:-1]])\n",
    "        next_o = []\n",
    "        next_o.extend([o for b in self.buffers for o in b.obs_buf[1:]])\n",
    "        \n",
    "        # collate_fn = lambda x: {x_.to(device) if print(x, x_) else 0 for x_ in default_collate(x)}\n",
    "        \n",
    "        def collate_fn(data):\n",
    "            \"\"\"\n",
    "               data: is a list of tuples with (example, label, length)\n",
    "                     where 'example' is a tensor of arbitrary shape\n",
    "                     and label/length are scalars\n",
    "            \"\"\"\n",
    "            data = default_collate(data)\n",
    "            for k, v in data.items():\n",
    "                data[k] = v.to(device)\n",
    "            if self.concat_goal:\n",
    "                data['x'] = torch.cat((data['x'], data['goal']), dim=-1)\n",
    "                data['next_x'] = torch.cat((data['next_x'], data['goal']), dim=-1)\n",
    "            return data\n",
    "            \n",
    "        l = list(zip(prev_o, next_o))\n",
    "        shuffle(l)\n",
    "        \n",
    "        loader = DataLoader([_[0] for _ in l], shuffle=False, batch_size=self.batch, collate_fn=collate_fn)\n",
    "        next_loader = DataLoader([_[1] for _ in l], shuffle=False, batch_size=self.batch, collate_fn=collate_fn)\n",
    "        \n",
    "        return loader, next_loader        "
   ]
  },
  {
   "cell_type": "code",
   "execution_count": 38,
   "id": "57e3571c-c96c-45b5-9132-60de46678113",
   "metadata": {},
   "outputs": [
    {
     "data": {
      "text/plain": [
       "tensor([-1., -1.,  0., -1.])"
      ]
     },
     "execution_count": 38,
     "metadata": {},
     "output_type": "execute_result"
    }
   ],
   "source": [
    "a = torch.FloatTensor([1, 1, 0, 1])\n",
    "b = torch.FloatTensor([0.1, 1, -0.2, 1])\n",
    "b.requires_grad = True\n",
    "(-(a + b.relu() - b.relu().detach())).sum().backward()\n",
    "b.grad"
   ]
  },
  {
   "cell_type": "markdown",
   "id": "55752bf9-9678-4ea2-823b-daa09e026ff6",
   "metadata": {},
   "source": [
    "# Warm Up"
   ]
  },
  {
   "cell_type": "code",
   "execution_count": 71,
   "id": "0e7852e2-9f17-4729-b21b-c9a5f576d516",
   "metadata": {
    "scrolled": true,
    "tags": []
   },
   "outputs": [
    {
     "name": "stderr",
     "output_type": "stream",
     "text": [
      "100%|██████████| 1000/1000 [00:40<00:00, 24.47it/s]\n"
     ]
    },
    {
     "name": "stdout",
     "output_type": "stream",
     "text": [
      "930 68\n"
     ]
    },
    {
     "name": "stderr",
     "output_type": "stream",
     "text": [
      "goal_loss 0.000000, dloss 0.008990, closs 0.000047: : 0it [18:00, ?it/s]            \n"
     ]
    }
   ],
   "source": [
    "from gym_swimmer import SwimmerEnv\n",
    "from stable_baselines3 import PPO\n",
    "from tqdm import tqdm \n",
    "\n",
    "env = SwimmerEnv()\n",
    "model = PPO.load(\"swimmer/best_model.zip\")\n",
    "\n",
    "allbuf = GatherReplayBuffer(batch=BATCH)\n",
    "n_collision = 0\n",
    "n_reach = 0\n",
    "for _ in tqdm(range(1000)):\n",
    "    nowbuf = GlobalReplayBuffer(1024)\n",
    "    obs = env.reset()\n",
    "    is_collide = False\n",
    "    returns = 0\n",
    "    while True:\n",
    "        obs = env._get_obs()\n",
    "        ac = model.predict(obs)[0].clip(-0.99, 0.99)\n",
    "        next_obs, rw, done, info = env.step(ac)\n",
    "        returns += rw\n",
    "        if info['next_danger']:\n",
    "            is_collide = True\n",
    "        nowbuf.store(**info)\n",
    "        if done:\n",
    "            break\n",
    "    n_reach += info['next_goal']\n",
    "    n_collision += is_collide\n",
    "    if info['next_goal'] and (not is_collide):\n",
    "        # print(returns)\n",
    "        allbuf.append(nowbuf, reward=1)  # returns\n",
    "\n",
    "print(n_reach, n_collision)\n",
    "\n",
    "with tqdm() as pbar:\n",
    "    descb = train_barrier(bnn, boptimizer, allbuf, pbar=pbar, n_iter=100)\n",
    "    descl = train_lyapunov(lnn, loptimizer, allbuf, pbar=pbar, n_iter=100)\n",
    "\n",
    "torch.save(bnn.state_dict(), BMODEL_PATH)\n",
    "torch.save(lnn.state_dict(), LMODEL_PATH.replace('.pt', '_cam.pt'))"
   ]
  },
  {
   "cell_type": "code",
   "execution_count": 24,
   "id": "66ee584a-165c-4c13-8b69-fa374a027394",
   "metadata": {},
   "outputs": [
    {
     "name": "stdout",
     "output_type": "stream",
     "text": [
      "> \u001b[0;32m<ipython-input-17-19d52174369c>\u001b[0m(127)\u001b[0;36mget\u001b[0;34m()\u001b[0m\n",
      "\u001b[0;32m    125 \u001b[0;31m                \u001b[0mdata\u001b[0m\u001b[0;34m[\u001b[0m\u001b[0;34m'reward'\u001b[0m\u001b[0;34m]\u001b[0m \u001b[0;34m=\u001b[0m \u001b[0mtorch\u001b[0m\u001b[0;34m.\u001b[0m\u001b[0mas_tensor\u001b[0m\u001b[0;34m(\u001b[0m\u001b[0mreward_norm\u001b[0m\u001b[0;34m,\u001b[0m \u001b[0mdtype\u001b[0m\u001b[0;34m=\u001b[0m\u001b[0mtorch\u001b[0m\u001b[0;34m.\u001b[0m\u001b[0mfloat\u001b[0m\u001b[0;34m)\u001b[0m\u001b[0;34m\u001b[0m\u001b[0;34m\u001b[0m\u001b[0m\n",
      "\u001b[0m\u001b[0;32m    126 \u001b[0;31m\u001b[0;34m\u001b[0m\u001b[0m\n",
      "\u001b[0m\u001b[0;32m--> 127 \u001b[0;31m        \u001b[0;32massert\u001b[0m \u001b[0;32mFalse\u001b[0m\u001b[0;34m\u001b[0m\u001b[0;34m\u001b[0m\u001b[0m\n",
      "\u001b[0m\u001b[0;32m    128 \u001b[0;31m\u001b[0;34m\u001b[0m\u001b[0m\n",
      "\u001b[0m\u001b[0;32m    129 \u001b[0;31m        \u001b[0mprev_o\u001b[0m \u001b[0;34m=\u001b[0m \u001b[0;34m[\u001b[0m\u001b[0;34m]\u001b[0m\u001b[0;34m\u001b[0m\u001b[0;34m\u001b[0m\u001b[0m\n",
      "\u001b[0m\n"
     ]
    },
    {
     "name": "stdin",
     "output_type": "stream",
     "text": [
      "ipdb>  min_reward\n"
     ]
    },
    {
     "name": "stdout",
     "output_type": "stream",
     "text": [
      "2.6069009180234284\n"
     ]
    },
    {
     "name": "stdin",
     "output_type": "stream",
     "text": [
      "ipdb>  max_reward\n"
     ]
    },
    {
     "name": "stdout",
     "output_type": "stream",
     "text": [
      "3.103223548748725\n"
     ]
    },
    {
     "name": "stdin",
     "output_type": "stream",
     "text": [
      "ipdb>  exit()\n"
     ]
    }
   ],
   "source": [
    "%debug"
   ]
  },
  {
   "cell_type": "code",
   "execution_count": 63,
   "id": "f1ec2c2c-1cce-40e8-aa57-3cbfbc99d9d0",
   "metadata": {},
   "outputs": [
    {
     "name": "stderr",
     "output_type": "stream",
     "text": [
      "goal_loss 0.000227, dloss 0.001915, closs 0.000016: : 0it [03:34, ?it/s]\n"
     ]
    }
   ],
   "source": [
    "bnn = DMLP(state_dim=Env.state_dim, action_dim=Env.action_dim, mode='straight')\n",
    "bnn.to(device)\n",
    "bnn.train()\n",
    "\n",
    "lnn = DMLP(state_dim=Env.state_dim+Env.goal_dim, action_dim=Env.action_dim, mode='sum')\n",
    "lnn.to(device)\n",
    "lnn.train()\n",
    "\n",
    "boptimizer = torch.optim.Adam(bnn.parameters(), lr=1e-4, weight_decay=1e-8)\n",
    "bscheduler = torch.optim.lr_scheduler.ExponentialLR(boptimizer, gamma=0.996)\n",
    "\n",
    "loptimizer = torch.optim.Adam(lnn.parameters(), lr=1e-4, weight_decay=1e-8)\n",
    "lscheduler = torch.optim.lr_scheduler.ExponentialLR(loptimizer, gamma=0.996)\n",
    "\n",
    "with tqdm() as pbar:\n",
    "    descb = train_barrier(bnn, boptimizer, allbuf, pbar=pbar, n_iter=10)\n",
    "    descl = train_lyapunov(lnn, loptimizer, allbuf, pbar=pbar, n_iter=100, sample='uniform')\n",
    "\n",
    "torch.save(bnn.state_dict(), BMODEL_PATH)\n",
    "torch.save(lnn.state_dict(), LMODEL_PATH.replace('.pt', '_uniform.pt'))"
   ]
  },
  {
   "cell_type": "code",
   "execution_count": 50,
   "id": "4fe37148-f20b-4993-9132-8d533667b900",
   "metadata": {
    "scrolled": true,
    "tags": []
   },
   "outputs": [
    {
     "name": "stdout",
     "output_type": "stream",
     "text": [
      "> \u001b[0;32m/home/rainorangelemon/anaconda3/envs/gnn/lib/python3.8/site-packages/torch/nn/functional.py\u001b[0m(1753)\u001b[0;36mlinear\u001b[0;34m()\u001b[0m\n",
      "\u001b[0;32m   1751 \u001b[0;31m    \u001b[0;32mif\u001b[0m \u001b[0mhas_torch_function_variadic\u001b[0m\u001b[0;34m(\u001b[0m\u001b[0minput\u001b[0m\u001b[0;34m,\u001b[0m \u001b[0mweight\u001b[0m\u001b[0;34m)\u001b[0m\u001b[0;34m:\u001b[0m\u001b[0;34m\u001b[0m\u001b[0;34m\u001b[0m\u001b[0m\n",
      "\u001b[0m\u001b[0;32m   1752 \u001b[0;31m        \u001b[0;32mreturn\u001b[0m \u001b[0mhandle_torch_function\u001b[0m\u001b[0;34m(\u001b[0m\u001b[0mlinear\u001b[0m\u001b[0;34m,\u001b[0m \u001b[0;34m(\u001b[0m\u001b[0minput\u001b[0m\u001b[0;34m,\u001b[0m \u001b[0mweight\u001b[0m\u001b[0;34m)\u001b[0m\u001b[0;34m,\u001b[0m \u001b[0minput\u001b[0m\u001b[0;34m,\u001b[0m \u001b[0mweight\u001b[0m\u001b[0;34m,\u001b[0m \u001b[0mbias\u001b[0m\u001b[0;34m=\u001b[0m\u001b[0mbias\u001b[0m\u001b[0;34m)\u001b[0m\u001b[0;34m\u001b[0m\u001b[0;34m\u001b[0m\u001b[0m\n",
      "\u001b[0m\u001b[0;32m-> 1753 \u001b[0;31m    \u001b[0;32mreturn\u001b[0m \u001b[0mtorch\u001b[0m\u001b[0;34m.\u001b[0m\u001b[0m_C\u001b[0m\u001b[0;34m.\u001b[0m\u001b[0m_nn\u001b[0m\u001b[0;34m.\u001b[0m\u001b[0mlinear\u001b[0m\u001b[0;34m(\u001b[0m\u001b[0minput\u001b[0m\u001b[0;34m,\u001b[0m \u001b[0mweight\u001b[0m\u001b[0;34m,\u001b[0m \u001b[0mbias\u001b[0m\u001b[0;34m)\u001b[0m\u001b[0;34m\u001b[0m\u001b[0;34m\u001b[0m\u001b[0m\n",
      "\u001b[0m\u001b[0;32m   1754 \u001b[0;31m\u001b[0;34m\u001b[0m\u001b[0m\n",
      "\u001b[0m\u001b[0;32m   1755 \u001b[0;31m\u001b[0;34m\u001b[0m\u001b[0m\n",
      "\u001b[0m\n"
     ]
    },
    {
     "name": "stdin",
     "output_type": "stream",
     "text": [
      "ipdb>  exit()\n"
     ]
    }
   ],
   "source": [
    "%debug"
   ]
  },
  {
   "cell_type": "markdown",
   "id": "5c9bddf9-cf00-48d6-97e9-6ce5ed5c15dc",
   "metadata": {},
   "source": [
    "# Train Function"
   ]
  },
  {
   "cell_type": "code",
   "execution_count": 12,
   "id": "22f360ec-774b-4a45-a5fa-38258ef95b94",
   "metadata": {},
   "outputs": [],
   "source": [
    "def iter_action(bnn, lnn, o_b, o_l, a, bthreshold=-1e-2, lthreshold=-1e-2, max_iter=30):\n",
    "    # size of a: (num_agents, n_candidates, action_dim)\n",
    "    \n",
    "    a = a.reshape((-1, a.shape[-1]))\n",
    "    n_candidate = a.shape[0]\n",
    "    \n",
    "    bnn.eval()\n",
    "    lnn.eval()\n",
    "    \n",
    "    input_b = {k: v.to(device) for k, v in o_b.items()}\n",
    "    vecb = bnn.get_vec(**(input_b)).detach()\n",
    "    vecb = vecb.reshape(1, -1).repeat((n_candidate, 1))\n",
    "    \n",
    "    input_l = {k: v.to(device) for k, v in o_l.items()}\n",
    "    vecl = lnn.get_vec(x=torch.cat((input_l['x'], input_l['goal']), dim=-1)).detach()\n",
    "    vecl = vecl.reshape(1, -1).repeat((n_candidate, 1))    \n",
    "    \n",
    "    tensor_a = torch.FloatTensor(a).to(device)\n",
    "    tensor_a.requires_grad = True\n",
    "    aoptimizer = torch.optim.Adam([tensor_a], lr=1)\n",
    "\n",
    "    iter_ = 0\n",
    "    while iter_ < max_iter:\n",
    "        bvalue = bnn.get_field(vecb, tensor_a)\n",
    "        lvalue = lnn.get_field(vecl, tensor_a)\n",
    "        cvalue = (-bvalue+bthreshold).relu()+(lvalue-lthreshold).relu()\n",
    "        if torch.min(cvalue)==0:\n",
    "            break\n",
    "        aoptimizer.zero_grad()\n",
    "        cvalue.sum().backward()\n",
    "        torch.nn.utils.clip_grad_value_([tensor_a], 1e-2)\n",
    "        aoptimizer.step()\n",
    "        with torch.no_grad():\n",
    "            tensor_a[:] = tensor_a.clamp(-1, 1)\n",
    "        iter_ += 1\n",
    "\n",
    "    bvalue = bnn.get_field(vecb, tensor_a)\n",
    "    lvalue = lnn.get_field(vecl, tensor_a)\n",
    "    cvalue = (-bvalue+bthreshold).relu()+(lvalue-lthreshold).relu()\n",
    "    return tensor_a.data.cpu().numpy(), bvalue.data.cpu().numpy(), lvalue.data.cpu().numpy(), cvalue.data.cpu().numpy()\n",
    "\n",
    "def choose_action(cvalue):\n",
    "    if np.any(cvalue == 0):\n",
    "        idx = np.arange(len(cvalue))[cvalue == 0]\n",
    "        idx = np.random.choice(idx, 1)[0]\n",
    "    else:\n",
    "        idx = np.argmin(cvalue)\n",
    "    return idx"
   ]
  },
  {
   "cell_type": "code",
   "execution_count": 72,
   "id": "f6c1a254-84b0-4963-989c-4f184d48bde9",
   "metadata": {
    "scrolled": true,
    "tags": []
   },
   "outputs": [
    {
     "name": "stderr",
     "output_type": "stream",
     "text": [
      "goal_loss 0.000033, dloss 0.004378, closs 0.000255:   8%|▊         | 999/12000 [20:08<3:41:52,  1.21s/it]            \n"
     ]
    },
    {
     "ename": "KeyboardInterrupt",
     "evalue": "",
     "output_type": "error",
     "traceback": [
      "\u001b[0;31m---------------------------------------------------------------------------\u001b[0m",
      "\u001b[0;31mKeyboardInterrupt\u001b[0m                         Traceback (most recent call last)",
      "\u001b[0;32m<ipython-input-72-fe8c8bf1dec2>\u001b[0m in \u001b[0;36m<module>\u001b[0;34m\u001b[0m\n\u001b[1;32m     71\u001b[0m         \u001b[0;31m# MAYBE NEED TO RELABEL\u001b[0m\u001b[0;34m\u001b[0m\u001b[0;34m\u001b[0m\u001b[0;34m\u001b[0m\u001b[0m\n\u001b[1;32m     72\u001b[0m         \u001b[0mdescb\u001b[0m \u001b[0;34m=\u001b[0m \u001b[0mtrain_barrier\u001b[0m\u001b[0;34m(\u001b[0m\u001b[0mbnn\u001b[0m\u001b[0;34m,\u001b[0m \u001b[0mboptimizer\u001b[0m\u001b[0;34m,\u001b[0m \u001b[0mallbuf\u001b[0m\u001b[0;34m,\u001b[0m \u001b[0mpbar\u001b[0m\u001b[0;34m=\u001b[0m\u001b[0mpbar\u001b[0m\u001b[0;34m,\u001b[0m \u001b[0mn_iter\u001b[0m\u001b[0;34m=\u001b[0m\u001b[0;36m10\u001b[0m\u001b[0;34m)\u001b[0m\u001b[0;34m\u001b[0m\u001b[0;34m\u001b[0m\u001b[0m\n\u001b[0;32m---> 73\u001b[0;31m         \u001b[0mdescl\u001b[0m \u001b[0;34m=\u001b[0m \u001b[0mtrain_lyapunov\u001b[0m\u001b[0;34m(\u001b[0m\u001b[0mlnn\u001b[0m\u001b[0;34m,\u001b[0m \u001b[0mloptimizer\u001b[0m\u001b[0;34m,\u001b[0m \u001b[0mallbuf\u001b[0m\u001b[0;34m,\u001b[0m \u001b[0mpbar\u001b[0m\u001b[0;34m=\u001b[0m\u001b[0mpbar\u001b[0m\u001b[0;34m,\u001b[0m \u001b[0mn_iter\u001b[0m\u001b[0;34m=\u001b[0m\u001b[0;36m100\u001b[0m\u001b[0;34m)\u001b[0m\u001b[0;34m\u001b[0m\u001b[0;34m\u001b[0m\u001b[0m\n\u001b[0m\u001b[1;32m     74\u001b[0m \u001b[0;34m\u001b[0m\u001b[0m\n\u001b[1;32m     75\u001b[0m         \u001b[0;31m# if (epoch_i % 10 == 0) and (epoch_i != 0) and (epoch_i < 6000):\u001b[0m\u001b[0;34m\u001b[0m\u001b[0;34m\u001b[0m\u001b[0;34m\u001b[0m\u001b[0m\n",
      "\u001b[0;32m<ipython-input-57-66ca8a5ec6f3>\u001b[0m in \u001b[0;36mtrain_lyapunov\u001b[0;34m(lnn, optimizer, buf, pbar, lamda, n_iter, n_candidates, sample)\u001b[0m\n\u001b[1;32m     40\u001b[0m             \u001b[0mdata\u001b[0m\u001b[0;34m,\u001b[0m \u001b[0mnext_data\u001b[0m \u001b[0;34m=\u001b[0m \u001b[0mdata_pair\u001b[0m\u001b[0;34m\u001b[0m\u001b[0;34m\u001b[0m\u001b[0m\n\u001b[1;32m     41\u001b[0m             \u001b[0moptimizer\u001b[0m\u001b[0;34m.\u001b[0m\u001b[0mzero_grad\u001b[0m\u001b[0;34m(\u001b[0m\u001b[0;34m)\u001b[0m\u001b[0;34m\u001b[0m\u001b[0;34m\u001b[0m\u001b[0m\n\u001b[0;32m---> 42\u001b[0;31m             \u001b[0mgoal_loss\u001b[0m\u001b[0;34m,\u001b[0m \u001b[0mdloss\u001b[0m\u001b[0;34m,\u001b[0m \u001b[0mcontrastloss\u001b[0m \u001b[0;34m=\u001b[0m \u001b[0mcompute_loss\u001b[0m\u001b[0;34m(\u001b[0m\u001b[0mlnn\u001b[0m\u001b[0;34m,\u001b[0m \u001b[0mdata\u001b[0m\u001b[0;34m,\u001b[0m \u001b[0mnext_data\u001b[0m\u001b[0;34m)\u001b[0m\u001b[0;34m\u001b[0m\u001b[0;34m\u001b[0m\u001b[0m\n\u001b[0m\u001b[1;32m     43\u001b[0m             \u001b[0mloss\u001b[0m \u001b[0;34m=\u001b[0m \u001b[0mgoal_loss\u001b[0m \u001b[0;34m+\u001b[0m \u001b[0mdloss\u001b[0m \u001b[0;34m+\u001b[0m \u001b[0mcontrastloss\u001b[0m\u001b[0;34m\u001b[0m\u001b[0;34m\u001b[0m\u001b[0m\n\u001b[1;32m     44\u001b[0m             \u001b[0mloss\u001b[0m\u001b[0;34m.\u001b[0m\u001b[0mbackward\u001b[0m\u001b[0;34m(\u001b[0m\u001b[0;34m)\u001b[0m\u001b[0;34m\u001b[0m\u001b[0;34m\u001b[0m\u001b[0m\n",
      "\u001b[0;32m<ipython-input-57-66ca8a5ec6f3>\u001b[0m in \u001b[0;36mcompute_loss\u001b[0;34m(lnn, data, next_data)\u001b[0m\n\u001b[1;32m     20\u001b[0m         \u001b[0mnext_value_neg\u001b[0m \u001b[0;34m=\u001b[0m \u001b[0mlnn\u001b[0m\u001b[0;34m(\u001b[0m\u001b[0mx\u001b[0m\u001b[0;34m=\u001b[0m\u001b[0mnext_o\u001b[0m\u001b[0;34m.\u001b[0m\u001b[0munsqueeze\u001b[0m\u001b[0;34m(\u001b[0m\u001b[0;36m1\u001b[0m\u001b[0;34m)\u001b[0m\u001b[0;34m.\u001b[0m\u001b[0mrepeat\u001b[0m\u001b[0;34m(\u001b[0m\u001b[0;36m1\u001b[0m\u001b[0;34m,\u001b[0m \u001b[0mn_candidates\u001b[0m\u001b[0;34m,\u001b[0m \u001b[0;36m1\u001b[0m\u001b[0;34m)\u001b[0m\u001b[0;34m,\u001b[0m \u001b[0maction\u001b[0m\u001b[0;34m=\u001b[0m\u001b[0ma\u001b[0m\u001b[0;34m)\u001b[0m\u001b[0;34m\u001b[0m\u001b[0;34m\u001b[0m\u001b[0m\n\u001b[1;32m     21\u001b[0m         \u001b[0mgoal_loss\u001b[0m \u001b[0;34m=\u001b[0m \u001b[0;34m(\u001b[0m\u001b[0;34m(\u001b[0m\u001b[0mvalue\u001b[0m\u001b[0;34m**\u001b[0m\u001b[0;36m2\u001b[0m\u001b[0;34m)\u001b[0m\u001b[0;34m*\u001b[0m\u001b[0mdata\u001b[0m\u001b[0;34m[\u001b[0m\u001b[0;34m'next_goal'\u001b[0m\u001b[0;34m]\u001b[0m\u001b[0;34m)\u001b[0m\u001b[0;34m.\u001b[0m\u001b[0msum\u001b[0m\u001b[0;34m(\u001b[0m\u001b[0;34m)\u001b[0m \u001b[0;34m/\u001b[0m \u001b[0;34m(\u001b[0m\u001b[0;36m1e-9\u001b[0m \u001b[0;34m+\u001b[0m \u001b[0mdata\u001b[0m\u001b[0;34m[\u001b[0m\u001b[0;34m'next_goal'\u001b[0m\u001b[0;34m]\u001b[0m\u001b[0;34m.\u001b[0m\u001b[0msum\u001b[0m\u001b[0;34m(\u001b[0m\u001b[0;34m)\u001b[0m\u001b[0;34m)\u001b[0m \u001b[0;34m+\u001b[0m\u001b[0;31m \u001b[0m\u001b[0;31m\\\u001b[0m\u001b[0;34m\u001b[0m\u001b[0;34m\u001b[0m\u001b[0m\n\u001b[0;32m---> 22\u001b[0;31m                     \u001b[0;34m(\u001b[0m\u001b[0;34m(\u001b[0m\u001b[0mnext_value\u001b[0m\u001b[0;34m**\u001b[0m\u001b[0;36m2\u001b[0m\u001b[0;34m)\u001b[0m\u001b[0;34m*\u001b[0m\u001b[0mnext_data\u001b[0m\u001b[0;34m[\u001b[0m\u001b[0;34m'next_goal'\u001b[0m\u001b[0;34m]\u001b[0m\u001b[0;34m)\u001b[0m\u001b[0;34m.\u001b[0m\u001b[0msum\u001b[0m\u001b[0;34m(\u001b[0m\u001b[0;34m)\u001b[0m \u001b[0;34m/\u001b[0m \u001b[0;34m(\u001b[0m\u001b[0;36m1e-9\u001b[0m \u001b[0;34m+\u001b[0m \u001b[0mnext_data\u001b[0m\u001b[0;34m[\u001b[0m\u001b[0;34m'next_goal'\u001b[0m\u001b[0;34m]\u001b[0m\u001b[0;34m.\u001b[0m\u001b[0msum\u001b[0m\u001b[0;34m(\u001b[0m\u001b[0;34m)\u001b[0m\u001b[0;34m)\u001b[0m\u001b[0;34m\u001b[0m\u001b[0;34m\u001b[0m\u001b[0m\n\u001b[0m\u001b[1;32m     23\u001b[0m \u001b[0;34m\u001b[0m\u001b[0m\n\u001b[1;32m     24\u001b[0m         \u001b[0mderiv\u001b[0m \u001b[0;34m=\u001b[0m \u001b[0mnext_value\u001b[0m\u001b[0;34m-\u001b[0m\u001b[0mvalue\u001b[0m\u001b[0;34m\u001b[0m\u001b[0;34m\u001b[0m\u001b[0m\n",
      "\u001b[0;31mKeyboardInterrupt\u001b[0m: "
     ]
    }
   ],
   "source": [
    "from tqdm import tqdm\n",
    "import gc\n",
    "from copy import deepcopy\n",
    "\n",
    "# def is_counter_d(o, next_o, free, next_free, barrier, v_cur, v_next):\n",
    "#     counter_mse = np.abs(v_next - v_cur - barrier) > 1e-2\n",
    "#     return counter_mse\n",
    "\n",
    "# def is_counter_b(o, next_o, free, danger, barrier, v_cur, v_next):\n",
    "#     not_free = next_free.astype(float)<free.astype(float)\n",
    "#     counter_free = np.logical_and(free, v_cur > -1e-1)\n",
    "#     counter_obs = np.logical_and(danger, v_cur < 1e-1)\n",
    "#     counter_barrier = np.logical_and(v_next - v_cur > -0.1 * v_cur, free)\n",
    "#     return np.logical_or(np.logical_or(counter_free, counter_obs), counter_barrier)\n",
    "    \n",
    "\n",
    "max_episode_length     = Env.max_episode_steps\n",
    "EXPERIENCE_BUFFER_SIZE = Env.max_episode_steps\n",
    "\n",
    "LOG_FILE_L = 'cam_'+Env.__name__+'_l.txt'\n",
    "LOG_FILE_B = 'cam_'+Env.__name__+'_b.txt'\n",
    "open(LOG_FILE_L, 'w+').close()\n",
    "open(LOG_FILE_B, 'w+').close()\n",
    "bbuf = GlobalReplayBuffer(EXPERIENCE_BUFFER_SIZE)\n",
    "lbuf = GlobalReplayBuffer(EXPERIENCE_BUFFER_SIZE)\n",
    "env = Env()\n",
    "env.reset(); lthreshold=-1000.; bthreshold=1000; nowbuf = GlobalReplayBuffer(1024); is_collide=False; returns=0\n",
    "o = env._get_obs()\n",
    "\n",
    "from gym_swimmer import SwimmerEnv\n",
    "from stable_baselines3 import PPO\n",
    "from tqdm import tqdm \n",
    "\n",
    "pbar = tqdm(range(N_EPOCH))\n",
    "for epoch_i in pbar:\n",
    "    \n",
    "    total_trans = 0\n",
    "    unsafe_rate = 0\n",
    "#     buf.max_size += EXPERIENCE_BUFFER_SIZE\n",
    "    # Main loop: collect experience in env and update/log each epoch\n",
    "    while True:\n",
    "\n",
    "        o = env._get_obs()\n",
    "        a_all = np.random.uniform(-1., 1., size=(n_candidates, env.action_dim))\n",
    "        o_l = o_b = {'x': torch.FloatTensor(o), 'goal': torch.FloatTensor(env.goal)}\n",
    "        a_refine, bvalue, lvalue, cvalue = iter_action(bnn, lnn, o_b, o_l, a_all, max_iter=min(epoch_i//100, 30), lthreshold=lthreshold, bthreshold=bthreshold)\n",
    "        idx = choose_action(cvalue)\n",
    "        a, bvalue, lvalue, cvalue = a_refine[idx, :], bvalue[idx], lvalue[idx], cvalue[idx]\n",
    "        # lthreshold = lvalue-1e-2\n",
    "        # bthreshold = 0.9 * bvalue + 1e-2\n",
    "\n",
    "        next_o, r, d, info = env.step(a)\n",
    "        returns += r\n",
    "        if info['next_danger']:\n",
    "            is_collide = True\n",
    "        \n",
    "        nowbuf.store(**info)\n",
    "        \n",
    "        total_trans += 1\n",
    "        free = np.array(r)\n",
    "\n",
    "        if d:\n",
    "            if info['next_goal'] and not is_collide:\n",
    "                allbuf.append(nowbuf, reward=returns)\n",
    "            env.reset(); lthreshold=-1000.; bthreshold=1000; nowbuf = GlobalReplayBuffer(1024); is_collide=False; returns=0\n",
    "            break\n",
    "\n",
    "    unsafe_rate = unsafe_rate / total_trans\n",
    "    \n",
    "    if (epoch_i % 1000) == 999:\n",
    "        # MAYBE NEED TO RELABEL\n",
    "        descb = train_barrier(bnn, boptimizer, allbuf, pbar=pbar, n_iter=100)\n",
    "        descl = train_lyapunov(lnn, loptimizer, allbuf, pbar=pbar, n_iter=100)\n",
    "\n",
    "        # if (epoch_i % 10 == 0) and (epoch_i != 0) and (epoch_i < 6000):\n",
    "        #     bscheduler.step()\n",
    "        #     lscheduler.step()\n",
    "\n",
    "        with open(LOG_FILE_L, 'a+') as f:\n",
    "            f.write(descl+'\\t'+str(pbar.last_print_n)+'\\n')\n",
    "        with open(LOG_FILE_B, 'a+') as f:\n",
    "            f.write(descb+'\\t'+str(pbar.last_print_n)+'\\t'+'unsafe rate: '+str(unsafe_rate)+'\\n')     \n",
    "\n",
    "        torch.save(bnn.state_dict(), BMODEL_PATH)\n",
    "        torch.save(lnn.state_dict(), LMODEL_PATH)\n",
    "        \n",
    "        break"
   ]
  },
  {
   "cell_type": "code",
   "execution_count": 97,
   "id": "562956f9-8a5a-4d44-b36a-1302d4b6b5c8",
   "metadata": {
    "scrolled": true,
    "tags": []
   },
   "outputs": [
    {
     "name": "stdout",
     "output_type": "stream",
     "text": [
      "> \u001b[0;32m<ipython-input-60-d00378840270>\u001b[0m(14)\u001b[0;36mcompute_loss\u001b[0;34m()\u001b[0m\n",
      "\u001b[0;32m     12 \u001b[0;31m        \u001b[0;32mif\u001b[0m \u001b[0msample\u001b[0m\u001b[0;34m==\u001b[0m\u001b[0;34m'cam'\u001b[0m\u001b[0;34m:\u001b[0m\u001b[0;34m\u001b[0m\u001b[0;34m\u001b[0m\u001b[0m\n",
      "\u001b[0m\u001b[0;32m     13 \u001b[0;31m            \u001b[0ma\u001b[0m \u001b[0;34m=\u001b[0m \u001b[0mtorch\u001b[0m\u001b[0;34m.\u001b[0m\u001b[0mrand\u001b[0m\u001b[0;34m(\u001b[0m\u001b[0mlen\u001b[0m\u001b[0;34m(\u001b[0m\u001b[0mnext_o\u001b[0m\u001b[0;34m)\u001b[0m\u001b[0;34m,\u001b[0m \u001b[0mn_candidates\u001b[0m\u001b[0;34m,\u001b[0m \u001b[0mdata\u001b[0m\u001b[0;34m[\u001b[0m\u001b[0;34m'action'\u001b[0m\u001b[0;34m]\u001b[0m\u001b[0;34m.\u001b[0m\u001b[0mshape\u001b[0m\u001b[0;34m[\u001b[0m\u001b[0;34m-\u001b[0m\u001b[0;36m1\u001b[0m\u001b[0;34m]\u001b[0m\u001b[0;34m)\u001b[0m\u001b[0;34m.\u001b[0m\u001b[0mto\u001b[0m\u001b[0;34m(\u001b[0m\u001b[0mdevice\u001b[0m\u001b[0;34m)\u001b[0m\u001b[0;34m.\u001b[0m\u001b[0muniform_\u001b[0m\u001b[0;34m(\u001b[0m\u001b[0;34m-\u001b[0m\u001b[0;36m1\u001b[0m\u001b[0;34m,\u001b[0m \u001b[0;36m1\u001b[0m\u001b[0;34m)\u001b[0m\u001b[0;34m\u001b[0m\u001b[0;34m\u001b[0m\u001b[0m\n",
      "\u001b[0m\u001b[0;32m---> 14 \u001b[0;31m            \u001b[0m_\u001b[0m\u001b[0;34m,\u001b[0m \u001b[0m_\u001b[0m\u001b[0;34m,\u001b[0m \u001b[0m_\u001b[0m\u001b[0;34m,\u001b[0m \u001b[0mfinala\u001b[0m \u001b[0;34m=\u001b[0m \u001b[0msample_action\u001b[0m\u001b[0;34m(\u001b[0m\u001b[0mlnn\u001b[0m\u001b[0;34m,\u001b[0m \u001b[0mnext_o\u001b[0m\u001b[0;34m,\u001b[0m \u001b[0ma\u001b[0m\u001b[0;34m,\u001b[0m \u001b[0mmax_iter\u001b[0m\u001b[0;34m=\u001b[0m\u001b[0;36m0\u001b[0m\u001b[0;34m,\u001b[0m \u001b[0mmode\u001b[0m\u001b[0;34m=\u001b[0m\u001b[0;34m'min'\u001b[0m\u001b[0;34m,\u001b[0m \u001b[0mthreshold\u001b[0m\u001b[0;34m=\u001b[0m\u001b[0;34m(\u001b[0m\u001b[0mvalue\u001b[0m\u001b[0;34m-\u001b[0m\u001b[0;36m1e-2\u001b[0m\u001b[0;34m)\u001b[0m\u001b[0;34m.\u001b[0m\u001b[0munsqueeze\u001b[0m\u001b[0;34m(\u001b[0m\u001b[0;36m1\u001b[0m\u001b[0;34m)\u001b[0m\u001b[0;34m)\u001b[0m\u001b[0;34m\u001b[0m\u001b[0;34m\u001b[0m\u001b[0m\n",
      "\u001b[0m\u001b[0;32m     15 \u001b[0;31m        \u001b[0;32melse\u001b[0m\u001b[0;34m:\u001b[0m\u001b[0;34m\u001b[0m\u001b[0;34m\u001b[0m\u001b[0m\n",
      "\u001b[0m\u001b[0;32m     16 \u001b[0;31m            \u001b[0mfinala\u001b[0m \u001b[0;34m=\u001b[0m \u001b[0mtorch\u001b[0m\u001b[0;34m.\u001b[0m\u001b[0mrand\u001b[0m\u001b[0;34m(\u001b[0m\u001b[0mlen\u001b[0m\u001b[0;34m(\u001b[0m\u001b[0mnext_o\u001b[0m\u001b[0;34m)\u001b[0m\u001b[0;34m,\u001b[0m \u001b[0mdata\u001b[0m\u001b[0;34m[\u001b[0m\u001b[0;34m'action'\u001b[0m\u001b[0;34m]\u001b[0m\u001b[0;34m.\u001b[0m\u001b[0mshape\u001b[0m\u001b[0;34m[\u001b[0m\u001b[0;34m-\u001b[0m\u001b[0;36m1\u001b[0m\u001b[0;34m]\u001b[0m\u001b[0;34m)\u001b[0m\u001b[0;34m.\u001b[0m\u001b[0mto\u001b[0m\u001b[0;34m(\u001b[0m\u001b[0mdevice\u001b[0m\u001b[0;34m)\u001b[0m\u001b[0;34m.\u001b[0m\u001b[0muniform_\u001b[0m\u001b[0;34m(\u001b[0m\u001b[0;34m-\u001b[0m\u001b[0;36m1\u001b[0m\u001b[0;34m,\u001b[0m \u001b[0;36m1\u001b[0m\u001b[0;34m)\u001b[0m\u001b[0;34m\u001b[0m\u001b[0;34m\u001b[0m\u001b[0m\n",
      "\u001b[0m\n"
     ]
    },
    {
     "name": "stdin",
     "output_type": "stream",
     "text": [
      "ipdb>  value.shape\n"
     ]
    },
    {
     "name": "stdout",
     "output_type": "stream",
     "text": [
      "torch.Size([])\n"
     ]
    },
    {
     "name": "stdin",
     "output_type": "stream",
     "text": [
      "ipdb>  data['x']\n"
     ]
    },
    {
     "name": "stdout",
     "output_type": "stream",
     "text": [
      "tensor([[-0.4125, -0.3577, -1.3060,  1.4942,  1.4763, -1.4690, -0.5701, -1.7017,\n",
      "          0.8365,  2.3944,  4.0000,  0.0000]], device='cuda:0')\n"
     ]
    },
    {
     "name": "stdin",
     "output_type": "stream",
     "text": [
      "ipdb>  next_o\n"
     ]
    },
    {
     "name": "stdout",
     "output_type": "stream",
     "text": [
      "tensor([[ 0.4271, -0.0196, -0.0940, -0.4063,  0.9484,  0.6745,  1.5356,  2.6297,\n",
      "         -2.9808, -2.4587,  4.0000,  0.0000]], device='cuda:0')\n"
     ]
    },
    {
     "name": "stdin",
     "output_type": "stream",
     "text": [
      "ipdb>  value\n"
     ]
    },
    {
     "name": "stdout",
     "output_type": "stream",
     "text": [
      "tensor(0.1808, device='cuda:0')\n"
     ]
    },
    {
     "name": "stdin",
     "output_type": "stream",
     "text": [
      "ipdb>  (value-1e-2).unsqueeze(1)\n"
     ]
    },
    {
     "name": "stdout",
     "output_type": "stream",
     "text": [
      "*** IndexError: Dimension out of range (expected to be in range of [-1, 0], but got 1)\n"
     ]
    },
    {
     "name": "stdin",
     "output_type": "stream",
     "text": [
      "ipdb>  (value.reshape(len(next_o), 1)-1e-2).unsqueeze(1)\n"
     ]
    },
    {
     "name": "stdout",
     "output_type": "stream",
     "text": [
      "tensor([[[0.1708]]], device='cuda:0')\n"
     ]
    },
    {
     "name": "stdin",
     "output_type": "stream",
     "text": [
      "ipdb>  value.reshape(len(next_o))\n"
     ]
    },
    {
     "name": "stdout",
     "output_type": "stream",
     "text": [
      "tensor([0.1808], device='cuda:0')\n"
     ]
    },
    {
     "name": "stdin",
     "output_type": "stream",
     "text": [
      "ipdb>  exit()\n"
     ]
    }
   ],
   "source": [
    "%debug"
   ]
  },
  {
   "cell_type": "markdown",
   "id": "87a04ef1-114f-4202-b50e-6518b68ecf98",
   "metadata": {},
   "source": [
    "# Inference"
   ]
  },
  {
   "cell_type": "code",
   "execution_count": 79,
   "id": "762bf145-b168-4e72-b5fd-653c513ec4dc",
   "metadata": {},
   "outputs": [],
   "source": [
    "def eval_performance(n_traj, gif=None):\n",
    "    n_collision = 0\n",
    "    n_reach = 0\n",
    "    for _ in tqdm(range(n_traj)):\n",
    "        is_collide = False\n",
    "        env.reset()\n",
    "        lthreshold = -1000.\n",
    "        bthreshold = 1000.\n",
    "        \n",
    "        if (_==0) and (gif is not None):\n",
    "            imgs = [env.sim.render(600, 300)]\n",
    "        \n",
    "        while True:\n",
    "            o = env._get_obs()\n",
    "            a_all = np.random.uniform(-1., 1., size=(1000, env.action_dim))\n",
    "\n",
    "            o_l = o_b = {'x': torch.FloatTensor(o), 'goal': torch.FloatTensor(env.goal)}\n",
    "            a_refine, bvalue, lvalue, cvalue = iter_action(bnn, lnn, o_b, o_l, a_all, max_iter=2, lthreshold=lthreshold, bthreshold=bthreshold)\n",
    "            idx = choose_action(cvalue)\n",
    "\n",
    "            ac, bvalue, lvalue, cvalue = a_refine[idx, :], bvalue[idx], lvalue[idx], cvalue[idx]\n",
    "            # lthreshold = lvalue-1e-2            \n",
    "            # bthreshold = max(0.9*bvalue+1e-2, 1e-2)\n",
    "            \n",
    "            next_obs, rw, done, info = env.step(ac)\n",
    "            \n",
    "            if (_==0) and (gif is not None):\n",
    "                imgs.append(env.sim.render(600, 300))\n",
    "            \n",
    "            if info['next_danger']:\n",
    "                is_collide = True\n",
    "            if done:\n",
    "                break\n",
    "        n_reach += info['next_goal']\n",
    "        n_collision += is_collide\n",
    "    print('total trajs:'+str(n_traj)+', goal reached: '+str(n_reach)+', collision: '+str(n_collision))\n",
    "    \n",
    "    if gif is not None:\n",
    "        from PIL import Image\n",
    "        ims = [Image.fromarray(np.flip(a_frame, axis=0)) for a_frame in imgs]\n",
    "        ims[0].save(gif, save_all=True, append_images=ims[1:], duration=100)\n",
    "        \n",
    "    return n_traj, n_reach, n_collision"
   ]
  },
  {
   "cell_type": "code",
   "execution_count": 80,
   "id": "ac5c17a6-8757-4264-9424-e22883a96b97",
   "metadata": {},
   "outputs": [
    {
     "name": "stderr",
     "output_type": "stream",
     "text": [
      "100%|██████████| 1000/1000 [02:25<00:00,  6.87it/s]\n"
     ]
    },
    {
     "name": "stdout",
     "output_type": "stream",
     "text": [
      "total trajs:1000, goal reached: 926, collision: 440\n"
     ]
    },
    {
     "data": {
      "text/plain": [
       "(1000, 926, 440)"
      ]
     },
     "execution_count": 80,
     "metadata": {},
     "output_type": "execute_result"
    }
   ],
   "source": [
    "eval_performance(1000, gif='lya_2phase.gif')"
   ]
  },
  {
   "cell_type": "code",
   "execution_count": 77,
   "id": "cf057bda-8291-4381-9904-41b5eea56b66",
   "metadata": {
    "scrolled": true,
    "tags": []
   },
   "outputs": [
    {
     "name": "stderr",
     "output_type": "stream",
     "text": [
      "100%|██████████| 1/1 [00:00<00:00,  9.34it/s]\n"
     ]
    },
    {
     "name": "stdout",
     "output_type": "stream",
     "text": [
      "total trajs:1, goal reached: 1, collision: 0\n"
     ]
    },
    {
     "name": "stderr",
     "output_type": "stream",
     "text": [
      "100%|██████████| 1/1 [00:00<00:00,  6.00it/s]\n"
     ]
    },
    {
     "name": "stdout",
     "output_type": "stream",
     "text": [
      "total trajs:1, goal reached: 1, collision: 0\n"
     ]
    },
    {
     "name": "stderr",
     "output_type": "stream",
     "text": [
      "100%|██████████| 1/1 [00:00<00:00, 12.62it/s]\n"
     ]
    },
    {
     "name": "stdout",
     "output_type": "stream",
     "text": [
      "total trajs:1, goal reached: 1, collision: 0\n"
     ]
    },
    {
     "name": "stderr",
     "output_type": "stream",
     "text": [
      "100%|██████████| 1/1 [00:00<00:00, 13.39it/s]\n"
     ]
    },
    {
     "name": "stdout",
     "output_type": "stream",
     "text": [
      "total trajs:1, goal reached: 1, collision: 0\n"
     ]
    },
    {
     "name": "stderr",
     "output_type": "stream",
     "text": [
      "100%|██████████| 1/1 [00:00<00:00, 12.68it/s]\n"
     ]
    },
    {
     "name": "stdout",
     "output_type": "stream",
     "text": [
      "total trajs:1, goal reached: 1, collision: 0\n"
     ]
    },
    {
     "name": "stderr",
     "output_type": "stream",
     "text": [
      "100%|██████████| 1/1 [00:00<00:00,  8.20it/s]\n"
     ]
    },
    {
     "name": "stdout",
     "output_type": "stream",
     "text": [
      "total trajs:1, goal reached: 1, collision: 1\n"
     ]
    },
    {
     "name": "stderr",
     "output_type": "stream",
     "text": [
      "100%|██████████| 1/1 [00:00<00:00, 12.60it/s]\n"
     ]
    },
    {
     "name": "stdout",
     "output_type": "stream",
     "text": [
      "total trajs:1, goal reached: 1, collision: 0\n"
     ]
    },
    {
     "name": "stderr",
     "output_type": "stream",
     "text": [
      "100%|██████████| 1/1 [00:00<00:00, 11.28it/s]\n"
     ]
    },
    {
     "name": "stdout",
     "output_type": "stream",
     "text": [
      "total trajs:1, goal reached: 1, collision: 0\n"
     ]
    },
    {
     "name": "stderr",
     "output_type": "stream",
     "text": [
      "100%|██████████| 1/1 [00:00<00:00,  5.58it/s]\n"
     ]
    },
    {
     "name": "stdout",
     "output_type": "stream",
     "text": [
      "total trajs:1, goal reached: 1, collision: 0\n"
     ]
    },
    {
     "name": "stderr",
     "output_type": "stream",
     "text": [
      "100%|██████████| 1/1 [00:00<00:00,  2.36it/s]\n"
     ]
    },
    {
     "name": "stdout",
     "output_type": "stream",
     "text": [
      "total trajs:1, goal reached: 1, collision: 0\n"
     ]
    },
    {
     "name": "stderr",
     "output_type": "stream",
     "text": [
      "100%|██████████| 1/1 [00:00<00:00, 12.31it/s]\n"
     ]
    },
    {
     "name": "stdout",
     "output_type": "stream",
     "text": [
      "total trajs:1, goal reached: 1, collision: 0\n"
     ]
    },
    {
     "name": "stderr",
     "output_type": "stream",
     "text": [
      "100%|██████████| 1/1 [00:00<00:00, 12.08it/s]\n"
     ]
    },
    {
     "name": "stdout",
     "output_type": "stream",
     "text": [
      "total trajs:1, goal reached: 1, collision: 0\n"
     ]
    },
    {
     "name": "stderr",
     "output_type": "stream",
     "text": [
      "100%|██████████| 1/1 [00:00<00:00, 12.67it/s]\n"
     ]
    },
    {
     "name": "stdout",
     "output_type": "stream",
     "text": [
      "total trajs:1, goal reached: 1, collision: 0\n"
     ]
    },
    {
     "name": "stderr",
     "output_type": "stream",
     "text": [
      "100%|██████████| 1/1 [00:00<00:00, 12.72it/s]\n"
     ]
    },
    {
     "name": "stdout",
     "output_type": "stream",
     "text": [
      "total trajs:1, goal reached: 1, collision: 0\n"
     ]
    },
    {
     "name": "stderr",
     "output_type": "stream",
     "text": [
      "100%|██████████| 1/1 [00:00<00:00,  6.40it/s]\n"
     ]
    },
    {
     "name": "stdout",
     "output_type": "stream",
     "text": [
      "total trajs:1, goal reached: 1, collision: 1\n"
     ]
    },
    {
     "name": "stderr",
     "output_type": "stream",
     "text": [
      "100%|██████████| 1/1 [00:00<00:00, 11.35it/s]\n"
     ]
    },
    {
     "name": "stdout",
     "output_type": "stream",
     "text": [
      "total trajs:1, goal reached: 1, collision: 0\n"
     ]
    },
    {
     "name": "stderr",
     "output_type": "stream",
     "text": [
      "100%|██████████| 1/1 [00:00<00:00, 10.82it/s]\n"
     ]
    },
    {
     "name": "stdout",
     "output_type": "stream",
     "text": [
      "total trajs:1, goal reached: 1, collision: 1\n"
     ]
    },
    {
     "name": "stderr",
     "output_type": "stream",
     "text": [
      "100%|██████████| 1/1 [00:00<00:00,  3.59it/s]\n"
     ]
    },
    {
     "name": "stdout",
     "output_type": "stream",
     "text": [
      "total trajs:1, goal reached: 1, collision: 0\n"
     ]
    },
    {
     "name": "stderr",
     "output_type": "stream",
     "text": [
      "100%|██████████| 1/1 [00:00<00:00,  3.50it/s]\n"
     ]
    },
    {
     "name": "stdout",
     "output_type": "stream",
     "text": [
      "total trajs:1, goal reached: 1, collision: 0\n"
     ]
    },
    {
     "name": "stderr",
     "output_type": "stream",
     "text": [
      "100%|██████████| 1/1 [00:00<00:00, 11.41it/s]\n"
     ]
    },
    {
     "name": "stdout",
     "output_type": "stream",
     "text": [
      "total trajs:1, goal reached: 1, collision: 0\n"
     ]
    },
    {
     "name": "stderr",
     "output_type": "stream",
     "text": [
      "100%|██████████| 1/1 [00:00<00:00,  7.18it/s]\n"
     ]
    },
    {
     "name": "stdout",
     "output_type": "stream",
     "text": [
      "total trajs:1, goal reached: 1, collision: 0\n"
     ]
    },
    {
     "name": "stderr",
     "output_type": "stream",
     "text": [
      "100%|██████████| 1/1 [00:00<00:00, 11.35it/s]\n"
     ]
    },
    {
     "name": "stdout",
     "output_type": "stream",
     "text": [
      "total trajs:1, goal reached: 1, collision: 0\n"
     ]
    },
    {
     "name": "stderr",
     "output_type": "stream",
     "text": [
      "100%|██████████| 1/1 [00:00<00:00,  5.69it/s]\n"
     ]
    },
    {
     "name": "stdout",
     "output_type": "stream",
     "text": [
      "total trajs:1, goal reached: 1, collision: 0\n"
     ]
    },
    {
     "name": "stderr",
     "output_type": "stream",
     "text": [
      "100%|██████████| 1/1 [00:00<00:00, 12.09it/s]\n"
     ]
    },
    {
     "name": "stdout",
     "output_type": "stream",
     "text": [
      "total trajs:1, goal reached: 1, collision: 0\n"
     ]
    },
    {
     "name": "stderr",
     "output_type": "stream",
     "text": [
      "100%|██████████| 1/1 [00:00<00:00, 11.39it/s]\n"
     ]
    },
    {
     "name": "stdout",
     "output_type": "stream",
     "text": [
      "total trajs:1, goal reached: 1, collision: 0\n"
     ]
    },
    {
     "name": "stderr",
     "output_type": "stream",
     "text": [
      "100%|██████████| 1/1 [00:00<00:00, 12.77it/s]\n"
     ]
    },
    {
     "name": "stdout",
     "output_type": "stream",
     "text": [
      "total trajs:1, goal reached: 1, collision: 0\n"
     ]
    },
    {
     "name": "stderr",
     "output_type": "stream",
     "text": [
      "100%|██████████| 1/1 [00:00<00:00,  3.98it/s]\n"
     ]
    },
    {
     "name": "stdout",
     "output_type": "stream",
     "text": [
      "total trajs:1, goal reached: 1, collision: 0\n"
     ]
    },
    {
     "name": "stderr",
     "output_type": "stream",
     "text": [
      "100%|██████████| 1/1 [00:00<00:00,  9.42it/s]\n"
     ]
    },
    {
     "name": "stdout",
     "output_type": "stream",
     "text": [
      "total trajs:1, goal reached: 1, collision: 0\n"
     ]
    },
    {
     "name": "stderr",
     "output_type": "stream",
     "text": [
      "100%|██████████| 1/1 [00:00<00:00, 11.92it/s]\n"
     ]
    },
    {
     "name": "stdout",
     "output_type": "stream",
     "text": [
      "total trajs:1, goal reached: 1, collision: 0\n"
     ]
    },
    {
     "name": "stderr",
     "output_type": "stream",
     "text": [
      "100%|██████████| 1/1 [00:00<00:00, 12.70it/s]\n"
     ]
    },
    {
     "name": "stdout",
     "output_type": "stream",
     "text": [
      "total trajs:1, goal reached: 1, collision: 0\n"
     ]
    },
    {
     "name": "stderr",
     "output_type": "stream",
     "text": [
      "100%|██████████| 1/1 [00:00<00:00,  7.25it/s]\n"
     ]
    },
    {
     "name": "stdout",
     "output_type": "stream",
     "text": [
      "total trajs:1, goal reached: 1, collision: 0\n"
     ]
    },
    {
     "name": "stderr",
     "output_type": "stream",
     "text": [
      "100%|██████████| 1/1 [00:00<00:00, 12.76it/s]\n"
     ]
    },
    {
     "name": "stdout",
     "output_type": "stream",
     "text": [
      "total trajs:1, goal reached: 1, collision: 0\n"
     ]
    },
    {
     "name": "stderr",
     "output_type": "stream",
     "text": [
      "100%|██████████| 1/1 [00:00<00:00, 12.63it/s]\n"
     ]
    },
    {
     "name": "stdout",
     "output_type": "stream",
     "text": [
      "total trajs:1, goal reached: 1, collision: 0\n"
     ]
    },
    {
     "name": "stderr",
     "output_type": "stream",
     "text": [
      "100%|██████████| 1/1 [00:00<00:00, 12.15it/s]\n"
     ]
    },
    {
     "name": "stdout",
     "output_type": "stream",
     "text": [
      "total trajs:1, goal reached: 1, collision: 0\n"
     ]
    },
    {
     "name": "stderr",
     "output_type": "stream",
     "text": [
      "100%|██████████| 1/1 [00:00<00:00,  5.29it/s]\n"
     ]
    },
    {
     "name": "stdout",
     "output_type": "stream",
     "text": [
      "total trajs:1, goal reached: 1, collision: 0\n"
     ]
    },
    {
     "name": "stderr",
     "output_type": "stream",
     "text": [
      "100%|██████████| 1/1 [00:00<00:00,  5.44it/s]\n"
     ]
    },
    {
     "name": "stdout",
     "output_type": "stream",
     "text": [
      "total trajs:1, goal reached: 1, collision: 0\n"
     ]
    },
    {
     "name": "stderr",
     "output_type": "stream",
     "text": [
      "100%|██████████| 1/1 [00:00<00:00, 12.00it/s]\n"
     ]
    },
    {
     "name": "stdout",
     "output_type": "stream",
     "text": [
      "total trajs:1, goal reached: 1, collision: 0\n"
     ]
    },
    {
     "name": "stderr",
     "output_type": "stream",
     "text": [
      "100%|██████████| 1/1 [00:00<00:00,  8.92it/s]\n"
     ]
    },
    {
     "name": "stdout",
     "output_type": "stream",
     "text": [
      "total trajs:1, goal reached: 1, collision: 1\n"
     ]
    },
    {
     "name": "stderr",
     "output_type": "stream",
     "text": [
      "100%|██████████| 1/1 [00:00<00:00, 12.58it/s]\n"
     ]
    },
    {
     "name": "stdout",
     "output_type": "stream",
     "text": [
      "total trajs:1, goal reached: 1, collision: 0\n"
     ]
    },
    {
     "name": "stderr",
     "output_type": "stream",
     "text": [
      "100%|██████████| 1/1 [00:00<00:00, 11.19it/s]\n"
     ]
    },
    {
     "name": "stdout",
     "output_type": "stream",
     "text": [
      "total trajs:1, goal reached: 1, collision: 0\n"
     ]
    },
    {
     "name": "stderr",
     "output_type": "stream",
     "text": [
      "100%|██████████| 1/1 [00:00<00:00,  6.24it/s]\n"
     ]
    },
    {
     "name": "stdout",
     "output_type": "stream",
     "text": [
      "total trajs:1, goal reached: 1, collision: 0\n"
     ]
    },
    {
     "name": "stderr",
     "output_type": "stream",
     "text": [
      "100%|██████████| 1/1 [00:00<00:00, 11.32it/s]\n"
     ]
    },
    {
     "name": "stdout",
     "output_type": "stream",
     "text": [
      "total trajs:1, goal reached: 1, collision: 0\n"
     ]
    },
    {
     "name": "stderr",
     "output_type": "stream",
     "text": [
      "100%|██████████| 1/1 [00:00<00:00, 12.70it/s]\n"
     ]
    },
    {
     "name": "stdout",
     "output_type": "stream",
     "text": [
      "total trajs:1, goal reached: 1, collision: 0\n"
     ]
    },
    {
     "name": "stderr",
     "output_type": "stream",
     "text": [
      "100%|██████████| 1/1 [00:00<00:00, 12.73it/s]\n"
     ]
    },
    {
     "name": "stdout",
     "output_type": "stream",
     "text": [
      "total trajs:1, goal reached: 1, collision: 0\n"
     ]
    },
    {
     "name": "stderr",
     "output_type": "stream",
     "text": [
      "100%|██████████| 1/1 [00:00<00:00, 12.80it/s]\n"
     ]
    },
    {
     "name": "stdout",
     "output_type": "stream",
     "text": [
      "total trajs:1, goal reached: 1, collision: 0\n"
     ]
    },
    {
     "name": "stderr",
     "output_type": "stream",
     "text": [
      "100%|██████████| 1/1 [00:00<00:00,  3.73it/s]\n"
     ]
    },
    {
     "name": "stdout",
     "output_type": "stream",
     "text": [
      "total trajs:1, goal reached: 1, collision: 0\n"
     ]
    },
    {
     "name": "stderr",
     "output_type": "stream",
     "text": [
      "100%|██████████| 1/1 [00:00<00:00, 10.71it/s]\n"
     ]
    },
    {
     "name": "stdout",
     "output_type": "stream",
     "text": [
      "total trajs:1, goal reached: 1, collision: 0\n"
     ]
    },
    {
     "name": "stderr",
     "output_type": "stream",
     "text": [
      "100%|██████████| 1/1 [00:00<00:00,  6.45it/s]\n"
     ]
    },
    {
     "name": "stdout",
     "output_type": "stream",
     "text": [
      "total trajs:1, goal reached: 1, collision: 0\n"
     ]
    },
    {
     "name": "stderr",
     "output_type": "stream",
     "text": [
      "100%|██████████| 1/1 [00:00<00:00, 12.06it/s]\n"
     ]
    },
    {
     "name": "stdout",
     "output_type": "stream",
     "text": [
      "total trajs:1, goal reached: 1, collision: 0\n"
     ]
    },
    {
     "name": "stderr",
     "output_type": "stream",
     "text": [
      "100%|██████████| 1/1 [00:00<00:00,  2.57it/s]\n"
     ]
    },
    {
     "name": "stdout",
     "output_type": "stream",
     "text": [
      "total trajs:1, goal reached: 1, collision: 0\n"
     ]
    },
    {
     "name": "stderr",
     "output_type": "stream",
     "text": [
      "100%|██████████| 1/1 [00:00<00:00,  8.96it/s]\n"
     ]
    },
    {
     "name": "stdout",
     "output_type": "stream",
     "text": [
      "total trajs:1, goal reached: 1, collision: 0\n"
     ]
    },
    {
     "name": "stderr",
     "output_type": "stream",
     "text": [
      "100%|██████████| 1/1 [00:00<00:00, 12.03it/s]\n"
     ]
    },
    {
     "name": "stdout",
     "output_type": "stream",
     "text": [
      "total trajs:1, goal reached: 1, collision: 0\n"
     ]
    },
    {
     "name": "stderr",
     "output_type": "stream",
     "text": [
      "100%|██████████| 1/1 [00:00<00:00,  6.21it/s]\n"
     ]
    },
    {
     "name": "stdout",
     "output_type": "stream",
     "text": [
      "total trajs:1, goal reached: 1, collision: 0\n"
     ]
    },
    {
     "name": "stderr",
     "output_type": "stream",
     "text": [
      "100%|██████████| 1/1 [00:00<00:00, 10.66it/s]\n"
     ]
    },
    {
     "name": "stdout",
     "output_type": "stream",
     "text": [
      "total trajs:1, goal reached: 1, collision: 1\n"
     ]
    },
    {
     "name": "stderr",
     "output_type": "stream",
     "text": [
      "100%|██████████| 1/1 [00:00<00:00,  3.72it/s]\n"
     ]
    },
    {
     "name": "stdout",
     "output_type": "stream",
     "text": [
      "total trajs:1, goal reached: 1, collision: 0\n"
     ]
    },
    {
     "name": "stderr",
     "output_type": "stream",
     "text": [
      "100%|██████████| 1/1 [00:00<00:00, 10.09it/s]\n"
     ]
    },
    {
     "name": "stdout",
     "output_type": "stream",
     "text": [
      "total trajs:1, goal reached: 1, collision: 0\n"
     ]
    },
    {
     "name": "stderr",
     "output_type": "stream",
     "text": [
      "100%|██████████| 1/1 [00:00<00:00,  5.28it/s]\n"
     ]
    },
    {
     "name": "stdout",
     "output_type": "stream",
     "text": [
      "total trajs:1, goal reached: 1, collision: 0\n"
     ]
    },
    {
     "name": "stderr",
     "output_type": "stream",
     "text": [
      "100%|██████████| 1/1 [00:00<00:00,  6.82it/s]\n"
     ]
    },
    {
     "name": "stdout",
     "output_type": "stream",
     "text": [
      "total trajs:1, goal reached: 1, collision: 1\n"
     ]
    },
    {
     "name": "stderr",
     "output_type": "stream",
     "text": [
      "100%|██████████| 1/1 [00:00<00:00,  9.08it/s]\n"
     ]
    },
    {
     "name": "stdout",
     "output_type": "stream",
     "text": [
      "total trajs:1, goal reached: 1, collision: 0\n"
     ]
    },
    {
     "name": "stderr",
     "output_type": "stream",
     "text": [
      "100%|██████████| 1/1 [00:00<00:00, 12.67it/s]\n"
     ]
    },
    {
     "name": "stdout",
     "output_type": "stream",
     "text": [
      "total trajs:1, goal reached: 1, collision: 0\n"
     ]
    },
    {
     "name": "stderr",
     "output_type": "stream",
     "text": [
      "100%|██████████| 1/1 [00:00<00:00, 12.58it/s]\n"
     ]
    },
    {
     "name": "stdout",
     "output_type": "stream",
     "text": [
      "total trajs:1, goal reached: 1, collision: 0\n"
     ]
    },
    {
     "name": "stderr",
     "output_type": "stream",
     "text": [
      "100%|██████████| 1/1 [00:00<00:00, 13.42it/s]\n"
     ]
    },
    {
     "name": "stdout",
     "output_type": "stream",
     "text": [
      "total trajs:1, goal reached: 1, collision: 0\n"
     ]
    },
    {
     "name": "stderr",
     "output_type": "stream",
     "text": [
      "100%|██████████| 1/1 [00:00<00:00,  5.83it/s]\n"
     ]
    },
    {
     "name": "stdout",
     "output_type": "stream",
     "text": [
      "total trajs:1, goal reached: 1, collision: 0\n"
     ]
    },
    {
     "name": "stderr",
     "output_type": "stream",
     "text": [
      "100%|██████████| 1/1 [00:00<00:00, 11.96it/s]\n"
     ]
    },
    {
     "name": "stdout",
     "output_type": "stream",
     "text": [
      "total trajs:1, goal reached: 1, collision: 0\n"
     ]
    },
    {
     "name": "stderr",
     "output_type": "stream",
     "text": [
      "100%|██████████| 1/1 [00:00<00:00,  6.81it/s]\n"
     ]
    },
    {
     "name": "stdout",
     "output_type": "stream",
     "text": [
      "total trajs:1, goal reached: 1, collision: 0\n"
     ]
    },
    {
     "name": "stderr",
     "output_type": "stream",
     "text": [
      "100%|██████████| 1/1 [00:00<00:00, 12.06it/s]\n"
     ]
    },
    {
     "name": "stdout",
     "output_type": "stream",
     "text": [
      "total trajs:1, goal reached: 1, collision: 0\n"
     ]
    },
    {
     "name": "stderr",
     "output_type": "stream",
     "text": [
      "100%|██████████| 1/1 [00:00<00:00, 12.67it/s]\n"
     ]
    },
    {
     "name": "stdout",
     "output_type": "stream",
     "text": [
      "total trajs:1, goal reached: 1, collision: 0\n"
     ]
    },
    {
     "name": "stderr",
     "output_type": "stream",
     "text": [
      "100%|██████████| 1/1 [00:00<00:00, 12.09it/s]\n"
     ]
    },
    {
     "name": "stdout",
     "output_type": "stream",
     "text": [
      "total trajs:1, goal reached: 1, collision: 0\n"
     ]
    },
    {
     "name": "stderr",
     "output_type": "stream",
     "text": [
      "100%|██████████| 1/1 [00:00<00:00, 10.75it/s]\n"
     ]
    },
    {
     "name": "stdout",
     "output_type": "stream",
     "text": [
      "total trajs:1, goal reached: 1, collision: 1\n"
     ]
    },
    {
     "name": "stderr",
     "output_type": "stream",
     "text": [
      "100%|██████████| 1/1 [00:00<00:00, 12.30it/s]\n"
     ]
    },
    {
     "name": "stdout",
     "output_type": "stream",
     "text": [
      "total trajs:1, goal reached: 1, collision: 0\n"
     ]
    },
    {
     "name": "stderr",
     "output_type": "stream",
     "text": [
      "100%|██████████| 1/1 [00:00<00:00,  9.11it/s]\n"
     ]
    },
    {
     "name": "stdout",
     "output_type": "stream",
     "text": [
      "total trajs:1, goal reached: 1, collision: 0\n"
     ]
    },
    {
     "name": "stderr",
     "output_type": "stream",
     "text": [
      "100%|██████████| 1/1 [00:00<00:00,  7.17it/s]\n"
     ]
    },
    {
     "name": "stdout",
     "output_type": "stream",
     "text": [
      "total trajs:1, goal reached: 1, collision: 0\n"
     ]
    },
    {
     "name": "stderr",
     "output_type": "stream",
     "text": [
      "100%|██████████| 1/1 [00:00<00:00, 12.67it/s]\n"
     ]
    },
    {
     "name": "stdout",
     "output_type": "stream",
     "text": [
      "total trajs:1, goal reached: 1, collision: 0\n"
     ]
    },
    {
     "name": "stderr",
     "output_type": "stream",
     "text": [
      "100%|██████████| 1/1 [00:00<00:00, 12.05it/s]\n"
     ]
    },
    {
     "name": "stdout",
     "output_type": "stream",
     "text": [
      "total trajs:1, goal reached: 1, collision: 0\n"
     ]
    },
    {
     "name": "stderr",
     "output_type": "stream",
     "text": [
      "100%|██████████| 1/1 [00:00<00:00, 12.53it/s]\n"
     ]
    },
    {
     "name": "stdout",
     "output_type": "stream",
     "text": [
      "total trajs:1, goal reached: 1, collision: 0\n"
     ]
    },
    {
     "name": "stderr",
     "output_type": "stream",
     "text": [
      "100%|██████████| 1/1 [00:00<00:00, 12.62it/s]\n"
     ]
    },
    {
     "name": "stdout",
     "output_type": "stream",
     "text": [
      "total trajs:1, goal reached: 1, collision: 0\n"
     ]
    },
    {
     "name": "stderr",
     "output_type": "stream",
     "text": [
      "100%|██████████| 1/1 [00:00<00:00, 13.42it/s]\n"
     ]
    },
    {
     "name": "stdout",
     "output_type": "stream",
     "text": [
      "total trajs:1, goal reached: 1, collision: 0\n"
     ]
    },
    {
     "name": "stderr",
     "output_type": "stream",
     "text": [
      "100%|██████████| 1/1 [00:00<00:00, 11.42it/s]\n"
     ]
    },
    {
     "name": "stdout",
     "output_type": "stream",
     "text": [
      "total trajs:1, goal reached: 1, collision: 0\n"
     ]
    },
    {
     "name": "stderr",
     "output_type": "stream",
     "text": [
      "100%|██████████| 1/1 [00:00<00:00,  7.11it/s]\n"
     ]
    },
    {
     "name": "stdout",
     "output_type": "stream",
     "text": [
      "total trajs:1, goal reached: 1, collision: 1\n"
     ]
    },
    {
     "name": "stderr",
     "output_type": "stream",
     "text": [
      "100%|██████████| 1/1 [00:00<00:00,  6.01it/s]\n"
     ]
    },
    {
     "name": "stdout",
     "output_type": "stream",
     "text": [
      "total trajs:1, goal reached: 1, collision: 0\n"
     ]
    },
    {
     "name": "stderr",
     "output_type": "stream",
     "text": [
      "100%|██████████| 1/1 [00:00<00:00,  9.44it/s]\n"
     ]
    },
    {
     "name": "stdout",
     "output_type": "stream",
     "text": [
      "total trajs:1, goal reached: 1, collision: 0\n"
     ]
    },
    {
     "name": "stderr",
     "output_type": "stream",
     "text": [
      "100%|██████████| 1/1 [00:00<00:00, 11.97it/s]\n"
     ]
    },
    {
     "name": "stdout",
     "output_type": "stream",
     "text": [
      "total trajs:1, goal reached: 1, collision: 0\n"
     ]
    },
    {
     "name": "stderr",
     "output_type": "stream",
     "text": [
      "100%|██████████| 1/1 [00:00<00:00,  6.96it/s]\n"
     ]
    },
    {
     "name": "stdout",
     "output_type": "stream",
     "text": [
      "total trajs:1, goal reached: 1, collision: 0\n"
     ]
    },
    {
     "name": "stderr",
     "output_type": "stream",
     "text": [
      "100%|██████████| 1/1 [00:00<00:00,  6.94it/s]\n"
     ]
    },
    {
     "name": "stdout",
     "output_type": "stream",
     "text": [
      "total trajs:1, goal reached: 1, collision: 1\n"
     ]
    },
    {
     "name": "stderr",
     "output_type": "stream",
     "text": [
      "100%|██████████| 1/1 [00:00<00:00, 13.39it/s]\n"
     ]
    },
    {
     "name": "stdout",
     "output_type": "stream",
     "text": [
      "total trajs:1, goal reached: 1, collision: 0\n"
     ]
    },
    {
     "name": "stderr",
     "output_type": "stream",
     "text": [
      "100%|██████████| 1/1 [00:00<00:00, 12.00it/s]\n"
     ]
    },
    {
     "name": "stdout",
     "output_type": "stream",
     "text": [
      "total trajs:1, goal reached: 1, collision: 0\n"
     ]
    },
    {
     "name": "stderr",
     "output_type": "stream",
     "text": [
      "100%|██████████| 1/1 [00:00<00:00, 12.57it/s]\n"
     ]
    },
    {
     "name": "stdout",
     "output_type": "stream",
     "text": [
      "total trajs:1, goal reached: 1, collision: 0\n"
     ]
    },
    {
     "name": "stderr",
     "output_type": "stream",
     "text": [
      "100%|██████████| 1/1 [00:00<00:00,  5.27it/s]\n"
     ]
    },
    {
     "name": "stdout",
     "output_type": "stream",
     "text": [
      "total trajs:1, goal reached: 1, collision: 0\n"
     ]
    },
    {
     "name": "stderr",
     "output_type": "stream",
     "text": [
      "100%|██████████| 1/1 [00:00<00:00, 12.68it/s]\n"
     ]
    },
    {
     "name": "stdout",
     "output_type": "stream",
     "text": [
      "total trajs:1, goal reached: 1, collision: 1\n"
     ]
    },
    {
     "name": "stderr",
     "output_type": "stream",
     "text": [
      "100%|██████████| 1/1 [00:00<00:00,  8.67it/s]\n"
     ]
    },
    {
     "name": "stdout",
     "output_type": "stream",
     "text": [
      "total trajs:1, goal reached: 1, collision: 0\n"
     ]
    },
    {
     "name": "stderr",
     "output_type": "stream",
     "text": [
      "100%|██████████| 1/1 [00:00<00:00, 12.01it/s]\n"
     ]
    },
    {
     "name": "stdout",
     "output_type": "stream",
     "text": [
      "total trajs:1, goal reached: 1, collision: 0\n"
     ]
    },
    {
     "name": "stderr",
     "output_type": "stream",
     "text": [
      "100%|██████████| 1/1 [00:00<00:00,  9.42it/s]\n"
     ]
    },
    {
     "name": "stdout",
     "output_type": "stream",
     "text": [
      "total trajs:1, goal reached: 1, collision: 0\n"
     ]
    },
    {
     "name": "stderr",
     "output_type": "stream",
     "text": [
      "100%|██████████| 1/1 [00:00<00:00,  7.72it/s]\n"
     ]
    },
    {
     "name": "stdout",
     "output_type": "stream",
     "text": [
      "total trajs:1, goal reached: 1, collision: 0\n"
     ]
    },
    {
     "name": "stderr",
     "output_type": "stream",
     "text": [
      "100%|██████████| 1/1 [00:00<00:00, 12.02it/s]\n"
     ]
    },
    {
     "name": "stdout",
     "output_type": "stream",
     "text": [
      "total trajs:1, goal reached: 1, collision: 0\n"
     ]
    },
    {
     "name": "stderr",
     "output_type": "stream",
     "text": [
      "100%|██████████| 1/1 [00:00<00:00,  4.66it/s]\n"
     ]
    },
    {
     "name": "stdout",
     "output_type": "stream",
     "text": [
      "total trajs:1, goal reached: 1, collision: 1\n"
     ]
    },
    {
     "name": "stderr",
     "output_type": "stream",
     "text": [
      "100%|██████████| 1/1 [00:00<00:00, 12.02it/s]\n"
     ]
    },
    {
     "name": "stdout",
     "output_type": "stream",
     "text": [
      "total trajs:1, goal reached: 1, collision: 0\n"
     ]
    },
    {
     "name": "stderr",
     "output_type": "stream",
     "text": [
      "100%|██████████| 1/1 [00:00<00:00,  9.37it/s]\n"
     ]
    },
    {
     "name": "stdout",
     "output_type": "stream",
     "text": [
      "total trajs:1, goal reached: 1, collision: 0\n"
     ]
    },
    {
     "name": "stderr",
     "output_type": "stream",
     "text": [
      "100%|██████████| 1/1 [00:00<00:00, 12.69it/s]\n"
     ]
    },
    {
     "name": "stdout",
     "output_type": "stream",
     "text": [
      "total trajs:1, goal reached: 1, collision: 0\n"
     ]
    },
    {
     "name": "stderr",
     "output_type": "stream",
     "text": [
      "100%|██████████| 1/1 [00:00<00:00,  9.39it/s]\n"
     ]
    },
    {
     "name": "stdout",
     "output_type": "stream",
     "text": [
      "total trajs:1, goal reached: 1, collision: 0\n"
     ]
    },
    {
     "name": "stderr",
     "output_type": "stream",
     "text": [
      "100%|██████████| 1/1 [00:00<00:00, 11.20it/s]\n"
     ]
    },
    {
     "name": "stdout",
     "output_type": "stream",
     "text": [
      "total trajs:1, goal reached: 1, collision: 0\n"
     ]
    },
    {
     "name": "stderr",
     "output_type": "stream",
     "text": [
      "100%|██████████| 1/1 [00:00<00:00,  5.97it/s]\n"
     ]
    },
    {
     "name": "stdout",
     "output_type": "stream",
     "text": [
      "total trajs:1, goal reached: 1, collision: 0\n"
     ]
    },
    {
     "name": "stderr",
     "output_type": "stream",
     "text": [
      "100%|██████████| 1/1 [00:00<00:00,  5.58it/s]\n"
     ]
    },
    {
     "name": "stdout",
     "output_type": "stream",
     "text": [
      "total trajs:1, goal reached: 1, collision: 0\n"
     ]
    },
    {
     "name": "stderr",
     "output_type": "stream",
     "text": [
      "100%|██████████| 1/1 [00:00<00:00, 12.64it/s]\n"
     ]
    },
    {
     "name": "stdout",
     "output_type": "stream",
     "text": [
      "total trajs:1, goal reached: 1, collision: 0\n"
     ]
    },
    {
     "name": "stderr",
     "output_type": "stream",
     "text": [
      "100%|██████████| 1/1 [00:00<00:00, 12.07it/s]\n"
     ]
    },
    {
     "name": "stdout",
     "output_type": "stream",
     "text": [
      "total trajs:1, goal reached: 1, collision: 0\n"
     ]
    },
    {
     "name": "stderr",
     "output_type": "stream",
     "text": [
      "100%|██████████| 1/1 [00:00<00:00,  6.34it/s]\n"
     ]
    },
    {
     "name": "stdout",
     "output_type": "stream",
     "text": [
      "total trajs:1, goal reached: 1, collision: 0\n"
     ]
    },
    {
     "name": "stderr",
     "output_type": "stream",
     "text": [
      "100%|██████████| 1/1 [00:00<00:00, 11.15it/s]\n"
     ]
    },
    {
     "name": "stdout",
     "output_type": "stream",
     "text": [
      "total trajs:1, goal reached: 1, collision: 0\n"
     ]
    },
    {
     "name": "stderr",
     "output_type": "stream",
     "text": [
      "100%|██████████| 1/1 [00:00<00:00, 11.98it/s]\n"
     ]
    },
    {
     "name": "stdout",
     "output_type": "stream",
     "text": [
      "total trajs:1, goal reached: 1, collision: 0\n"
     ]
    },
    {
     "name": "stderr",
     "output_type": "stream",
     "text": [
      "100%|██████████| 1/1 [00:00<00:00, 12.03it/s]\n"
     ]
    },
    {
     "name": "stdout",
     "output_type": "stream",
     "text": [
      "total trajs:1, goal reached: 1, collision: 0\n"
     ]
    },
    {
     "name": "stderr",
     "output_type": "stream",
     "text": [
      "100%|██████████| 1/1 [00:00<00:00, 11.33it/s]\n"
     ]
    },
    {
     "name": "stdout",
     "output_type": "stream",
     "text": [
      "total trajs:1, goal reached: 1, collision: 0\n"
     ]
    },
    {
     "name": "stderr",
     "output_type": "stream",
     "text": [
      "100%|██████████| 1/1 [00:00<00:00,  3.08it/s]\n"
     ]
    },
    {
     "name": "stdout",
     "output_type": "stream",
     "text": [
      "total trajs:1, goal reached: 1, collision: 1\n"
     ]
    },
    {
     "name": "stderr",
     "output_type": "stream",
     "text": [
      "100%|██████████| 1/1 [00:00<00:00, 12.62it/s]\n"
     ]
    },
    {
     "name": "stdout",
     "output_type": "stream",
     "text": [
      "total trajs:1, goal reached: 1, collision: 0\n"
     ]
    },
    {
     "name": "stderr",
     "output_type": "stream",
     "text": [
      "100%|██████████| 1/1 [00:00<00:00, 12.65it/s]\n"
     ]
    },
    {
     "name": "stdout",
     "output_type": "stream",
     "text": [
      "total trajs:1, goal reached: 1, collision: 0\n"
     ]
    },
    {
     "name": "stderr",
     "output_type": "stream",
     "text": [
      "100%|██████████| 1/1 [00:00<00:00, 12.68it/s]\n"
     ]
    },
    {
     "name": "stdout",
     "output_type": "stream",
     "text": [
      "total trajs:1, goal reached: 1, collision: 0\n"
     ]
    },
    {
     "name": "stderr",
     "output_type": "stream",
     "text": [
      "100%|██████████| 1/1 [00:00<00:00,  4.73it/s]\n"
     ]
    },
    {
     "name": "stdout",
     "output_type": "stream",
     "text": [
      "total trajs:1, goal reached: 1, collision: 1\n"
     ]
    },
    {
     "name": "stderr",
     "output_type": "stream",
     "text": [
      "100%|██████████| 1/1 [00:00<00:00,  6.51it/s]\n"
     ]
    },
    {
     "name": "stdout",
     "output_type": "stream",
     "text": [
      "total trajs:1, goal reached: 1, collision: 0\n"
     ]
    },
    {
     "name": "stderr",
     "output_type": "stream",
     "text": [
      "100%|██████████| 1/1 [00:00<00:00,  9.40it/s]\n"
     ]
    },
    {
     "name": "stdout",
     "output_type": "stream",
     "text": [
      "total trajs:1, goal reached: 1, collision: 0\n"
     ]
    },
    {
     "name": "stderr",
     "output_type": "stream",
     "text": [
      "100%|██████████| 1/1 [00:00<00:00,  5.69it/s]\n"
     ]
    },
    {
     "name": "stdout",
     "output_type": "stream",
     "text": [
      "total trajs:1, goal reached: 1, collision: 0\n"
     ]
    },
    {
     "name": "stderr",
     "output_type": "stream",
     "text": [
      "100%|██████████| 1/1 [00:00<00:00,  6.96it/s]\n"
     ]
    },
    {
     "name": "stdout",
     "output_type": "stream",
     "text": [
      "total trajs:1, goal reached: 1, collision: 1\n"
     ]
    },
    {
     "name": "stderr",
     "output_type": "stream",
     "text": [
      "100%|██████████| 1/1 [00:00<00:00, 12.68it/s]\n"
     ]
    },
    {
     "name": "stdout",
     "output_type": "stream",
     "text": [
      "total trajs:1, goal reached: 1, collision: 0\n"
     ]
    },
    {
     "name": "stderr",
     "output_type": "stream",
     "text": [
      "100%|██████████| 1/1 [00:00<00:00, 12.53it/s]\n"
     ]
    },
    {
     "name": "stdout",
     "output_type": "stream",
     "text": [
      "total trajs:1, goal reached: 1, collision: 0\n"
     ]
    },
    {
     "name": "stderr",
     "output_type": "stream",
     "text": [
      "100%|██████████| 1/1 [00:00<00:00,  6.69it/s]\n"
     ]
    },
    {
     "name": "stdout",
     "output_type": "stream",
     "text": [
      "total trajs:1, goal reached: 1, collision: 1\n"
     ]
    },
    {
     "name": "stderr",
     "output_type": "stream",
     "text": [
      "100%|██████████| 1/1 [00:00<00:00, 12.04it/s]\n"
     ]
    },
    {
     "name": "stdout",
     "output_type": "stream",
     "text": [
      "total trajs:1, goal reached: 1, collision: 0\n"
     ]
    },
    {
     "name": "stderr",
     "output_type": "stream",
     "text": [
      "100%|██████████| 1/1 [00:00<00:00, 12.07it/s]\n"
     ]
    },
    {
     "name": "stdout",
     "output_type": "stream",
     "text": [
      "total trajs:1, goal reached: 1, collision: 0\n"
     ]
    },
    {
     "name": "stderr",
     "output_type": "stream",
     "text": [
      "100%|██████████| 1/1 [00:00<00:00, 12.78it/s]\n"
     ]
    },
    {
     "name": "stdout",
     "output_type": "stream",
     "text": [
      "total trajs:1, goal reached: 1, collision: 1\n"
     ]
    },
    {
     "name": "stderr",
     "output_type": "stream",
     "text": [
      "100%|██████████| 1/1 [00:00<00:00,  7.69it/s]\n"
     ]
    },
    {
     "name": "stdout",
     "output_type": "stream",
     "text": [
      "total trajs:1, goal reached: 1, collision: 0\n"
     ]
    },
    {
     "name": "stderr",
     "output_type": "stream",
     "text": [
      "100%|██████████| 1/1 [00:00<00:00, 11.93it/s]\n"
     ]
    },
    {
     "name": "stdout",
     "output_type": "stream",
     "text": [
      "total trajs:1, goal reached: 1, collision: 1\n"
     ]
    },
    {
     "name": "stderr",
     "output_type": "stream",
     "text": [
      "100%|██████████| 1/1 [00:00<00:00, 11.41it/s]\n"
     ]
    },
    {
     "name": "stdout",
     "output_type": "stream",
     "text": [
      "total trajs:1, goal reached: 1, collision: 0\n"
     ]
    },
    {
     "name": "stderr",
     "output_type": "stream",
     "text": [
      "100%|██████████| 1/1 [00:00<00:00, 10.64it/s]\n"
     ]
    },
    {
     "name": "stdout",
     "output_type": "stream",
     "text": [
      "total trajs:1, goal reached: 1, collision: 0\n"
     ]
    },
    {
     "name": "stderr",
     "output_type": "stream",
     "text": [
      "100%|██████████| 1/1 [00:00<00:00, 12.11it/s]\n"
     ]
    },
    {
     "name": "stdout",
     "output_type": "stream",
     "text": [
      "total trajs:1, goal reached: 1, collision: 0\n"
     ]
    },
    {
     "name": "stderr",
     "output_type": "stream",
     "text": [
      "100%|██████████| 1/1 [00:00<00:00, 11.11it/s]\n"
     ]
    },
    {
     "name": "stdout",
     "output_type": "stream",
     "text": [
      "total trajs:1, goal reached: 1, collision: 0\n"
     ]
    },
    {
     "name": "stderr",
     "output_type": "stream",
     "text": [
      "100%|██████████| 1/1 [00:00<00:00,  9.37it/s]\n"
     ]
    },
    {
     "name": "stdout",
     "output_type": "stream",
     "text": [
      "total trajs:1, goal reached: 1, collision: 0\n"
     ]
    },
    {
     "name": "stderr",
     "output_type": "stream",
     "text": [
      "100%|██████████| 1/1 [00:00<00:00, 12.63it/s]\n"
     ]
    },
    {
     "name": "stdout",
     "output_type": "stream",
     "text": [
      "total trajs:1, goal reached: 1, collision: 0\n"
     ]
    },
    {
     "name": "stderr",
     "output_type": "stream",
     "text": [
      "100%|██████████| 1/1 [00:00<00:00,  9.14it/s]\n"
     ]
    },
    {
     "name": "stdout",
     "output_type": "stream",
     "text": [
      "total trajs:1, goal reached: 1, collision: 0\n"
     ]
    },
    {
     "name": "stderr",
     "output_type": "stream",
     "text": [
      "100%|██████████| 1/1 [00:00<00:00, 11.38it/s]\n"
     ]
    },
    {
     "name": "stdout",
     "output_type": "stream",
     "text": [
      "total trajs:1, goal reached: 1, collision: 0\n"
     ]
    },
    {
     "name": "stderr",
     "output_type": "stream",
     "text": [
      "100%|██████████| 1/1 [00:00<00:00, 11.30it/s]\n"
     ]
    },
    {
     "name": "stdout",
     "output_type": "stream",
     "text": [
      "total trajs:1, goal reached: 1, collision: 0\n"
     ]
    },
    {
     "name": "stderr",
     "output_type": "stream",
     "text": [
      "100%|██████████| 1/1 [00:00<00:00, 12.74it/s]\n"
     ]
    },
    {
     "name": "stdout",
     "output_type": "stream",
     "text": [
      "total trajs:1, goal reached: 1, collision: 0\n"
     ]
    },
    {
     "name": "stderr",
     "output_type": "stream",
     "text": [
      "100%|██████████| 1/1 [00:00<00:00, 11.42it/s]\n"
     ]
    },
    {
     "name": "stdout",
     "output_type": "stream",
     "text": [
      "total trajs:1, goal reached: 1, collision: 0\n"
     ]
    },
    {
     "name": "stderr",
     "output_type": "stream",
     "text": [
      "100%|██████████| 1/1 [00:00<00:00,  4.29it/s]\n"
     ]
    },
    {
     "name": "stdout",
     "output_type": "stream",
     "text": [
      "total trajs:1, goal reached: 1, collision: 0\n"
     ]
    },
    {
     "name": "stderr",
     "output_type": "stream",
     "text": [
      "100%|██████████| 1/1 [00:00<00:00,  2.16it/s]\n"
     ]
    },
    {
     "name": "stdout",
     "output_type": "stream",
     "text": [
      "total trajs:1, goal reached: 0, collision: 0\n"
     ]
    }
   ],
   "source": [
    "while True:\n",
    "    _, n_reach, n_collision = eval_performance(1, gif='lya_2phase.gif')\n",
    "    if n_reach==0:\n",
    "        break"
   ]
  },
  {
   "cell_type": "code",
   "execution_count": 18,
   "id": "7eb046f3-c487-4a79-b663-755e7c3923db",
   "metadata": {},
   "outputs": [
    {
     "name": "stderr",
     "output_type": "stream",
     "text": [
      "100%|██████████| 1000/1000 [01:31<00:00, 10.89it/s]"
     ]
    },
    {
     "name": "stdout",
     "output_type": "stream",
     "text": [
      "total trajs:1000, goal reached: 796, collision: 267\n"
     ]
    },
    {
     "name": "stderr",
     "output_type": "stream",
     "text": [
      "\n"
     ]
    }
   ],
   "source": [
    "eval_performance(1000, gif='lya_2phase.gif')"
   ]
  },
  {
   "cell_type": "code",
   "execution_count": null,
   "id": "c1408bd5-6755-405d-bd82-9a5cdcd11743",
   "metadata": {},
   "outputs": [
    {
     "name": "stderr",
     "output_type": "stream",
     "text": [
      "100%|██████████| 1000/1000 [02:02<00:00,  8.19it/s]\n"
     ]
    },
    {
     "name": "stdout",
     "output_type": "stream",
     "text": [
      "total trajs:1000, goal reached: 580, collision: 609\n"
     ]
    }
   ],
   "source": [
    "lnn.load_state_dict(torch.load(LMODEL_PATH.replace('.pt', '_uniform.pt'), map_location=device))\n",
    "eval_performance(1000, gif='lya_uniform.gif')"
   ]
  },
  {
   "cell_type": "code",
   "execution_count": null,
   "id": "66ed0b15-0f17-4db0-bfa6-2433badf4fd3",
   "metadata": {},
   "outputs": [
    {
     "name": "stderr",
     "output_type": "stream",
     "text": [
      "100%|██████████| 1000/1000 [01:43<00:00,  9.70it/s]"
     ]
    },
    {
     "name": "stdout",
     "output_type": "stream",
     "text": [
      "total trajs:1000, goal reached: 673, collision: 508\n"
     ]
    },
    {
     "name": "stderr",
     "output_type": "stream",
     "text": [
      "\n"
     ]
    }
   ],
   "source": [
    "lnn.load_state_dict(torch.load(LMODEL_PATH.replace('.pt', '_cam.pt'), map_location=device))\n",
    "eval_performance(1000, gif='lya_cam.gif')"
   ]
  },
  {
   "cell_type": "code",
   "execution_count": 59,
   "id": "1efba87e-06ea-4e07-9098-feb81bad8e96",
   "metadata": {
    "scrolled": true,
    "tags": []
   },
   "outputs": [
    {
     "name": "stdout",
     "output_type": "stream",
     "text": [
      "[-1.         0.5831593] 0.42128778 0.014337461 1000.42126\n",
      "[-1. -1.] 0.3750703 0.028684039 0.0\n",
      "[1. 1.] 0.35541138 0.037571814 0.0\n",
      "[1. 1.] 0.32701087 0.045917545 0.0\n",
      "[-1. -1.] 0.30607203 0.055527944 0.0\n",
      "[-0.55894417 -1.        ] 0.2863273 0.05855595 0.0\n",
      "[1. 1.] 0.2701758 0.06429812 0.0\n",
      "[0.26076806 1.        ] 0.24688685 0.06875621 0.0\n",
      "[-1. -1.] 0.23051739 0.07218124 0.0\n",
      "[ 0.31480977 -0.3714502 ] 0.20738778 0.0725701 0.0\n",
      "[0.37922457 1.        ] 0.19172908 0.07625434 0.0\n",
      "[-1. -1.] 0.17480066 0.076287225 0.0\n",
      "[ 0.32679668 -0.488843  ] 0.15865293 0.07306203 0.0\n",
      "[0.6698414 1.       ] 0.14260043 0.070598036 0.0\n",
      "[-1. -1.] 0.12231111 0.0795722 0.0\n",
      "[ 0.55887526 -0.2996163 ] 0.10721043 0.06529434 0.0\n",
      "[-0.04418565  1.        ] 0.08586976 0.06941733 0.0\n",
      "[-0.56769294 -1.        ] 0.061580345 0.029957104 0.0\n",
      "[1.        0.5479828] 0.052531846 0.032769207 0.0009515025\n",
      "[-1.         0.5602556] 0.040497214 0.019314587 0.0\n",
      "[-0.70100075 -0.8162678 ] 0.030907454 0.0030950494 0.0073151905\n",
      "[1.         0.10529279] 0.031852823 0.0038874522 0.017057916\n",
      "[0.54587585 1.        ] 0.01751988 -0.005505113 0.015505113\n",
      "[-1. -1.] 0.0095928125 0.029175911 0.0020729322\n",
      "[ 1.        -0.5777848] 0.011278256 0.061028805 0.011685443\n",
      "[1.        0.8157129] 0.009092015 0.016645461 0.007813759\n",
      "[-1. -1.] 0.0017815614 0.050351407 0.0026895462\n",
      "[ 0.7263528 -1.       ] 0.0036537054 0.043797832 0.0118721435\n",
      "[ 0.89439493 -0.33819717] 0.009650152 0.021835297 0.015996447\n",
      "[1.         0.90362746] 0.0076775746 0.011474725 0.008027422\n",
      "[-1. -1.] 0.0010156678 0.054032158 0.0033380932\n",
      "[ 0.28950214 -1.        ] 0.002137775 0.055016253 0.0111221075\n",
      "[ 0.92272866 -0.6225379 ] 0.006137501 0.055600148 0.013999727\n",
      "[ 1.        -0.5405864] 0.0051064137 0.045928437 0.008968913\n",
      "[ 1.        -0.2891767] 0.007422642 0.03250147 0.012316228\n",
      "[1.         0.08763151] 0.008190451 0.025275748 0.010767809\n",
      "[-0.12068394 -0.72929174] 0.020367749 0.016055055 0.022177298\n",
      "[1.         0.94461083] 0.0052277995 0.05107927 0.0\n",
      "[-1. -1.] 0.00021340653 0.06426275 0.0049856068\n",
      "[ 0.8433374 -1.       ] 0.00084321963 0.06006183 0.010629813\n",
      "[ 1.         -0.14432827] 0.004442198 0.06675823 0.0135989785\n",
      "[1.        0.4422065] 0.0040250793 0.058233272 0.009582881\n",
      "[-1. -1.] 0.0001681483 0.072026 0.006143069\n",
      "[1.         0.56635934] 0.00076740945 0.058269475 0.010599261\n",
      "[-0.79145885 -0.38799867] 0.0024707895 0.060952533 0.01170338\n",
      "[ 0.90846205 -0.79976606] 0.0069626565 0.0636071 0.014491867\n",
      "[1.        0.6067959] 0.0053539285 0.049266573 0.008391272\n",
      "[-1. -1.] 0.00033293825 0.062219802 0.0049790093\n",
      "[1.         0.45598722] 0.0022521238 0.047195148 0.0119191855\n",
      "[-1.       -0.755792] 0.0032505607 0.046142194 0.010998437\n",
      "[1.         0.14766681] 0.0066789887 0.032086235 0.013428427\n",
      "[ 0.81742823 -0.4741357 ] 0.014582448 0.023319311 0.017903458\n",
      "[1.         0.94590354] 0.008917508 0.012515523 0.00433506\n",
      "[-1. -1.] 0.0009883216 0.055998545 0.002070814\n",
      "[ 0.2861635 -1.       ] 0.0015375096 0.06392531 0.010549188\n",
      "[ 1.         -0.37822524] 0.0047427136 0.06105717 0.013205204\n",
      "[ 1.         -0.15509415] 0.007181463 0.046107594 0.012438749\n",
      "[1.         0.36466473] 0.006042461 0.04638878 0.008860998\n",
      "[-1.         -0.78749144] 0.011259877 0.05583926 0.015217416\n",
      "[0.8658133  0.21827447] 0.005712988 0.05190571 0.0044531105\n",
      "[ 1.         -0.35904202] 0.005298907 0.054091137 0.009585919\n",
      "[1.         0.70746106] 0.007195165 0.033859048 0.011896258\n",
      "[-1. -1.] 0.0003371056 0.06328602 0.0031419406\n",
      "[ 1.        -0.6543542] 0.0039343494 0.05830886 0.013597244\n",
      "[1.        0.6047976] 0.008016169 0.034579683 0.014081819\n",
      "[-1. -1.] 0.00069094065 0.048764836 0.0026747715\n",
      "[1.         0.48228708] 0.0029920624 0.038350817 0.012301121\n",
      "[-1.        -0.6399917] 0.0048906165 0.035803813 0.011898554\n",
      "collision\n",
      "[ 0.3772616  -0.25237566] 0.020637617 -0.016577616 0.052324615\n",
      "[0.4729131 1.       ] 0.009169659 0.08682531 0.0\n",
      "[-1. -1.] 0.0014729907 0.09388362 0.002303332\n",
      "[ 0.5680132 -1.       ] 0.0035553363 0.09084411 0.012082345\n",
      "[0.26351315 0.90787935] 0.0005493836 0.09251194 0.006994047\n",
      "[-1. -1.] 0.00058769877 0.104912326 0.010038315\n",
      "[ 0.7783142  -0.87537926] 0.00069117645 0.09667531 0.010103477\n",
      "[0.35418916 1.        ] 0.0006632023 0.09974538 0.009972026\n",
      "[-1. -1.] 0.00017646505 0.10603769 0.009513263\n",
      "[ 0.87070405 -1.        ] 0.00043556042 0.10492356 0.010259095\n",
      "[0.73652714 0.66453964] 0.00371957 0.07086788 0.01328401\n",
      "[-1. -1.] 8.991519e-05 0.09600295 0.0063703447\n",
      "[ 1.         -0.50402606] 0.0024754074 0.09207544 0.012385493\n",
      "[1.        0.6004723] 0.0008744296 0.08330464 0.008399022\n",
      "[-1. -1.] 7.170673e-05 0.09114811 0.009197278\n",
      "[1.        0.0261061] 0.00084526686 0.08435792 0.01077356\n",
      "[1.         0.46519995] 0.0025832625 0.07496996 0.011737996\n",
      "[-1. -1.] 0.00012829324 0.082261264 0.0075450307\n",
      "[1.        0.5335176] 0.0005761541 0.0688567 0.010447861\n",
      "[-0.80478656 -0.4995447 ] 0.002021498 0.06514847 0.0114453435\n",
      "[ 0.7758755  -0.08514468] 0.01038578 0.06137761 0.01836428\n",
      "[1.         0.45887193] 0.004520312 0.062389452 0.004134532\n",
      "[-1. -1.] 0.00047448714 0.05957971 0.005954175\n",
      "[1.         0.70148206] 0.0015608965 0.038293313 0.01108641\n",
      "[-1.         -0.35656682] 0.0021975152 0.041106675 0.010636618\n",
      "[-0.11784878 -0.9911373 ] 0.0055508255 0.049285095 0.0133533105\n",
      "[1.         0.54959285] 0.002076672 6.841123e-05 0.016457435\n",
      "[0.3833363  0.46582723] 0.0052865245 0.028056353 0.013209853\n",
      "[-1. -1.] 0.0004892004 0.0433685 0.0052026757\n",
      "[ 0.7589198 -0.8396094] 0.0059961225 0.05624908 0.015506921\n",
      "[1.        0.6673805] 0.0027316697 0.07136011 0.006735547\n",
      "[-1. -1.] 0.00010124682 0.087540194 0.007369577\n",
      "[ 1.        -0.3751278] 0.0021509256 0.07923381 0.012049679\n"
     ]
    }
   ],
   "source": [
    "imgs = [env.sim.render(600, 300)]\n",
    "\n",
    "num_tot = 0\n",
    "num_goaled = 0 \n",
    "num_collision = 0\n",
    "\n",
    "obs = env.reset(); lthreshold=-1000.\n",
    "ts = 0\n",
    "while True:\n",
    "    ts += 1 \n",
    "    \n",
    "    o = env._get_obs()\n",
    "    a_oracle = model.predict(o)[0]\n",
    "    a_all = np.random.uniform(-1., 1., size=(1000, env.action_dim))\n",
    "    a_all[0,:] = a_oracle\n",
    "    \n",
    "    o_l = o_b = {'x': torch.FloatTensor(o), 'goal': torch.FloatTensor(env.goal)}\n",
    "    a_refine, bvalue, lvalue, cvalue = iter_action(bnn, lnn, o_b, o_l, a_all, max_iter=0, lthreshold=lthreshold, bthreshold=bthreshold)\n",
    "    idx = choose_action(cvalue)\n",
    "\n",
    "    idx = 0\n",
    "    \n",
    "    ac, bvalue, lvalue, cvalue = a_refine[idx, :], bvalue[idx], lvalue[idx], cvalue[idx]\n",
    "    lthreshold = lvalue-1e-2\n",
    "    \n",
    "    print(ac, lvalue, bvalue, cvalue)\n",
    "    obs, rw, done, _ = env.step(ac)\n",
    "    if env.sim.data.ncon!=0:\n",
    "        print('collision')\n",
    "    imgs.append(env.sim.render(600, 300))\n",
    "    if done:\n",
    "        break"
   ]
  },
  {
   "cell_type": "code",
   "execution_count": 54,
   "id": "e313e569-1022-432b-ac8b-0995459c1cb8",
   "metadata": {},
   "outputs": [
    {
     "data": {
      "text/plain": [
       "True"
      ]
     },
     "execution_count": 54,
     "metadata": {},
     "output_type": "execute_result"
    }
   ],
   "source": [
    "_['next_goal']"
   ]
  },
  {
   "cell_type": "code",
   "execution_count": 47,
   "id": "e7c07d77-f685-48c0-9b66-c2ca471fbfba",
   "metadata": {},
   "outputs": [],
   "source": [
    "from PIL import Image\n",
    "ims = [Image.fromarray(np.flip(a_frame, axis=0)) for a_frame in imgs]\n",
    "ims[0].save(\"cam.gif\", save_all=True, append_images=ims[1:], duration=20)"
   ]
  },
  {
   "cell_type": "code",
   "execution_count": 44,
   "id": "1b4ea379-0082-4385-b758-1e8364cdfef1",
   "metadata": {},
   "outputs": [
    {
     "data": {
      "text/plain": [
       "array([ 5.42882926,  1.37825172, -1.33038784,  0.93033739,  0.60246979,\n",
       "        0.94529349,  1.50789303, -2.97359193, -1.73358318, -5.0063304 ])"
      ]
     },
     "execution_count": 44,
     "metadata": {},
     "output_type": "execute_result"
    }
   ],
   "source": [
    "np.random.uniform(low=Env.state_range[0, :], high=Env.state_range[1, :], size=(10,))"
   ]
  },
  {
   "cell_type": "code",
   "execution_count": null,
   "id": "d289680b-8c78-45c4-9a69-edce9bd825cc",
   "metadata": {},
   "outputs": [],
   "source": []
  }
 ],
 "metadata": {
  "kernelspec": {
   "display_name": "Python 3",
   "language": "python",
   "name": "python3"
  },
  "language_info": {
   "codemirror_mode": {
    "name": "ipython",
    "version": 3
   },
   "file_extension": ".py",
   "mimetype": "text/x-python",
   "name": "python",
   "nbconvert_exporter": "python",
   "pygments_lexer": "ipython3",
   "version": "3.8.12"
  }
 },
 "nbformat": 4,
 "nbformat_minor": 5
}
