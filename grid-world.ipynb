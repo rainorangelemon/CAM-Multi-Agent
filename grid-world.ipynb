{
 "cells": [
  {
   "cell_type": "code",
   "execution_count": 4,
   "id": "6f546aa2-157b-4a1d-8b7c-782344acaf3f",
   "metadata": {},
   "outputs": [],
   "source": [
    "import numpy as np\n",
    "import matplotlib.pyplot as plt\n",
    "\n",
    "world = np.zeros((30, 30))"
   ]
  },
  {
   "cell_type": "code",
   "execution_count": 5,
   "id": "4b78d6f6-64b4-4d68-9c78-8303c66ee637",
   "metadata": {},
   "outputs": [],
   "source": [
    "world[10:20, 15] = 1\n",
    "goal = np.array()"
   ]
  },
  {
   "cell_type": "code",
   "execution_count": 6,
   "id": "309bce32-d4bb-4c6c-89b8-d9689e9ccb6d",
   "metadata": {},
   "outputs": [
    {
     "data": {
      "text/plain": [
       "<matplotlib.image.AxesImage at 0x7f11f0f96310>"
      ]
     },
     "execution_count": 6,
     "metadata": {},
     "output_type": "execute_result"
    },
    {
     "data": {
      "image/png": "[encoded data removed]",
      "text/plain": [
       "<Figure size 432x288 with 1 Axes>"
      ]
     },
     "metadata": {
      "needs_background": "light"
     },
     "output_type": "display_data"
    }
   ],
   "source": [
    "plt.imshow(world)"
   ]
  },
  {
   "cell_type": "code",
   "execution_count": null,
   "id": "f2a30a05-876e-49ce-aad2-1d2d40846d21",
   "metadata": {},
   "outputs": [],
   "source": []
  }
 ],
 "metadata": {
  "kernelspec": {
   "display_name": "Python 3",
   "language": "python",
   "name": "python3"
  },
  "language_info": {
   "codemirror_mode": {
    "name": "ipython",
    "version": 3
   },
   "file_extension": ".py",
   "mimetype": "text/x-python",
   "name": "python",
   "nbconvert_exporter": "python",
   "pygments_lexer": "ipython3",
   "version": "3.8.12"
  }
 },
 "nbformat": 4,
 "nbformat_minor": 5
}
