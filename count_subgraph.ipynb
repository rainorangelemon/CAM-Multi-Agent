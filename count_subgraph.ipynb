{
 "cells": [
  {
   "cell_type": "code",
   "execution_count": 17,
   "id": "39966e78-5898-4406-92e7-4b4834a705d4",
   "metadata": {},
   "outputs": [],
   "source": [
    "from os import listdir\n",
    "from os.path import isfile, join\n",
    "onlyfiles = [f for f in listdir('results') if isfile(join('results', f))]"
   ]
  },
  {
   "cell_type": "code",
   "execution_count": 29,
   "id": "d99d3cd9-d982-43fe-baab-6ec73a5617a7",
   "metadata": {
    "scrolled": true,
    "tags": []
   },
   "outputs": [
    {
     "name": "stdout",
     "output_type": "stream",
     "text": [
      "drone_v49_mixed_8.pkl,drone,mixed,CAM,8\n",
      "drone_v49_mixed_32.pkl,drone,mixed,CAM,32\n",
      "drone_v49_mixed_16.pkl,drone,mixed,CAM,16\n",
      "dubins_car_v125_mixed_128.pkl,dubins_car,mixed,CAM,128\n",
      "dubins_car_v125_mixed_1.pkl,dubins_car,mixed,CAM,1\n",
      "dubins_car_v125_mixed_16.pkl,dubins_car,mixed,CAM,16\n",
      "drone_v49_mixed_256.pkl,drone,mixed,CAM,256\n",
      "dubins_car_v125_mixed_8.pkl,dubins_car,mixed,CAM,8\n",
      "drone_v49_mixed_64.pkl,drone,mixed,CAM,64\n",
      "drone_v49_mixed_512.pkl,drone,mixed,CAM,512\n",
      "dubins_car_v125_mixed_64.pkl,dubins_car,mixed,CAM,64\n",
      "dubins_car_v125_mixed_256.pkl,dubins_car,mixed,CAM,256\n",
      "dubins_car_v125_mixed_32.pkl,dubins_car,mixed,CAM,32\n",
      "drone_v49_mixed_1.pkl,drone,mixed,CAM,1\n",
      "drone_v49_mixed_3.pkl,drone,mixed,CAM,3\n",
      "dubins_car_v125_mixed_3.pkl,dubins_car,mixed,CAM,3\n",
      "dubins_car_v125_mixed_512.pkl,dubins_car,mixed,CAM,512\n",
      "drone_v49_mixed_128.pkl,drone,mixed,CAM,128\n"
     ]
    }
   ],
   "source": [
    "result_files = []\n",
    "for file in onlyfiles:\n",
    "    try:\n",
    "        if file.count('_') >= 3:\n",
    "            method = [m for m in ['v125', 'v49'] if m in file][0]\n",
    "            method = method.upper() if method in ['macbf', 'ddpg'] else 'CAM'\n",
    "            environment = [env for env in ['dubins_car', 'drone'] if env in file][0]\n",
    "            density = int(file.split('_')[-1].replace('.pkl', ''))\n",
    "            mode = [m for m in ['mixed'] if m in file][0]\n",
    "            print(f'{file},{environment},{mode},{method},{density}')\n",
    "            result_files.append([file,environment,mode,method,density])\n",
    "        else:\n",
    "            continue\n",
    "    except:\n",
    "        continue"
   ]
  },
  {
   "cell_type": "code",
   "execution_count": 3,
   "id": "d87c4c96-c9d0-44c0-82d0-ea05529e7cac",
   "metadata": {},
   "outputs": [],
   "source": [
    "def get_map_size(mode, density):\n",
    "    if mode=='static':\n",
    "        size = 4\n",
    "    if mode=='dynamic':\n",
    "        size = int((density*16)**0.5)\n",
    "    if mode=='mixed':\n",
    "        size = 32\n",
    "    return size\n",
    "\n",
    "def get_agent_num(mode, density):\n",
    "    if mode=='static':\n",
    "        num_agents = 3\n",
    "    if mode=='dynamic':\n",
    "        num_agents = density\n",
    "    if mode=='mixed':\n",
    "        num_agents = density\n",
    "    return num_agents"
   ]
  },
  {
   "cell_type": "code",
   "execution_count": 70,
   "id": "5526269d-40b2-4e8a-97d1-235c2219b07a",
   "metadata": {},
   "outputs": [],
   "source": [
    "# save the environment,dataset,method,density,collision_per_env,collision_per_agent,success_rate,path_length\n",
    "\n",
    "def get_reward(num_collides, num_success, path_length, agent_num):\n",
    "    return (num_collides*(-1) + num_success*10)/agent_num + -1e-2*path_length\n",
    "\n",
    "def get_safe_rate(num_collides, path_length, agent_num):\n",
    "    return 1-(num_collides/(path_length*agent_num))"
   ]
  },
  {
   "cell_type": "code",
   "execution_count": 30,
   "id": "bbc61da7-60fd-4e80-867c-2321f03e9aac",
   "metadata": {},
   "outputs": [],
   "source": [
    "environment = 'dubins_car'"
   ]
  },
  {
   "cell_type": "code",
   "execution_count": 71,
   "id": "3e28e392-5871-435f-904b-7d883021d45e",
   "metadata": {},
   "outputs": [],
   "source": [
    "import seaborn as sns\n",
    "sns.set_style(\"dark\")\n",
    "total_results = sns.load_dataset(\"/results\", data_home='./results')"
   ]
  },
  {
   "cell_type": "code",
   "execution_count": 31,
   "id": "b3b3b363-801e-4d95-857e-802244ae65aa",
   "metadata": {},
   "outputs": [
    {
     "name": "stdout",
     "output_type": "stream",
     "text": [
      "dubins_car,mixed,CAM,128,11.529945272360123,257\n",
      "dubins_car,mixed,CAM,1,1.3312529825741986,101\n",
      "dubins_car,mixed,CAM,16,3.1608249178767114,113\n",
      "dubins_car,mixed,CAM,8,2.455574290250312,113\n",
      "dubins_car,mixed,CAM,64,5.89744962663882,129\n",
      "dubins_car,mixed,CAM,256,22.177645400600298,257\n",
      "dubins_car,mixed,CAM,32,3.966920241353433,115\n",
      "dubins_car,mixed,CAM,3,1.777849994364886,101\n",
      "dubins_car,mixed,CAM,512,43.55136186770428,257\n"
     ]
    }
   ],
   "source": [
    "import pickle as pkl\n",
    "import numpy as np\n",
    "\n",
    "result_files = [r for r in result_files if r[1]==environment]\n",
    "for file,environment,mode,method,density in result_files:\n",
    "    \n",
    "    if environment=='drone':\n",
    "        from drone_v34 import *\n",
    "    elif environment=='dubins_car':\n",
    "        from v109 import *    \n",
    "    \n",
    "    with open(f'dataset/{environment}_{mode}_{density}.pkl', 'rb') as f:\n",
    "        valid_dataset = pkl.load(f)\n",
    "        \n",
    "    with open(f'results/{file}', 'rb') as f:\n",
    "        result_dict = pkl.load(f)\n",
    "        paths = result_dict['paths']\n",
    "    \n",
    "    map_size = get_map_size(mode, density)\n",
    "    num_agents = get_agent_num(mode, density)\n",
    "    env = create_env(num_agents=num_agents, size=map_size, density=0, min_dist=0)\n",
    "\n",
    "    # reproduce the trajectory\n",
    "    num_subgraphs = []\n",
    "    for param, path in zip(valid_dataset[:10], paths[:10]):\n",
    "        env.world.obstacles, env.world.agent_goals, env.world.agents = deepcopy(param)\n",
    "        num_subgraph = 0\n",
    "        for timestep in path:\n",
    "            env.world.agents = timestep\n",
    "            num_subgraph += len(list(env._get_obs_random_k(**OBS_CONFIG_DECOMPOSE)))\n",
    "        num_subgraphs.append(num_subgraph/len(path))\n",
    "    print(f'{environment},{mode},{method},{density},{np.mean(num_subgraphs)},{len(path)}')"
   ]
  },
  {
   "cell_type": "code",
   "execution_count": 6,
   "id": "11e95a64-ee58-4226-87d8-3d62074987ea",
   "metadata": {},
   "outputs": [
    {
     "name": "stdout",
     "output_type": "stream",
     "text": [
      "> \u001b[0;32m/tmp/ipykernel_524194/2499447285.py\u001b[0m(30)\u001b[0;36m<cell line: 5>\u001b[0;34m()\u001b[0m\n",
      "\u001b[0;32m     28 \u001b[0;31m        \u001b[0;32mfor\u001b[0m \u001b[0mtimestep\u001b[0m \u001b[0;32min\u001b[0m \u001b[0mpath\u001b[0m\u001b[0;34m:\u001b[0m\u001b[0;34m\u001b[0m\u001b[0;34m\u001b[0m\u001b[0m\n",
      "\u001b[0m\u001b[0;32m     29 \u001b[0;31m            \u001b[0menv\u001b[0m\u001b[0;34m.\u001b[0m\u001b[0mworld\u001b[0m\u001b[0;34m.\u001b[0m\u001b[0magents\u001b[0m \u001b[0;34m=\u001b[0m \u001b[0mtimestep\u001b[0m\u001b[0;34m\u001b[0m\u001b[0;34m\u001b[0m\u001b[0m\n",
      "\u001b[0m\u001b[0;32m---> 30 \u001b[0;31m            \u001b[0;32massert\u001b[0m \u001b[0;32mFalse\u001b[0m\u001b[0;34m\u001b[0m\u001b[0;34m\u001b[0m\u001b[0m\n",
      "\u001b[0m\u001b[0;32m     31 \u001b[0;31m            \u001b[0mnum_subgraph\u001b[0m \u001b[0;34m+=\u001b[0m \u001b[0;36m1\u001b[0m\u001b[0;34m\u001b[0m\u001b[0;34m\u001b[0m\u001b[0m\n",
      "\u001b[0m\u001b[0;32m     32 \u001b[0;31m        \u001b[0mnum_subgraphs\u001b[0m\u001b[0;34m.\u001b[0m\u001b[0mappend\u001b[0m\u001b[0;34m(\u001b[0m\u001b[0mnum_subgraphs\u001b[0m\u001b[0;34m/\u001b[0m\u001b[0mlen\u001b[0m\u001b[0;34m(\u001b[0m\u001b[0mpath\u001b[0m\u001b[0;34m)\u001b[0m\u001b[0;34m)\u001b[0m\u001b[0;34m\u001b[0m\u001b[0;34m\u001b[0m\u001b[0m\n",
      "\u001b[0m\n"
     ]
    },
    {
     "name": "stdin",
     "output_type": "stream",
     "text": [
      "ipdb>  exit()\n"
     ]
    }
   ],
   "source": [
    "%debug"
   ]
  }
 ],
 "metadata": {
  "kernelspec": {
   "display_name": "Python 3 (ipykernel)",
   "language": "python",
   "name": "python3"
  },
  "language_info": {
   "codemirror_mode": {
    "name": "ipython",
    "version": 3
   },
   "file_extension": ".py",
   "mimetype": "text/x-python",
   "name": "python",
   "nbconvert_exporter": "python",
   "pygments_lexer": "ipython3",
   "version": "3.8.12"
  }
 },
 "nbformat": 4,
 "nbformat_minor": 5
}
