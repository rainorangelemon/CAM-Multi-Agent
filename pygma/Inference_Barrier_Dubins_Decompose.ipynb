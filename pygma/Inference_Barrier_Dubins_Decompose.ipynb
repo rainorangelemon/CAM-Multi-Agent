{
 "cells": [
  {
   "cell_type": "code",
   "execution_count": 1,
   "id": "ae806caa-df39-46e4-b8b7-2ce16413800d",
   "metadata": {},
   "outputs": [],
   "source": [
    "%load_ext autoreload\n",
    "%reload_ext autoreload\n",
    "%autoreload 2"
   ]
  },
  {
   "cell_type": "code",
   "execution_count": 2,
   "id": "712be4ab-10a5-4f04-9bb6-27aca9e00010",
   "metadata": {},
   "outputs": [],
   "source": [
    "from tqdm import tqdm\n",
    "import gc\n",
    "from copy import deepcopy\n",
    "import pickle as pkl\n",
    "\n",
    "import torch\n",
    "import numpy as np\n",
    "from torch import nn\n",
    "import math\n",
    "from models import *   \n",
    "from v109 import *\n",
    "from core import generate_default_model_name\n",
    "\n",
    "import os\n",
    "os.environ['CUDA_LAUNCH_BLOCKING'] = '1'"
   ]
  },
  {
   "cell_type": "code",
   "execution_count": null,
   "id": "74cff570-de65-4e79-b3fc-565efa0fd8a1",
   "metadata": {},
   "outputs": [],
   "source": [
    "import torch\n",
    "import numpy as np\n",
    "torch.tensor(np.array([1,2,3.])).mean()"
   ]
  },
  {
   "cell_type": "code",
   "execution_count": null,
   "id": "dc83c886-306b-4306-bbfd-128807988d46",
   "metadata": {},
   "outputs": [],
   "source": [
    "[env._get_obs()[o].edge_attr for o in ['toward', 'shit'] if 'edge_attr' in env._get_obs()[o]]"
   ]
  },
  {
   "cell_type": "code",
   "execution_count": 12,
   "id": "deef4a28-a31b-4692-b9c9-a946cd97e419",
   "metadata": {},
   "outputs": [
    {
     "name": "stdout",
     "output_type": "stream",
     "text": [
      "0.98\n",
      "0.99\n",
      "0.98\n",
      "0.83\n",
      "0.37\n",
      "0.04\n",
      "0.01\n",
      "0.0\n",
      "0.0\n",
      "0.0\n",
      "0.0\n",
      "0.0\n"
     ]
    }
   ],
   "source": [
    "for NUM_AGENTS in [1,2,4,8,16,32,64,128,256,512,1024,2048]:\n",
    "    with open(f'dataset/results/{project_name}_{NUM_AGENTS}.pkl', 'rb') as f:\n",
    "        result_dict = pkl.load(f)\n",
    "    with open(f'dataset/{project_name}_{NUM_AGENTS}.pkl', 'rb') as f:\n",
    "        valid_dataset = pkl.load(f)\n",
    "    env = create_env(num_agents=NUM_AGENTS, size=max(int((NUM_AGENTS*2)**0.5), 4), max_dist=1, density=0)\n",
    "    for env_id, path in enumerate(result_dict['paths']):\n",
    "        env.world.obstacles, env.world.agent_goals, env.world.agents = deepcopy(data)    \n",
    "        result_dict['done']\n",
    "    print(np.mean(result_dict['dones']))"
   ]
  },
  {
   "cell_type": "markdown",
   "id": "f2161242-1a0a-48c7-bca9-7608709fc23e",
   "metadata": {
    "tags": []
   },
   "source": [
    "# inference"
   ]
  },
  {
   "cell_type": "code",
   "execution_count": 379,
   "id": "974da2e1-b887-4533-8ee7-9708f56f65fe",
   "metadata": {},
   "outputs": [
    {
     "name": "stdout",
     "output_type": "stream",
     "text": [
      "<All keys matched successfully>\n"
     ]
    }
   ],
   "source": [
    "torch.manual_seed(0)\n",
    "random.seed(0)\n",
    "np.random.seed(0)\n",
    "\n",
    "env = create_env(num_agents=8, density=3, size=3)\n",
    "\n",
    "bnn = create_network()\n",
    "print(bnn.load_state_dict(torch.load(BMODEL_PATH, map_location=device)))\n",
    "bnn.eval();\n",
    "# BMODEL_PATH\n",
    "# BMODEL_PATH.replace('.pt', \"_current.pt\")\n",
    "# BMODEL_PATH.replace('.pt', \"_warmup.pt\")\n",
    "# BMODEL_PATH.replace('_'+version_name+'.pt', '_v22.pt')\n",
    "# 'model_gnn/dbgnn_DubinsCarEnv13199_0.00.pt'\n",
    "# 'model_gnn/dbgnn_DubinsCarEnv_v133999.pt'\n",
    "# 'model_gnn/good_models/dbgnn_DubinsCarEnv_v114_66.pt'"
   ]
  },
  {
   "cell_type": "code",
   "execution_count": 380,
   "id": "651cfe39-72da-4404-8717-456519f4da43",
   "metadata": {
    "scrolled": true,
    "tags": []
   },
   "outputs": [
    {
     "name": "stdout",
     "output_type": "stream",
     "text": [
      "----------------------------------------\n",
      "0 0.09954342246055603 0.10080765187740326 (array([], dtype=int64),) (array([], dtype=int64),) set()\n",
      "1 0.1003042683005333 0.10066474974155426 (array([], dtype=int64),) (array([], dtype=int64),) set()\n",
      "2 0.10025160759687424 0.10067587345838547 (array([], dtype=int64),) (array([], dtype=int64),) set()\n",
      "3 0.09708595275878906 0.10074760019779205 (array([], dtype=int64),) (array([], dtype=int64),) set()\n",
      "4 0.10024958103895187 0.100728340446949 (array([], dtype=int64),) (array([], dtype=int64),) set()\n",
      "5 0.10015291720628738 0.10069331526756287 (array([], dtype=int64),) (array([], dtype=int64),) set()\n",
      "6 0.09989108145236969 0.10071063786745071 (array([], dtype=int64),) (array([], dtype=int64),) set()\n",
      "7 0.10021445900201797 0.10056858509778976 (array([], dtype=int64),) (array([], dtype=int64),) set()\n",
      "8 0.0999923124909401 0.10061699897050858 (array([], dtype=int64),) (array([], dtype=int64),) set()\n",
      "9 0.02645155042409897 0.10043089836835861 (array([], dtype=int64),) (array([], dtype=int64),) set()\n",
      "10 0.01648946851491928 0.1005333736538887 (array([2]),) (array([], dtype=int64),) set()\n",
      "11 -0.017752235755324364 0.10054218024015427 (array([0, 2, 5]),) (array([], dtype=int64),) set()\n",
      "12 0.018413100391626358 0.10041531175374985 (array([2]),) (array([], dtype=int64),) set()\n",
      "13 -0.013636083342134953 0.1001790314912796 (array([1, 2, 5]),) (array([], dtype=int64),) set()\n",
      "14 -0.011292479000985622 0.10007255524396896 (array([1, 2, 5]),) (array([], dtype=int64),) set()\n",
      "15 0.004283509217202663 0.09995386004447937 (array([2, 5, 7]),) (array([], dtype=int64),) set()\n",
      "16 -0.01995757222175598 0.07425978779792786 (array([2, 5, 7]),) (array([], dtype=int64),) set()\n",
      "17 -0.021365351974964142 0.058356065303087234 (array([2, 5, 7]),) (array([], dtype=int64),) set()\n",
      "18 -0.0010306956246495247 0.06009304150938988 (array([2, 5, 7]),) (array([], dtype=int64),) set()\n",
      "19 -0.021459173411130905 0.07869136333465576 (array([1, 4, 5]),) (array([], dtype=int64),) set()\n",
      "20 -0.020953502506017685 0.0864093154668808 (array([1, 3, 6, 7]),) (array([], dtype=int64),) set()\n",
      "21 -0.017780058085918427 0.030102930963039398 (array([1, 5, 6]),) (array([], dtype=int64),) set()\n",
      "22 -0.0051342519000172615 0.020106777548789978 (array([1, 5, 6]),) (array([], dtype=int64),) set()\n",
      "23 -0.018049128353595734 0.02024829387664795 (array([0, 1, 5, 6]),) (array([], dtype=int64),) set()\n",
      "24 0.0046903593465685844 0.020317845046520233 (array([6, 7]),) (array([], dtype=int64),) set()\n",
      "25 0.01017663162201643 0.02914511039853096 (array([1, 5]),) (array([], dtype=int64),) set()\n",
      "26 -0.02618730068206787 0.03626745194196701 (array([1, 5, 6]),) (array([], dtype=int64),) set()\n",
      "27 -0.016519978642463684 0.04870312288403511 (array([1, 5]),) (array([], dtype=int64),) set()\n",
      "28 -0.02622208371758461 0.05314068868756294 (array([1, 5, 6, 7]),) (array([], dtype=int64),) set()\n",
      "29 -0.002558519132435322 0.0333118699491024 (array([1, 6]),) (array([], dtype=int64),) set()\n",
      "30 -0.00962137896567583 0.054275404661893845 (array([1, 5, 6, 7]),) (array([], dtype=int64),) set()\n",
      "31 -0.007988939993083477 0.054799892008304596 (array([1, 4, 6, 7]),) (array([], dtype=int64),) set()\n",
      "32 -0.024799443781375885 0.06777700036764145 (array([1, 5, 7]),) (array([], dtype=int64),) set()\n",
      "33 -0.008444219827651978 0.08952335268259048 (array([1, 6, 7]),) (array([], dtype=int64),) set()\n",
      "34 -0.023360993713140488 0.10005426406860352 (array([1, 6, 7]),) (array([], dtype=int64),) set()\n",
      "35 -0.027407407760620117 0.10015232115983963 (array([1, 6, 7]),) (array([], dtype=int64),) set()\n",
      "36 -0.016607334837317467 0.10024399310350418 (array([1, 6, 7]),) (array([], dtype=int64),) set()\n",
      "37 -0.01350382249802351 0.10038309544324875 (array([1, 4, 6]),) (array([], dtype=int64),) set()\n",
      "38 -0.00685338769108057 0.10046479851007462 (array([1, 6, 7]),) (array([], dtype=int64),) set()\n",
      "39 -0.00403223279863596 0.10060188919305801 (array([4, 5, 6]),) (array([], dtype=int64),) set()\n",
      "40 0.00030298810452222824 0.10037370771169662 (array([1, 6, 7]),) (array([], dtype=int64),) set()\n",
      "41 -0.003821226768195629 0.10031361132860184 (array([1, 5, 6]),) (array([], dtype=int64),) set()\n",
      "42 -0.03040148690342903 0.10023344308137894 (array([6, 7]),) (array([], dtype=int64),) set()\n",
      "43 -0.010423986241221428 0.10034959763288498 (array([1, 6, 7]),) (array([], dtype=int64),) set()\n",
      "44 -0.006721836514770985 0.10043396800756454 (array([4, 6, 7]),) (array([], dtype=int64),) set()\n",
      "45 -0.007149530574679375 0.10057350248098373 (array([6, 7]),) (array([], dtype=int64),) set()\n",
      "46 0.006808741949498653 0.10047916322946548 (array([7]),) (array([], dtype=int64),) set()\n",
      "47 0.009009362198412418 0.10056484490633011 (array([7]),) (array([], dtype=int64),) set()\n"
     ]
    }
   ],
   "source": [
    "collided, done, gifs = infer(env,bnn,n_action=2000,max_episode_length=48,verbose=True,spatial_prop=False,lie_derive_safe=False,decompose='random',stop_at_collision=True,need_gif=None)"
   ]
  },
  {
   "cell_type": "code",
   "execution_count": 24,
   "id": "d0c94e5e-4f28-4fda-87b3-ac7118987efb",
   "metadata": {
    "scrolled": true,
    "tags": []
   },
   "outputs": [
    {
     "data": {
      "text/plain": [
       "array([[[255, 255, 255],\n",
       "        [255, 255, 255],\n",
       "        [255, 255, 255],\n",
       "        ...,\n",
       "        [255, 255, 255],\n",
       "        [255, 255, 255],\n",
       "        [255, 255, 255]],\n",
       "\n",
       "       [[255, 255, 255],\n",
       "        [255, 255, 255],\n",
       "        [255, 255, 255],\n",
       "        ...,\n",
       "        [255, 255, 255],\n",
       "        [255, 255, 255],\n",
       "        [255, 255, 255]],\n",
       "\n",
       "       [[255, 255, 255],\n",
       "        [255, 255, 255],\n",
       "        [255, 255, 255],\n",
       "        ...,\n",
       "        [255, 255, 255],\n",
       "        [255, 255, 255],\n",
       "        [255, 255, 255]],\n",
       "\n",
       "       ...,\n",
       "\n",
       "       [[255, 255, 255],\n",
       "        [255, 255, 255],\n",
       "        [255, 255, 255],\n",
       "        ...,\n",
       "        [255, 255, 255],\n",
       "        [255, 255, 255],\n",
       "        [255, 255, 255]],\n",
       "\n",
       "       [[255, 255, 255],\n",
       "        [255, 255, 255],\n",
       "        [255, 255, 255],\n",
       "        ...,\n",
       "        [255, 255, 255],\n",
       "        [255, 255, 255],\n",
       "        [255, 255, 255]],\n",
       "\n",
       "       [[255, 255, 255],\n",
       "        [255, 255, 255],\n",
       "        [255, 255, 255],\n",
       "        ...,\n",
       "        [255, 255, 255],\n",
       "        [255, 255, 255],\n",
       "        [255, 255, 255]]], dtype=uint8)"
      ]
     },
     "execution_count": 24,
     "metadata": {},
     "output_type": "execute_result"
    },
    {
     "data": {
      "image/png": "[encoded data removed]",
      "text/plain": [
       "<Figure size 720x720 with 1 Axes>"
      ]
     },
     "metadata": {
      "needs_background": "light"
     },
     "output_type": "display_data"
    }
   ],
   "source": [
    "env._render()"
   ]
  },
  {
   "cell_type": "code",
   "execution_count": 6,
   "id": "79caf853-d532-493b-a5cf-b5906e743169",
   "metadata": {},
   "outputs": [
    {
     "data": {
      "text/plain": [
       "2"
      ]
     },
     "execution_count": 6,
     "metadata": {},
     "output_type": "execute_result"
    }
   ],
   "source": [
    "env.space_dim"
   ]
  },
  {
   "cell_type": "code",
   "execution_count": 191,
   "id": "8aa8e4aa-237f-4be5-b9d7-39d2f86dadb6",
   "metadata": {
    "scrolled": true,
    "tags": []
   },
   "outputs": [
    {
     "name": "stderr",
     "output_type": "stream",
     "text": [
      "100%|██████████| 10000/10000 [01:38<00:00, 101.37it/s]\n"
     ]
    }
   ],
   "source": [
    "mini_len = 10000\n",
    "mini_decompose_g = None\n",
    "for _ in tqdm(range(10000)):\n",
    "    decompose_g = list(env._get_obs_random_k(**OBS_CONFIG_DECOMPOSE))\n",
    "    if len(decompose_g) < mini_len:\n",
    "        mini_len = len(decompose_g)\n",
    "        mini_decompose_g = decompose_g"
   ]
  },
  {
   "cell_type": "code",
   "execution_count": 192,
   "id": "13f22fdc-2e11-4ea9-828d-6d96f1f82cb5",
   "metadata": {},
   "outputs": [],
   "source": [
    "import copy\n",
    "mini_decompose_g_origin = copy.deepcopy(mini_decompose_g)"
   ]
  },
  {
   "cell_type": "code",
   "execution_count": 382,
   "id": "08423cf7-7d0c-40f4-9f31-51eecacb822c",
   "metadata": {},
   "outputs": [
    {
     "data": {
      "image/png": "[encoded data removed]",
      "text/plain": [
       "<Figure size 720x720 with 1 Axes>"
      ]
     },
     "metadata": {
      "needs_background": "light"
     },
     "output_type": "display_data"
    }
   ],
   "source": [
    "from environment.gym_dubins_car import *\n",
    "def draw_graph(env, data):\n",
    "    plt.clf()\n",
    "    plt.close('all')\n",
    "    plt.figure(figsize=(10, 10))\n",
    "    environment_map = env.world.state\n",
    "    map_x, map_y = env.world.state.shape\n",
    "\n",
    "    map_width = env.world.state.shape\n",
    "    colors=env.initColors()\n",
    "    \n",
    "    for edge_index in data['a_near_a'].edge_index.T:\n",
    "        if (edge_index[1]) != 7:\n",
    "            continue        \n",
    "        plt.plot(data['agent'].pos[edge_index,0].data.numpy(), data['agent'].pos[edge_index,1].data.numpy(), \n",
    "                 color=list(colors.values())[edge_index[0]], linewidth=3, zorder=1)\n",
    "        \n",
    "    for edge_index in data['o_near_a'].edge_index.T:\n",
    "        if (edge_index[1]) != 7:\n",
    "            continue\n",
    "        plt.plot(np.concatenate((data['obstacle'].pos[edge_index[0],0].data.numpy().reshape(-1), (data['agent'].pos[edge_index[1],0].data.numpy().reshape(-1)))), \n",
    "                 np.concatenate((data['obstacle'].pos[edge_index[0],1].data.numpy().reshape(-1), (data['agent'].pos[edge_index[1],1].data.numpy().reshape(-1)))), \n",
    "                 color='#253494', linewidth=3, zorder=1)        \n",
    "        \n",
    "    for obstacle_id, obstacle in zip(range(len(env.world.obstacles)), env.world.obstacles):\n",
    "        if obstacle_id in data['o_near_a'].edge_index[0,data['o_near_a'].edge_index[1,:]==7]:\n",
    "            circle = patches.Circle((obstacle[0], obstacle[1]), 0.15, edgecolor='black', facecolor='#253494', zorder=2)\n",
    "            plt.gca().add_patch(circle)\n",
    "\n",
    "    for agent_id, color, agent, goal in zip(range(env.num_agents), colors.values(), env.world.agents, env.world.agent_goals):\n",
    "        if agent_id in data['a_near_a'].edge_index[:,data['a_near_a'].edge_index[1,:]==7]:\n",
    "            circle = patches.Circle((agent[0], agent[1]), 0.15, edgecolor=color, facecolor=color, zorder=2)\n",
    "            plt.gca().add_patch(circle)\n",
    "            if agent_id != 7:\n",
    "                arrow = patches.Arrow(agent[0]-np.cos(agent[2])*(0.15), agent[1]-np.sin(agent[2])*(0.15), np.cos(agent[2])*0.3, np.sin(agent[2])*0.3, width=0.3, edgecolor='black', facecolor='black', zorder=2)\n",
    "                plt.gca().add_patch(arrow)\n",
    "    \n",
    "    circle = patches.Circle((env.world.agents[7][0], env.world.agents[7][1]), 0.15, edgecolor=list(colors.values())[7], \n",
    "                            facecolor=list(colors.values())[7], zorder=2)\n",
    "    plt.gca().add_patch(circle)        \n",
    "    plt.gca().scatter(env.world.agents[7][0], env.world.agents[7][1], s=1280, marker='*', color='black', zorder=3)                     \n",
    "\n",
    "    plt.xlim(-0.15, map_width[0]+0.15)\n",
    "    plt.ylim(-0.15, map_width[1]+0.15)\n",
    "    # plt.show()        \n",
    "\n",
    "    fig = plt.gcf()\n",
    "    fig.canvas.draw()\n",
    "    plt.axis('off')\n",
    "    \n",
    "# draw_graph(env, env._get_obs(**OBS_CONFIG))\n",
    "# plt.savefig('results/plots/decompose_1.pdf')\n",
    "for idx in range(11):\n",
    "    draw_graph(env, mini_decompose_g[idx])\n",
    "    plt.savefig(f'results/plots/decompose_{idx}.pdf')"
   ]
  },
  {
   "cell_type": "code",
   "execution_count": 194,
   "id": "faaf8f7e-14c3-472a-ae08-bfc3dd01edce",
   "metadata": {},
   "outputs": [
    {
     "data": {
      "text/plain": [
       "tensor([4])"
      ]
     },
     "execution_count": 194,
     "metadata": {},
     "output_type": "execute_result"
    }
   ],
   "source": [
    "mini_decompose_g[6]['o_near_a'].edge_index[0, mini_decompose_g[6]['o_near_a'].edge_index[1,:]==7]"
   ]
  },
  {
   "cell_type": "code",
   "execution_count": 177,
   "id": "be0e8283-c13c-445e-b0bb-e4bbc0242bb2",
   "metadata": {},
   "outputs": [
    {
     "data": {
      "text/plain": [
       "tensor([5, 0, 4, 2])"
      ]
     },
     "execution_count": 177,
     "metadata": {},
     "output_type": "execute_result"
    }
   ],
   "source": [
    "mini_decompose_g[3]['o_near_a'].edge_index[0, mini_decompose_g[3]['o_near_a'].edge_index[1,:]==7]"
   ]
  },
  {
   "cell_type": "code",
   "execution_count": 184,
   "id": "cf06b7fc-6e1e-43fb-a3fc-f7c5d4f288fa",
   "metadata": {},
   "outputs": [],
   "source": [
    "is_remove_edge = (mini_decompose_g[3]['o_near_a'].edge_index[1,:]==7) & ((mini_decompose_g[3]['o_near_a'].edge_index[0,:]==0) | (mini_decompose_g[3]['o_near_a'].edge_index[0,:]==4))\n",
    "mini_decompose_g[3]['o_near_a'].edge_index = mini_decompose_g[3]['o_near_a'].edge_index[:,~is_remove_edge]\n",
    "mini_decompose_g[3]['o_near_a'].edge_attr = mini_decompose_g[3]['o_near_a'].edge_attr[~is_remove_edge,:]"
   ]
  },
  {
   "cell_type": "code",
   "execution_count": 196,
   "id": "7fe0f355-058c-413d-b600-3b7ac72f8e85",
   "metadata": {},
   "outputs": [
    {
     "ename": "TypeError",
     "evalue": "list indices must be integers or slices, not tuple",
     "output_type": "error",
     "traceback": [
      "\u001b[0;31m---------------------------------------------------------------------------\u001b[0m",
      "\u001b[0;31mTypeError\u001b[0m                                 Traceback (most recent call last)",
      "Input \u001b[0;32mIn [196]\u001b[0m, in \u001b[0;36m<cell line: 1>\u001b[0;34m()\u001b[0m\n\u001b[0;32m----> 1\u001b[0m \u001b[43mmini_decompose_g\u001b[49m\u001b[43m[\u001b[49m\u001b[38;5;241;43m1\u001b[39;49m\u001b[43m,\u001b[49m\u001b[38;5;241;43m8\u001b[39;49m\u001b[43m,\u001b[49m\u001b[38;5;241;43m7\u001b[39;49m\u001b[43m,\u001b[49m\u001b[38;5;241;43m6\u001b[39;49m\u001b[43m]\u001b[49m\n",
      "\u001b[0;31mTypeError\u001b[0m: list indices must be integers or slices, not tuple"
     ]
    }
   ],
   "source": [
    "mini_decompose_g[1,8,7,6]"
   ]
  },
  {
   "cell_type": "code",
   "execution_count": 208,
   "id": "c3369c78-0330-443a-bd4b-211a741abd29",
   "metadata": {},
   "outputs": [
    {
     "data": {
      "text/plain": [
       "array([0.10089531, 0.10089027, 0.10074752, ..., 0.10060337, 0.10086117,\n",
       "       0.10071058], dtype=float32)"
      ]
     },
     "execution_count": 208,
     "metadata": {},
     "output_type": "execute_result"
    }
   ],
   "source": [
    "eval_action(bnn, mini_decompose_g[1], torch.linspace(-1, 1, steps=2001).reshape(1,-1,1).repeat(env.num_agents,1,1))[1][7]"
   ]
  },
  {
   "cell_type": "code",
   "execution_count": 303,
   "id": "e90c9f0c-b3ea-48bb-bab0-e34eaeb7cbb4",
   "metadata": {},
   "outputs": [
    {
     "data": {
      "image/png": "[encoded data removed]",
      "text/plain": [
       "<Figure size 432x288 with 1 Axes>"
      ]
     },
     "metadata": {
      "needs_background": "light"
     },
     "output_type": "display_data"
    },
    {
     "data": {
      "image/png": "[encoded data removed]",
      "text/plain": [
       "<Figure size 432x288 with 1 Axes>"
      ]
     },
     "metadata": {
      "needs_background": "light"
     },
     "output_type": "display_data"
    },
    {
     "data": {
      "image/png": "[encoded data removed]",
      "text/plain": [
       "<Figure size 432x288 with 1 Axes>"
      ]
     },
     "metadata": {
      "needs_background": "light"
     },
     "output_type": "display_data"
    },
    {
     "data": {
      "image/png": "[encoded data removed]",
      "text/plain": [
       "<Figure size 432x288 with 1 Axes>"
      ]
     },
     "metadata": {
      "needs_background": "light"
     },
     "output_type": "display_data"
    }
   ],
   "source": [
    "steps = 101\n",
    "v_all = 100*np.ones(steps,)\n",
    "vs = []\n",
    "for graph_id in [1,8,7,6]:\n",
    "\n",
    "    plt.clf()\n",
    "    plt.close('all')\n",
    "    v = eval_action(bnn, mini_decompose_g[graph_id], torch.linspace(-1, 1, steps=steps).reshape(1,-1,1).repeat(env.num_agents,1,1))[1][7]\n",
    "    vs.append(v)\n",
    "    v_all = np.minimum(v_all, v)\n",
    "    lii, = plt.plot(np.linspace(-1, 1, steps), v-THRESHOLD, color='#253494', linewidth=6)\n",
    "    lii.set_solid_capstyle('round')\n",
    "    plt.ylim(-0.025, 0.1)\n",
    "    plt.gca().spines['right'].set_visible(False)\n",
    "    plt.gca().spines['top'].set_visible(False)\n",
    "    plt.gca().spines['left'].set_visible(True)\n",
    "    plt.gca().spines['bottom'].set_visible(True)\n",
    "    plt.xticks([])\n",
    "    plt.yticks([0], fontsize=50)\n",
    "    plt.gca().set_yticklabels(['0 '])\n",
    "    plt.gca().tick_params(axis=u'both', which=u'both',length=0)\n",
    "    plt.gca().yaxis.grid(True, linestyle='--', linewidth=6)\n",
    "    [i.set_linewidth(6) for i in plt.gca().spines.values()]\n",
    "    plt.savefig(f'results/plots/decompose_landscape_{graph_id}.pdf')\n",
    "    plt.show()"
   ]
  },
  {
   "cell_type": "code",
   "execution_count": 324,
   "id": "b7e0cb1f-f273-4d11-b99e-1eaa4b8cdb06",
   "metadata": {},
   "outputs": [
    {
     "data": {
      "image/png": "[encoded data removed]",
      "text/plain": [
       "<Figure size 432x288 with 1 Axes>"
      ]
     },
     "metadata": {
      "needs_background": "light"
     },
     "output_type": "display_data"
    }
   ],
   "source": [
    "plt.clf()\n",
    "plt.close('all')\n",
    "lii, = plt.plot(np.linspace(-1, 1, steps), v_all-THRESHOLD, color='#253494', linewidth=6)\n",
    "lii.set_solid_capstyle('round')\n",
    "for v in vs:\n",
    "    lii, = plt.plot(np.linspace(-1, 1, steps), v-THRESHOLD, color='#253494', alpha=0.05, linewidth=6)\n",
    "    lii.set_solid_capstyle('round')\n",
    "plt.ylim(-0.025, 0.1)\n",
    "plt.gca().spines['right'].set_visible(False)\n",
    "plt.gca().spines['top'].set_visible(False)\n",
    "plt.gca().spines['left'].set_visible(True)\n",
    "plt.gca().spines['bottom'].set_visible(True)\n",
    "plt.gca().fill_between(np.linspace(-1, 1, steps)[(v_all-THRESHOLD)>0], 0, (v_all-THRESHOLD)[(v_all-THRESHOLD)>0], \n",
    "                       color='#253494', alpha=0.2)\n",
    "plt.xticks([])\n",
    "plt.yticks([0], fontsize=50)\n",
    "plt.gca().set_yticklabels(['0 '])\n",
    "plt.gca().tick_params(axis=u'both', which=u'both',length=0)\n",
    "plt.gca().yaxis.grid(True, linestyle='--', linewidth=6)\n",
    "[i.set_linewidth(6) for i in plt.gca().spines.values()]\n",
    "plt.savefig(f'results/plots/decompose_landscape_all.pdf')\n",
    "plt.show()"
   ]
  },
  {
   "cell_type": "code",
   "execution_count": 336,
   "id": "f38a7cb1-7d62-47fa-a1fb-83e578c525f8",
   "metadata": {},
   "outputs": [
    {
     "data": {
      "image/png": "[encoded data removed]",
      "text/plain": [
       "<Figure size 432x288 with 1 Axes>"
      ]
     },
     "metadata": {},
     "output_type": "display_data"
    }
   ],
   "source": [
    "plt.clf()\n",
    "plt.close('all')\n",
    "preference = env.potential_field(np.tile(np.linspace(-1, 1, steps).reshape(1, -1, 1), (env.num_agents,1,1)), K1=0, K2=-3e-2, ignore_agent=True)[7]\n",
    "lii, = plt.plot(np.linspace(-1, 1, steps), -preference, color='red', linewidth=6)\n",
    "lii.set_solid_capstyle('round')\n",
    "# plt.ylim(-0.025, 0.1)\n",
    "plt.gca().spines['right'].set_visible(False)\n",
    "plt.gca().spines['top'].set_visible(False)\n",
    "plt.gca().spines['left'].set_visible(True)\n",
    "plt.gca().spines['bottom'].set_visible(True)\n",
    "plt.xticks([])\n",
    "plt.yticks([])\n",
    "# plt.yticks([0], fontsize=50)\n",
    "# plt.gca().set_yticklabels(['0 '])\n",
    "plt.gca().tick_params(axis=u'both', which=u'both',length=0)\n",
    "# plt.gca().yaxis.grid(True, linestyle='--', linewidth=6)\n",
    "[i.set_linewidth(6) for i in plt.gca().spines.values()]\n",
    "plt.savefig(f'results/plots/decompose_preference.pdf')\n",
    "plt.show()"
   ]
  },
  {
   "cell_type": "code",
   "execution_count": 385,
   "id": "15fc50ab-a665-4dba-8666-c2249d3a38d2",
   "metadata": {},
   "outputs": [
    {
     "data": {
      "text/plain": [
       "95"
      ]
     },
     "execution_count": 385,
     "metadata": {},
     "output_type": "execute_result"
    }
   ],
   "source": [
    "preference.argmin()"
   ]
  },
  {
   "cell_type": "code",
   "execution_count": 355,
   "id": "0c2700f9-1d33-4f5c-aa5b-312702c2c79d",
   "metadata": {},
   "outputs": [
    {
     "data": {
      "text/plain": [
       "[0.9000000000000001, 0.9000000000000001]"
      ]
     },
     "execution_count": 355,
     "metadata": {},
     "output_type": "execute_result"
    }
   ],
   "source": [
    "[np.linspace(-1, 1, steps)[preference.argmin()]]*2"
   ]
  },
  {
   "cell_type": "code",
   "execution_count": 383,
   "id": "a79d1293-1e0b-41e9-86d3-6bb3e7f45182",
   "metadata": {},
   "outputs": [
    {
     "data": {
      "image/png": "[encoded data removed]",
      "text/plain": [
       "<Figure size 432x288 with 1 Axes>"
      ]
     },
     "metadata": {},
     "output_type": "display_data"
    }
   ],
   "source": [
    "plt.clf()\n",
    "plt.close('all')\n",
    "preference = env.potential_field(np.tile(np.linspace(-1, 1, steps).reshape(1, -1, 1), (env.num_agents,1,1)), K1=0, K2=-3e-2, ignore_agent=True)[7]\n",
    "lii, = plt.plot(np.linspace(-1, 1, steps), 0*np.linspace(-1, 1, steps), color='black', linewidth=6)\n",
    "lii.set_solid_capstyle('round')\n",
    "lii, = plt.plot([np.linspace(-1, 1, steps)[preference.argmin()]]*2, [-10, 1.9], color='purple', linewidth=6)\n",
    "lii.set_solid_capstyle('round')\n",
    "plt.ylim(0, 2)\n",
    "plt.gca().spines['right'].set_visible(False)\n",
    "plt.gca().spines['top'].set_visible(False)\n",
    "plt.gca().spines['left'].set_visible(False)\n",
    "plt.gca().spines['bottom'].set_visible(True)\n",
    "plt.xticks([])\n",
    "plt.yticks([])\n",
    "# plt.yticks([0], fontsize=50)\n",
    "# plt.gca().set_yticklabels(['0 '])\n",
    "plt.gca().tick_params(axis=u'both', which=u'both',length=0)\n",
    "# plt.gca().yaxis.grid(True, linestyle='--', linewidth=6)\n",
    "[i.set_linewidth(6) for i in plt.gca().spines.values()]\n",
    "plt.savefig(f'results/plots/decompose_final.pdf')\n",
    "plt.show()"
   ]
  },
  {
   "cell_type": "code",
   "execution_count": 388,
   "id": "fe740f4c-fc78-418b-aa67-b6401e629071",
   "metadata": {},
   "outputs": [
    {
     "data": {
      "text/plain": [
       "1.884955592153876"
      ]
     },
     "execution_count": 388,
     "metadata": {},
     "output_type": "execute_result"
    }
   ],
   "source": [
    "np.linspace(-1, 1, steps)[preference.argmin()]*2*np.pi/3"
   ]
  },
  {
   "cell_type": "code",
   "execution_count": 398,
   "id": "68bd6756-38f0-4b8b-9a7c-02a3337a2e5a",
   "metadata": {},
   "outputs": [
    {
     "data": {
      "image/png": "[encoded data removed]",
      "text/plain": [
       "<Figure size 720x720 with 1 Axes>"
      ]
     },
     "metadata": {
      "needs_background": "light"
     },
     "output_type": "display_data"
    }
   ],
   "source": [
    "from environment.gym_dubins_car import *\n",
    "def draw_graph(env, data):\n",
    "    plt.clf()\n",
    "    plt.close('all')\n",
    "    plt.figure(figsize=(10, 10))\n",
    "    environment_map = env.world.state\n",
    "    map_x, map_y = env.world.state.shape\n",
    "\n",
    "    map_width = env.world.state.shape\n",
    "    colors=env.initColors()\n",
    "            \n",
    "    agent = env.world.agents[7]\n",
    "    circle = patches.Circle((env.world.agents[7][0], env.world.agents[7][1]), 0.15, edgecolor=list(colors.values())[7], \n",
    "                            facecolor=list(colors.values())[7], zorder=2)\n",
    "    arrow = patches.Arrow(agent[0]-np.cos(agent[2])*(0.15), agent[1]-np.sin(agent[2])*(0.15), np.cos(agent[2])*0.3, np.sin(agent[2])*0.3, width=0.3, edgecolor='black', facecolor='black', zorder=3)\n",
    "    plt.gca().add_patch(arrow)    \n",
    "    plt.gca().add_patch(circle)                            \n",
    "\n",
    "    plt.xlim(-0.15, map_width[0]+0.15)\n",
    "    plt.ylim(-0.15, map_width[1]+0.15)\n",
    "    # plt.show()        \n",
    "    \n",
    "    a3 = patches.FancyArrowPatch((agent[0]-np.cos(agent[2])*(0.15), agent[1]-+np.sin(agent[2])*0.3), (agent[0]+np.cos(agent[2])*0.3, agent[1]-np.sin(agent[2])*(0.15)),\n",
    "                             connectionstyle=\"arc3,rad={}\".format(0.15))\n",
    "\n",
    "    plt.gca().add_patch(a3)    \n",
    "\n",
    "    fig = plt.gcf()\n",
    "    fig.canvas.draw()\n",
    "    plt.axis('off')\n",
    "    \n",
    "# draw_graph(env, env._get_obs(**OBS_CONFIG))\n",
    "# plt.savefig('results/plots/decompose_1.pdf')\n",
    "draw_graph(env, mini_decompose_g[idx])\n",
    "plt.savefig(f'results/plots/decompose_action.pdf')"
   ]
  },
  {
   "cell_type": "code",
   "execution_count": 534,
   "id": "58a34181-79a3-4890-82e9-9662077b993d",
   "metadata": {},
   "outputs": [
    {
     "data": {
      "text/plain": [
       "<Figure size 432x288 with 0 Axes>"
      ]
     },
     "metadata": {},
     "output_type": "display_data"
    },
    {
     "data": {
      "image/png": "[encoded data removed]",
      "text/plain": [
       "<Figure size 216x216 with 1 Axes>"
      ]
     },
     "metadata": {
      "needs_background": "light"
     },
     "output_type": "display_data"
    }
   ],
   "source": [
    "import matplotlib\n",
    "import numpy as np\n",
    "from matplotlib.pyplot import figure, show, grid\n",
    "\n",
    "plt.close('all')\n",
    "plt.clf()\n",
    "# make a square figure\n",
    "fig = figure(figsize=(3, 3))\n",
    "ax = fig.add_axes([0.1, 0.1, 0.8, 0.8], polar=True)\n",
    "ax.set_yticklabels([])\n",
    "ax.set_theta_offset(offset=env.world.agents[7][2])\n",
    "plt.xticks(fontsize=20)\n",
    "\n",
    "r = np.array([0,1])\n",
    "plt.grid(color='#253494',alpha=0.2, linewidth=4)\n",
    "[i.set_linewidth(6) for i in plt.gca().spines.values()]\n",
    "# tick locations\n",
    "thetaticks = np.arange(0,360,45)\n",
    "ax.xaxis.set_tick_params(pad=15.5)\n",
    "theta = 2*np.pi*r\n",
    "plt.plot((0, 1.884955592153876), (0,0.9), lw=4, \n",
    "          color=list(env.initColors().values())[7], zorder=5)\n",
    "# ax.plot(theta, r, color=list(env.initColors().values())[7], lw=3)\n",
    "ax.set_rmax(1.0)\n",
    "plt.savefig(f'results/plots/decompose_action.pdf', bbox_inches = 'tight')\n",
    "plt.show()"
   ]
  },
  {
   "cell_type": "code",
   "execution_count": 476,
   "id": "9592ae8c-6bab-4046-bd81-6e02bdef30a7",
   "metadata": {},
   "outputs": [
    {
     "data": {
      "image/png": "[encoded data removed]",
      "text/plain": [
       "<Figure size 288x288 with 1 Axes>"
      ]
     },
     "metadata": {
      "needs_background": "light"
     },
     "output_type": "display_data"
    }
   ],
   "source": [
    "import matplotlib\n",
    "import numpy as np\n",
    "import matplotlib.pyplot as plt\n",
    "\n",
    "# radar green, solid grid lines\n",
    "plt.rc('grid', color='#316931', linewidth=1, linestyle='-')\n",
    "plt.rc('xtick', labelsize=15)\n",
    "plt.rc('ytick', labelsize=15)\n",
    "\n",
    "# force square figure and square axes looks better for polar, IMO\n",
    "width, height = matplotlib.rcParams['figure.figsize']\n",
    "size = min(width, height)\n",
    "# make a square figure\n",
    "fig = plt.figure(figsize=(size, size))\n",
    "ax = fig.add_axes([0.1, 0.1, 0.8, 0.8], polar=True)\n",
    "\n",
    "r = np.arange(0, 3.0, 0.01)\n",
    "theta = 2*np.pi*r\n",
    "ax.plot(theta, r, color='#ee8d18', lw=3)\n",
    "ax.set_rmax(2.0)\n",
    "plt.grid(True)\n",
    "\n",
    "#This is the line I added:\n",
    "arr1 = plt.arrow(0, 0.5, 0, 1, alpha = 0.5, width = 0.015,\n",
    "                 edgecolor = 'black', facecolor = 'green', lw = 2, zorder = 5)\n",
    "\n",
    "# arrow at 45 degree\n",
    "arr2 = plt.arrow(45/180.*np.pi, 0.5, 0, 1, alpha = 0.5, width = 0.015,\n",
    "                 edgecolor = 'black', facecolor = 'green', lw = 2, zorder = 5)\\\n",
    "\n",
    "arr3 = plt.arrow(0, 0.5, 1.8, 1, alpha = 0.5, width = 0.015,\n",
    "                 edgecolor = 'black', facecolor = 'green', lw = 2, zorder = 5)\n",
    "\n",
    "plt.show()"
   ]
  },
  {
   "cell_type": "code",
   "execution_count": 486,
   "id": "b1df8320-5123-4410-b18a-0090b08f262a",
   "metadata": {},
   "outputs": [
    {
     "data": {
      "image/png": "[encoded data removed]",
      "text/plain": [
       "<Figure size 1080x1080 with 1 Axes>"
      ]
     },
     "metadata": {
      "needs_background": "light"
     },
     "output_type": "display_data"
    }
   ],
   "source": [
    "from pylab import figure, arrow, show\n",
    "import numpy as np\n",
    "fig = figure(figsize=(15,15))\n",
    "ax = fig.add_subplot(111, polar=True)\n",
    "ax.arrow(0.0,0.0,np.pi/4,0.3,lw=2)\n",
    "ax.arrow(0.0,0.0,2*np.pi/3,0.7,lw=2,head_length=0.01,head_width=0.1)\n",
    "show()"
   ]
  },
  {
   "cell_type": "code",
   "execution_count": 335,
   "id": "0e821e91-f976-4e8c-bf5e-6ff11787426e",
   "metadata": {},
   "outputs": [
    {
     "data": {
      "text/plain": [
       "20"
      ]
     },
     "execution_count": 335,
     "metadata": {},
     "output_type": "execute_result"
    }
   ],
   "source": [
    "preference.argmax()"
   ]
  },
  {
   "cell_type": "code",
   "execution_count": 142,
   "id": "28a28270-37f3-44cc-9787-1e810eac663c",
   "metadata": {},
   "outputs": [],
   "source": [
    "with open('dubins_decompose.pkl', 'wb') as f:\n",
    "    pkl.dump({'agents': env.world.agents, 'obstacles': env.world.obstacles, 'goals': env.world.agent_goals}, f)"
   ]
  },
  {
   "cell_type": "code",
   "execution_count": 18,
   "id": "1e8737f1-d377-4d37-98aa-0211ea2a87ad",
   "metadata": {},
   "outputs": [
    {
     "data": {
      "text/plain": [
       "'model_gnn/dbgnn_DubinsCarEnv_v125.pt'"
      ]
     },
     "execution_count": 18,
     "metadata": {},
     "output_type": "execute_result"
    }
   ],
   "source": [
    "BMODEL_PATH"
   ]
  },
  {
   "cell_type": "code",
   "execution_count": 4,
   "id": "145b63ad-bf89-46ff-8844-019d956462ef",
   "metadata": {},
   "outputs": [
    {
     "name": "stdout",
     "output_type": "stream",
     "text": [
      "2.23606797749979\n"
     ]
    },
    {
     "data": {
      "image/png": "[encoded data removed]",
      "text/plain": [
       "<Figure size 720x720 with 1 Axes>"
      ]
     },
     "metadata": {
      "needs_background": "light"
     },
     "output_type": "display_data"
    }
   ],
   "source": [
    "env = create_env()\n",
    "env._render();\n",
    "print(np.linalg.norm(env.world.agent_goals[:,:2]-env.world.agents[:,:2], axis=-1).max())"
   ]
  },
  {
   "cell_type": "code",
   "execution_count": null,
   "id": "93b613ee-5306-47f7-b849-b2555717d6c2",
   "metadata": {},
   "outputs": [],
   "source": [
    "BMODEL_PATH.replace('.pt', \"_current.pt\")"
   ]
  },
  {
   "cell_type": "code",
   "execution_count": 23,
   "id": "221df3a9-36c0-4530-badd-29988a8da744",
   "metadata": {
    "tags": []
   },
   "outputs": [
    {
     "name": "stdout",
     "output_type": "stream",
     "text": [
      "CPU times: user 3 µs, sys: 0 ns, total: 3 µs\n",
      "Wall time: 4.29 µs\n"
     ]
    }
   ],
   "source": [
    "%%time \n",
    "NUM_AGENTS, OBSTACLE_DENSITY, MAP_SIZE = 2, 1.0, 4\n",
    "\n",
    "# for num_agents in list(2**np.arange(0, 12)):\n",
    "#     random.seed(0)\n",
    "#     np.random.seed(0)\n",
    "#     torch.manual_seed(0)\n",
    "    \n",
    "#     valid_dataset = []\n",
    "#     for _ in range(100):\n",
    "#         env = create_env(num_agents=num_agents, size=max(int((num_agents*2)**0.5), 4), max_dist=6)  # num_agents=128, size=16, max_dist=4\n",
    "#         valid_dataset.append((env.world.obstacles.copy(), env.world.agent_goals.copy(), env.world.agents.copy()))\n",
    "        \n",
    "#     import pickle as pkl\n",
    "\n",
    "#     with open(f'dataset/{project_name}_{num_agents}.pkl', 'wb') as f:\n",
    "#         pkl.dump(valid_dataset, f)"
   ]
  },
  {
   "cell_type": "code",
   "execution_count": 4,
   "id": "f2f66fa1-4520-46b3-8455-d90003446ff1",
   "metadata": {},
   "outputs": [],
   "source": [
    "import pickle as pkl\n",
    "with open(f'dataset/{project_name}_{NUM_AGENTS}.pkl', 'rb') as f:\n",
    "    valid_dataset = pkl.load(f)"
   ]
  },
  {
   "cell_type": "code",
   "execution_count": 24,
   "id": "9cf43221-3dba-4686-b049-80be57ae6db6",
   "metadata": {},
   "outputs": [],
   "source": [
    "import pickle as pkl\n",
    "with open(f'dataset/trajs/{project_name}_{NUM_AGENTS}.pkl', 'rb') as f:\n",
    "    trajs = pkl.load(f)"
   ]
  },
  {
   "cell_type": "code",
   "execution_count": null,
   "id": "8af91a10-c7a4-4c38-8a4d-f27f38390360",
   "metadata": {
    "scrolled": true,
    "tags": []
   },
   "outputs": [],
   "source": [
    "import copy\n",
    "\n",
    "collideds = []\n",
    "dones = []\n",
    "lengths = []\n",
    "neighbor_a = []\n",
    "neighbor_o = []\n",
    "for v_idx, data in tqdm(enumerate(valid_dataset)):\n",
    "    env = create_env(num_agents=NUM_AGENTS, size=max(int((NUM_AGENTS*2)**0.5), 4), density=0, min_dist=0, max_dist=1000)\n",
    "    env.world.obstacles, env.world.agent_goals, env.world.agents = deepcopy(data)\n",
    "    # decompose=('random_k', 100)\n",
    "    gif_file = 'gifs/0427/v125/'+str(v_idx)+f'_{NUM_AGENTS}_decompose_lie.gif'\n",
    "    # lie_derive_safe=True,\n",
    "    collided, done, gifs = infer(env,bnn,n_action=100,verbose=True,spatial_prop=False,lie_derive_safe=True,decompose='random',stop_at_collision=True,need_gif=gif_file)\n",
    "    collideds.append(collided)\n",
    "    dones.append(done)\n",
    "    lengths.append(len(gifs))\n",
    "    \n",
    "    for gif in gifs:\n",
    "        env.world.agents = copy.deepcopy(gif)\n",
    "        try:\n",
    "            neighbor_a.append(int((env._get_obs(**OBS_CONFIG)['a_near_a'].edge_index[1,:]==1).sum()))\n",
    "        except:\n",
    "            neighbor_a.append(0)\n",
    "        try:\n",
    "            neighbor_o.append(int((env._get_obs(**OBS_CONFIG)['o_near_a'].edge_index[1,:]==1).sum()))    \n",
    "        except:\n",
    "            neighbor_o.append(0)\n",
    "\n",
    "print(np.any(collideds, axis=-1).mean(), np.mean(collideds), np.mean(dones), np.mean(lengths))"
   ]
  },
  {
   "cell_type": "code",
   "execution_count": null,
   "id": "685572c4-4996-46fc-9dad-494861dc4072",
   "metadata": {},
   "outputs": [],
   "source": [
    "\n",
    "v_idx = 0\n",
    "env = create_env(num_agents=NUM_AGENTS, size=max(int((NUM_AGENTS*2)**0.5), 4), density=0, min_dist=0, max_dist=1000)\n",
    "env.world.obstacles, env.world.agent_goals, env.world.agents = deepcopy(valid_dataset[v_idx])\n",
    "data = Batch.from_data_list([d for d in env._get_obs_random_k(**OBS_CONFIG_DECOMPOSE)])"
   ]
  },
  {
   "cell_type": "code",
   "execution_count": null,
   "id": "d1c0b9a2-f13f-4cb5-845d-5a32b6e01080",
   "metadata": {},
   "outputs": [],
   "source": [
    "len(data['agent'].x)"
   ]
  },
  {
   "cell_type": "code",
   "execution_count": null,
   "id": "c82462e6-e05d-416d-9f94-659760e3bfd8",
   "metadata": {},
   "outputs": [],
   "source": [
    "data['agent'].n_id"
   ]
  },
  {
   "cell_type": "code",
   "execution_count": null,
   "id": "b041b082-e968-4e19-869f-9cb7f14301c2",
   "metadata": {},
   "outputs": [],
   "source": [
    "n_batch"
   ]
  },
  {
   "cell_type": "code",
   "execution_count": null,
   "id": "6e69795a-6fd5-4e86-85e3-4b33c17c0de0",
   "metadata": {},
   "outputs": [],
   "source": [
    "a = np.random.uniform(low=-1, high=1, size=(env.num_agents, n_candidates, env.action_dim))\n",
    "n_batch = int(1000000000/(len(data['agent'].x)*2*(HIDDEN_SIZE+env.action_dim)))\n",
    "with torch.no_grad():\n",
    "    with torch.cuda.amp.autocast():\n",
    "        vec = bnn.get_vec(data.cuda())\n",
    "        vec = vec.reshape((1+data['agent'].batch.max()), env.num_agents, 1, HIDDEN_SIZE)\n",
    "        for start_idx in range(0, n_candidates, n_batch):\n",
    "            print(start_idx)\n",
    "            action_tensor = torch.tensor(a[:, start_idx:(start_idx+n_batch), :]).cuda()\n",
    "            action_tensor = action_tensor[data['agent'].n_id, :, :].reshape((1+data['agent'].batch.max()), env.num_agents, -1, 1)\n",
    "            value = bnn.get_field(vec.repeat((1, 1, n_batch, 1)), action_tensor)"
   ]
  },
  {
   "cell_type": "code",
   "execution_count": null,
   "id": "6695a334-acf3-48ec-bbcd-731ee532cbc2",
   "metadata": {},
   "outputs": [],
   "source": [
    "n_batch"
   ]
  },
  {
   "cell_type": "code",
   "execution_count": null,
   "id": "a07f38f9-8bc9-4e84-aaac-bff8ea90b02d",
   "metadata": {},
   "outputs": [],
   "source": [
    "vec.shape"
   ]
  },
  {
   "cell_type": "code",
   "execution_count": null,
   "id": "9e936cce-493d-4296-ac68-28c17b11ce11",
   "metadata": {},
   "outputs": [],
   "source": [
    "import sys\n",
    "print(sys.getsizeof(vec.storage()))"
   ]
  },
  {
   "cell_type": "code",
   "execution_count": null,
   "id": "5a4e9f24-d601-4439-8d41-f922c6d714bf",
   "metadata": {},
   "outputs": [],
   "source": [
    "import sys\n",
    "print(sys.getsizeof(action_tensor.storage()))"
   ]
  },
  {
   "cell_type": "code",
   "execution_count": null,
   "id": "14ff5389-cc4b-454d-9150-97a9d11e9c15",
   "metadata": {},
   "outputs": [],
   "source": [
    "len(data['agent'].n_id)"
   ]
  },
  {
   "cell_type": "code",
   "execution_count": null,
   "id": "aec44fd3-222d-45fe-b0cc-6ec431efaf8e",
   "metadata": {},
   "outputs": [],
   "source": [
    "%debug"
   ]
  },
  {
   "cell_type": "code",
   "execution_count": null,
   "id": "d694371d-5598-4c92-bf2f-2304791c5d51",
   "metadata": {},
   "outputs": [],
   "source": [
    "OBS_CONFIG_DECOMPOSE"
   ]
  },
  {
   "cell_type": "code",
   "execution_count": null,
   "id": "8b3ba4b7-5053-4c4d-bea3-1422d333629b",
   "metadata": {},
   "outputs": [],
   "source": []
  },
  {
   "cell_type": "code",
   "execution_count": null,
   "id": "399d632c-0a1d-4450-96eb-b9e15fd48bbf",
   "metadata": {},
   "outputs": [],
   "source": [
    "data."
   ]
  },
  {
   "cell_type": "code",
   "execution_count": null,
   "id": "95045aa1-3208-4f09-9cda-d4c31177ab3a",
   "metadata": {},
   "outputs": [],
   "source": [
    "env.num_agents"
   ]
  },
  {
   "cell_type": "code",
   "execution_count": null,
   "id": "ed2a6ae4-7493-4a75-a761-03f7362a307d",
   "metadata": {},
   "outputs": [],
   "source": [
    "np.minimum.reduce([[2, 3, 4], [1, 5, 2], [7,8,-1]])"
   ]
  },
  {
   "cell_type": "code",
   "execution_count": 5,
   "id": "d8c99c6f-340a-45b9-9cae-576fb8931331",
   "metadata": {
    "scrolled": true,
    "tags": []
   },
   "outputs": [
    {
     "name": "stdout",
     "output_type": "stream",
     "text": [
      "----------------------------------------\n",
      "0 0.08213550597429276 0.1009722650051117 (array([], dtype=int64),) (array([], dtype=int64),) set()\n",
      "1 0.07960007339715958 0.10133811086416245 (array([  33,   48,   57,  154,  162,  226,  268,  319,  325,  327,  369,\n",
      "        412,  506,  563,  567,  571,  707,  739,  780,  782,  862,  895,\n",
      "        927,  935, 1025, 1076, 1151, 1182, 1194, 1205, 1264, 1286, 1414,\n",
      "       1418, 1476, 1612, 1627, 1666, 1714, 1776, 1821, 1846, 1852, 1886,\n",
      "       1887, 1922, 1961, 1996, 2010, 2028, 2043]),) (array([], dtype=int64),) set()\n",
      "2 0.02860872820019722 0.100788414478302 (array([   5,    9,   22,   24,   34,   37,   43,   44,   45,   48,   57,\n",
      "         84,   88,  107,  108,  111,  120,  124,  130,  142,  150,  153,\n",
      "        157,  162,  171,  173,  182,  199,  211,  216,  218,  227,  248,\n",
      "        249,  257,  262,  270,  273,  281,  283,  291,  300,  319,  322,\n",
      "        325,  327,  345,  351,  352,  353,  354,  356,  364,  365,  367,\n",
      "        368,  397,  405,  413,  417,  424,  426,  430,  435,  436,  441,\n",
      "        458,  461,  469,  470,  475,  481,  482,  499,  501,  503,  504,\n",
      "        506,  509,  515,  550,  567,  570,  571,  574,  578,  583,  590,\n",
      "        596,  615,  634,  635,  648,  666,  668,  675,  678,  680,  683,\n",
      "        684,  688,  697,  699,  701,  715,  725,  735,  743,  745,  754,\n",
      "        770,  772,  782,  786,  788,  791,  796,  802,  810,  812,  816,\n",
      "        821,  827,  828,  835,  837,  840,  842,  862,  870,  879,  880,\n",
      "        893,  895,  909,  912,  925,  931,  933,  939,  944,  945,  948,\n",
      "        949,  956,  966,  968,  975,  979,  981,  993, 1001, 1004, 1010,\n",
      "       1013, 1023, 1025, 1027, 1028, 1045, 1057, 1069, 1076, 1083, 1092,\n",
      "       1104, 1106, 1112, 1124, 1126, 1142, 1150, 1166, 1176, 1178, 1182,\n",
      "       1197, 1247, 1249, 1253, 1258, 1268, 1276, 1283, 1284, 1286, 1289,\n",
      "       1292, 1298, 1299, 1321, 1329, 1331, 1336, 1341, 1342, 1348, 1353,\n",
      "       1357, 1361, 1365, 1366, 1367, 1374, 1380, 1391, 1403, 1404, 1405,\n",
      "       1406, 1411, 1415, 1417, 1419, 1426, 1436, 1440, 1463, 1466, 1472,\n",
      "       1475, 1478, 1483, 1485, 1490, 1492, 1502, 1505, 1519, 1536, 1550,\n",
      "       1552, 1554, 1556, 1566, 1570, 1585, 1587, 1600, 1604, 1606, 1608,\n",
      "       1614, 1637, 1640, 1641, 1660, 1686, 1690, 1693, 1699, 1714, 1716,\n",
      "       1727, 1741, 1748, 1754, 1756, 1757, 1769, 1773, 1776, 1778, 1796,\n",
      "       1814, 1816, 1818, 1825, 1830, 1841, 1849, 1852, 1860, 1861, 1864,\n",
      "       1865, 1867, 1869, 1876, 1912, 1914, 1922, 1930, 1932, 1936, 1942,\n",
      "       1943, 1959, 1961, 1962, 1963, 1969, 1972, 1982, 1993, 1996, 2003,\n",
      "       2004, 2008, 2013, 2030, 2034, 2035]),) (array([], dtype=int64),) set()\n",
      "3 0.04678308591246605 0.10106609761714935 (array([  10,   22,   30,   36,   38,   40,   44,   50,   54,   63,   65,\n",
      "         87,   88,   89,   98,  103,  104,  105,  107,  117,  120,  124,\n",
      "        128,  133,  136,  137,  142,  150,  151,  153,  154,  167,  171,\n",
      "        173,  181,  182,  196,  203,  206,  212,  221,  226,  227,  242,\n",
      "        243,  247,  249,  253,  257,  258,  268,  269,  279,  281,  285,\n",
      "        287,  293,  300,  317,  319,  320,  321,  322,  325,  327,  341,\n",
      "        344,  354,  364,  365,  368,  383,  389,  398,  405,  410,  412,\n",
      "        417,  435,  443,  445,  452,  456,  459,  461,  463,  466,  467,\n",
      "        468,  478,  480,  481,  482,  486,  489,  494,  497,  500,  503,\n",
      "        504,  514,  528,  532,  534,  551,  557,  559,  560,  563,  567,\n",
      "        568,  578,  583,  594,  599,  614,  624,  628,  629,  643,  654,\n",
      "        655,  656,  658,  660,  661,  666,  668,  673,  678,  680,  683,\n",
      "        689,  693,  695,  697,  703,  706,  716,  719,  731,  745,  746,\n",
      "        760,  762,  763,  764,  768,  770,  772,  774,  775,  777,  778,\n",
      "        781,  786,  788,  799,  804,  807,  811,  848,  859,  862,  870,\n",
      "        873,  874,  879,  881,  882,  886,  887,  892,  893,  896,  898,\n",
      "        903,  905,  907,  912,  918,  926,  928,  934,  945,  948,  949,\n",
      "        969,  975,  979,  980,  983,  993, 1003, 1010, 1012, 1021, 1027,\n",
      "       1031, 1034, 1035, 1037, 1038, 1053, 1057, 1068, 1069, 1074, 1076,\n",
      "       1094, 1103, 1104, 1107, 1126, 1136, 1143, 1151, 1156, 1172, 1178,\n",
      "       1183, 1186, 1192, 1194, 1209, 1216, 1217, 1225, 1233, 1234, 1253,\n",
      "       1254, 1258, 1275, 1286, 1289, 1292, 1295, 1297, 1298, 1299, 1321,\n",
      "       1322, 1326, 1334, 1342, 1346, 1347, 1348, 1358, 1367, 1370, 1374,\n",
      "       1376, 1392, 1404, 1405, 1408, 1412, 1414, 1415, 1416, 1419, 1420,\n",
      "       1426, 1429, 1440, 1447, 1460, 1476, 1482, 1487, 1490, 1491, 1497,\n",
      "       1514, 1516, 1517, 1519, 1525, 1530, 1531, 1535, 1537, 1539, 1541,\n",
      "       1551, 1554, 1556, 1564, 1572, 1573, 1583, 1591, 1597, 1598, 1600,\n",
      "       1606, 1608, 1610, 1612, 1614, 1618, 1626, 1627, 1630, 1637, 1638,\n",
      "       1641, 1651, 1657, 1659, 1662, 1669, 1674, 1684, 1685, 1690, 1705,\n",
      "       1719, 1727, 1731, 1732, 1734, 1745, 1746, 1750, 1757, 1766, 1772,\n",
      "       1774, 1782, 1790, 1795, 1799, 1800, 1816, 1818, 1825, 1826, 1833,\n",
      "       1841, 1842, 1852, 1856, 1861, 1864, 1867, 1877, 1883, 1886, 1900,\n",
      "       1905, 1911, 1912, 1914, 1915, 1917, 1919, 1922, 1924, 1930, 1933,\n",
      "       1953, 1958, 1959, 1963, 1968, 1972, 1981, 1992, 1995, 1999, 2001,\n",
      "       2003, 2009, 2016, 2017, 2035, 2037, 2043]),) (array([], dtype=int64),) set()\n",
      "4 0.003215895965695381 0.10090306401252747 (array([   6,    7,    8,   11,   14,   16,   20,   24,   30,   32,   33,\n",
      "         38,   44,   49,   51,   57,   63,   65,   75,   76,   81,   82,\n",
      "         84,   85,   88,   92,   95,   96,   97,   98,   99,  104,  107,\n",
      "        109,  117,  118,  120,  130,  133,  136,  137,  146,  147,  154,\n",
      "        158,  162,  164,  165,  166,  167,  171,  175,  178,  200,  203,\n",
      "        206,  208,  215,  216,  222,  224,  225,  235,  236,  243,  246,\n",
      "        247,  248,  257,  266,  273,  276,  277,  285,  286,  294,  305,\n",
      "        313,  318,  319,  321,  324,  327,  332,  335,  338,  339,  341,\n",
      "        342,  345,  348,  353,  360,  363,  364,  365,  368,  369,  386,\n",
      "        398,  400,  405,  406,  407,  410,  411,  415,  417,  418,  430,\n",
      "        436,  443,  452,  455,  456,  458,  459,  463,  464,  465,  467,\n",
      "        468,  470,  479,  486,  487,  490,  493,  495,  497,  500,  509,\n",
      "        514,  515,  523,  527,  528,  530,  531,  534,  535,  538,  539,\n",
      "        541,  544,  548,  549,  551,  555,  556,  557,  559,  563,  565,\n",
      "        575,  580,  582,  586,  587,  590,  596,  599,  607,  615,  618,\n",
      "        619,  622,  624,  627,  628,  635,  637,  643,  644,  652,  655,\n",
      "        656,  657,  660,  663,  669,  673,  674,  678,  680,  683,  686,\n",
      "        688,  695,  697,  703,  706,  712,  719,  723,  724,  728,  730,\n",
      "        731,  738,  739,  741,  746,  749,  756,  757,  758,  760,  763,\n",
      "        767,  768,  772,  775,  776,  777,  786,  788,  790,  796,  798,\n",
      "        799,  802,  804,  805,  807,  810,  811,  816,  818,  824,  841,\n",
      "        843,  847,  852,  858,  859,  860,  866,  868,  869,  870,  873,\n",
      "        875,  878,  882,  886,  893,  896,  903,  905,  908,  912,  914,\n",
      "        920,  923,  924,  926,  927,  931,  934,  937,  940,  946,  952,\n",
      "        959,  965,  966,  968,  972,  976,  978,  980,  983,  985,  993,\n",
      "        994,  998, 1004, 1008, 1009, 1025, 1027, 1034, 1041, 1042, 1045,\n",
      "       1046, 1051, 1053, 1057, 1062, 1067, 1072, 1079, 1081, 1083, 1084,\n",
      "       1085, 1089, 1092, 1093, 1103, 1104, 1107, 1121, 1122, 1125, 1129,\n",
      "       1131, 1135, 1141, 1159, 1160, 1166, 1167, 1169, 1170, 1173, 1176,\n",
      "       1179, 1183, 1192, 1193, 1194, 1195, 1196, 1203, 1215, 1216, 1222,\n",
      "       1225, 1227, 1230, 1234, 1235, 1237, 1243, 1245, 1247, 1249, 1253,\n",
      "       1254, 1260, 1265, 1266, 1269, 1279, 1281, 1288, 1290, 1291, 1292,\n",
      "       1300, 1303, 1310, 1312, 1314, 1321, 1322, 1324, 1329, 1334, 1336,\n",
      "       1343, 1344, 1345, 1346, 1347, 1352, 1353, 1356, 1361, 1362, 1366,\n",
      "       1367, 1369, 1372, 1376, 1380, 1381, 1388, 1395, 1398, 1400, 1402,\n",
      "       1407, 1410, 1411, 1413, 1415, 1416, 1420, 1421, 1422, 1424, 1434,\n",
      "       1440, 1441, 1447, 1455, 1459, 1469, 1472, 1476, 1478, 1484, 1487,\n",
      "       1491, 1496, 1497, 1505, 1509, 1514, 1517, 1522, 1524, 1526, 1533,\n",
      "       1537, 1541, 1546, 1547, 1551, 1566, 1572, 1585, 1597, 1598, 1600,\n",
      "       1607, 1609, 1616, 1617, 1618, 1621, 1625, 1626, 1630, 1633, 1637,\n",
      "       1638, 1639, 1642, 1649, 1651, 1654, 1656, 1658, 1659, 1661, 1662,\n",
      "       1663, 1666, 1669, 1676, 1680, 1684, 1685, 1686, 1687, 1692, 1696,\n",
      "       1711, 1713, 1718, 1727, 1732, 1738, 1745, 1748, 1755, 1756, 1766,\n",
      "       1769, 1770, 1775, 1782, 1787, 1790, 1792, 1793, 1798, 1799, 1800,\n",
      "       1802, 1803, 1807, 1811, 1815, 1818, 1821, 1825, 1829, 1834, 1837,\n",
      "       1842, 1846, 1859, 1861, 1870, 1872, 1877, 1880, 1883, 1887, 1893,\n",
      "       1900, 1904, 1908, 1917, 1929, 1932, 1934, 1935, 1938, 1941, 1945,\n",
      "       1947, 1948, 1949, 1952, 1953, 1968, 1974, 1977, 1979, 1980, 1981,\n",
      "       1984, 1990, 2000, 2001, 2006, 2007, 2009, 2012, 2013, 2014, 2019,\n",
      "       2022, 2028, 2030, 2033, 2038, 2047]),) (array([], dtype=int64),) set()\n",
      "5 0.014745895750820637 0.10112804174423218 (array([   0,    6,    7,    8,   11,   12,   16,   17,   20,   24,   32,\n",
      "         37,   38,   42,   43,   46,   47,   48,   51,   55,   64,   75,\n",
      "         80,   85,   89,   91,   92,   95,   96,   97,   98,  104,  111,\n",
      "        116,  117,  118,  125,  131,  136,  139,  146,  147,  151,  157,\n",
      "        173,  174,  175,  178,  182,  184,  191,  195,  196,  206,  212,\n",
      "        213,  216,  224,  227,  234,  241,  243,  249,  273,  275,  277,\n",
      "        283,  284,  285,  286,  305,  313,  334,  336,  338,  343,  344,\n",
      "        355,  356,  360,  363,  373,  375,  377,  394,  396,  406,  407,\n",
      "        413,  417,  420,  421,  430,  447,  448,  455,  456,  466,  469,\n",
      "        471,  476,  478,  482,  484,  489,  495,  502,  503,  504,  505,\n",
      "        506,  507,  512,  514,  515,  517,  523,  529,  536,  543,  545,\n",
      "        547,  548,  550,  551,  556,  560,  563,  564,  565,  571,  579,\n",
      "        584,  586,  587,  588,  589,  598,  599,  602,  605,  614,  618,\n",
      "        619,  622,  624,  631,  635,  643,  648,  652,  656,  657,  660,\n",
      "        669,  685,  686,  688,  689,  693,  695,  699,  700,  705,  712,\n",
      "        715,  716,  717,  719,  724,  725,  730,  733,  744,  745,  749,\n",
      "        754,  756,  760,  761,  763,  765,  770,  780,  790,  799,  805,\n",
      "        812,  816,  829,  831,  836,  838,  840,  846,  853,  855,  857,\n",
      "        858,  860,  862,  869,  873,  874,  875,  877,  878,  882,  893,\n",
      "        896,  907,  908,  909,  911,  913,  914,  920,  929,  934,  936,\n",
      "        937,  939,  940,  960,  965,  968,  970,  978,  980,  983,  985,\n",
      "        995,  998, 1005, 1009, 1012, 1013, 1020, 1024, 1027, 1028, 1029,\n",
      "       1034, 1038, 1041, 1042, 1046, 1053, 1057, 1067, 1072, 1076, 1081,\n",
      "       1084, 1085, 1086, 1093, 1096, 1098, 1100, 1103, 1107, 1121, 1129,\n",
      "       1135, 1143, 1151, 1153, 1155, 1157, 1161, 1168, 1169, 1176, 1183,\n",
      "       1185, 1187, 1188, 1196, 1198, 1203, 1207, 1210, 1214, 1215, 1217,\n",
      "       1225, 1227, 1233, 1237, 1240, 1243, 1245, 1247, 1253, 1266, 1270,\n",
      "       1271, 1279, 1281, 1284, 1288, 1290, 1293, 1299, 1308, 1309, 1312,\n",
      "       1314, 1324, 1330, 1334, 1339, 1352, 1355, 1356, 1357, 1366, 1367,\n",
      "       1372, 1376, 1378, 1379, 1382, 1387, 1395, 1398, 1400, 1401, 1404,\n",
      "       1413, 1414, 1421, 1422, 1423, 1424, 1431, 1434, 1435, 1441, 1445,\n",
      "       1447, 1451, 1452, 1454, 1459, 1467, 1476, 1481, 1484, 1485, 1486,\n",
      "       1487, 1495, 1497, 1499, 1502, 1509, 1517, 1520, 1521, 1522, 1525,\n",
      "       1530, 1535, 1537, 1550, 1551, 1562, 1570, 1576, 1586, 1591, 1595,\n",
      "       1599, 1607, 1608, 1609, 1616, 1633, 1638, 1651, 1654, 1661, 1662,\n",
      "       1663, 1666, 1680, 1684, 1686, 1698, 1699, 1705, 1711, 1712, 1714,\n",
      "       1716, 1718, 1719, 1720, 1725, 1727, 1728, 1733, 1736, 1737, 1755,\n",
      "       1756, 1766, 1769, 1770, 1771, 1773, 1774, 1775, 1782, 1785, 1787,\n",
      "       1790, 1796, 1799, 1800, 1805, 1811, 1812, 1813, 1826, 1834, 1836,\n",
      "       1840, 1842, 1859, 1860, 1864, 1867, 1871, 1875, 1877, 1883, 1898,\n",
      "       1904, 1905, 1906, 1911, 1912, 1913, 1929, 1931, 1932, 1934, 1935,\n",
      "       1936, 1937, 1945, 1946, 1949, 1953, 1963, 1966, 1968, 1969, 1974,\n",
      "       1978, 1983, 1984, 1988, 1990, 1991, 1992, 1995, 1998, 1999, 2001,\n",
      "       2002, 2005, 2006, 2007, 2009, 2013, 2014, 2016, 2017, 2022, 2023,\n",
      "       2024, 2025, 2027, 2033, 2035, 2042]),) (array([], dtype=int64),) set()\n",
      "6 0.03504246100783348 0.10115306079387665 (array([   0,    6,    7,    8,    9,   11,   18,   21,   23,   29,   30,\n",
      "         32,   34,   40,   42,   51,   54,   55,   57,   59,   64,   65,\n",
      "         67,   71,   74,   77,   80,   82,   84,   86,   88,   91,   92,\n",
      "         94,   97,   99,  107,  109,  113,  116,  117,  118,  119,  121,\n",
      "        123,  124,  125,  128,  129,  130,  134,  139,  140,  144,  147,\n",
      "        150,  151,  157,  159,  174,  175,  177,  184,  185,  186,  191,\n",
      "        195,  199,  200,  201,  206,  208,  210,  213,  215,  216,  218,\n",
      "        219,  220,  222,  224,  225,  226,  228,  231,  232,  234,  236,\n",
      "        242,  243,  245,  246,  248,  251,  257,  258,  259,  261,  262,\n",
      "        263,  273,  275,  276,  277,  278,  280,  281,  285,  286,  287,\n",
      "        288,  290,  291,  293,  294,  298,  301,  312,  313,  320,  322,\n",
      "        323,  327,  331,  334,  336,  339,  342,  347,  349,  351,  352,\n",
      "        353,  359,  363,  364,  365,  370,  372,  373,  375,  377,  386,\n",
      "        389,  392,  396,  398,  405,  407,  409,  412,  415,  418,  421,\n",
      "        424,  433,  435,  440,  441,  447,  448,  451,  461,  462,  464,\n",
      "        468,  471,  475,  476,  478,  480,  481,  482,  483,  486,  487,\n",
      "        488,  490,  493,  494,  497,  499,  501,  502,  503,  506,  509,\n",
      "        512,  514,  516,  517,  521,  523,  525,  527,  528,  529,  533,\n",
      "        535,  536,  538,  540,  541,  543,  544,  545,  547,  548,  551,\n",
      "        553,  559,  560,  564,  565,  568,  571,  578,  579,  580,  581,\n",
      "        583,  584,  586,  587,  588,  589,  591,  594,  595,  596,  598,\n",
      "        599,  602,  608,  612,  614,  615,  617,  618,  624,  626,  627,\n",
      "        630,  631,  634,  642,  643,  647,  649,  651,  654,  655,  658,\n",
      "        659,  660,  661,  663,  665,  666,  669,  670,  671,  672,  673,\n",
      "        674,  676,  678,  679,  680,  682,  684,  685,  688,  689,  693,\n",
      "        695,  696,  698,  699,  700,  705,  707,  708,  712,  716,  717,\n",
      "        719,  721,  724,  727,  728,  730,  731,  733,  736,  738,  744,\n",
      "        746,  747,  748,  749,  753,  754,  758,  761,  762,  767,  768,\n",
      "        770,  771,  775,  776,  777,  782,  793,  794,  798,  799,  801,\n",
      "        802,  803,  804,  808,  811,  813,  818,  831,  834,  835,  836,\n",
      "        837,  838,  839,  840,  841,  843,  844,  846,  848,  852,  853,\n",
      "        854,  857,  858,  860,  863,  865,  866,  869,  870,  871,  873,\n",
      "        877,  878,  883,  888,  889,  893,  898,  899,  901,  907,  910,\n",
      "        913,  914,  920,  921,  925,  927,  929,  931,  933,  936,  937,\n",
      "        939,  943,  946,  951,  952,  959,  960,  961,  962,  966,  968,\n",
      "        974,  975,  977,  978,  979,  982,  984,  995,  999, 1017, 1018,\n",
      "       1019, 1020, 1023, 1024, 1027, 1029, 1031, 1032, 1035, 1038, 1040,\n",
      "       1041, 1045, 1048, 1059, 1068, 1069, 1077, 1079, 1080, 1081, 1085,\n",
      "       1086, 1089, 1090, 1091, 1093, 1095, 1096, 1099, 1102, 1103, 1116,\n",
      "       1121, 1123, 1127, 1128, 1129, 1132, 1135, 1136, 1142, 1144, 1146,\n",
      "       1148, 1152, 1153, 1154, 1155, 1157, 1160, 1161, 1162, 1163, 1167,\n",
      "       1170, 1173, 1179, 1185, 1186, 1187, 1189, 1190, 1193, 1196, 1197,\n",
      "       1198, 1199, 1201, 1203, 1205, 1214, 1215, 1216, 1217, 1220, 1222,\n",
      "       1225, 1231, 1233, 1234, 1235, 1243, 1249, 1254, 1256, 1258, 1260,\n",
      "       1261, 1262, 1264, 1265, 1266, 1268, 1271, 1272, 1274, 1275, 1279,\n",
      "       1281, 1289, 1291, 1292, 1293, 1295, 1296, 1297, 1298, 1300, 1303,\n",
      "       1308, 1309, 1310, 1311, 1312, 1320, 1323, 1326, 1328, 1331, 1332,\n",
      "       1334, 1341, 1342, 1343, 1346, 1351, 1352, 1355, 1359, 1362, 1365,\n",
      "       1369, 1371, 1372, 1374, 1376, 1377, 1378, 1379, 1380, 1381, 1382,\n",
      "       1395, 1396, 1398, 1400, 1401, 1402, 1406, 1410, 1411, 1413, 1416,\n",
      "       1419, 1420, 1421, 1422, 1423, 1427, 1431, 1432, 1440, 1441, 1447,\n",
      "       1451, 1452, 1454, 1456, 1457, 1459, 1460, 1462, 1463, 1466, 1472,\n",
      "       1481, 1482, 1486, 1487, 1496, 1500, 1501, 1503, 1505, 1509, 1512,\n",
      "       1514, 1518, 1520, 1521, 1522, 1525, 1530, 1533, 1536, 1537, 1539,\n",
      "       1541, 1543, 1553, 1554, 1555, 1559, 1565, 1566, 1568, 1569, 1572,\n",
      "       1580, 1582, 1586, 1597, 1599, 1604, 1605, 1607, 1608, 1609, 1611,\n",
      "       1613, 1614, 1617, 1618, 1622, 1626, 1627, 1628, 1638, 1640, 1649,\n",
      "       1650, 1651, 1659, 1661, 1665, 1668, 1670, 1676, 1678, 1680, 1682,\n",
      "       1690, 1692, 1693, 1695, 1699, 1700, 1701, 1711, 1713, 1718, 1720,\n",
      "       1722, 1725, 1727, 1728, 1733, 1734, 1744, 1747, 1749, 1751, 1752,\n",
      "       1756, 1757, 1761, 1762, 1765, 1769, 1770, 1771, 1773, 1774, 1775,\n",
      "       1776, 1782, 1783, 1785, 1786, 1787, 1789, 1793, 1798, 1799, 1802,\n",
      "       1804, 1805, 1807, 1809, 1811, 1813, 1814, 1816, 1817, 1825, 1828,\n",
      "       1830, 1832, 1833, 1834, 1836, 1839, 1840, 1842, 1848, 1852, 1854,\n",
      "       1857, 1858, 1859, 1861, 1863, 1864, 1866, 1868, 1869, 1870, 1871,\n",
      "       1874, 1875, 1878, 1881, 1885, 1892, 1899, 1900, 1904, 1905, 1906,\n",
      "       1910, 1911, 1913, 1914, 1916, 1920, 1922, 1927, 1929, 1930, 1934,\n",
      "       1936, 1937, 1938, 1941, 1943, 1944, 1946, 1947, 1949, 1951, 1952,\n",
      "       1954, 1959, 1961, 1963, 1964, 1966, 1969, 1970, 1971, 1974, 1979,\n",
      "       1980, 1981, 1982, 1983, 1984, 1987, 1988, 1990, 1991, 1993, 1994,\n",
      "       1998, 2000, 2002, 2003, 2004, 2005, 2006, 2008, 2010, 2011, 2012,\n",
      "       2014, 2015, 2017, 2019, 2020, 2022, 2023, 2024, 2025, 2027, 2028,\n",
      "       2030, 2032, 2034, 2036, 2042, 2043]),) (array([], dtype=int64),) set()\n",
      "7 0.017057184129953384 0.10089568793773651 (array([   0,    8,    9,   14,   16,   18,   19,   22,   23,   24,   28,\n",
      "         29,   34,   38,   39,   42,   44,   46,   47,   50,   51,   54,\n",
      "         55,   56,   57,   58,   59,   61,   64,   69,   71,   80,   86,\n",
      "         87,   88,   90,   95,   97,   98,   99,  103,  109,  113,  114,\n",
      "        116,  118,  119,  130,  132,  133,  134,  136,  139,  140,  141,\n",
      "        142,  143,  153,  154,  155,  158,  159,  161,  162,  171,  174,\n",
      "        177,  184,  186,  191,  193,  195,  200,  201,  210,  213,  215,\n",
      "        216,  225,  229,  234,  236,  239,  241,  242,  243,  247,  248,\n",
      "        249,  251,  253,  257,  258,  259,  261,  262,  267,  270,  276,\n",
      "        278,  282,  284,  286,  287,  291,  293,  298,  299,  300,  303,\n",
      "        311,  312,  315,  316,  318,  320,  322,  323,  324,  325,  327,\n",
      "        329,  331,  332,  336,  338,  341,  342,  343,  345,  347,  349,\n",
      "        351,  352,  353,  357,  359,  363,  364,  370,  372,  373,  375,\n",
      "        382,  384,  386,  392,  394,  396,  406,  409,  412,  413,  416,\n",
      "        418,  419,  421,  427,  434,  439,  440,  447,  448,  451,  453,\n",
      "        455,  456,  459,  461,  462,  464,  471,  475,  476,  479,  480,\n",
      "        481,  482,  483,  484,  486,  487,  493,  495,  499,  500,  501,\n",
      "        502,  503,  504,  505,  511,  512,  517,  518,  521,  527,  528,\n",
      "        529,  533,  536,  539,  540,  541,  543,  545,  546,  549,  551,\n",
      "        554,  560,  568,  575,  577,  578,  579,  580,  584,  587,  590,\n",
      "        591,  598,  599,  603,  608,  611,  612,  614,  619,  624,  628,\n",
      "        629,  630,  631,  634,  636,  637,  639,  642,  653,  657,  658,\n",
      "        661,  663,  665,  667,  668,  673,  677,  678,  679,  684,  685,\n",
      "        689,  691,  695,  700,  702,  703,  705,  708,  709,  712,  719,\n",
      "        724,  727,  728,  730,  733,  734,  737,  738,  744,  746,  747,\n",
      "        749,  757,  758,  759,  761,  764,  767,  769,  771,  772,  776,\n",
      "        777,  778,  781,  786,  787,  788,  794,  797,  798,  802,  803,\n",
      "        808,  809,  811,  812,  813,  816,  818,  820,  828,  831,  833,\n",
      "        834,  836,  838,  840,  842,  843,  844,  848,  853,  857,  858,\n",
      "        860,  871,  877,  881,  882,  883,  886,  889,  890,  895,  899,\n",
      "        900,  903,  904,  906,  909,  913,  918,  922,  925,  931,  933,\n",
      "        934,  936,  937,  939,  943,  945,  946,  951,  956,  959,  960,\n",
      "        961,  962,  963,  965,  973,  976,  977,  978,  984,  985,  989,\n",
      "        995,  999, 1003, 1010, 1012, 1013, 1017, 1019, 1027, 1029, 1037,\n",
      "       1040, 1047, 1048, 1054, 1059, 1060, 1066, 1068, 1069, 1070, 1071,\n",
      "       1072, 1074, 1075, 1076, 1077, 1080, 1081, 1083, 1084, 1085, 1086,\n",
      "       1088, 1089, 1090, 1091, 1097, 1098, 1099, 1100, 1101, 1105, 1107,\n",
      "       1110, 1122, 1127, 1128, 1129, 1130, 1136, 1138, 1142, 1146, 1152,\n",
      "       1153, 1154, 1155, 1156, 1162, 1163, 1164, 1170, 1178, 1183, 1186,\n",
      "       1188, 1189, 1190, 1193, 1194, 1196, 1198, 1199, 1200, 1201, 1203,\n",
      "       1205, 1207, 1210, 1214, 1217, 1220, 1222, 1224, 1226, 1233, 1234,\n",
      "       1240, 1244, 1252, 1257, 1260, 1261, 1264, 1266, 1268, 1269, 1270,\n",
      "       1272, 1274, 1276, 1278, 1279, 1286, 1292, 1293, 1297, 1299, 1300,\n",
      "       1303, 1309, 1310, 1311, 1313, 1315, 1316, 1317, 1319, 1320, 1321,\n",
      "       1333, 1339, 1342, 1343, 1346, 1351, 1355, 1356, 1361, 1369, 1370,\n",
      "       1372, 1376, 1377, 1378, 1379, 1383, 1387, 1389, 1390, 1395, 1398,\n",
      "       1400, 1401, 1405, 1409, 1410, 1411, 1415, 1416, 1422, 1424, 1427,\n",
      "       1429, 1431, 1434, 1435, 1440, 1442, 1448, 1454, 1456, 1457, 1462,\n",
      "       1467, 1472, 1475, 1477, 1479, 1481, 1485, 1488, 1490, 1491, 1495,\n",
      "       1499, 1501, 1502, 1503, 1515, 1520, 1522, 1525, 1527, 1530, 1533,\n",
      "       1534, 1535, 1536, 1551, 1553, 1554, 1555, 1556, 1564, 1565, 1566,\n",
      "       1568, 1569, 1572, 1576, 1578, 1581, 1582, 1583, 1584, 1586, 1593,\n",
      "       1595, 1597, 1599, 1600, 1605, 1608, 1611, 1614, 1616, 1617, 1621,\n",
      "       1622, 1625, 1626, 1629, 1630, 1640, 1651, 1655, 1659, 1662, 1669,\n",
      "       1672, 1676, 1678, 1680, 1682, 1690, 1692, 1693, 1695, 1699, 1701,\n",
      "       1704, 1707, 1711, 1715, 1716, 1718, 1725, 1727, 1728, 1729, 1736,\n",
      "       1737, 1738, 1740, 1741, 1746, 1748, 1750, 1751, 1754, 1757, 1762,\n",
      "       1765, 1767, 1769, 1774, 1778, 1779, 1786, 1787, 1792, 1795, 1796,\n",
      "       1798, 1799, 1802, 1804, 1805, 1810, 1812, 1814, 1818, 1821, 1823,\n",
      "       1825, 1827, 1833, 1835, 1836, 1839, 1840, 1841, 1843, 1851, 1857,\n",
      "       1858, 1861, 1865, 1866, 1868, 1871, 1872, 1874, 1875, 1876, 1878,\n",
      "       1883, 1886, 1892, 1899, 1905, 1906, 1909, 1911, 1912, 1913, 1917,\n",
      "       1920, 1921, 1924, 1926, 1927, 1928, 1934, 1938, 1941, 1946, 1949,\n",
      "       1950, 1954, 1956, 1958, 1966, 1968, 1969, 1972, 1974, 1977, 1978,\n",
      "       1979, 1980, 1983, 1988, 1990, 1992, 1994, 2000, 2002, 2003, 2005,\n",
      "       2009, 2010, 2012, 2014, 2015, 2016, 2017, 2019, 2020, 2022, 2024,\n",
      "       2025, 2027, 2028, 2032, 2034, 2036, 2039, 2042]),) (array([], dtype=int64),) set()\n",
      "8 0.026871830224990845 0.10159049183130264 (array([   2,    5,    9,   16,   18,   20,   22,   29,   33,   34,   39,\n",
      "         43,   47,   48,   51,   55,   58,   64,   70,   75,   78,   87,\n",
      "         90,   99,  103,  108,  109,  113,  116,  123,  128,  130,  131,\n",
      "        134,  139,  141,  145,  152,  153,  161,  163,  171,  174,  177,\n",
      "        181,  183,  184,  191,  193,  200,  203,  215,  217,  223,  225,\n",
      "        226,  228,  236,  242,  246,  248,  251,  252,  256,  257,  261,\n",
      "        276,  278,  280,  284,  287,  290,  291,  293,  294,  296,  300,\n",
      "        303,  309,  310,  315,  316,  320,  321,  323,  329,  330,  332,\n",
      "        336,  344,  345,  349,  351,  352,  354,  356,  357,  359,  364,\n",
      "        365,  369,  372,  375,  379,  383,  386,  388,  389,  392,  398,\n",
      "        406,  408,  409,  410,  415,  418,  422,  426,  427,  441,  443,\n",
      "        451,  455,  460,  463,  464,  467,  470,  472,  476,  479,  480,\n",
      "        481,  483,  489,  493,  494,  495,  496,  501,  502,  504,  506,\n",
      "        510,  512,  513,  521,  522,  527,  533,  534,  538,  539,  542,\n",
      "        557,  564,  565,  566,  571,  577,  580,  581,  590,  594,  595,\n",
      "        598,  599,  602,  603,  608,  611,  613,  614,  615,  627,  629,\n",
      "        630,  642,  655,  656,  661,  663,  671,  679,  681,  683,  684,\n",
      "        685,  689,  697,  701,  715,  716,  717,  721,  732,  733,  739,\n",
      "        744,  745,  747,  748,  753,  757,  760,  761,  763,  765,  766,\n",
      "        769,  770,  776,  780,  782,  786,  787,  793,  794,  801,  803,\n",
      "        804,  805,  809,  810,  828,  835,  839,  848,  865,  869,  875,\n",
      "        882,  883,  887,  894,  896,  899,  903,  906,  909,  914,  915,\n",
      "        922,  925,  927,  939,  943,  949,  951,  952,  956,  959,  961,\n",
      "        962,  966,  968,  970,  972,  973,  976,  983,  984,  985,  987,\n",
      "        989,  993,  994,  998,  999, 1003, 1005, 1006, 1009, 1013, 1014,\n",
      "       1017, 1024, 1025, 1028, 1032, 1035, 1047, 1054, 1062, 1070, 1074,\n",
      "       1076, 1077, 1079, 1080, 1089, 1090, 1094, 1095, 1096, 1097, 1098,\n",
      "       1099, 1101, 1105, 1106, 1109, 1116, 1120, 1123, 1127, 1129, 1136,\n",
      "       1146, 1152, 1155, 1161, 1170, 1174, 1178, 1179, 1189, 1192, 1193,\n",
      "       1194, 1198, 1205, 1207, 1214, 1215, 1216, 1218, 1220, 1222, 1227,\n",
      "       1232, 1233, 1234, 1237, 1240, 1247, 1249, 1251, 1256, 1257, 1265,\n",
      "       1268, 1269, 1270, 1272, 1282, 1286, 1290, 1296, 1297, 1300, 1301,\n",
      "       1309, 1312, 1314, 1315, 1316, 1320, 1326, 1330, 1333, 1334, 1335,\n",
      "       1341, 1343, 1353, 1359, 1365, 1367, 1368, 1370, 1372, 1374, 1378,\n",
      "       1379, 1383, 1387, 1390, 1393, 1395, 1401, 1404, 1405, 1407, 1409,\n",
      "       1410, 1416, 1418, 1429, 1435, 1440, 1447, 1454, 1455, 1461, 1463,\n",
      "       1465, 1466, 1467, 1472, 1488, 1490, 1492, 1499, 1503, 1512, 1514,\n",
      "       1517, 1519, 1520, 1523, 1533, 1534, 1536, 1547, 1554, 1556, 1559,\n",
      "       1564, 1570, 1571, 1572, 1579, 1582, 1600, 1607, 1609, 1611, 1616,\n",
      "       1617, 1619, 1625, 1630, 1636, 1637, 1640, 1641, 1650, 1659, 1667,\n",
      "       1668, 1669, 1674, 1678, 1682, 1684, 1685, 1688, 1689, 1690, 1707,\n",
      "       1715, 1718, 1719, 1722, 1725, 1729, 1732, 1738, 1740, 1741, 1744,\n",
      "       1745, 1746, 1751, 1752, 1754, 1756, 1757, 1760, 1762, 1763, 1765,\n",
      "       1778, 1783, 1786, 1789, 1790, 1796, 1809, 1810, 1813, 1823, 1825,\n",
      "       1826, 1828, 1829, 1839, 1844, 1848, 1849, 1851, 1854, 1857, 1861,\n",
      "       1863, 1865, 1868, 1874, 1876, 1877, 1886, 1898, 1902, 1909, 1924,\n",
      "       1927, 1928, 1937, 1939, 1941, 1952, 1954, 1955, 1961, 1962, 1963,\n",
      "       1966, 1968, 1971, 1972, 1974, 1979, 1980, 1983, 1988, 1993, 2000,\n",
      "       2002, 2003, 2005, 2010, 2012, 2014, 2015, 2020, 2021, 2032, 2047]),) (array([], dtype=int64),) set()\n",
      "9 0.015833433717489243 0.10200701653957367 (array([   6,   10,   13,   14,   16,   18,   21,   22,   23,   29,   32,\n",
      "         34,   35,   39,   40,   42,   46,   47,   54,   56,   58,   70,\n",
      "         81,   82,   85,   86,   90,   91,   92,   93,  100,  101,  109,\n",
      "        111,  118,  123,  124,  128,  132,  134,  136,  140,  141,  145,\n",
      "        146,  150,  152,  153,  156,  157,  161,  162,  163,  168,  169,\n",
      "        171,  178,  184,  186,  193,  195,  201,  202,  203,  208,  209,\n",
      "        213,  215,  223,  225,  226,  229,  238,  239,  242,  245,  247,\n",
      "        248,  249,  251,  252,  254,  256,  266,  267,  272,  275,  278,\n",
      "        279,  285,  286,  287,  294,  296,  304,  306,  310,  311,  312,\n",
      "        315,  317,  320,  324,  330,  331,  332,  333,  336,  339,  341,\n",
      "        344,  345,  350,  354,  355,  364,  379,  380,  384,  392,  394,\n",
      "        399,  401,  416,  422,  423,  424,  426,  427,  431,  434,  436,\n",
      "        438,  442,  445,  447,  449,  458,  459,  460,  463,  469,  470,\n",
      "        476,  479,  480,  481,  484,  485,  501,  502,  505,  512,  515,\n",
      "        518,  521,  522,  528,  530,  539,  540,  542,  544,  551,  554,\n",
      "        557,  558,  561,  563,  567,  574,  580,  586,  588,  591,  593,\n",
      "        595,  602,  604,  605,  608,  611,  612,  613,  626,  628,  633,\n",
      "        635,  636,  643,  645,  646,  648,  649,  651,  652,  654,  655,\n",
      "        656,  661,  668,  669,  670,  674,  675,  680,  682,  684,  686,\n",
      "        688,  696,  697,  701,  714,  716,  721,  723,  724,  725,  730,\n",
      "        731,  732,  735,  736,  737,  738,  741,  746,  753,  755,  756,\n",
      "        758,  759,  763,  764,  770,  775,  778,  780,  786,  787,  793,\n",
      "        799,  801,  802,  807,  809,  812,  814,  829,  830,  836,  838,\n",
      "        840,  841,  843,  848,  852,  853,  854,  862,  868,  871,  872,\n",
      "        882,  885,  886,  888,  890,  892,  894,  899,  903,  906,  909,\n",
      "        913,  914,  922,  923,  929,  934,  936,  940,  943,  949,  955,\n",
      "        959,  961,  965,  966,  973,  975,  978,  983,  985,  987,  989,\n",
      "        991, 1005, 1012, 1019, 1023, 1029, 1032, 1037, 1042, 1048, 1059,\n",
      "       1060, 1066, 1068, 1071, 1074, 1077, 1080, 1081, 1085, 1089, 1093,\n",
      "       1097, 1099, 1101, 1102, 1103, 1107, 1108, 1109, 1111, 1120, 1121,\n",
      "       1126, 1129, 1130, 1136, 1138, 1148, 1149, 1151, 1153, 1154, 1155,\n",
      "       1160, 1163, 1166, 1167, 1169, 1174, 1176, 1178, 1179, 1184, 1185,\n",
      "       1187, 1190, 1192, 1195, 1198, 1205, 1207, 1215, 1222, 1224, 1247,\n",
      "       1249, 1254, 1257, 1261, 1262, 1268, 1269, 1270, 1274, 1278, 1282,\n",
      "       1284, 1287, 1288, 1289, 1293, 1294, 1295, 1296, 1298, 1303, 1308,\n",
      "       1312, 1317, 1327, 1335, 1336, 1341, 1349, 1352, 1356, 1364, 1366,\n",
      "       1368, 1369, 1370, 1378, 1379, 1382, 1383, 1387, 1390, 1391, 1397,\n",
      "       1398, 1401, 1404, 1405, 1406, 1416, 1418, 1419, 1422, 1426, 1447,\n",
      "       1451, 1455, 1460, 1463, 1467, 1470, 1473, 1477, 1480, 1482, 1483,\n",
      "       1487, 1488, 1496, 1497, 1498, 1500, 1502, 1505, 1509, 1512, 1515,\n",
      "       1517, 1522, 1527, 1530, 1534, 1536, 1539, 1540, 1541, 1547, 1554,\n",
      "       1556, 1563, 1565, 1568, 1571, 1576, 1582, 1587, 1595, 1600, 1612,\n",
      "       1616, 1618, 1619, 1621, 1636, 1638, 1641, 1650, 1652, 1657, 1663,\n",
      "       1664, 1665, 1667, 1675, 1686, 1688, 1691, 1692, 1693, 1697, 1699,\n",
      "       1700, 1701, 1704, 1712, 1715, 1718, 1720, 1722, 1725, 1729, 1731,\n",
      "       1734, 1752, 1755, 1756, 1760, 1762, 1765, 1766, 1770, 1771, 1777,\n",
      "       1778, 1782, 1784, 1789, 1792, 1798, 1804, 1805, 1806, 1812, 1815,\n",
      "       1822, 1823, 1825, 1828, 1829, 1836, 1840, 1844, 1849, 1857, 1858,\n",
      "       1862, 1864, 1865, 1870, 1885, 1889, 1892, 1893, 1899, 1901, 1903,\n",
      "       1904, 1909, 1910, 1912, 1913, 1915, 1920, 1922, 1923, 1925, 1926,\n",
      "       1928, 1931, 1941, 1945, 1953, 1962, 1965, 1967, 1970, 1971, 1978,\n",
      "       1979, 1982, 1988, 1990, 1994, 1995, 1998, 2002, 2003, 2006, 2008,\n",
      "       2015, 2021, 2022, 2027, 2032, 2035, 2039, 2043, 2046]),) (array([], dtype=int64),) set()\n",
      "10 0.01916281133890152 0.10147877782583237 (array([   0,    2,    6,    7,    8,   10,   11,   14,   16,   21,   23,\n",
      "         32,   33,   34,   36,   37,   40,   42,   49,   52,   58,   63,\n",
      "         65,   73,   74,   75,   81,   85,   88,   93,   94,  101,  103,\n",
      "        109,  117,  119,  122,  125,  131,  132,  134,  138,  140,  141,\n",
      "        143,  146,  149,  151,  152,  154,  156,  163,  164,  167,  175,\n",
      "        180,  181,  184,  185,  186,  189,  195,  200,  202,  206,  210,\n",
      "        213,  220,  224,  229,  231,  233,  237,  238,  239,  240,  242,\n",
      "        243,  249,  251,  254,  256,  258,  259,  261,  262,  266,  267,\n",
      "        272,  275,  277,  280,  283,  288,  298,  299,  309,  313,  315,\n",
      "        316,  318,  320,  323,  327,  331,  338,  339,  342,  355,  357,\n",
      "        359,  363,  371,  380,  396,  399,  401,  403,  405,  406,  407,\n",
      "        411,  413,  415,  419,  420,  421,  427,  430,  431,  432,  433,\n",
      "        437,  441,  443,  447,  449,  454,  457,  458,  460,  461,  465,\n",
      "        466,  468,  469,  470,  471,  473,  476,  477,  479,  481,  482,\n",
      "        484,  485,  486,  488,  490,  494,  499,  505,  506,  508,  509,\n",
      "        510,  511,  514,  515,  517,  521,  522,  523,  525,  529,  536,\n",
      "        538,  547,  550,  554,  560,  561,  564,  568,  570,  574,  576,\n",
      "        580,  584,  586,  587,  588,  589,  591,  595,  602,  603,  610,\n",
      "        611,  612,  614,  616,  618,  619,  622,  633,  634,  635,  636,\n",
      "        637,  640,  652,  654,  659,  662,  664,  666,  668,  672,  673,\n",
      "        674,  676,  678,  680,  684,  686,  688,  693,  695,  697,  700,\n",
      "        705,  712,  713,  714,  716,  717,  719,  720,  723,  724,  741,\n",
      "        743,  753,  754,  755,  756,  760,  763,  772,  774,  775,  777,\n",
      "        790,  793,  794,  796,  799,  801,  806,  808,  814,  817,  828,\n",
      "        829,  836,  848,  853,  854,  856,  858,  859,  865,  868,  870,\n",
      "        871,  872,  874,  877,  881,  885,  888,  889,  894,  895,  901,\n",
      "        903,  904,  906,  907,  911,  914,  915,  916,  917,  922,  923,\n",
      "        927,  928,  933,  936,  948,  955,  956,  959,  961,  963,  965,\n",
      "        972,  974,  977,  978,  981,  982,  985,  987,  995, 1005, 1007,\n",
      "       1012, 1014, 1019, 1025, 1035, 1037, 1041, 1045, 1046, 1053, 1057,\n",
      "       1060, 1061, 1070, 1071, 1072, 1073, 1075, 1085, 1087, 1090, 1095,\n",
      "       1100, 1101, 1106, 1109, 1118, 1120, 1121, 1128, 1132, 1136, 1145,\n",
      "       1146, 1148, 1151, 1153, 1160, 1161, 1163, 1166, 1170, 1174, 1175,\n",
      "       1176, 1179, 1183, 1184, 1185, 1186, 1187, 1188, 1191, 1195, 1196,\n",
      "       1198, 1203, 1205, 1210, 1212, 1216, 1226, 1230, 1231, 1232, 1234,\n",
      "       1235, 1236, 1237, 1240, 1244, 1245, 1246, 1248, 1249, 1250, 1251,\n",
      "       1252, 1253, 1254, 1258, 1260, 1262, 1264, 1265, 1266, 1274, 1275,\n",
      "       1285, 1286, 1295, 1299, 1302, 1303, 1310, 1311, 1317, 1320, 1322,\n",
      "       1324, 1326, 1327, 1331, 1335, 1336, 1337, 1339, 1341, 1344, 1346,\n",
      "       1349, 1352, 1353, 1355, 1356, 1359, 1361, 1364, 1368, 1369, 1377,\n",
      "       1380, 1388, 1391, 1393, 1397, 1398, 1400, 1401, 1404, 1410, 1412,\n",
      "       1413, 1414, 1416, 1419, 1420, 1422, 1423, 1424, 1434, 1451, 1452,\n",
      "       1453, 1455, 1459, 1463, 1465, 1466, 1470, 1471, 1474, 1479, 1480,\n",
      "       1481, 1482, 1484, 1485, 1486, 1488, 1489, 1490, 1492, 1497, 1501,\n",
      "       1502, 1506, 1511, 1515, 1523, 1525, 1530, 1531, 1535, 1550, 1555,\n",
      "       1556, 1558, 1559, 1562, 1564, 1565, 1568, 1569, 1570, 1571, 1572,\n",
      "       1573, 1576, 1582, 1583, 1589, 1598, 1608, 1614, 1621, 1638, 1641,\n",
      "       1643, 1646, 1649, 1651, 1654, 1657, 1661, 1662, 1667, 1670, 1672,\n",
      "       1675, 1676, 1678, 1680, 1688, 1692, 1697, 1699, 1700, 1707, 1715,\n",
      "       1728, 1729, 1733, 1735, 1744, 1748, 1749, 1751, 1755, 1761, 1766,\n",
      "       1767, 1775, 1782, 1783, 1789, 1790, 1793, 1799, 1804, 1812, 1813,\n",
      "       1818, 1822, 1823, 1825, 1827, 1831, 1833, 1841, 1842, 1844, 1848,\n",
      "       1849, 1852, 1856, 1865, 1866, 1868, 1871, 1872, 1878, 1885, 1886,\n",
      "       1889, 1893, 1900, 1901, 1905, 1906, 1910, 1913, 1915, 1916, 1919,\n",
      "       1924, 1930, 1932, 1934, 1937, 1938, 1945, 1946, 1947, 1955, 1956,\n",
      "       1957, 1961, 1962, 1963, 1965, 1967, 1970, 1974, 1977, 1978, 1981,\n",
      "       1982, 1984, 1992, 1993, 1996, 2001, 2002, 2005, 2006, 2010, 2013,\n",
      "       2015, 2016, 2017, 2020, 2021, 2022, 2024, 2025, 2026, 2028, 2031,\n",
      "       2034, 2036, 2041]),) (array([], dtype=int64),) set()\n",
      "11 0.01544214691966772 0.10095779597759247 (array([   0,    2,    7,    9,   12,   16,   18,   20,   24,   27,   33,\n",
      "         35,   37,   40,   41,   43,   46,   47,   48,   49,   57,   59,\n",
      "         61,   65,   67,   69,   71,   72,   73,   74,   77,   80,   82,\n",
      "         85,   88,   89,   90,   94,   97,   98,   99,  101,  105,  107,\n",
      "        108,  112,  116,  117,  119,  122,  123,  124,  125,  128,  134,\n",
      "        136,  138,  140,  141,  142,  143,  146,  148,  152,  154,  156,\n",
      "        158,  162,  164,  166,  174,  180,  182,  183,  186,  187,  192,\n",
      "        198,  202,  206,  207,  214,  215,  218,  222,  224,  227,  229,\n",
      "        231,  233,  234,  242,  246,  252,  254,  255,  256,  266,  267,\n",
      "        270,  272,  276,  277,  280,  288,  289,  294,  301,  302,  305,\n",
      "        307,  309,  311,  314,  316,  317,  318,  320,  321,  322,  327,\n",
      "        331,  333,  334,  338,  343,  345,  348,  351,  352,  353,  355,\n",
      "        356,  362,  364,  366,  370,  371,  373,  375,  378,  379,  380,\n",
      "        383,  388,  392,  396,  398,  399,  400,  401,  407,  409,  411,\n",
      "        412,  415,  416,  417,  424,  425,  431,  433,  434,  436,  437,\n",
      "        443,  445,  448,  449,  454,  455,  456,  457,  460,  461,  462,\n",
      "        466,  467,  471,  472,  476,  478,  481,  487,  488,  489,  490,\n",
      "        495,  497,  499,  503,  504,  510,  511,  514,  515,  518,  523,\n",
      "        525,  527,  528,  533,  536,  540,  542,  544,  545,  549,  552,\n",
      "        553,  554,  555,  558,  563,  566,  570,  571,  576,  577,  578,\n",
      "        581,  582,  584,  586,  590,  591,  593,  598,  605,  610,  611,\n",
      "        614,  618,  619,  620,  622,  626,  633,  634,  638,  639,  640,\n",
      "        644,  645,  649,  653,  656,  657,  658,  659,  662,  664,  665,\n",
      "        669,  670,  672,  678,  679,  680,  683,  686,  689,  695,  696,\n",
      "        700,  701,  702,  705,  706,  708,  709,  711,  712,  713,  715,\n",
      "        717,  719,  721,  724,  729,  734,  736,  737,  741,  744,  745,\n",
      "        746,  747,  749,  753,  756,  759,  761,  763,  765,  769,  771,\n",
      "        774,  776,  777,  778,  779,  780,  783,  785,  789,  790,  792,\n",
      "        793,  794,  795,  797,  801,  804,  805,  809,  814,  815,  817,\n",
      "        820,  829,  831,  833,  834,  835,  836,  839,  850,  852,  853,\n",
      "        854,  856,  858,  859,  867,  868,  869,  870,  872,  875,  883,\n",
      "        885,  894,  895,  898,  899,  901,  905,  908,  909,  911,  916,\n",
      "        918,  921,  922,  925,  930,  931,  933,  940,  949,  951,  952,\n",
      "        953,  956,  960,  962,  963,  968,  975,  976,  982,  984,  987,\n",
      "        988,  991,  993,  995,  998,  999, 1003, 1005, 1024, 1027, 1031,\n",
      "       1035, 1038, 1039, 1040, 1041, 1045, 1046, 1048, 1057, 1062, 1063,\n",
      "       1064, 1068, 1069, 1071, 1072, 1073, 1077, 1084, 1086, 1089, 1095,\n",
      "       1106, 1107, 1108, 1109, 1115, 1118, 1124, 1127, 1130, 1131, 1132,\n",
      "       1138, 1141, 1149, 1151, 1155, 1157, 1160, 1167, 1170, 1179, 1184,\n",
      "       1190, 1191, 1193, 1194, 1195, 1196, 1198, 1201, 1203, 1206, 1208,\n",
      "       1209, 1210, 1212, 1215, 1216, 1220, 1224, 1225, 1226, 1229, 1230,\n",
      "       1233, 1236, 1243, 1245, 1248, 1249, 1250, 1252, 1254, 1259, 1264,\n",
      "       1266, 1274, 1279, 1280, 1283, 1288, 1290, 1292, 1294, 1300, 1306,\n",
      "       1309, 1314, 1316, 1317, 1323, 1327, 1329, 1331, 1332, 1334, 1335,\n",
      "       1336, 1337, 1353, 1355, 1357, 1362, 1364, 1365, 1366, 1368, 1369,\n",
      "       1370, 1372, 1376, 1377, 1380, 1382, 1387, 1389, 1391, 1393, 1395,\n",
      "       1396, 1397, 1398, 1400, 1402, 1404, 1412, 1422, 1427, 1430, 1431,\n",
      "       1432, 1434, 1440, 1441, 1447, 1451, 1452, 1453, 1458, 1462, 1463,\n",
      "       1465, 1470, 1471, 1472, 1479, 1482, 1483, 1486, 1495, 1497, 1498,\n",
      "       1501, 1502, 1506, 1511, 1512, 1519, 1520, 1522, 1525, 1526, 1530,\n",
      "       1538, 1540, 1542, 1553, 1558, 1559, 1565, 1568, 1569, 1573, 1578,\n",
      "       1583, 1584, 1586, 1587, 1589, 1593, 1595, 1597, 1599, 1600, 1602,\n",
      "       1604, 1607, 1609, 1611, 1612, 1614, 1616, 1622, 1623, 1626, 1630,\n",
      "       1633, 1635, 1640, 1642, 1651, 1656, 1657, 1658, 1659, 1663, 1669,\n",
      "       1674, 1675, 1682, 1684, 1690, 1698, 1700, 1704, 1707, 1711, 1712,\n",
      "       1715, 1718, 1722, 1727, 1728, 1731, 1732, 1733, 1734, 1735, 1740,\n",
      "       1744, 1746, 1748, 1752, 1754, 1755, 1757, 1758, 1762, 1765, 1775,\n",
      "       1776, 1792, 1794, 1795, 1800, 1809, 1812, 1814, 1816, 1819, 1823,\n",
      "       1831, 1834, 1836, 1837, 1841, 1843, 1844, 1849, 1851, 1852, 1854,\n",
      "       1856, 1860, 1862, 1874, 1875, 1877, 1885, 1887, 1888, 1889, 1891,\n",
      "       1893, 1898, 1901, 1902, 1903, 1904, 1905, 1906, 1907, 1909, 1910,\n",
      "       1911, 1912, 1913, 1914, 1915, 1917, 1918, 1919, 1924, 1925, 1929,\n",
      "       1930, 1935, 1938, 1946, 1947, 1954, 1956, 1957, 1961, 1963, 1965,\n",
      "       1966, 1969, 1974, 1980, 1983, 1987, 1990, 1991, 1992, 1996, 1999,\n",
      "       2006, 2008, 2009, 2013, 2014, 2016, 2020, 2021, 2024, 2025, 2026,\n",
      "       2027, 2029, 2030, 2033, 2036, 2044, 2046]),) (array([], dtype=int64),) set()\n",
      "12 0.022619403898715973 0.10076608508825302 (array([  10,   14,   17,   19,   22,   27,   28,   29,   30,   32,   35,\n",
      "         37,   39,   42,   49,   52,   59,   61,   63,   65,   67,   71,\n",
      "         72,   73,   74,   77,   82,   83,   88,   89,   90,   99,  103,\n",
      "        105,  111,  117,  122,  125,  133,  139,  143,  147,  150,  156,\n",
      "        158,  164,  166,  169,  170,  171,  173,  176,  177,  178,  182,\n",
      "        183,  185,  186,  187,  192,  201,  202,  207,  209,  210,  214,\n",
      "        215,  216,  219,  220,  221,  224,  225,  227,  229,  230,  233,\n",
      "        247,  248,  249,  253,  262,  266,  267,  270,  274,  275,  281,\n",
      "        283,  289,  291,  293,  294,  296,  298,  301,  307,  308,  309,\n",
      "        310,  319,  323,  327,  332,  333,  335,  336,  338,  345,  349,\n",
      "        353,  359,  365,  366,  370,  371,  372,  374,  375,  378,  380,\n",
      "        386,  389,  400,  402,  405,  409,  417,  423,  424,  425,  426,\n",
      "        433,  436,  437,  438,  445,  447,  449,  451,  454,  457,  468,\n",
      "        471,  472,  473,  477,  480,  481,  487,  488,  493,  496,  499,\n",
      "        502,  507,  510,  511,  513,  515,  525,  527,  530,  531,  532,\n",
      "        538,  539,  543,  545,  547,  551,  552,  556,  558,  559,  561,\n",
      "        565,  569,  578,  579,  584,  586,  587,  588,  593,  596,  598,\n",
      "        607,  610,  613,  614,  615,  617,  619,  622,  626,  627,  628,\n",
      "        631,  632,  633,  634,  638,  639,  642,  643,  645,  648,  649,\n",
      "        650,  651,  655,  658,  661,  668,  670,  673,  675,  676,  679,\n",
      "        680,  681,  683,  688,  693,  698,  702,  703,  705,  710,  718,\n",
      "        719,  720,  724,  725,  729,  731,  736,  737,  743,  744,  745,\n",
      "        746,  747,  749,  758,  759,  761,  766,  768,  770,  775,  776,\n",
      "        777,  779,  781,  782,  783,  785,  793,  796,  797,  805,  814,\n",
      "        815,  816,  817,  829,  834,  838,  840,  844,  849,  850,  852,\n",
      "        855,  856,  857,  858,  859,  862,  865,  874,  879,  884,  886,\n",
      "        888,  897,  898,  899,  900,  902,  904,  909,  913,  916,  917,\n",
      "        921,  923,  929,  931,  933,  936,  939,  941,  943,  951,  953,\n",
      "        956,  963,  965,  967,  973,  975,  978,  979,  984,  986,  988,\n",
      "        995, 1002, 1003, 1004, 1007, 1012, 1015, 1017, 1023, 1024, 1026,\n",
      "       1027, 1035, 1037, 1039, 1040, 1045, 1046, 1051, 1054, 1056, 1058,\n",
      "       1059, 1063, 1064, 1068, 1073, 1074, 1079, 1080, 1082, 1084, 1086,\n",
      "       1088, 1093, 1098, 1099, 1104, 1111, 1116, 1118, 1119, 1121, 1125,\n",
      "       1128, 1130, 1132, 1135, 1141, 1145, 1146, 1149, 1151, 1158, 1160,\n",
      "       1162, 1166, 1168, 1169, 1173, 1178, 1185, 1187, 1189, 1191, 1192,\n",
      "       1195, 1196, 1199, 1200, 1201, 1206, 1209, 1210, 1212, 1214, 1215,\n",
      "       1222, 1226, 1234, 1237, 1238, 1240, 1242, 1245, 1246, 1250, 1252,\n",
      "       1253, 1259, 1260, 1262, 1264, 1266, 1270, 1275, 1277, 1278, 1282,\n",
      "       1285, 1290, 1292, 1298, 1299, 1300, 1303, 1309, 1312, 1315, 1316,\n",
      "       1321, 1323, 1328, 1331, 1332, 1333, 1336, 1343, 1344, 1346, 1348,\n",
      "       1357, 1360, 1364, 1365, 1366, 1367, 1368, 1369, 1372, 1380, 1381,\n",
      "       1387, 1390, 1391, 1392, 1393, 1394, 1395, 1397, 1402, 1403, 1404,\n",
      "       1405, 1408, 1411, 1414, 1419, 1421, 1432, 1434, 1435, 1438, 1454,\n",
      "       1458, 1462, 1465, 1467, 1471, 1472, 1473, 1474, 1480, 1482, 1485,\n",
      "       1487, 1492, 1495, 1497, 1500, 1501, 1502, 1503, 1506, 1510, 1513,\n",
      "       1514, 1517, 1520, 1521, 1523, 1525, 1533, 1534, 1538, 1539, 1542,\n",
      "       1543, 1545, 1546, 1553, 1558, 1560, 1562, 1563, 1566, 1567, 1569,\n",
      "       1573, 1578, 1580, 1581, 1583, 1584, 1587, 1589, 1593, 1595, 1600,\n",
      "       1602, 1605, 1606, 1607, 1616, 1617, 1618, 1624, 1625, 1626, 1627,\n",
      "       1628, 1630, 1632, 1633, 1635, 1636, 1638, 1640, 1642, 1650, 1652,\n",
      "       1654, 1660, 1668, 1669, 1673, 1674, 1675, 1677, 1681, 1683, 1688,\n",
      "       1690, 1694, 1695, 1697, 1700, 1703, 1708, 1711, 1716, 1720, 1722,\n",
      "       1728, 1737, 1739, 1740, 1750, 1754, 1758, 1759, 1762, 1771, 1772,\n",
      "       1773, 1775, 1778, 1779, 1782, 1784, 1788, 1792, 1798, 1799, 1805,\n",
      "       1806, 1807, 1809, 1812, 1814, 1816, 1817, 1818, 1819, 1820, 1823,\n",
      "       1831, 1832, 1838, 1841, 1848, 1850, 1856, 1858, 1861, 1862, 1869,\n",
      "       1870, 1872, 1873, 1874, 1875, 1876, 1877, 1879, 1886, 1888, 1890,\n",
      "       1897, 1899, 1900, 1902, 1904, 1908, 1910, 1914, 1915, 1916, 1917,\n",
      "       1919, 1925, 1930, 1934, 1939, 1944, 1949, 1954, 1955, 1956, 1957,\n",
      "       1958, 1961, 1963, 1969, 1971, 1987, 1988, 1991, 1994, 1995, 1998,\n",
      "       2011, 2012, 2013, 2014, 2017, 2020, 2022, 2024, 2026, 2032, 2034,\n",
      "       2039, 2041, 2045, 2047]),) (array([], dtype=int64),) set()\n",
      "13 0.005199656821787357 0.10118994861841202 (array([   0,    2,    5,    6,   14,   19,   21,   22,   23,   25,   27,\n",
      "         28,   29,   30,   34,   35,   36,   41,   42,   46,   51,   55,\n",
      "         56,   57,   61,   63,   65,   67,   70,   75,   83,   88,   89,\n",
      "         91,   92,   94,  101,  103,  109,  112,  119,  126,  133,  134,\n",
      "        136,  138,  141,  142,  143,  145,  146,  149,  151,  152,  154,\n",
      "        156,  158,  161,  168,  170,  174,  176,  178,  181,  182,  183,\n",
      "        187,  191,  192,  193,  194,  195,  197,  200,  201,  208,  214,\n",
      "        216,  218,  220,  222,  224,  225,  226,  227,  228,  229,  230,\n",
      "        234,  235,  236,  239,  242,  245,  247,  248,  249,  254,  255,\n",
      "        258,  262,  272,  274,  281,  282,  286,  289,  290,  291,  292,\n",
      "        294,  298,  300,  301,  303,  308,  310,  311,  312,  316,  317,\n",
      "        319,  322,  325,  328,  333,  334,  335,  336,  340,  343,  344,\n",
      "        350,  351,  357,  359,  366,  377,  378,  386,  388,  398,  406,\n",
      "        409,  411,  412,  413,  416,  417,  421,  423,  425,  426,  427,\n",
      "        433,  436,  438,  439,  443,  451,  453,  457,  459,  463,  469,\n",
      "        475,  476,  478,  479,  480,  483,  486,  489,  493,  496,  502,\n",
      "        504,  506,  507,  511,  515,  522,  527,  529,  530,  535,  538,\n",
      "        542,  546,  548,  551,  558,  560,  561,  563,  564,  565,  568,\n",
      "        569,  570,  573,  574,  575,  576,  579,  581,  590,  592,  593,\n",
      "        602,  607,  613,  616,  620,  622,  624,  629,  633,  639,  640,\n",
      "        648,  650,  652,  654,  659,  661,  665,  666,  667,  670,  671,\n",
      "        684,  692,  693,  697,  700,  701,  702,  703,  705,  707,  711,\n",
      "        712,  713,  723,  724,  729,  730,  735,  736,  741,  746,  749,\n",
      "        756,  760,  761,  767,  768,  772,  774,  775,  776,  777,  779,\n",
      "        782,  783,  785,  787,  789,  796,  803,  805,  807,  811,  813,\n",
      "        814,  815,  816,  817,  819,  824,  831,  833,  843,  844,  848,\n",
      "        849,  850,  853,  855,  863,  865,  871,  874,  879,  882,  893,\n",
      "        896,  898,  901,  904,  905,  906,  910,  911,  913,  914,  916,\n",
      "        918,  920,  922,  926,  930,  931,  937,  939,  940,  941,  943,\n",
      "        946,  953,  959,  962,  963,  964,  966,  967,  968,  972,  977,\n",
      "        981,  988,  993,  995,  996, 1002, 1003, 1004, 1007, 1013, 1015,\n",
      "       1016, 1017, 1020, 1022, 1024, 1025, 1026, 1027, 1031, 1032, 1037,\n",
      "       1039, 1040, 1043, 1044, 1050, 1051, 1052, 1059, 1060, 1063, 1064,\n",
      "       1070, 1074, 1076, 1078, 1079, 1080, 1082, 1084, 1088, 1089, 1091,\n",
      "       1094, 1098, 1099, 1100, 1101, 1103, 1104, 1107, 1111, 1113, 1114,\n",
      "       1115, 1116, 1119, 1121, 1122, 1125, 1128, 1129, 1130, 1135, 1139,\n",
      "       1144, 1148, 1153, 1156, 1162, 1163, 1168, 1173, 1174, 1176, 1178,\n",
      "       1179, 1181, 1183, 1186, 1187, 1188, 1189, 1199, 1205, 1206, 1212,\n",
      "       1216, 1226, 1232, 1238, 1242, 1246, 1250, 1259, 1261, 1262, 1265,\n",
      "       1271, 1277, 1279, 1280, 1282, 1283, 1287, 1292, 1299, 1300, 1302,\n",
      "       1307, 1312, 1316, 1322, 1323, 1324, 1325, 1326, 1331, 1337, 1339,\n",
      "       1347, 1348, 1349, 1353, 1357, 1360, 1363, 1365, 1373, 1379, 1385,\n",
      "       1387, 1388, 1392, 1394, 1399, 1400, 1401, 1402, 1405, 1406, 1407,\n",
      "       1409, 1411, 1412, 1413, 1414, 1419, 1420, 1421, 1423, 1424, 1426,\n",
      "       1429, 1431, 1432, 1435, 1438, 1444, 1447, 1454, 1457, 1460, 1461,\n",
      "       1465, 1466, 1467, 1471, 1474, 1476, 1480, 1481, 1486, 1487, 1488,\n",
      "       1491, 1494, 1497, 1500, 1501, 1504, 1506, 1507, 1508, 1510, 1512,\n",
      "       1513, 1515, 1519, 1522, 1530, 1533, 1535, 1536, 1537, 1538, 1540,\n",
      "       1541, 1547, 1553, 1561, 1564, 1566, 1567, 1571, 1572, 1573, 1574,\n",
      "       1576, 1581, 1584, 1593, 1596, 1597, 1599, 1602, 1605, 1608, 1609,\n",
      "       1612, 1621, 1622, 1624, 1625, 1626, 1627, 1628, 1630, 1636, 1637,\n",
      "       1638, 1640, 1641, 1649, 1651, 1656, 1658, 1659, 1660, 1662, 1670,\n",
      "       1671, 1673, 1675, 1676, 1677, 1678, 1680, 1681, 1683, 1690, 1692,\n",
      "       1693, 1694, 1703, 1708, 1713, 1718, 1719, 1721, 1722, 1723, 1725,\n",
      "       1728, 1732, 1734, 1738, 1742, 1746, 1749, 1751, 1758, 1760, 1762,\n",
      "       1765, 1771, 1772, 1782, 1783, 1784, 1788, 1790, 1793, 1802, 1804,\n",
      "       1806, 1807, 1809, 1812, 1814, 1820, 1825, 1832, 1838, 1849, 1850,\n",
      "       1856, 1858, 1859, 1860, 1863, 1868, 1873, 1878, 1880, 1883, 1885,\n",
      "       1886, 1888, 1890, 1896, 1897, 1899, 1903, 1905, 1907, 1915, 1916,\n",
      "       1917, 1918, 1919, 1921, 1923, 1930, 1932, 1935, 1938, 1939, 1941,\n",
      "       1942, 1944, 1945, 1947, 1950, 1954, 1955, 1956, 1961, 1963, 1964,\n",
      "       1967, 1969, 1971, 1974, 1976, 1977, 1979, 1980, 1981, 1983, 1984,\n",
      "       1985, 1987, 2002, 2004, 2005, 2008, 2010, 2011, 2014, 2020, 2026,\n",
      "       2027, 2031, 2035, 2039, 2045]),) (array([], dtype=int64),) set()\n",
      "14 0.012144026346504688 0.1008128821849823 (array([   2,    4,    7,   11,   12,   14,   16,   19,   20,   24,   28,\n",
      "         30,   31,   32,   33,   35,   36,   38,   46,   48,   49,   50,\n",
      "         54,   56,   63,   65,   67,   76,   86,   94,   99,  101,  105,\n",
      "        113,  116,  118,  122,  124,  131,  132,  133,  134,  135,  138,\n",
      "        142,  145,  146,  148,  149,  151,  154,  157,  158,  161,  162,\n",
      "        168,  169,  170,  171,  176,  180,  182,  188,  191,  192,  194,\n",
      "        199,  213,  218,  222,  226,  228,  229,  230,  235,  236,  237,\n",
      "        238,  243,  245,  247,  249,  250,  252,  255,  259,  264,  266,\n",
      "        267,  274,  277,  281,  282,  284,  288,  289,  290,  299,  300,\n",
      "        301,  302,  306,  307,  308,  309,  312,  325,  327,  328,  337,\n",
      "        338,  339,  340,  343,  345,  347,  348,  356,  358,  359,  360,\n",
      "        363,  366,  378,  395,  398,  399,  400,  401,  406,  407,  411,\n",
      "        416,  417,  422,  426,  427,  429,  434,  437,  441,  443,  444,\n",
      "        459,  461,  463,  465,  468,  469,  476,  477,  480,  482,  486,\n",
      "        488,  498,  499,  500,  501,  502,  504,  505,  507,  511,  515,\n",
      "        517,  523,  527,  533,  535,  536,  538,  544,  546,  548,  553,\n",
      "        554,  559,  561,  563,  564,  567,  569,  571,  573,  575,  576,\n",
      "        578,  580,  581,  582,  584,  586,  589,  592,  593,  595,  599,\n",
      "        603,  605,  607,  612,  617,  618,  620,  624,  627,  632,  635,\n",
      "        636,  637,  640,  644,  649,  650,  654,  656,  667,  669,  670,\n",
      "        672,  678,  683,  685,  686,  689,  691,  696,  697,  706,  709,\n",
      "        712,  714,  716,  719,  721,  724,  725,  736,  741,  746,  751,\n",
      "        753,  754,  755,  756,  757,  763,  766,  767,  768,  769,  774,\n",
      "        775,  779,  782,  783,  787,  789,  799,  800,  801,  804,  807,\n",
      "        809,  811,  813,  814,  815,  816,  817,  818,  824,  828,  831,\n",
      "        834,  836,  846,  848,  849,  850,  856,  858,  867,  869,  874,\n",
      "        875,  877,  882,  883,  884,  885,  894,  895,  897,  899,  902,\n",
      "        905,  906,  910,  911,  913,  914,  915,  916,  917,  920,  923,\n",
      "        925,  930,  937,  940,  941,  944,  948,  951,  952,  966,  967,\n",
      "        970,  974,  975,  977,  984,  986,  987,  992,  998, 1002, 1015,\n",
      "       1017, 1019, 1020, 1021, 1022, 1025, 1026, 1027, 1029, 1030, 1031,\n",
      "       1033, 1039, 1041, 1042, 1043, 1044, 1047, 1050, 1052, 1053, 1054,\n",
      "       1057, 1058, 1061, 1063, 1064, 1067, 1071, 1074, 1075, 1077, 1078,\n",
      "       1080, 1082, 1087, 1089, 1095, 1100, 1103, 1104, 1110, 1111, 1113,\n",
      "       1114, 1119, 1122, 1124, 1125, 1126, 1127, 1132, 1138, 1141, 1144,\n",
      "       1145, 1148, 1149, 1153, 1154, 1161, 1162, 1163, 1166, 1173, 1174,\n",
      "       1176, 1179, 1184, 1189, 1190, 1193, 1195, 1198, 1201, 1203, 1209,\n",
      "       1210, 1212, 1215, 1216, 1217, 1220, 1222, 1229, 1231, 1238, 1246,\n",
      "       1247, 1249, 1250, 1252, 1253, 1256, 1257, 1261, 1262, 1279, 1281,\n",
      "       1282, 1286, 1288, 1290, 1293, 1294, 1298, 1300, 1303, 1306, 1307,\n",
      "       1312, 1313, 1315, 1316, 1317, 1320, 1325, 1327, 1328, 1329, 1330,\n",
      "       1332, 1334, 1341, 1348, 1349, 1352, 1355, 1357, 1359, 1360, 1362,\n",
      "       1363, 1366, 1370, 1371, 1372, 1377, 1379, 1380, 1382, 1388, 1391,\n",
      "       1393, 1396, 1397, 1401, 1403, 1404, 1405, 1406, 1408, 1411, 1412,\n",
      "       1416, 1418, 1423, 1425, 1430, 1431, 1435, 1438, 1441, 1442, 1444,\n",
      "       1457, 1458, 1459, 1465, 1469, 1470, 1471, 1474, 1477, 1484, 1486,\n",
      "       1487, 1488, 1489, 1491, 1497, 1501, 1504, 1508, 1509, 1510, 1511,\n",
      "       1513, 1516, 1520, 1529, 1530, 1531, 1533, 1537, 1541, 1542, 1547,\n",
      "       1549, 1551, 1561, 1566, 1567, 1570, 1574, 1577, 1583, 1584, 1586,\n",
      "       1588, 1593, 1600, 1601, 1604, 1608, 1614, 1625, 1627, 1634, 1637,\n",
      "       1638, 1639, 1642, 1643, 1645, 1648, 1651, 1655, 1656, 1658, 1659,\n",
      "       1660, 1661, 1664, 1668, 1670, 1671, 1676, 1680, 1682, 1683, 1691,\n",
      "       1692, 1697, 1698, 1700, 1703, 1707, 1708, 1713, 1722, 1726, 1727,\n",
      "       1729, 1735, 1737, 1738, 1742, 1749, 1750, 1751, 1752, 1756, 1757,\n",
      "       1768, 1769, 1770, 1776, 1780, 1786, 1787, 1788, 1792, 1796, 1799,\n",
      "       1806, 1813, 1814, 1815, 1818, 1819, 1820, 1826, 1833, 1834, 1837,\n",
      "       1840, 1849, 1850, 1851, 1854, 1857, 1863, 1869, 1871, 1873, 1879,\n",
      "       1880, 1889, 1890, 1891, 1893, 1894, 1896, 1899, 1901, 1903, 1906,\n",
      "       1907, 1909, 1910, 1912, 1915, 1916, 1917, 1920, 1921, 1922, 1926,\n",
      "       1930, 1933, 1935, 1937, 1938, 1939, 1941, 1942, 1944, 1950, 1956,\n",
      "       1962, 1963, 1965, 1966, 1974, 1975, 1984, 1985, 1992, 1993, 1994,\n",
      "       2000, 2002, 2003, 2004, 2005, 2006, 2008, 2010, 2012, 2014, 2019,\n",
      "       2024, 2025, 2026, 2028, 2029, 2031, 2033, 2041, 2043, 2047]),) (array([], dtype=int64),) set()\n"
     ]
    },
    {
     "ename": "KeyboardInterrupt",
     "evalue": "",
     "output_type": "error",
     "traceback": [
      "\u001b[0;31m---------------------------------------------------------------------------\u001b[0m",
      "\u001b[0;31mKeyboardInterrupt\u001b[0m                         Traceback (most recent call last)",
      "File \u001b[0;32m<timed exec>:7\u001b[0m, in \u001b[0;36m<module>\u001b[0;34m\u001b[0m\n",
      "File \u001b[0;32m~/anaconda3/envs/gnn/lib/python3.8/site-packages/torch/autograd/grad_mode.py:27\u001b[0m, in \u001b[0;36m_DecoratorContextManager.__call__.<locals>.decorate_context\u001b[0;34m(*args, **kwargs)\u001b[0m\n\u001b[1;32m     24\u001b[0m \u001b[38;5;129m@functools\u001b[39m\u001b[38;5;241m.\u001b[39mwraps(func)\n\u001b[1;32m     25\u001b[0m \u001b[38;5;28;01mdef\u001b[39;00m \u001b[38;5;21mdecorate_context\u001b[39m(\u001b[38;5;241m*\u001b[39margs, \u001b[38;5;241m*\u001b[39m\u001b[38;5;241m*\u001b[39mkwargs):\n\u001b[1;32m     26\u001b[0m     \u001b[38;5;28;01mwith\u001b[39;00m \u001b[38;5;28mself\u001b[39m\u001b[38;5;241m.\u001b[39m\u001b[38;5;18m__class__\u001b[39m():\n\u001b[0;32m---> 27\u001b[0m         \u001b[38;5;28;01mreturn\u001b[39;00m \u001b[43mfunc\u001b[49m\u001b[43m(\u001b[49m\u001b[38;5;241;43m*\u001b[39;49m\u001b[43margs\u001b[49m\u001b[43m,\u001b[49m\u001b[43m \u001b[49m\u001b[38;5;241;43m*\u001b[39;49m\u001b[38;5;241;43m*\u001b[39;49m\u001b[43mkwargs\u001b[49m\u001b[43m)\u001b[49m\n",
      "File \u001b[0;32m~/Documents/CAM/v109.py:583\u001b[0m, in \u001b[0;36minfer\u001b[0;34m(env, bnn, threshold, max_episode_length, n_action, verbose, seed, stop_at_collision, spatial_prop, need_gif, decompose, lie_derive_safe)\u001b[0m\n\u001b[1;32m    580\u001b[0m total_trans\u001b[38;5;241m=\u001b[39m\u001b[38;5;241m0\u001b[39m; n_danger\u001b[38;5;241m=\u001b[39m\u001b[38;5;241m0\u001b[39m; no_feasible\u001b[38;5;241m=\u001b[39m\u001b[38;5;241m0\u001b[39m; collided\u001b[38;5;241m=\u001b[39mnp\u001b[38;5;241m.\u001b[39mzeros(env\u001b[38;5;241m.\u001b[39mnum_agents)\u001b[38;5;241m.\u001b[39mastype(\u001b[38;5;28mbool\u001b[39m); thresholds\u001b[38;5;241m=\u001b[39mnp\u001b[38;5;241m.\u001b[39marray([threshold]\u001b[38;5;241m*\u001b[39menv\u001b[38;5;241m.\u001b[39mnum_agents)\n\u001b[1;32m    582\u001b[0m \u001b[38;5;28;01mwhile\u001b[39;00m \u001b[38;5;28;01mTrue\u001b[39;00m:\n\u001b[0;32m--> 583\u001b[0m     a, v, feasibles, evil_agents \u001b[38;5;241m=\u001b[39m \u001b[43mchoose_action\u001b[49m\u001b[43m(\u001b[49m\u001b[43mbnn\u001b[49m\u001b[38;5;241;43m=\u001b[39;49m\u001b[43mbnn\u001b[49m\u001b[43m,\u001b[49m\u001b[43m \u001b[49m\u001b[43menv\u001b[49m\u001b[38;5;241;43m=\u001b[39;49m\u001b[43menv\u001b[49m\u001b[43m,\u001b[49m\u001b[43m \u001b[49m\u001b[43mexplore_eps\u001b[49m\u001b[38;5;241;43m=\u001b[39;49m\u001b[38;5;241;43m0\u001b[39;49m\u001b[43m,\u001b[49m\u001b[43m \u001b[49m\n\u001b[1;32m    584\u001b[0m \u001b[43m                                                 \u001b[49m\u001b[43mnominal_eps\u001b[49m\u001b[38;5;241;43m=\u001b[39;49m\u001b[38;5;241;43m0\u001b[39;49m\u001b[43m,\u001b[49m\u001b[43m \u001b[49m\n\u001b[1;32m    585\u001b[0m \u001b[43m                                                 \u001b[49m\u001b[43mspatial_prop\u001b[49m\u001b[38;5;241;43m=\u001b[39;49m\u001b[43mspatial_prop\u001b[49m\u001b[43m,\u001b[49m\u001b[43m \u001b[49m\n\u001b[1;32m    586\u001b[0m \u001b[43m                                                 \u001b[49m\u001b[43mthresholds\u001b[49m\u001b[38;5;241;43m=\u001b[39;49m\u001b[43mthresholds\u001b[49m\u001b[43m,\u001b[49m\n\u001b[1;32m    587\u001b[0m \u001b[43m                                                 \u001b[49m\u001b[43mn_action\u001b[49m\u001b[38;5;241;43m=\u001b[39;49m\u001b[43mn_action\u001b[49m\u001b[43m,\u001b[49m\n\u001b[1;32m    588\u001b[0m \u001b[43m                                                 \u001b[49m\u001b[43mdecompose\u001b[49m\u001b[38;5;241;43m=\u001b[39;49m\u001b[43mdecompose\u001b[49m\u001b[43m)\u001b[49m\n\u001b[1;32m    589\u001b[0m     next_o, rw, done, info \u001b[38;5;241m=\u001b[39m env\u001b[38;5;241m.\u001b[39mstep(a, obs_config\u001b[38;5;241m=\u001b[39mOBS_CONFIG)\n\u001b[1;32m    591\u001b[0m     prev_danger \u001b[38;5;241m=\u001b[39m info[\u001b[38;5;124m'\u001b[39m\u001b[38;5;124mprev_danger\u001b[39m\u001b[38;5;124m'\u001b[39m]\u001b[38;5;241m.\u001b[39mdata\u001b[38;5;241m.\u001b[39mcpu()\u001b[38;5;241m.\u001b[39mnumpy()\u001b[38;5;241m.\u001b[39mastype(\u001b[38;5;28mbool\u001b[39m)\n",
      "File \u001b[0;32m~/Documents/CAM/v109.py:460\u001b[0m, in \u001b[0;36mchoose_action\u001b[0;34m(bnn, env, explore_eps, nominal_eps, spatial_prop, thresholds, n_action, decompose)\u001b[0m\n\u001b[1;32m    455\u001b[0m     \u001b[38;5;28;01melse\u001b[39;00m:\n\u001b[1;32m    456\u001b[0m         \u001b[38;5;28;01massert\u001b[39;00m \u001b[38;5;28;01mFalse\u001b[39;00m       \n\u001b[0;32m--> 460\u001b[0m dists \u001b[38;5;241m=\u001b[39m \u001b[43menv\u001b[49m\u001b[38;5;241;43m.\u001b[39;49m\u001b[43mpotential_field\u001b[49m\u001b[43m(\u001b[49m\u001b[43ma_refines\u001b[49m\u001b[43m,\u001b[49m\u001b[43m \u001b[49m\u001b[43mK1\u001b[49m\u001b[38;5;241;43m=\u001b[39;49m\u001b[43mK1\u001b[49m\u001b[43m,\u001b[49m\u001b[43m \u001b[49m\u001b[43mK2\u001b[49m\u001b[38;5;241;43m=\u001b[39;49m\u001b[43mK2\u001b[49m\u001b[43m,\u001b[49m\u001b[43m \u001b[49m\u001b[43mignore_agent\u001b[49m\u001b[38;5;241;43m=\u001b[39;49m\u001b[43m(\u001b[49m\u001b[43mnominal_eps\u001b[49m\u001b[43m \u001b[49m\u001b[38;5;241;43m<\u001b[39;49m\u001b[38;5;241;43m=\u001b[39;49m\u001b[43m \u001b[49m\u001b[38;5;241;43m0\u001b[39;49m\u001b[43m)\u001b[49m\u001b[43m)\u001b[49m\n\u001b[1;32m    461\u001b[0m v \u001b[38;5;241m=\u001b[39m np\u001b[38;5;241m.\u001b[39mzeros(env\u001b[38;5;241m.\u001b[39mnum_agents)\n\u001b[1;32m    462\u001b[0m a \u001b[38;5;241m=\u001b[39m np\u001b[38;5;241m.\u001b[39mzeros((env\u001b[38;5;241m.\u001b[39mnum_agents, env\u001b[38;5;241m.\u001b[39maction_dim))\n",
      "File \u001b[0;32m~/Documents/CAM/environment/gym_abstract.py:568\u001b[0m, in \u001b[0;36mAbstractEnv.potential_field\u001b[0;34m(self, actions, K1, K2, ignore_agent)\u001b[0m\n\u001b[1;32m    565\u001b[0m next_pos \u001b[38;5;241m=\u001b[39m next_pos\u001b[38;5;241m.\u001b[39mreshape((\u001b[38;5;28mself\u001b[39m\u001b[38;5;241m.\u001b[39mnum_agents, n_candidates, \u001b[38;5;28mself\u001b[39m\u001b[38;5;241m.\u001b[39mstate_dim))\n\u001b[1;32m    567\u001b[0m \u001b[38;5;28;01mif\u001b[39;00m \u001b[38;5;28mlen\u001b[39m(\u001b[38;5;28mself\u001b[39m\u001b[38;5;241m.\u001b[39mworld\u001b[38;5;241m.\u001b[39mobstacles)\u001b[38;5;241m!=\u001b[39m\u001b[38;5;241m0\u001b[39m:\n\u001b[0;32m--> 568\u001b[0m     dist2obs \u001b[38;5;241m=\u001b[39m \u001b[43mcdist\u001b[49m\u001b[43m(\u001b[49m\u001b[38;5;28;43mself\u001b[39;49m\u001b[38;5;241;43m.\u001b[39;49m\u001b[43mworld\u001b[49m\u001b[38;5;241;43m.\u001b[39;49m\u001b[43mobstacles\u001b[49m\u001b[43m,\u001b[49m\u001b[43m \u001b[49m\u001b[43mnext_pos\u001b[49m\u001b[38;5;241;43m.\u001b[39;49m\u001b[43mreshape\u001b[49m\u001b[43m(\u001b[49m\u001b[38;5;241;43m-\u001b[39;49m\u001b[38;5;241;43m1\u001b[39;49m\u001b[43m,\u001b[49m\u001b[43m \u001b[49m\u001b[38;5;28;43mself\u001b[39;49m\u001b[38;5;241;43m.\u001b[39;49m\u001b[43mstate_dim\u001b[49m\u001b[43m)\u001b[49m\u001b[43m[\u001b[49m\u001b[43m:\u001b[49m\u001b[43m,\u001b[49m\u001b[43m \u001b[49m\u001b[43m:\u001b[49m\u001b[38;5;241;43m2\u001b[39;49m\u001b[43m]\u001b[49m\u001b[43m)\u001b[49m\u001b[38;5;241m.\u001b[39mmin(axis\u001b[38;5;241m=\u001b[39m\u001b[38;5;241m0\u001b[39m)  \u001b[38;5;66;03m# (num_agents x n_candidates)\u001b[39;00m\n\u001b[1;32m    569\u001b[0m \u001b[38;5;28;01melse\u001b[39;00m:\n\u001b[1;32m    570\u001b[0m     dist2obs \u001b[38;5;241m=\u001b[39m \u001b[38;5;241m100\u001b[39m \u001b[38;5;241m*\u001b[39m np\u001b[38;5;241m.\u001b[39mones((\u001b[38;5;28mself\u001b[39m\u001b[38;5;241m.\u001b[39mnum_agents \u001b[38;5;241m*\u001b[39m n_candidates))\n",
      "File \u001b[0;32m~/anaconda3/envs/gnn/lib/python3.8/site-packages/scipy/spatial/distance.py:2954\u001b[0m, in \u001b[0;36mcdist\u001b[0;34m(XA, XB, metric, out, **kwargs)\u001b[0m\n\u001b[1;32m   2952\u001b[0m \u001b[38;5;28;01mif\u001b[39;00m metric_info \u001b[38;5;129;01mis\u001b[39;00m \u001b[38;5;129;01mnot\u001b[39;00m \u001b[38;5;28;01mNone\u001b[39;00m:\n\u001b[1;32m   2953\u001b[0m     cdist_fn \u001b[38;5;241m=\u001b[39m metric_info\u001b[38;5;241m.\u001b[39mcdist_func\n\u001b[0;32m-> 2954\u001b[0m     \u001b[38;5;28;01mreturn\u001b[39;00m \u001b[43mcdist_fn\u001b[49m\u001b[43m(\u001b[49m\u001b[43mXA\u001b[49m\u001b[43m,\u001b[49m\u001b[43m \u001b[49m\u001b[43mXB\u001b[49m\u001b[43m,\u001b[49m\u001b[43m \u001b[49m\u001b[43mout\u001b[49m\u001b[38;5;241;43m=\u001b[39;49m\u001b[43mout\u001b[49m\u001b[43m,\u001b[49m\u001b[43m \u001b[49m\u001b[38;5;241;43m*\u001b[39;49m\u001b[38;5;241;43m*\u001b[39;49m\u001b[43mkwargs\u001b[49m\u001b[43m)\u001b[49m\n\u001b[1;32m   2955\u001b[0m \u001b[38;5;28;01melif\u001b[39;00m mstr\u001b[38;5;241m.\u001b[39mstartswith(\u001b[38;5;124m\"\u001b[39m\u001b[38;5;124mtest_\u001b[39m\u001b[38;5;124m\"\u001b[39m):\n\u001b[1;32m   2956\u001b[0m     metric_info \u001b[38;5;241m=\u001b[39m _TEST_METRICS\u001b[38;5;241m.\u001b[39mget(mstr, \u001b[38;5;28;01mNone\u001b[39;00m)\n",
      "\u001b[0;31mKeyboardInterrupt\u001b[0m: "
     ]
    }
   ],
   "source": [
    "%%time\n",
    "v_idx = 0\n",
    "env = create_env(num_agents=NUM_AGENTS, size=max(int((NUM_AGENTS*2)**0.5), 4), density=0, min_dist=0, max_dist=1000)\n",
    "env.world.obstacles, env.world.agent_goals, env.world.agents = deepcopy(valid_dataset[v_idx])\n",
    "# decompose=('random_k', 100)\n",
    "gif_file = 'gifs/0427/v125/'+str(v_idx)+f'_{NUM_AGENTS}_decompose_lie.gif'\n",
    "# lie_derive_safe=True,\n",
    "collided, done, gifs = infer(env,bnn,n_action=100,verbose=True,spatial_prop=False,lie_derive_safe=True,decompose='random',stop_at_collision=True,need_gif=None)"
   ]
  },
  {
   "cell_type": "code",
   "execution_count": 6,
   "id": "9c1390c3-536c-40bf-bd36-039dcfcb6688",
   "metadata": {},
   "outputs": [
    {
     "name": "stdout",
     "output_type": "stream",
     "text": [
      "> \u001b[0;32m/home/rainorangelemon/Documents/CAM/models.py\u001b[0m(1362)\u001b[0;36mget_field\u001b[0;34m()\u001b[0m\n",
      "\u001b[0;32m   1360 \u001b[0;31m            action = torch.flatten(torch.cat((torch.sin(action.unsqueeze(-1)*self.div_term), \n",
      "\u001b[0m\u001b[0;32m   1361 \u001b[0;31m                                torch.cos(action.unsqueeze(-1)*self.div_term)), dim=-1), start_dim=-2)\n",
      "\u001b[0m\u001b[0;32m-> 1362 \u001b[0;31m        \u001b[0mfield\u001b[0m \u001b[0;34m=\u001b[0m \u001b[0mself\u001b[0m\u001b[0;34m.\u001b[0m\u001b[0mfield\u001b[0m\u001b[0;34m(\u001b[0m\u001b[0mtorch\u001b[0m\u001b[0;34m.\u001b[0m\u001b[0mcat\u001b[0m\u001b[0;34m(\u001b[0m\u001b[0;34m(\u001b[0m\u001b[0mvec\u001b[0m\u001b[0;34m,\u001b[0m \u001b[0maction\u001b[0m\u001b[0;34m)\u001b[0m\u001b[0;34m,\u001b[0m \u001b[0mdim\u001b[0m\u001b[0;34m=\u001b[0m\u001b[0;34m-\u001b[0m\u001b[0;36m1\u001b[0m\u001b[0;34m)\u001b[0m\u001b[0;34m)\u001b[0m\u001b[0;34m\u001b[0m\u001b[0;34m\u001b[0m\u001b[0m\n",
      "\u001b[0m\u001b[0;32m   1363 \u001b[0;31m        \u001b[0;32mif\u001b[0m \u001b[0mself\u001b[0m\u001b[0;34m.\u001b[0m\u001b[0mmode\u001b[0m\u001b[0;34m==\u001b[0m\u001b[0;34m'sum'\u001b[0m\u001b[0;34m:\u001b[0m\u001b[0;34m\u001b[0m\u001b[0;34m\u001b[0m\u001b[0m\n",
      "\u001b[0m\u001b[0;32m   1364 \u001b[0;31m            \u001b[0mfield\u001b[0m \u001b[0;34m=\u001b[0m \u001b[0;34m(\u001b[0m\u001b[0mfield\u001b[0m\u001b[0;34m**\u001b[0m\u001b[0;36m2\u001b[0m\u001b[0;34m)\u001b[0m\u001b[0;34m.\u001b[0m\u001b[0msum\u001b[0m\u001b[0;34m(\u001b[0m\u001b[0mdim\u001b[0m\u001b[0;34m=\u001b[0m\u001b[0;34m-\u001b[0m\u001b[0;36m1\u001b[0m\u001b[0;34m)\u001b[0m\u001b[0;34m\u001b[0m\u001b[0;34m\u001b[0m\u001b[0m\n",
      "\u001b[0m\n"
     ]
    },
    {
     "name": "stdin",
     "output_type": "stream",
     "text": [
      "ipdb>  action.shape\n"
     ]
    },
    {
     "name": "stdout",
     "output_type": "stream",
     "text": [
      "torch.Size([106496, 10, 1])\n"
     ]
    },
    {
     "name": "stdin",
     "output_type": "stream",
     "text": [
      "ipdb>  vec.shape\n"
     ]
    },
    {
     "name": "stdout",
     "output_type": "stream",
     "text": [
      "torch.Size([0, 10, 128])\n"
     ]
    },
    {
     "name": "stdin",
     "output_type": "stream",
     "text": [
      "ipdb>  exit()\n"
     ]
    }
   ],
   "source": [
    "%debug"
   ]
  },
  {
   "cell_type": "code",
   "execution_count": 6,
   "id": "d29bcc6a-7672-4a6e-af8d-de7242d963c9",
   "metadata": {},
   "outputs": [
    {
     "name": "stdout",
     "output_type": "stream",
     "text": [
      "> \u001b[0;32m/home/rainorangelemon/Documents/CAM/models.py\u001b[0m(1362)\u001b[0;36mget_field\u001b[0;34m()\u001b[0m\n",
      "\u001b[0;32m   1360 \u001b[0;31m            action = torch.flatten(torch.cat((torch.sin(action.unsqueeze(-1)*self.div_term), \n",
      "\u001b[0m\u001b[0;32m   1361 \u001b[0;31m                                torch.cos(action.unsqueeze(-1)*self.div_term)), dim=-1), start_dim=-2)\n",
      "\u001b[0m\u001b[0;32m-> 1362 \u001b[0;31m        \u001b[0mfield\u001b[0m \u001b[0;34m=\u001b[0m \u001b[0mself\u001b[0m\u001b[0;34m.\u001b[0m\u001b[0mfield\u001b[0m\u001b[0;34m(\u001b[0m\u001b[0mtorch\u001b[0m\u001b[0;34m.\u001b[0m\u001b[0mcat\u001b[0m\u001b[0;34m(\u001b[0m\u001b[0;34m(\u001b[0m\u001b[0mvec\u001b[0m\u001b[0;34m,\u001b[0m \u001b[0maction\u001b[0m\u001b[0;34m)\u001b[0m\u001b[0;34m,\u001b[0m \u001b[0mdim\u001b[0m\u001b[0;34m=\u001b[0m\u001b[0;34m-\u001b[0m\u001b[0;36m1\u001b[0m\u001b[0;34m)\u001b[0m\u001b[0;34m)\u001b[0m\u001b[0;34m\u001b[0m\u001b[0;34m\u001b[0m\u001b[0m\n",
      "\u001b[0m\u001b[0;32m   1363 \u001b[0;31m        \u001b[0;32mif\u001b[0m \u001b[0mself\u001b[0m\u001b[0;34m.\u001b[0m\u001b[0mmode\u001b[0m\u001b[0;34m==\u001b[0m\u001b[0;34m'sum'\u001b[0m\u001b[0;34m:\u001b[0m\u001b[0;34m\u001b[0m\u001b[0;34m\u001b[0m\u001b[0m\n",
      "\u001b[0m\u001b[0;32m   1364 \u001b[0;31m            \u001b[0mfield\u001b[0m \u001b[0;34m=\u001b[0m \u001b[0;34m(\u001b[0m\u001b[0mfield\u001b[0m\u001b[0;34m**\u001b[0m\u001b[0;36m2\u001b[0m\u001b[0;34m)\u001b[0m\u001b[0;34m.\u001b[0m\u001b[0msum\u001b[0m\u001b[0;34m(\u001b[0m\u001b[0mdim\u001b[0m\u001b[0;34m=\u001b[0m\u001b[0;34m-\u001b[0m\u001b[0;36m1\u001b[0m\u001b[0;34m)\u001b[0m\u001b[0;34m\u001b[0m\u001b[0;34m\u001b[0m\u001b[0m\n",
      "\u001b[0m\n"
     ]
    },
    {
     "name": "stdin",
     "output_type": "stream",
     "text": [
      "ipdb>  import sys; print(sys.getsizeof(vec.storage()))\n"
     ]
    },
    {
     "name": "stdout",
     "output_type": "stream",
     "text": [
      "2097152056\n"
     ]
    },
    {
     "name": "stdin",
     "output_type": "stream",
     "text": [
      "ipdb>  exit()\n"
     ]
    }
   ],
   "source": [
    "%debug"
   ]
  },
  {
   "cell_type": "code",
   "execution_count": null,
   "id": "ceabeedc-b4fc-4ec6-96ec-1d94607cc231",
   "metadata": {},
   "outputs": [],
   "source": [
    "data = env._get_obs(**OBS_CONFIG)\n",
    "print(data)\n",
    "for data in env._get_obs_random_k(**OBS_CONFIG_DECOMPOSE):\n",
    "    print(data)"
   ]
  },
  {
   "cell_type": "code",
   "execution_count": null,
   "id": "a83bc2eb-f34c-4c27-8e77-a28394f43b62",
   "metadata": {},
   "outputs": [],
   "source": [
    "np.concatenate([np.random.choice([], 0), np.random.choice([1,2], 1), np.random.choice([1,2,3], 1)])"
   ]
  },
  {
   "cell_type": "code",
   "execution_count": null,
   "id": "4cb76756-28e3-45cd-96ef-bdb7d81106ae",
   "metadata": {},
   "outputs": [],
   "source": [
    "%debug"
   ]
  },
  {
   "cell_type": "code",
   "execution_count": null,
   "id": "84187583-2374-485f-afe5-528f90f2d553",
   "metadata": {},
   "outputs": [],
   "source": [
    "'edge_index' in data['a_near_a']"
   ]
  },
  {
   "cell_type": "code",
   "execution_count": null,
   "id": "d7028bfd-a3e9-4b24-a46f-8357191736aa",
   "metadata": {
    "scrolled": true,
    "tags": []
   },
   "outputs": [],
   "source": [
    "env = create_env(num_agents=8, size=4)\n",
    "env.world.obstacles, env.world.agent_goals, env.world.agents = deepcopy(data)\n",
    "gif_file = 'gifs/0427/v125/'+str(v_idx)+'_8_decompose.gif'\n",
    "collided, done, gifs = infer(env,bnn,verbose=True,spatial_prop=False,lie_derive_safe=True,decompose='random',stop_at_collision=True,need_gif=None)"
   ]
  },
  {
   "cell_type": "code",
   "execution_count": null,
   "id": "bb0374d7-e84b-4392-90ff-4d89efce06a5",
   "metadata": {},
   "outputs": [],
   "source": [
    "import matplotlib.pyplot as plt\n",
    "\n",
    "plt.clf()\n",
    "plt.close('all')\n",
    "plt.hist(neighbor_a, bins='auto')\n",
    "plt.show()\n",
    "\n",
    "plt.clf()\n",
    "plt.close('all')\n",
    "plt.hist(neighbor_o, bins='auto')\n",
    "plt.show()"
   ]
  },
  {
   "cell_type": "code",
   "execution_count": null,
   "id": "76badfa5-a6d1-431c-9db0-d07252156b29",
   "metadata": {},
   "outputs": [],
   "source": [
    "print(np.any(collideds, axis=-1).mean(), np.mean(collideds), np.mean(dones), np.mean(lengths))"
   ]
  },
  {
   "cell_type": "code",
   "execution_count": null,
   "id": "1aa9bf4a-6bc9-4051-87bd-acff9efa1cd3",
   "metadata": {},
   "outputs": [],
   "source": [
    "collideds = []\n",
    "dones = []\n",
    "lengths = []\n",
    "for v_idx, data in tqdm(enumerate(valid_dataset)):\n",
    "    env = create_env(num_agents=8, size=4)\n",
    "    env.world.obstacles, env.world.agent_goals, env.world.agents = deepcopy(data)\n",
    "    # env.world.agents[1:,:]=-100\n",
    "    # env.world.obstacles = [[1.499, 1.499]]\n",
    "    gif_file = 'gifs/0419/v114_decompose/'+str(v_idx)+'_group.gif'\n",
    "    collided, done, gifs = infer(env,bnn,threshold=5e-2,verbose=False,spatial_prop=False,stop_at_collision=False,decompose=('group_k', None),need_gif=gif_file)\n",
    "    collideds.append(collided)\n",
    "    dones.append(done)\n",
    "    lengths.append(len(gifs))\n",
    "    \n",
    "print(np.any(collideds, axis=-1).mean(), np.mean(collideds), np.mean(dones), np.mean(lengths))"
   ]
  },
  {
   "cell_type": "code",
   "execution_count": null,
   "id": "16825c76-6f01-45a5-892c-27520d1ac9d3",
   "metadata": {},
   "outputs": [],
   "source": [
    "collideds = []\n",
    "dones = []\n",
    "lengths = []\n",
    "for v_idx, data in tqdm(enumerate(valid_dataset)):\n",
    "    env = create_env(num_agents=8, size=4)\n",
    "    env.world.obstacles, env.world.agent_goals, env.world.agents = deepcopy(data)\n",
    "    # env.world.agents[1:,:]=-100\n",
    "    # env.world.obstacles = [[1.499, 1.499]]\n",
    "    gif_file = 'gifs/0419/v114_decompose/'+str(v_idx)+'_prop.gif'\n",
    "    collided, done, gifs = infer(env,bnn,threshold=5e-2,verbose=False,spatial_prop=True,stop_at_collision=False,decompose=None,need_gif=gif_file)\n",
    "    collideds.append(collided)\n",
    "    dones.append(done)\n",
    "    lengths.append(len(gifs))\n",
    "    \n",
    "print(np.any(collideds, axis=-1).mean(), np.mean(collideds), np.mean(dones), np.mean(lengths))"
   ]
  },
  {
   "cell_type": "code",
   "execution_count": null,
   "id": "aba90d7f-cc6e-4d6e-8e47-f623614010c7",
   "metadata": {
    "scrolled": true,
    "tags": []
   },
   "outputs": [],
   "source": [
    "%%time\n",
    "collideds = []\n",
    "dones = []\n",
    "lengths = []\n",
    "env = create_env(num_agents=2048, size=64, max_dist=8)\n",
    "# env.world.obstacles, env.world.agent_goals, env.world.agents = deepcopy(data)\n",
    "# env.world.agents[1:,:]=-100\n",
    "# env.world.obstacles = [[1.499, 1.499]]\n",
    "gif_file = 'gifs/0424/v120/2048.mp4'\n",
    "collided, done, gifs = infer(env,bnn,n_action=100,max_episode_length=256,lie_derive_safe=True,threshold=1e-1,verbose=False,spatial_prop=False,stop_at_collision=False,decompose=None,need_gif=gif_file)\n",
    "collideds.append(collided)\n",
    "dones.append(done)\n",
    "lengths.append(len(gifs))\n",
    "    \n",
    "print(np.any(collideds, axis=-1).mean(), np.mean(collideds), np.mean(dones), np.mean(lengths))"
   ]
  },
  {
   "cell_type": "code",
   "execution_count": null,
   "id": "f5e76b1f-9e26-412f-af16-96d0eff438e7",
   "metadata": {
    "scrolled": true,
    "tags": []
   },
   "outputs": [],
   "source": [
    "collideds = []\n",
    "dones = []\n",
    "lengths = []\n",
    "for v_idx, data in tqdm(enumerate(valid_dataset)):\n",
    "    env = create_env(num_agents=32, size=8)\n",
    "    env.world.obstacles, env.world.agent_goals, env.world.agents = deepcopy(data)\n",
    "    # env.world.agents[1:,:]=-100\n",
    "    # env.world.obstacles = [[1.499, 1.499]]\n",
    "    gif_file = 'gifs/0424/v120/'+str(v_idx)+'_32_vanilla.gif'\n",
    "    collided, done, gifs = infer(env,bnn,threshold=5e-2,verbose=False,spatial_prop=False,stop_at_collision=True,decompose=None,need_gif=gif_file)\n",
    "    # lie_derive_safe=True,\n",
    "    collideds.append(collided)\n",
    "    dones.append(done)\n",
    "    lengths.append(len(gifs))\n",
    "\n",
    "print(np.any(collideds, axis=-1).mean(), np.mean(collideds), np.mean(dones), np.mean(lengths))"
   ]
  },
  {
   "cell_type": "code",
   "execution_count": null,
   "id": "10d036bd-be13-4a97-9ce2-1fad54d7aac3",
   "metadata": {
    "scrolled": true,
    "tags": []
   },
   "outputs": [],
   "source": [
    "collideds = []\n",
    "dones = []\n",
    "lengths = []\n",
    "for v_idx, data in tqdm(enumerate(valid_dataset)):\n",
    "    env = create_env(num_agents=32, size=8)\n",
    "    env.world.obstacles, env.world.agent_goals, env.world.agents = deepcopy(data)\n",
    "    # env.world.agents[1:,:]=-100\n",
    "    # env.world.obstacles = [[1.499, 1.499]]\n",
    "    gif_file = 'gifs/0424/v120/'+str(v_idx)+'_32_vanilla_lie.gif'\n",
    "    collided, done, gifs = infer(env,bnn,lie_derive_safe=True,threshold=5e-2,verbose=False,spatial_prop=False,stop_at_collision=True,decompose=None,need_gif=gif_file)\n",
    "    collideds.append(collided)\n",
    "    dones.append(done)\n",
    "    lengths.append(len(gifs))\n",
    "\n",
    "print(np.any(collideds, axis=-1).mean(), np.mean(collideds), np.mean(dones), np.mean(lengths))"
   ]
  },
  {
   "cell_type": "code",
   "execution_count": null,
   "id": "c94e3824-2a54-47c1-87bf-0daead079966",
   "metadata": {
    "scrolled": true,
    "tags": []
   },
   "outputs": [],
   "source": [
    "import copy\n",
    "\n",
    "collideds = []\n",
    "dones = []\n",
    "lengths = []\n",
    "neighbor_o = []\n",
    "neighbor_a = []\n",
    "for v_idx, data in tqdm(enumerate(valid_dataset)):\n",
    "    env = create_env()\n",
    "    # env.world.obstacles, env.world.agent_goals, env.world.agents = deepcopy(data)\n",
    "    # env.world.agents[1:,:]=-100\n",
    "    # env.world.obstacles = [[1.499, 1.499]]\n",
    "    gif_file = 'gifs/0426/v122/'+str(v_idx)+'_random.gif'\n",
    "    collided, done, gifs = infer(env,bnn,verbose=False,spatial_prop=False,stop_at_collision=False,decompose=None,need_gif=gif_file)\n",
    "    # lie_derive_safe=True,threshold=1e-1\n",
    "    collideds.append(collided)\n",
    "    dones.append(done)\n",
    "    lengths.append(len(gifs))\n",
    "\n",
    "    for gif in gifs:\n",
    "        env.obstacle_obs_radius = 1.5\n",
    "        env.agent_obs_radius = 1.5\n",
    "        env.world.agents = copy.deepcopy(gif)\n",
    "        neighbor_a.append(int((env._get_obs(**OBS_CONFIG)['a_near_a'].edge_index[1,:]==1).sum()))\n",
    "        neighbor_o.append(int((env._get_obs(**OBS_CONFIG)['o_near_a'].edge_index[1,:]==1).sum()))\n",
    "\n",
    "print(np.any(collideds, axis=-1).mean(), np.mean(collideds), np.mean(dones), np.mean(lengths))\n",
    "print(np.min(neighbor_o), np.max(neighbor_o), np.min(neighbor_a), np.max(neighbor_a))"
   ]
  },
  {
   "cell_type": "code",
   "execution_count": null,
   "id": "52cd3911-174c-4a22-9624-fe254c1f51a9",
   "metadata": {},
   "outputs": [],
   "source": [
    "print(np.any(collideds, axis=-1).mean(), np.mean(collideds), np.mean(dones), np.mean(lengths))\n",
    "print(np.min(neighbor_o), np.max(neighbor_o), np.min(neighbor_a), np.max(neighbor_a))"
   ]
  },
  {
   "cell_type": "code",
   "execution_count": null,
   "id": "c7a54113-1950-453d-8034-ce2fe8f3e553",
   "metadata": {},
   "outputs": [],
   "source": [
    "np.where(np.array(neighbor_a)==14)"
   ]
  },
  {
   "cell_type": "code",
   "execution_count": null,
   "id": "0c5de56f-306f-4d07-8570-d7edbf15088a",
   "metadata": {},
   "outputs": [],
   "source": [
    "import matplotlib.pyplot as plt\n",
    "plt.clf()\n",
    "plt.close('all')\n",
    "plt.hist(neighbor_a, bins='auto')\n",
    "plt.show()"
   ]
  },
  {
   "cell_type": "code",
   "execution_count": null,
   "id": "229dbb7b-7476-43d0-9fa4-c6ff2103c6ce",
   "metadata": {},
   "outputs": [],
   "source": [
    "import matplotlib.pyplot as plt\n",
    "plt.clf()\n",
    "plt.close('all')\n",
    "plt.hist(neighbor_o, bins='auto')\n",
    "plt.show()"
   ]
  },
  {
   "cell_type": "code",
   "execution_count": null,
   "id": "5e560dca-92a9-46f3-adad-41419c75683f",
   "metadata": {},
   "outputs": [],
   "source": [
    "collideds = []\n",
    "dones = []\n",
    "lengths = []\n",
    "for v_idx, data in tqdm(enumerate(valid_dataset)):\n",
    "    env = create_env(num_agents=128, size=16)\n",
    "    env.world.obstacles, env.world.agent_goals, env.world.agents = deepcopy(data)\n",
    "    # env.world.agents[1:,:]=-100\n",
    "    # env.world.obstacles = [[1.499, 1.499]]\n",
    "    gif_file = 'gifs/0424/v120/'+str(v_idx)+'_128_1e-1_vanilla_lie.gif'\n",
    "    collided, done, gifs = infer(env,bnn,lie_derive_safe=True,threshold=1e-1,verbose=False,spatial_prop=False,stop_at_collision=True,decompose=None,need_gif=gif_file)\n",
    "    print([s for s in env.world.get_status() if 'danger' in s])\n",
    "    collideds.append(collided)\n",
    "    dones.append(done)\n",
    "    lengths.append(len(gifs))\n",
    "\n",
    "print(np.any(collideds, axis=-1).mean(), np.mean(collideds), np.mean(dones), np.mean(lengths))"
   ]
  },
  {
   "cell_type": "code",
   "execution_count": null,
   "id": "98a51b5b-140e-46f9-96ac-92f9be7d9eae",
   "metadata": {},
   "outputs": [],
   "source": [
    "print(np.any(collideds, axis=-1).mean(), np.mean(collideds), np.mean(dones), np.mean(lengths))"
   ]
  },
  {
   "cell_type": "code",
   "execution_count": null,
   "id": "fd847444-0569-473a-b8f5-61c73d07a648",
   "metadata": {},
   "outputs": [],
   "source": [
    "len(collideds)"
   ]
  },
  {
   "cell_type": "code",
   "execution_count": null,
   "id": "86e2ae17-a380-4fde-bc11-e59f8ef5f8f7",
   "metadata": {},
   "outputs": [],
   "source": [
    "collideds = []\n",
    "dones = []\n",
    "lengths = []\n",
    "for v_idx, data in tqdm(enumerate(valid_dataset)):\n",
    "    env = create_env(num_agents=8, size=4)\n",
    "    env.world.obstacles, env.world.agent_goals, env.world.agents = deepcopy(data)\n",
    "    # env.world.agents[1:,:]=-100\n",
    "    # env.world.obstacles = [[1.499, 1.499]]\n",
    "    collided, done, gifs = infer(env,bnn,threshold=2e-2,verbose=False,spatial_prop=False,stop_at_collision=True,decompose=None,need_gif=None)\n",
    "    collideds.append(collided)\n",
    "    dones.append(done)\n",
    "    lengths.append(len(gifs))\n",
    "    \n",
    "print(np.any(collideds, axis=-1).mean(), np.mean(collideds), np.mean(dones), np.mean(lengths))"
   ]
  },
  {
   "cell_type": "code",
   "execution_count": null,
   "id": "53f96635-de2a-46f8-b468-9b0600c4e49b",
   "metadata": {
    "scrolled": true,
    "tags": []
   },
   "outputs": [],
   "source": [
    "collideds = []\n",
    "dones = []\n",
    "lengths = []\n",
    "for v_idx, data in tqdm(enumerate(valid_dataset)):\n",
    "    env = create_env(num_agents=128, size=16)\n",
    "    env.world.obstacles, env.world.agent_goals, env.world.agents = deepcopy(data)\n",
    "    # env.world.agents[1:,:]=-100\n",
    "    # env.world.obstacles = [[1.499, 1.499]]\n",
    "    gif_file = 'gifs/0424/v120/'+str(v_idx)+'_128_vanilla.gif'\n",
    "    collided, done, gifs = infer(env,bnn,max_episode_length=1024,threshold=5e-2,verbose=False,spatial_prop=False,stop_at_collision=False,decompose=None,need_gif=gif_file)\n",
    "    collideds.append(collided)\n",
    "    dones.append(done)\n",
    "    lengths.append(len(gifs))\n",
    "    \n",
    "print(np.any(collideds, axis=-1).mean(), np.mean(collideds), np.mean(dones), np.mean(lengths))"
   ]
  },
  {
   "cell_type": "code",
   "execution_count": null,
   "id": "5269c2c7-7362-4d8f-9f38-e907fba38bc7",
   "metadata": {},
   "outputs": [],
   "source": [
    "env.world.obstacles, env.world.agent_goals, env.world.agents = deepcopy(data)\n",
    "print(np.linalg.norm(env.world.agent_goals[:,:2]-env.world.agents[:,:2], axis=-1).max())"
   ]
  },
  {
   "cell_type": "code",
   "execution_count": null,
   "id": "b7389967-298d-41e2-82eb-3d15018121db",
   "metadata": {
    "scrolled": true,
    "tags": []
   },
   "outputs": [],
   "source": [
    "'''\n",
    "0: safe (wrong predict)\n",
    "6: unsafe (good predict)\n",
    "9: safe (wrong precit)\n",
    "12: unsafe (good predict)\n",
    "14: safe (wrong precit)\n",
    "16: unsafe (good predict)\n",
    "17: safe (wrong precit)\n",
    "19: unsafe (good predict)\n",
    "'''\n",
    "\n",
    "collideds = []\n",
    "dones = []\n",
    "lengths = []\n",
    "\n",
    "env = create_env(num_agents=128, size=16)\n",
    "env.world.obstacles, env.world.agent_goals, env.world.agents = deepcopy(valid_dataset[19])\n",
    "collided, done, gifs = infer(env,bnn,threshold=1e-1,lie_derive_safe=True,verbose=True,spatial_prop=False,stop_at_collision=True,decompose=None,need_gif=None)\n",
    "collideds.append(collided)\n",
    "dones.append(done)\n",
    "lengths.append(len(gifs))\n",
    "    \n",
    "print(np.any(collideds, axis=-1).mean(), np.mean(collideds), np.mean(dones), np.mean(lengths))"
   ]
  },
  {
   "cell_type": "code",
   "execution_count": null,
   "id": "e259e97c-adda-4093-9195-657cbb3b9b24",
   "metadata": {
    "scrolled": true,
    "tags": []
   },
   "outputs": [],
   "source": [
    "collideds = []\n",
    "dones = []\n",
    "lengths = []\n",
    "\n",
    "env = create_env(num_agents=128, size=16)\n",
    "env.world.obstacles, env.world.agent_goals, env.world.agents = deepcopy(valid_dataset[19])\n",
    "collided, done, gifs = infer(env,bnn,threshold=1e-1,lie_derive_safe=True,verbose=True,spatial_prop=False,stop_at_collision=True,decompose=None,need_gif=None)\n",
    "collideds.append(collided)\n",
    "dones.append(done)\n",
    "lengths.append(len(gifs))\n",
    "    \n",
    "print(np.any(collideds, axis=-1).mean(), np.mean(collideds), np.mean(dones), np.mean(lengths))"
   ]
  },
  {
   "cell_type": "code",
   "execution_count": null,
   "id": "f0138699-3b67-4b3e-ab46-d8201b8c57a8",
   "metadata": {},
   "outputs": [],
   "source": [
    "collideds = []\n",
    "dones = []\n",
    "lengths = []\n",
    "for v_idx, data in tqdm(enumerate(valid_dataset)):\n",
    "    env = create_env(num_agents=8, size=4)\n",
    "    env.world.obstacles, env.world.agent_goals, env.world.agents = deepcopy(data)\n",
    "    # env.world.agents[1:,:]=-100\n",
    "    # env.world.obstacles = [[1.499, 1.499]]\n",
    "    gif_file = 'gifs/0419/v114_decompose/'+str(v_idx)+'_vanilla_obstacle.gif'\n",
    "    collided, done, gifs = infer(env,bnn,threshold=5e-2,verbose=False,spatial_prop=False,stop_at_collision=False,decompose=None,need_gif=gif_file)\n",
    "    collideds.append(collided)\n",
    "    dones.append(done)\n",
    "    lengths.append(len(gifs))\n",
    "    \n",
    "print(np.any(collideds, axis=-1).mean(), np.mean(collideds), np.mean(dones), np.mean(lengths))"
   ]
  },
  {
   "cell_type": "code",
   "execution_count": null,
   "id": "de94d5e7-ac05-4563-96d6-d1c5ba057d14",
   "metadata": {},
   "outputs": [],
   "source": [
    "collideds = []\n",
    "dones = []\n",
    "lengths = []\n",
    "for v_idx, data in tqdm(enumerate(valid_dataset)):\n",
    "    env = create_env(num_agents=32, size=8)\n",
    "    env.world.obstacles, env.world.agent_goals, env.world.agents = deepcopy(data)\n",
    "    # env.world.agents[1:,:]=-100\n",
    "    # env.world.obstacles = [[1.499, 1.499]]\n",
    "    gif_file = 'gifs/0419/v114_decompose/'+str(v_idx)+'_vanilla_32.gif'\n",
    "    collided, done, gifs = infer(env,bnn,threshold=5e-2,verbose=False,spatial_prop=False,stop_at_collision=False,decompose=None,need_gif=gif_file)\n",
    "    collideds.append(collided)\n",
    "    dones.append(done)\n",
    "    lengths.append(len(gifs))\n",
    "    \n",
    "print(np.any(collideds, axis=-1).mean(), np.mean(collideds), np.mean(dones), np.mean(lengths))"
   ]
  },
  {
   "cell_type": "code",
   "execution_count": null,
   "id": "c31bcd5a-d267-4161-946b-9817c1e3b5b7",
   "metadata": {},
   "outputs": [],
   "source": [
    "collideds = []\n",
    "dones = []\n",
    "lengths = []\n",
    "for v_idx, data in tqdm(enumerate(valid_dataset)):\n",
    "    env = create_env(num_agents=32, size=8)\n",
    "    env.world.obstacles, env.world.agent_goals, env.world.agents = deepcopy(data)\n",
    "    # env.world.agents[1:,:]=-100\n",
    "    # env.world.obstacles = [[1.499, 1.499]]\n",
    "    gif_file = 'gifs/0419/v114_decompose/'+str(v_idx)+'_vanilla_32_obstacle.gif'\n",
    "    collided, done, gifs = infer(env,bnn,threshold=5e-2,verbose=False,spatial_prop=False,stop_at_collision=False,decompose=None,need_gif=gif_file)\n",
    "    collideds.append(collided)\n",
    "    dones.append(done)\n",
    "    lengths.append(len(gifs))\n",
    "    \n",
    "print(np.any(collideds, axis=-1).mean(), np.mean(collideds), np.mean(dones), np.mean(lengths))"
   ]
  },
  {
   "cell_type": "code",
   "execution_count": null,
   "id": "12a983d9-d6e4-4a36-b02a-1d9a8e593bd3",
   "metadata": {
    "scrolled": true,
    "tags": []
   },
   "outputs": [],
   "source": [
    "collideds = []\n",
    "dones = []\n",
    "lengths = []\n",
    "for v_idx, data in enumerate(valid_dataset):\n",
    "    print(str(v_idx) + '------------------------------------------------------------------------------------------------------------------------------')\n",
    "    env = create_env(num_agents=8, size=4)\n",
    "    env.world.obstacles, env.world.agent_goals, env.world.agents = deepcopy(data)\n",
    "    # env.world.agents[1:,:]=-100\n",
    "    # env.world.obstacles = [[1.499, 1.499]]\n",
    "    gif_file = 'gifs/0419/v114_decompose/'+str(v_idx)+'_verbose.gif'\n",
    "    collided, done, gifs = infer(env,bnn,threshold=5e-2,verbose=True,\n",
    "                                 spatial_prop=False,stop_at_collision=True,decompose=None,need_gif=gif_file)\n",
    "    collideds.append(collided)\n",
    "    dones.append(done)\n",
    "    lengths.append(len(gifs))\n",
    "    \n",
    "print(np.any(collideds, axis=-1).mean(), np.mean(collideds), np.mean(dones), np.mean(lengths))"
   ]
  },
  {
   "cell_type": "code",
   "execution_count": null,
   "id": "8ad1ead1-327e-4b15-b090-fddea32801d7",
   "metadata": {},
   "outputs": [],
   "source": [
    "def choose_action(bnn, env, explore_eps, nominal_eps, spatial_prop, threshold, n_action=None, decompose=None, step=0):\n",
    "    if n_action is None:\n",
    "        n_action = n_candidates\n",
    "    \n",
    "    \n",
    "    if nominal_eps > 0:\n",
    "        K1 = 1e-1\n",
    "        K2 = -3e-2\n",
    "    else:\n",
    "        K1 = 0.\n",
    "        K2 = -3e-2\n",
    "    \n",
    "    if decompose is None:\n",
    "        o = env._get_obs()\n",
    "        a_all = np.random.uniform(-1, 1, size=(env.num_agents, n_action, env.action_dim))\n",
    "        a_refines, bvalues = eval_action(bnn, o, a_all, max_iter=0, threshold=threshold)\n",
    "    else:\n",
    "        a_all = np.random.uniform(-1, 1, size=(env.num_agents, n_action, env.action_dim))\n",
    "        bvalues = np.ones(shape=(env.num_agents, n_action))\n",
    "        decompose_way, decompose_iter = decompose\n",
    "        if decompose_way == 'random_k':\n",
    "            for _ in range(decompose_iter):\n",
    "                o = eval('env._get_obs_'+decompose_way)()\n",
    "                a_refines, bvalues_current = eval_action(bnn, o, a_all, max_iter=0, threshold=threshold)  \n",
    "                bvalues = np.minimum(bvalues, bvalues_current)\n",
    "        \n",
    "        elif decompose_way == 'group_k':\n",
    "            r_graph = env._get_obs(rgraph_a=True, rgraph_o=False)\n",
    "            prefer_center = set(np.random.permutation(env.num_agents))\n",
    "            r_edge_index = r_graph['a_near_a'].edge_index\n",
    "            edge_mask = torch.zeros_like(r_graph['a_near_a'].edge_index[0,:]).bool()\n",
    "            while len(prefer_center):\n",
    "                result = env._get_obs_group_k(np.random.permutation(list(prefer_center)), loop=False, clip=True)\n",
    "                edge_mask = edge_mask | result[3]\n",
    "                prefer_center = (prefer_center - result[2]) & set(r_edge_index[:,~edge_mask].unique().data.numpy())\n",
    "                o = result[0]\n",
    "                a_refines, bvalues_current = eval_action(bnn, o, a_all, max_iter=0, threshold=threshold)  \n",
    "                bvalues[np.array(list(result[1])),:] = np.minimum(bvalues[np.array(list(result[1])),:], \n",
    "                                                                  bvalues_current[np.array(list(result[1])),:])\n",
    "\n",
    "        else:\n",
    "            assert False       \n",
    "        \n",
    "        \n",
    "\n",
    "    dists = env.potential_field(a_refines, K1=K1, K2=K2, ignore_agent=(nominal_eps <= 0))\n",
    "    v = np.zeros(env.num_agents)\n",
    "    a = np.zeros((env.num_agents, env.action_dim))\n",
    "    feasibles = np.zeros(env.num_agents)\n",
    "    evil_agents = set()\n",
    "    for agent_id, a_refine, bvalue, dist in zip(np.arange(env.num_agents), a_refines, bvalues, dists):\n",
    "\n",
    "        if np.random.rand() < nominal_eps:\n",
    "            a[agent_id] = a_refine[np.argsort(dist)[0]]\n",
    "            feasibles[agent_id] = 1\n",
    "            continue\n",
    "        \n",
    "        feasible_current = False\n",
    "        if np.any(bvalue>threshold):\n",
    "            feasible_current = True\n",
    "        else:\n",
    "            feasible_current = False\n",
    "            \n",
    "        if feasible_current:\n",
    "            feasibles[agent_id] = 1\n",
    "            for a_idx in np.argsort(dist):\n",
    "                if bvalue[a_idx] > threshold:\n",
    "                    a[agent_id] = a_refine[a_idx]\n",
    "                    v[agent_id] = bvalue[a_idx]\n",
    "                    break\n",
    "            continue\n",
    "\n",
    "        if spatial_prop:\n",
    "            local_evils = set()\n",
    "            # find evil_agent\n",
    "            local_o = o.clone()\n",
    "            while True:\n",
    "                local_o.to('cpu')\n",
    "                edges = local_o['a_near_a'].edge_index\n",
    "                neighbor_edges = edges[1]==agent_id\n",
    "                if neighbor_edges.sum()==0:\n",
    "                    break\n",
    "\n",
    "                first_edge = torch.where(neighbor_edges)[0][0]\n",
    "                mask = (torch.arange(edges.shape[1])==first_edge)\n",
    "                local_evils.add(int(edges[0, first_edge]))\n",
    "                local_o['a_near_a'].edge_index = edges[:,~mask]\n",
    "                local_o['a_near_a'].edge_attr = local_o['a_near_a'].edge_attr[~mask,:]\n",
    "\n",
    "                local_a_refines, local_bvalues = eval_action(bnn, local_o, a_all, max_iter=0, threshold=threshold)\n",
    "\n",
    "                if np.any(local_bvalues[agent_id]>threshold):\n",
    "                    evil_agents = evil_agents | local_evils\n",
    "                    break\n",
    "                    \n",
    "        if np.random.rand()<explore_eps:\n",
    "            a_idx = np.random.randint(n_action)\n",
    "            a[agent_id] = a_refine[a_idx]\n",
    "            if a_idx != np.argmax(bvalue):\n",
    "                feasibles[agent_id] = 1  # mask the random action            \n",
    "            continue\n",
    "        else:\n",
    "            a[agent_id] = a_refine[np.argmax(bvalue)]\n",
    "            v[agent_id] = bvalue[np.argmax(bvalue)]\n",
    "\n",
    "    for evil_agent in evil_agents:\n",
    "        a_refine, bvalue = a_refines[evil_agent], bvalues[evil_agent]\n",
    "        a[evil_agent] = a_refine[np.argmax(bvalue)]\n",
    "        v[evil_agent] = bvalue[np.argmax(bvalue)]\n",
    "        \n",
    "    print(bvalues[2].max(), bvalues[2].min())\n",
    "        \n",
    "    return a, v, feasibles, evil_agents\n",
    "\n",
    "@torch.no_grad()\n",
    "def infer(env, bnn, threshold=None, max_episode_length=256, \n",
    "          n_action=None,\n",
    "          verbose=False, seed=0, stop_at_collision=False, \n",
    "          spatial_prop=None, need_gif=None, decompose=None):\n",
    "    \n",
    "    if spatial_prop is None:\n",
    "        spatial_prop = SPATIAL_PROP\n",
    "        \n",
    "    if n_action is None:\n",
    "        n_action = n_candidates\n",
    "    \n",
    "    if threshold is None:\n",
    "        threshold=THRESHOLD\n",
    "    if verbose:\n",
    "        print('----------------------------------------')\n",
    "        \n",
    "    torch.manual_seed(seed)\n",
    "    random.seed(seed)\n",
    "    np.random.seed(seed)\n",
    "    \n",
    "    if need_gif is not None:\n",
    "        paths = [deepcopy(env.world.agents)]\n",
    "    else:\n",
    "        paths = [None]\n",
    "    total_trans=0; n_danger=0; no_feasible=0; collided=np.zeros(env.num_agents).astype(bool)\n",
    "\n",
    "    while True:\n",
    "        \n",
    "        a, v, feasibles, evil_agents = choose_action(bnn=bnn, env=env, explore_eps=0, \n",
    "                                                     nominal_eps=0, \n",
    "                                                     spatial_prop=spatial_prop, \n",
    "                                                     threshold=threshold,\n",
    "                                                     n_action=n_action,\n",
    "                                                     decompose=decompose,\n",
    "                                                     step=total_trans)\n",
    "        next_o, rw, done, info = env.step(a)\n",
    "        \n",
    "        prev_danger = info['prev_danger'].data.cpu().numpy().astype(bool)\n",
    "        next_danger = info['next_danger'].data.cpu().numpy().astype(bool)\n",
    "        if np.any(next_danger):\n",
    "            collided = collided | next_danger\n",
    "        if verbose:\n",
    "            print(total_trans, info['o_near_a'].edge_attr[2,:], v[2], next_danger, evil_agents)\n",
    "            \n",
    "        total_trans += 1\n",
    "        if need_gif is not None:\n",
    "            paths.append(deepcopy(env.world.agents))\n",
    "        else:\n",
    "            paths.append(None)\n",
    "\n",
    "        if np.any(next_danger) and stop_at_collision:\n",
    "            break        \n",
    "        \n",
    "        if done or (total_trans >= max_episode_length):\n",
    "            break\n",
    "            \n",
    "    if need_gif is not None:\n",
    "        env.save_fig(paths, env.world.agent_goals, env.world.obstacles, need_gif[:-4]+'_'+str(np.any(collided))+'_'+str(done)+need_gif[-4:])\n",
    "\n",
    "    return collided, done, paths"
   ]
  },
  {
   "cell_type": "code",
   "execution_count": null,
   "id": "c1fad6bd-6ed1-49c1-943b-12ae16172cf3",
   "metadata": {},
   "outputs": [],
   "source": [
    "np.where(np.any(collideds, axis=-1))"
   ]
  },
  {
   "cell_type": "code",
   "execution_count": null,
   "id": "a304fffb-ea9b-473d-af38-9c18fdac338e",
   "metadata": {},
   "outputs": [],
   "source": [
    "v_idx = 96\n",
    "data = valid_dataset[v_idx]\n",
    "env = create_env(num_agents=8, size=4)\n",
    "env.world.obstacles, env.world.agent_goals, env.world.agents = deepcopy(data)\n",
    "# env.world.agents[1:,:]=-100\n",
    "# env.world.obstacles = [[1.499, 1.499]]\n",
    "gif_file = 'gifs/0419/v114_decompose/'+str(v_idx)+'_verbose.gif'\n",
    "collided, done, gifs = infer(env,bnn,threshold=5e-2,verbose=True,\n",
    "                             spatial_prop=False,stop_at_collision=True,decompose=None,need_gif=gif_file)"
   ]
  },
  {
   "cell_type": "code",
   "execution_count": null,
   "id": "e0989fec-0389-4437-ac5b-77802f0a6150",
   "metadata": {},
   "outputs": [],
   "source": [
    "env._get_obs()['o_near_a']"
   ]
  },
  {
   "cell_type": "code",
   "execution_count": null,
   "id": "ab8dee17-477f-459c-82f3-e277e2217e52",
   "metadata": {},
   "outputs": [],
   "source": [
    "from torch_geometric.loader import NeighborLoader"
   ]
  },
  {
   "cell_type": "code",
   "execution_count": null,
   "id": "d395301c-f815-4f16-a23f-c0350e051aff",
   "metadata": {},
   "outputs": [],
   "source": [
    "env = create_env(num_agents=2048, size=64)"
   ]
  },
  {
   "cell_type": "code",
   "execution_count": null,
   "id": "fab2878f-68d3-4704-a0fe-937bfc8d1c4f",
   "metadata": {
    "scrolled": true,
    "tags": []
   },
   "outputs": [],
   "source": [
    "env._get_obs_group_k(np.random.permutation(env.num_agents), loop=False, clip=True)[-1]"
   ]
  },
  {
   "cell_type": "code",
   "execution_count": null,
   "id": "4cde09b2-9bf5-480a-b327-93c99c43a31b",
   "metadata": {
    "scrolled": true,
    "tags": []
   },
   "outputs": [],
   "source": [
    "%debug"
   ]
  },
  {
   "cell_type": "code",
   "execution_count": null,
   "id": "b09c6698-67d5-4a0f-97b0-6b8a69350447",
   "metadata": {
    "scrolled": true,
    "tags": []
   },
   "outputs": [],
   "source": [
    "env = create_env(num_agents=8, size=4)\n",
    "env._render();"
   ]
  },
  {
   "cell_type": "code",
   "execution_count": null,
   "id": "d5bf5d0c-1c7f-411b-bb5e-fbd1d96845cb",
   "metadata": {
    "scrolled": true,
    "tags": []
   },
   "outputs": [],
   "source": [
    "%debug"
   ]
  },
  {
   "cell_type": "code",
   "execution_count": null,
   "id": "139f8e5f-80e8-4244-9f84-154df41b3cc2",
   "metadata": {},
   "outputs": [],
   "source": [
    "from torch_geometric.loader import NeighborLoader\n",
    "loader = NeighborLoader(env._get_obs(rgraph=True), \n",
    "               input_nodes=('agent', list(np.arange(env.num_agents))),\n",
    "               num_neighbors={('agent', 'a_near_a', 'agent'):[2], \n",
    "                              ('obstacle', 'o_near_a', 'agent'):[1], \n",
    "                              ('goal', 'toward', 'agent'):[1]}, replace=False, directed=True, batch_size=env.num_agents)"
   ]
  },
  {
   "cell_type": "code",
   "execution_count": null,
   "id": "20a86a84-1204-404c-b99a-5b7dd3dad9b1",
   "metadata": {},
   "outputs": [],
   "source": [
    "data = next(iter(loader))"
   ]
  },
  {
   "cell_type": "code",
   "execution_count": null,
   "id": "d3d64106-4ae9-4f80-8490-1c65f72cd674",
   "metadata": {},
   "outputs": [],
   "source": [
    "env._get_obs()['o_near_a']"
   ]
  },
  {
   "cell_type": "code",
   "execution_count": null,
   "id": "2413cfb3-c79a-495b-a257-b8f56b8c9d99",
   "metadata": {},
   "outputs": [],
   "source": [
    "env._get_obs(rgraph=True)['obstacle']"
   ]
  },
  {
   "cell_type": "code",
   "execution_count": null,
   "id": "445c52b1-6b6f-4750-9d96-1e718f963bdf",
   "metadata": {},
   "outputs": [],
   "source": [
    "data['o_near_a']"
   ]
  },
  {
   "cell_type": "code",
   "execution_count": null,
   "id": "f67df547-85ee-4556-8805-b71130090ef9",
   "metadata": {},
   "outputs": [],
   "source": [
    "%debug"
   ]
  },
  {
   "cell_type": "code",
   "execution_count": null,
   "id": "3c00b2ba-c802-4cf4-8e8d-d70d5aee4553",
   "metadata": {},
   "outputs": [],
   "source": [
    "env._get_obs(rgraph_a=True)['a_near_a'].edge_index"
   ]
  },
  {
   "cell_type": "code",
   "execution_count": null,
   "id": "b133507b-f616-4f0c-aec4-1917cdf7fa4c",
   "metadata": {},
   "outputs": [],
   "source": [
    "env._get_obs()['o_near_a'].edge_index"
   ]
  },
  {
   "cell_type": "code",
   "execution_count": null,
   "id": "69da2937-9275-4679-8211-a4cf5719f459",
   "metadata": {},
   "outputs": [],
   "source": [
    "env._get_obs_random_k()['a_near_a'].edge_index"
   ]
  },
  {
   "cell_type": "code",
   "execution_count": null,
   "id": "f662571a-1581-44f9-bcf8-783aff236274",
   "metadata": {},
   "outputs": [],
   "source": [
    "env._get_obs_group_k(np.arange(env.num_agents))"
   ]
  },
  {
   "cell_type": "code",
   "execution_count": null,
   "id": "0845fd69-c125-4fae-b67c-2ec30b2feb01",
   "metadata": {},
   "outputs": [],
   "source": [
    "np.array([[1,2,3,4,5,6,7,8,9]])[:,np.array(list({0,6,7}))]"
   ]
  },
  {
   "cell_type": "code",
   "execution_count": null,
   "id": "5823df95-89fb-4e14-8122-3651d3277f3c",
   "metadata": {},
   "outputs": [],
   "source": [
    "np.where(1-np.array(dones))"
   ]
  },
  {
   "cell_type": "code",
   "execution_count": null,
   "id": "46d42e91-e9b1-47f1-a52a-da2d5f3451f1",
   "metadata": {
    "scrolled": true,
    "tags": []
   },
   "outputs": [],
   "source": [
    "%debug"
   ]
  },
  {
   "cell_type": "markdown",
   "id": "396296cc-37d0-4f4e-8be3-1ec4634a2041",
   "metadata": {},
   "source": [
    "# generalization"
   ]
  },
  {
   "cell_type": "code",
   "execution_count": null,
   "id": "45ab9e04-55b9-43d5-9587-1f1a783adeae",
   "metadata": {},
   "outputs": [],
   "source": [
    "valid_dataset = []\n",
    "for _ in range(1):\n",
    "    # while True:\n",
    "    # env = create_env(num_agents=2048, size=64)\n",
    "    env = create_env(num_agents=2048, size=64)\n",
    "    valid_dataset.append((env.world.obstacles.copy(), env.world.agent_goals.copy(), env.world.agents.copy()))"
   ]
  },
  {
   "cell_type": "code",
   "execution_count": null,
   "id": "b01fd5c4-0f2d-4e60-bb62-9514eb147387",
   "metadata": {
    "scrolled": true,
    "tags": []
   },
   "outputs": [],
   "source": [
    "collideds = []\n",
    "dones = []\n",
    "lengths = []\n",
    "for v_idx, data in tqdm(enumerate(valid_dataset)):\n",
    "    env = create_env(num_agents=2048, size=64, density=0)\n",
    "    env.world.obstacles, env.world.agent_goals, env.world.agents = deepcopy(data)\n",
    "    gif_file = 'gifs/0416/v115/2048_'+str(v_idx)+'.mp4'\n",
    "    collided, done, gifs = infer(env,bnn,max_episode_length=1000,threshold=5e-2,verbose=False,spatial_prop=False,stop_at_collision=False,need_gif=None)\n",
    "    collideds.append(collided)\n",
    "    dones.append(done)\n",
    "    lengths.append(len(gifs))\n",
    "    \n",
    "print(np.mean(collideds), np.mean(dones), np.mean(lengths))"
   ]
  },
  {
   "cell_type": "code",
   "execution_count": null,
   "id": "58627f47-a93c-49cf-9434-7e9a774c9113",
   "metadata": {},
   "outputs": [],
   "source": [
    "collideds = []\n",
    "dones = []\n",
    "lengths = []\n",
    "for v_idx, data in tqdm(enumerate(valid_dataset)):\n",
    "    env = create_env(num_agents=2048, size=64, density=0)\n",
    "    env.world.obstacles, env.world.agent_goals, env.world.agents = deepcopy(data)\n",
    "    gif_file = 'gifs/0416/v115/2048_'+str(v_idx)+'.mp4'\n",
    "    collided, done, gifs = infer(env,bnn,max_episode_length=1000,threshold=5e-2,verbose=False,spatial_prop=False,stop_at_collision=False,need_gif=None)\n",
    "    collideds.append(collided)\n",
    "    dones.append(done)\n",
    "    lengths.append(len(gifs))\n",
    "    \n",
    "print(np.mean(collideds), np.mean(dones), np.mean(lengths))"
   ]
  },
  {
   "cell_type": "code",
   "execution_count": null,
   "id": "fcb3cbeb-504e-4519-b748-7a075790dbca",
   "metadata": {},
   "outputs": [],
   "source": [
    "collideds = []\n",
    "dones = []\n",
    "lengths = []\n",
    "for v_idx, data in tqdm(enumerate(valid_dataset)):\n",
    "    env = create_env(num_agents=2048, size=64, density=0)\n",
    "    env.world.obstacles, env.world.agent_goals, env.world.agents = deepcopy(data)\n",
    "    gif_file = 'gifs/0416/v115/2048_'+str(v_idx)+'.mp4'\n",
    "    collided, done, gifs = infer(env,bnn,max_episode_length=1000,threshold=3e-2,verbose=False,spatial_prop=False,stop_at_collision=False,need_gif=None)\n",
    "    collideds.append(collided)\n",
    "    dones.append(done)\n",
    "    lengths.append(len(gifs))\n",
    "    \n",
    "print(np.mean(collideds), np.mean(dones), np.mean(lengths))"
   ]
  },
  {
   "cell_type": "code",
   "execution_count": null,
   "id": "9d1d43bc-76cc-41dc-97c7-982cd2571158",
   "metadata": {},
   "outputs": [],
   "source": [
    "%debug"
   ]
  },
  {
   "cell_type": "code",
   "execution_count": null,
   "id": "82766291-208d-42db-a258-f95435269f0f",
   "metadata": {},
   "outputs": [],
   "source": [
    "%matplotlib widget\n",
    "import numpy as np\n",
    "import matplotlib.pyplot as plt\n",
    "from matplotlib.animation import FuncAnimation\n",
    "from matplotlib.animation import FFMpegWriter\n",
    "\n",
    "plt.clf()\n",
    "plt.close('all')\n",
    "\n",
    "# Fixing random state for reproducibility\n",
    "np.random.seed(19680801)\n",
    "\n",
    "\n",
    "# Create new Figure and an Axes which fills it.\n",
    "fig = plt.figure(figsize=(7, 7))\n",
    "ax = fig.add_axes([0, 0, 1, 1], frameon=False)\n",
    "ax.set_xlim(0, 1), ax.set_xticks([])\n",
    "ax.set_ylim(0, 1), ax.set_yticks([])\n",
    "\n",
    "# Create rain data\n",
    "n_drops = 50\n",
    "rain_drops = np.zeros(n_drops, dtype=[('position', float, 2),\n",
    "                                      ('size',     float, 1),\n",
    "                                      ('growth',   float, 1),\n",
    "                                      ('color',    float, 4)])\n",
    "\n",
    "# Initialize the raindrops in random positions and with\n",
    "# random growth rates.\n",
    "rain_drops['position'] = np.random.uniform(0, 1, (n_drops, 2))\n",
    "rain_drops['growth'] = np.random.uniform(50, 200, n_drops)\n",
    "\n",
    "# Construct the scatter which we will update during animation\n",
    "# as the raindrops develop.\n",
    "scat = ax.scatter(rain_drops['position'][:, 0], rain_drops['position'][:, 1],\n",
    "                  s=rain_drops['size'], lw=0.5, edgecolors=rain_drops['color'],\n",
    "                  facecolors='none')\n",
    "\n",
    "\n",
    "def update(frame_number):\n",
    "    # Get an index which we can use to re-spawn the oldest raindrop.\n",
    "    current_index = frame_number % n_drops\n",
    "\n",
    "    # Make all colors more transparent as time progresses.\n",
    "    rain_drops['color'][:, 3] -= 1.0/len(rain_drops)\n",
    "    rain_drops['color'][:, 3] = np.clip(rain_drops['color'][:, 3], 0, 1)\n",
    "\n",
    "    # Make all circles bigger.\n",
    "    rain_drops['size'] += rain_drops['growth']\n",
    "\n",
    "    # Pick a new position for oldest rain drop, resetting its size,\n",
    "    # color and growth factor.\n",
    "    rain_drops['position'][current_index] = np.random.uniform(0, 1, 2)\n",
    "    rain_drops['size'][current_index] = 5\n",
    "    rain_drops['color'][current_index] = (0, 0, 0, 1)\n",
    "    rain_drops['growth'][current_index] = np.random.uniform(50, 200)\n",
    "\n",
    "    # Update the scatter collection, with the new colors, sizes and positions.\n",
    "    scat.set_edgecolors(rain_drops['color'])\n",
    "    scat.set_sizes(rain_drops['size'])\n",
    "    scat.set_offsets(rain_drops['position'])\n",
    "\n",
    "\n",
    "# Construct the animation, using the update function as the animation director.\n",
    "animation = FuncAnimation(fig, update, frames=200, interval=10)\n",
    "f = r\"animation.mp4\" \n",
    "writermp4 = FFMpegWriter(fps=60) \n",
    "animation.save(f, writer=writermp4)"
   ]
  },
  {
   "cell_type": "code",
   "execution_count": null,
   "id": "05c86633-4f16-462d-846c-7e55d336c48d",
   "metadata": {},
   "outputs": [],
   "source": [
    "@torch.no_grad()\n",
    "def infer(env, bnn, threshold=None, max_episode_length=256, verbose=False, seed=0, stop_at_collision=False, prop=None, need_gif=True):\n",
    "    if prop is None:\n",
    "        prop = PROP\n",
    "    \n",
    "    if threshold is None:\n",
    "        threshold=THRESHOLD\n",
    "    if verbose:\n",
    "        print('----------------------------------------')\n",
    "        \n",
    "    torch.manual_seed(seed)\n",
    "    random.seed(seed)\n",
    "    np.random.seed(seed)\n",
    "    \n",
    "    if need_gif:\n",
    "        gifs = [env._render()]\n",
    "    else:\n",
    "        gifs = [None]\n",
    "    total_trans=0; n_danger=0; no_feasible=0; collided=np.zeros(env.num_agents).astype(bool)\n",
    "\n",
    "    while True:\n",
    "        o = env._get_obs()\n",
    "        a_all = np.random.uniform(-1, 1, size=(env.num_agents, n_candidates, env.action_dim))\n",
    "        a_refines, bvalues = eval_action(bnn, o, a_all, max_iter=0, threshold=threshold)\n",
    "\n",
    "        dists = env.potential_field(a_refines, K1=K1, K2=K2, ignore_agent=True)\n",
    "        \n",
    "        v = np.zeros(env.num_agents)\n",
    "        a = np.zeros((env.num_agents, env.action_dim))\n",
    "        evil_agents = set()\n",
    "        for agent_id, a_refine, bvalue, dist in zip(np.arange(env.num_agents), a_refines, bvalues, dists):\n",
    "            \n",
    "            feasible_current = False\n",
    "            if np.any(bvalue>threshold):\n",
    "                feasible_current = True\n",
    "            else:\n",
    "                feasible_current = False\n",
    "            \n",
    "            if feasible_current:\n",
    "                for a_idx in np.argsort(dist):\n",
    "                    if bvalue[a_idx] > threshold:\n",
    "                        a[agent_id] = a_refine[a_idx]\n",
    "                        v[agent_id] = bvalue[a_idx]\n",
    "                        break\n",
    "                continue\n",
    "            \n",
    "            if prop:\n",
    "                # find evil_agent\n",
    "                local_o = o.clone()\n",
    "                while True:\n",
    "                    local_o.to('cpu')\n",
    "                    edges = local_o['a_near_a'].edge_index\n",
    "                    neighbor_edges = edges[1]==agent_id\n",
    "                    if neighbor_edges.sum()==0:\n",
    "                        break\n",
    "\n",
    "                    first_edge = torch.where(neighbor_edges)[0][0]\n",
    "                    mask = (torch.arange(edges.shape[1])==first_edge)\n",
    "                    evil_agents.add(int(edges[0, first_edge]))\n",
    "                    local_o['a_near_a'].edge_index = edges[:,~mask]\n",
    "                    local_o['a_near_a'].edge_attr = local_o['a_near_a'].edge_attr[~mask,:]\n",
    "\n",
    "                    local_a_refines, local_bvalues = eval_action(bnn, local_o, a_all, max_iter=0, threshold=threshold)          \n",
    "                    # bvalues[agent_id] = bvalue = local_bvalues[agent_id]\n",
    "                    # a_refine = local_a_refines[agent_id]\n",
    "\n",
    "                    if np.any(local_bvalues>threshold):\n",
    "                        break\n",
    "            \n",
    "            no_feasible += 1\n",
    "            a[agent_id] = a_refine[np.argmax(bvalue)]\n",
    "            v[agent_id] = bvalue[np.argmax(bvalue)]\n",
    "                \n",
    "        for evil_agent in evil_agents:\n",
    "            a_refine, bvalue = a_refines[evil_agent], bvalues[evil_agent]\n",
    "            a[evil_agent] = a_refine[np.argmax(bvalue)]\n",
    "            v[evil_agent] = bvalue[np.argmax(bvalue)]\n",
    "\n",
    "        next_o, rw, done, info = env.step(a)\n",
    "        \n",
    "        prev_danger = info['prev_danger'].data.cpu().numpy().astype(bool)\n",
    "        next_danger = info['next_danger'].data.cpu().numpy().astype(bool)\n",
    "        if np.any(next_danger):\n",
    "            collided = collided | next_danger\n",
    "        if verbose:\n",
    "            print(total_trans, np.where(v<=threshold), next_danger, evil_agents)\n",
    "            \n",
    "        total_trans += 1\n",
    "        if need_gif:\n",
    "            gifs.append(env._render())\n",
    "        else:\n",
    "            gifs.append(None)\n",
    "\n",
    "        if np.any(next_danger) and stop_at_collision:\n",
    "            break        \n",
    "        \n",
    "        if done or (total_trans >= max_episode_length):\n",
    "            break\n",
    "\n",
    "    return collided, done, gifs"
   ]
  },
  {
   "cell_type": "code",
   "execution_count": null,
   "id": "c6ae9c53-91c2-42f3-8096-7f8264190656",
   "metadata": {
    "scrolled": true,
    "tags": []
   },
   "outputs": [],
   "source": [
    "env = create_env()\n",
    "env.world.obstacles, env.world.agent_goals, env.world.agents = deepcopy(valid_dataset[17])\n",
    "_, _, gifs = infer(env, bnn, verbose=True,prop=True,stop_at_collision=True)\n",
    "save_gif(gifs, 'gifs/0406/v59/shit2.gif')"
   ]
  },
  {
   "cell_type": "code",
   "execution_count": null,
   "id": "87b0b0c8-9036-4997-b4c3-ed1bb0432175",
   "metadata": {},
   "outputs": [],
   "source": [
    "env.initColors()[6]"
   ]
  },
  {
   "cell_type": "code",
   "execution_count": null,
   "id": "3335ec24-b423-442c-a04c-a2b950d84cdf",
   "metadata": {},
   "outputs": [],
   "source": [
    "edges = env._get_obs()['a_near_a'].edge_index\n",
    "edges[0,edges[1]==5]"
   ]
  },
  {
   "cell_type": "code",
   "execution_count": null,
   "id": "935a7f82-9697-41c9-a7a2-20b3914f39dc",
   "metadata": {},
   "outputs": [],
   "source": [
    "valid_dataset[17][1]"
   ]
  },
  {
   "cell_type": "code",
   "execution_count": null,
   "id": "1432072c-2808-4d14-8583-3aeb37bbc9c0",
   "metadata": {},
   "outputs": [],
   "source": [
    "o = env._get_obs()\n",
    "o = o.clone()\n",
    "\n",
    "evil_agents = []\n",
    "while True:\n",
    "    o.to('cpu')\n",
    "    agent_id = 0\n",
    "    edges = o['a_near_a'].edge_index\n",
    "    neighbor_edges = edges[1]==agent_id\n",
    "    if neighbor_edges.sum()==0:\n",
    "        break\n",
    "    \n",
    "    first_edge = torch.where(neighbor_edges)[0][0]\n",
    "    mask = (torch.arange(edges.shape[1])==first_edge)\n",
    "    evil_agents.append(int(edges[0, first_edge]))\n",
    "    o['a_near_a'].edge_index = edges[:,~mask]\n",
    "    o['a_near_a'].edge_attr = o['a_near_a'].edge_attr[~mask,:]\n",
    "\n",
    "    a_all = np.random.uniform(-1, 1, size=(env.num_agents, n_candidates, env.action_dim))\n",
    "    a_refines, bvalues = eval_action(bnn, o, a_all, max_iter=0, threshold=THRESHOLD)\n",
    "    if (bvalues[0]>THRESHOLD).any():\n",
    "        break"
   ]
  },
  {
   "cell_type": "code",
   "execution_count": null,
   "id": "9f7d3bd2-7f1a-403f-845f-0f7df5b22afd",
   "metadata": {},
   "outputs": [],
   "source": [
    "neighbor_edges"
   ]
  },
  {
   "cell_type": "code",
   "execution_count": null,
   "id": "6ede068d-f474-40a2-aea0-d42d0e8d201b",
   "metadata": {},
   "outputs": [],
   "source": [
    "o['a_near_a'].edge_index "
   ]
  },
  {
   "cell_type": "code",
   "execution_count": null,
   "id": "747b3ada-ae0e-40b4-91ea-1759f6bca21c",
   "metadata": {},
   "outputs": [],
   "source": [
    "env.world.state"
   ]
  },
  {
   "cell_type": "code",
   "execution_count": null,
   "id": "f42627b4-5a4b-44ef-9fb0-ae783c6f94ea",
   "metadata": {},
   "outputs": [],
   "source": [
    "x = torch.Tensor([[-1, -1], [-1, 1], [1, -1], [1, 1]])\n",
    "batch_x = torch.tensor([0, 0, 0, 0])\n",
    "y = torch.Tensor([[-1, 0], [1, 0]])\n",
    "batch_y = torch.tensor([0, 0])\n",
    "assign_index = knn(x, y, 2, batch_x, batch_y)"
   ]
  },
  {
   "cell_type": "code",
   "execution_count": null,
   "id": "aa33f755-70da-42f0-8475-f6058a61545a",
   "metadata": {},
   "outputs": [],
   "source": [
    "assign_index"
   ]
  },
  {
   "cell_type": "code",
   "execution_count": null,
   "id": "610de660-3b78-485e-994b-f3ecea3b8673",
   "metadata": {},
   "outputs": [],
   "source": [
    "from potential_field import infer_p\n",
    "collideds = []\n",
    "dones = []\n",
    "lengths = []\n",
    "for v_idx, data in tqdm(enumerate(valid_dataset)):\n",
    "    env.world.obstacles, env.world.agent_goals, env.world.agents = deepcopy(data)\n",
    "    collided, done, gifs = infer_p(env)\n",
    "    save_gif(gifs, 'gifs/dubins_no_obstacle/128_'+str(v_idx)+'_'+str(np.any(collided))+'_'+str(done)+'.gif')\n",
    "    collideds.append(collided)\n",
    "    dones.append(done)\n",
    "    lengths.append(len(gifs))\n",
    "    \n",
    "print(np.mean(collideds), np.mean(dones), np.mean(lengths))"
   ]
  },
  {
   "cell_type": "code",
   "execution_count": null,
   "id": "d8c18d09-7145-4be3-8362-b168164d42c3",
   "metadata": {},
   "outputs": [],
   "source": [
    "data = valid_dataset[18]\n",
    "env = Env(num_agents=NUM_AGENTS, mode='barrier', PROB=(0,OBSTACLE_DENSITY), SIZE=(MAP_SIZE,MAP_SIZE))\n",
    "env.world.obstacles, env.world.agent_goals, env.world.agents = deepcopy(data)\n",
    "collided, done, gifs = infer(env, bnn, verbose=True)"
   ]
  },
  {
   "cell_type": "code",
   "execution_count": null,
   "id": "d091e1a8-3350-45b3-8593-e677a6ff1ff8",
   "metadata": {},
   "outputs": [],
   "source": [
    "from potential_field import infer_p\n",
    "collideds = []\n",
    "dones = []\n",
    "lengths = []\n",
    "for v_idx, data in tqdm(enumerate(valid_dataset)):\n",
    "    env.world.obstacles, env.world.agent_goals, env.world.agents = deepcopy(data)\n",
    "    collided, done, gifs = infer_p(env, n_candidates=200, ignore_agent=False)\n",
    "    save_gif(gifs, 'gifs/potential/dubins/128_'+str(v_idx)+'_'+str(np.any(collided))+'_'+str(done)+'.gif')\n",
    "    collideds.append(collided)\n",
    "    dones.append(done)\n",
    "    lengths.append(len(gifs))\n",
    "    \n",
    "print(np.mean(collideds), np.mean(dones), np.mean(lengths))"
   ]
  },
  {
   "cell_type": "code",
   "execution_count": null,
   "id": "9a03d856-189e-4c03-be91-4085e567c924",
   "metadata": {},
   "outputs": [],
   "source": [
    "from potential_field import infer_p\n",
    "data = valid_dataset[2]\n",
    "env = Env(num_agents=1, mode='barrier', PROB=(0,OBSTACLE_DENSITY), SIZE=(MAP_SIZE,MAP_SIZE))\n",
    "env.world.obstacles, env.world.agent_goals, env.world.agents = deepcopy(data)\n",
    "collided, done, gifs = infer_p(env, verbose=True)\n",
    "save_gif(gifs, 'why.gif')"
   ]
  },
  {
   "cell_type": "code",
   "execution_count": null,
   "id": "1a8a1b7a-9d56-4450-bc52-ed22ba2f52fe",
   "metadata": {},
   "outputs": [],
   "source": [
    "%debug"
   ]
  }
 ],
 "metadata": {
  "kernelspec": {
   "display_name": "Python 3 (ipykernel)",
   "language": "python",
   "name": "python3"
  },
  "language_info": {
   "codemirror_mode": {
    "name": "ipython",
    "version": 3
   },
   "file_extension": ".py",
   "mimetype": "text/x-python",
   "name": "python",
   "nbconvert_exporter": "python",
   "pygments_lexer": "ipython3",
   "version": "3.8.12"
  }
 },
 "nbformat": 4,
 "nbformat_minor": 5
}
